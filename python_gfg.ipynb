{
 "cells": [
  {
   "cell_type": "markdown",
   "metadata": {
    "colab_type": "text",
    "id": "Q1EruYin-A1K"
   },
   "source": [
    "###Module 01"
   ]
  },
  {
   "cell_type": "markdown",
   "metadata": {
    "colab_type": "text",
    "id": "79uG2NTUOz6s"
   },
   "source": [
    "#### Introduction / Theory :"
   ]
  },
  {
   "cell_type": "markdown",
   "metadata": {
    "colab_type": "text",
    "id": "PTSahPyKF0ig"
   },
   "source": [
    "1. Python supports multiple programming paradigms, like object-oriented, imperative and functional programming or procedural."
   ]
  },
  {
   "cell_type": "markdown",
   "metadata": {
    "colab_type": "text",
    "id": "XsaPeMuUGgT2"
   },
   "source": [
    "2. Dynamically Typed1.No need to declare anything. An assignment statement binds a name to an object, and the object can be of any type.2.No type casting required when using container objects\n"
   ]
  },
  {
   "cell_type": "markdown",
   "metadata": {
    "colab_type": "text",
    "id": "kNsp_K7eOg2D"
   },
   "source": [
    "#### Print : "
   ]
  },
  {
   "cell_type": "markdown",
   "metadata": {
    "colab_type": "text",
    "id": "G-T62gyKFD8-"
   },
   "source": [
    "To print something on the console, print() function is used. This function also adds a newline after our message is printed(unlike in C). Note that in Python 2, “print” is not a function but a keyword and therefore can be used without parentheses. However, in Python 3, it is a function and must be invoked with parentheses.\n"
   ]
  },
  {
   "cell_type": "code",
   "execution_count": 0,
   "metadata": {
    "colab": {
     "base_uri": "https://localhost:8080/",
     "height": 53
    },
    "colab_type": "code",
    "executionInfo": {
     "elapsed": 1267,
     "status": "ok",
     "timestamp": 1588096568991,
     "user": {
      "displayName": "Srijeet Chatterjee",
      "photoUrl": "https://lh3.googleusercontent.com/a-/AOh14GhvLyI2L7rMpswCMPIIHugxGS37iH6O6W9QSxh_Zw=s64",
      "userId": "01014322814526133923"
     },
     "user_tz": -330
    },
    "id": "RH7noS_iD9fh",
    "outputId": "d7bbc592-f051-414c-856e-9d9b5889c662"
   },
   "outputs": [
    {
     "name": "stdout",
     "output_type": "stream",
     "text": [
      "Srijeet\n",
      "Geeks For Geeks\n"
     ]
    }
   ],
   "source": [
    "print('Srijeet')\n",
    "#prints will give space for comma operator :\n",
    "print('Geeks','For','Geeks')"
   ]
  },
  {
   "cell_type": "markdown",
   "metadata": {
    "colab_type": "text",
    "id": "zkXfJzcMZ5yo"
   },
   "source": [
    "By default python's print() function ends with a newline. A programmer with C/C++ background may wonder how to print without newline.\n",
    "\n",
    "Python's print() function comes with a parameter called 'end'. By default, the value of this parameter is '\\n', i.e. the new line character. You can end a print statement with any character/string using this parameter."
   ]
  },
  {
   "cell_type": "code",
   "execution_count": 0,
   "metadata": {
    "colab": {
     "base_uri": "https://localhost:8080/",
     "height": 35
    },
    "colab_type": "code",
    "executionInfo": {
     "elapsed": 1318,
     "status": "ok",
     "timestamp": 1588096586564,
     "user": {
      "displayName": "Srijeet Chatterjee",
      "photoUrl": "https://lh3.googleusercontent.com/a-/AOh14GhvLyI2L7rMpswCMPIIHugxGS37iH6O6W9QSxh_Zw=s64",
      "userId": "01014322814526133923"
     },
     "user_tz": -330
    },
    "id": "ejOQHzfsZ7er",
    "outputId": "733a4203-6389-4d86-cdbb-facc588a7a3f"
   },
   "outputs": [
    {
     "name": "stdout",
     "output_type": "stream",
     "text": [
      "Welcome to GeeksforGeeks "
     ]
    }
   ],
   "source": [
    "# This Python program must be run with\n",
    "# Python 3 as it won't work with 2.7.\n",
    "\n",
    "# ends the output with a <space> \n",
    "print(\"Welcome to\" , end = ' ') \n",
    "print(\"GeeksforGeeks\", end = ' ')"
   ]
  },
  {
   "cell_type": "code",
   "execution_count": 0,
   "metadata": {
    "colab": {
     "base_uri": "https://localhost:8080/",
     "height": 35
    },
    "colab_type": "code",
    "executionInfo": {
     "elapsed": 8578,
     "status": "ok",
     "timestamp": 1588096601143,
     "user": {
      "displayName": "Srijeet Chatterjee",
      "photoUrl": "https://lh3.googleusercontent.com/a-/AOh14GhvLyI2L7rMpswCMPIIHugxGS37iH6O6W9QSxh_Zw=s64",
      "userId": "01014322814526133923"
     },
     "user_tz": -330
    },
    "id": "ykFqH5tRZ_o1",
    "outputId": "99b2db84-d46a-462f-89d9-26654025c89b"
   },
   "outputs": [
    {
     "name": "stdout",
     "output_type": "stream",
     "text": [
      "Python@GeeksforGeeks\n"
     ]
    }
   ],
   "source": [
    "# This Python program must be run with\n",
    "# Python 3 as it won't work with 2.7.\n",
    "\n",
    "# ends the output with '@'\n",
    "print(\"Python\" , end = '@') \n",
    "print(\"GeeksforGeeks\")"
   ]
  },
  {
   "cell_type": "code",
   "execution_count": 0,
   "metadata": {
    "colab": {
     "base_uri": "https://localhost:8080/",
     "height": 35
    },
    "colab_type": "code",
    "executionInfo": {
     "elapsed": 1127,
     "status": "ok",
     "timestamp": 1588096651336,
     "user": {
      "displayName": "Srijeet Chatterjee",
      "photoUrl": "https://lh3.googleusercontent.com/a-/AOh14GhvLyI2L7rMpswCMPIIHugxGS37iH6O6W9QSxh_Zw=s64",
      "userId": "01014322814526133923"
     },
     "user_tz": -330
    },
    "id": "M7hzVWcJnqLB",
    "outputId": "85f79998-adfc-439a-f35f-20adf0da893a"
   },
   "outputs": [
    {
     "name": "stdout",
     "output_type": "stream",
     "text": [
      "Geeks$For$Geeks@"
     ]
    }
   ],
   "source": [
    "string1 = 'Geeks'\n",
    "string2 = 'For'\n",
    "print( string1,string2,string1, sep = '$', end = '@')"
   ]
  },
  {
   "cell_type": "code",
   "execution_count": 0,
   "metadata": {
    "colab": {
     "base_uri": "https://localhost:8080/",
     "height": 35
    },
    "colab_type": "code",
    "executionInfo": {
     "elapsed": 1424,
     "status": "ok",
     "timestamp": 1588096633680,
     "user": {
      "displayName": "Srijeet Chatterjee",
      "photoUrl": "https://lh3.googleusercontent.com/a-/AOh14GhvLyI2L7rMpswCMPIIHugxGS37iH6O6W9QSxh_Zw=s64",
      "userId": "01014322814526133923"
     },
     "user_tz": -330
    },
    "id": "3bwV-TuRoNEl",
    "outputId": "0e29d4b8-65e6-4c91-d129-c7be9d53c671"
   },
   "outputs": [
    {
     "name": "stdout",
     "output_type": "stream",
     "text": [
      "SrijeetSrijeetSrijeetSrijeet\n"
     ]
    }
   ],
   "source": [
    "print('Srijeet'*4 , sep = '  ')"
   ]
  },
  {
   "cell_type": "markdown",
   "metadata": {
    "colab_type": "text",
    "id": "EScDUawEGip0"
   },
   "source": [
    "####INPUT"
   ]
  },
  {
   "cell_type": "markdown",
   "metadata": {
    "colab_type": "text",
    "id": "n6II2suHOXGi"
   },
   "source": []
  },
  {
   "cell_type": "code",
   "execution_count": 0,
   "metadata": {
    "colab": {
     "base_uri": "https://localhost:8080/",
     "height": 53
    },
    "colab_type": "code",
    "executionInfo": {
     "elapsed": 9715,
     "status": "ok",
     "timestamp": 1588096671143,
     "user": {
      "displayName": "Srijeet Chatterjee",
      "photoUrl": "https://lh3.googleusercontent.com/a-/AOh14GhvLyI2L7rMpswCMPIIHugxGS37iH6O6W9QSxh_Zw=s64",
      "userId": "01014322814526133923"
     },
     "user_tz": -330
    },
    "id": "knyy22K7FFax",
    "outputId": "127769ba-267d-4a16-ab6d-f9b05fe8811b"
   },
   "outputs": [
    {
     "name": "stdout",
     "output_type": "stream",
     "text": [
      "Enter your name: Srijeet Chatterjee\n",
      "hello Srijeet Chatterjee\n"
     ]
    }
   ],
   "source": [
    "# Python program to illustrate\n",
    "# getting input from user\n",
    "name = input(\"Enter your name: \") \n",
    "\n",
    "# user entered the name 'harssh'\n",
    "print(\"hello\", name)"
   ]
  },
  {
   "cell_type": "markdown",
   "metadata": {
    "colab_type": "text",
    "id": "3g59JfCKLP1w"
   },
   "source": [
    "INPUT always takes in a string "
   ]
  },
  {
   "cell_type": "code",
   "execution_count": 0,
   "metadata": {
    "colab": {
     "base_uri": "https://localhost:8080/",
     "height": 72
    },
    "colab_type": "code",
    "executionInfo": {
     "elapsed": 7934,
     "status": "ok",
     "timestamp": 1588096685314,
     "user": {
      "displayName": "Srijeet Chatterjee",
      "photoUrl": "https://lh3.googleusercontent.com/a-/AOh14GhvLyI2L7rMpswCMPIIHugxGS37iH6O6W9QSxh_Zw=s64",
      "userId": "01014322814526133923"
     },
     "user_tz": -330
    },
    "id": "MwqLx-piLG7p",
    "outputId": "c3d1b959-340f-4f1e-f2b0-79d88e9ab18a"
   },
   "outputs": [
    {
     "name": "stdout",
     "output_type": "stream",
     "text": [
      "Enter num1: 12\n",
      "Enter num2: 23\n",
      "Product is:  276\n"
     ]
    }
   ],
   "source": [
    "\n",
    "# Python3 program to get input from user\n",
    "\n",
    "# accepting integer from the user\n",
    "num1 = int(input(\"Enter num1: \"))\n",
    "num2 = int(input(\"Enter num2: \"))\n",
    "\n",
    "num3 = num1 * num2\n",
    "print(\"Product is: \", num3)\n"
   ]
  },
  {
   "cell_type": "code",
   "execution_count": 0,
   "metadata": {
    "colab": {
     "base_uri": "https://localhost:8080/",
     "height": 53
    },
    "colab_type": "code",
    "executionInfo": {
     "elapsed": 9820,
     "status": "ok",
     "timestamp": 1588096711244,
     "user": {
      "displayName": "Srijeet Chatterjee",
      "photoUrl": "https://lh3.googleusercontent.com/a-/AOh14GhvLyI2L7rMpswCMPIIHugxGS37iH6O6W9QSxh_Zw=s64",
      "userId": "01014322814526133923"
     },
     "user_tz": -330
    },
    "id": "0b6XZYi1LNmR",
    "outputId": "63c8eb4d-57de-4e91-de1b-2e2f5b0bea04"
   },
   "outputs": [
    {
     "name": "stdout",
     "output_type": "stream",
     "text": [
      "Enter a Number : 123\n",
      "The Number you have entered is :  123\n"
     ]
    }
   ],
   "source": [
    "num1 = input(\"Enter a Number : \")\n",
    "print(\"The Number you have entered is : \",num1)"
   ]
  },
  {
   "cell_type": "markdown",
   "metadata": {
    "colab_type": "text",
    "id": "c2PtWYzRj8sg"
   },
   "source": [
    "Input multiple values from User in a line :"
   ]
  },
  {
   "cell_type": "code",
   "execution_count": 0,
   "metadata": {
    "colab": {
     "base_uri": "https://localhost:8080/",
     "height": 53
    },
    "colab_type": "code",
    "executionInfo": {
     "elapsed": 6461,
     "status": "ok",
     "timestamp": 1588096722188,
     "user": {
      "displayName": "Srijeet Chatterjee",
      "photoUrl": "https://lh3.googleusercontent.com/a-/AOh14GhvLyI2L7rMpswCMPIIHugxGS37iH6O6W9QSxh_Zw=s64",
      "userId": "01014322814526133923"
     },
     "user_tz": -330
    },
    "id": "CMuV3-U-kFHx",
    "outputId": "1fea81fa-94cd-49cd-b3ae-9a6ca0762d8e"
   },
   "outputs": [
    {
     "name": "stdout",
     "output_type": "stream",
     "text": [
      "23\n",
      "3\n"
     ]
    }
   ],
   "source": [
    "x, y = input(),  input()"
   ]
  },
  {
   "cell_type": "code",
   "execution_count": 0,
   "metadata": {
    "colab": {
     "base_uri": "https://localhost:8080/",
     "height": 72
    },
    "colab_type": "code",
    "executionInfo": {
     "elapsed": 5399,
     "status": "ok",
     "timestamp": 1588096735681,
     "user": {
      "displayName": "Srijeet Chatterjee",
      "photoUrl": "https://lh3.googleusercontent.com/a-/AOh14GhvLyI2L7rMpswCMPIIHugxGS37iH6O6W9QSxh_Zw=s64",
      "userId": "01014322814526133923"
     },
     "user_tz": -330
    },
    "id": "EID-51BBkFLe",
    "outputId": "0cd0fcfb-7209-49d0-df7d-6147895c9d99"
   },
   "outputs": [
    {
     "name": "stdout",
     "output_type": "stream",
     "text": [
      "23 45\n",
      "23\n",
      "45\n"
     ]
    }
   ],
   "source": [
    "x, y = input().split()\n",
    "print(x)\n",
    "print(y)"
   ]
  },
  {
   "cell_type": "code",
   "execution_count": 0,
   "metadata": {
    "colab": {
     "base_uri": "https://localhost:8080/",
     "height": 72
    },
    "colab_type": "code",
    "executionInfo": {
     "elapsed": 4864,
     "status": "ok",
     "timestamp": 1588096782805,
     "user": {
      "displayName": "Srijeet Chatterjee",
      "photoUrl": "https://lh3.googleusercontent.com/a-/AOh14GhvLyI2L7rMpswCMPIIHugxGS37iH6O6W9QSxh_Zw=s64",
      "userId": "01014322814526133923"
     },
     "user_tz": -330
    },
    "id": "67ehC409kh2Q",
    "outputId": "6d091dcc-ca5e-41a5-e084-127ef1db0071"
   },
   "outputs": [
    {
     "name": "stdout",
     "output_type": "stream",
     "text": [
      "Input two numbers please : 23 45\n",
      "23\n",
      "45\n"
     ]
    }
   ],
   "source": [
    "# Reads two numbers from input and typecasts them to int using \n",
    "# list comprehension\n",
    "x, y = [int(x) for x in input(\"Input two numbers please : \").split()]  \n",
    "print(x)\n",
    "print(y)"
   ]
  },
  {
   "cell_type": "code",
   "execution_count": 0,
   "metadata": {
    "colab": {
     "base_uri": "https://localhost:8080/",
     "height": 72
    },
    "colab_type": "code",
    "executionInfo": {
     "elapsed": 7053,
     "status": "ok",
     "timestamp": 1587201565539,
     "user": {
      "displayName": "Srijeet Chatterjee",
      "photoUrl": "https://lh3.googleusercontent.com/a-/AOh14GhvLyI2L7rMpswCMPIIHugxGS37iH6O6W9QSxh_Zw=s64",
      "userId": "01014322814526133923"
     },
     "user_tz": -330
    },
    "id": "C3K0Kq9ekh7V",
    "outputId": "4c305c05-75c7-458b-d8b9-6ead273f4c51"
   },
   "outputs": [
    {
     "name": "stdout",
     "output_type": "stream",
     "text": [
      "Input two numbers please : 45 56\n",
      "45\n",
      "56\n"
     ]
    }
   ],
   "source": [
    "# Reads two numbers from input and typecasts them to int using \n",
    "# map function\n",
    "x, y = map(int, input(\"Input two numbers please : \").split())\n",
    "print(x)\n",
    "print(y)"
   ]
  },
  {
   "cell_type": "markdown",
   "metadata": {
    "colab_type": "text",
    "id": "3bxBmXnSL2Gk"
   },
   "source": [
    "#### DataStructures :\n",
    "Python have 4 types of built in Data Structures namely List, Dictionary, Tuple and Set. "
   ]
  },
  {
   "cell_type": "code",
   "execution_count": 0,
   "metadata": {
    "colab": {},
    "colab_type": "code",
    "id": "saA3qzGDL3gV"
   },
   "outputs": [],
   "source": []
  },
  {
   "cell_type": "markdown",
   "metadata": {
    "colab_type": "text",
    "id": "Gs6pjS4IMJDC"
   },
   "source": [
    "####Function :\n"
   ]
  },
  {
   "cell_type": "code",
   "execution_count": 0,
   "metadata": {
    "colab": {
     "base_uri": "https://localhost:8080/",
     "height": 72
    },
    "colab_type": "code",
    "executionInfo": {
     "elapsed": 4404,
     "status": "ok",
     "timestamp": 1588096813465,
     "user": {
      "displayName": "Srijeet Chatterjee",
      "photoUrl": "https://lh3.googleusercontent.com/a-/AOh14GhvLyI2L7rMpswCMPIIHugxGS37iH6O6W9QSxh_Zw=s64",
      "userId": "01014322814526133923"
     },
     "user_tz": -330
    },
    "id": "E_jd_gJnMKxa",
    "outputId": "c9d69722-1400-4de9-9ce8-91ba7b8ed4fb"
   },
   "outputs": [
    {
     "name": "stdout",
     "output_type": "stream",
     "text": [
      "Started\n",
      "Please Enter a Number : 23\n",
      "The Number you just entered is :  23\n"
     ]
    }
   ],
   "source": [
    "# Python program to illustrate \n",
    "# function with main\n",
    "\n",
    "def getInteger():\n",
    "  intA = int(input('Please Enter a Number : '))\n",
    "  return intA\n",
    "\n",
    "def mymain():\n",
    "  print('Started')\n",
    "\n",
    "  output = getInteger()\n",
    "  print('The Number you just entered is : ',output)\n",
    "\n",
    "# now we are required to tell Python \n",
    "# for 'Main' function existence\n",
    "\n",
    "if __name__ == \"__main__\":\n",
    "  mymain()"
   ]
  },
  {
   "cell_type": "markdown",
   "metadata": {
    "colab_type": "text",
    "id": "6TWL_7l-NMlm"
   },
   "source": [
    "####Modules"
   ]
  },
  {
   "cell_type": "code",
   "execution_count": 0,
   "metadata": {
    "colab": {
     "base_uri": "https://localhost:8080/",
     "height": 53
    },
    "colab_type": "code",
    "executionInfo": {
     "elapsed": 6464,
     "status": "ok",
     "timestamp": 1588096851004,
     "user": {
      "displayName": "Srijeet Chatterjee",
      "photoUrl": "https://lh3.googleusercontent.com/a-/AOh14GhvLyI2L7rMpswCMPIIHugxGS37iH6O6W9QSxh_Zw=s64",
      "userId": "01014322814526133923"
     },
     "user_tz": -330
    },
    "id": "OnWLz_n5NNt3",
    "outputId": "ab597fb5-821d-421f-d06f-1f49cf8bd919"
   },
   "outputs": [
    {
     "name": "stdout",
     "output_type": "stream",
     "text": [
      "Enter a number: -23\n",
      "23.0\n"
     ]
    }
   ],
   "source": [
    "# Python program to illustrate\n",
    "# math module\n",
    "import math\n",
    "\n",
    "def Main():\n",
    "    num = float(input(\"Enter a number: \"))\n",
    "\n",
    "    # fabs is used to get the absolute value of a decimal\n",
    "    num = math.fabs(num) \n",
    "    print(num)\n",
    "if __name__==\"__main__\":\n",
    "    Main()\n"
   ]
  },
  {
   "cell_type": "markdown",
   "metadata": {
    "colab_type": "text",
    "id": "5UBvSiZxN1L3"
   },
   "source": [
    "####Arithmetic Operators:"
   ]
  },
  {
   "cell_type": "code",
   "execution_count": 0,
   "metadata": {
    "colab": {
     "base_uri": "https://localhost:8080/",
     "height": 126
    },
    "colab_type": "code",
    "executionInfo": {
     "elapsed": 1233,
     "status": "ok",
     "timestamp": 1588096861693,
     "user": {
      "displayName": "Srijeet Chatterjee",
      "photoUrl": "https://lh3.googleusercontent.com/a-/AOh14GhvLyI2L7rMpswCMPIIHugxGS37iH6O6W9QSxh_Zw=s64",
      "userId": "01014322814526133923"
     },
     "user_tz": -330
    },
    "id": "W1iNq2iUNOSi",
    "outputId": "f883ac78-614a-44de-854a-485438ab2334"
   },
   "outputs": [
    {
     "name": "stdout",
     "output_type": "stream",
     "text": [
      "13\n",
      "5\n",
      "36\n",
      "2.25\n",
      "2\n",
      "1\n"
     ]
    }
   ],
   "source": [
    "# Examples of Arithmetic Operator\n",
    "a = 9\n",
    "b = 4\n",
    "\n",
    "# Addition of numbers\n",
    "add = a + b\n",
    "# Subtraction of numbers \n",
    "sub = a - b\n",
    "# Multiplication of number \n",
    "mul = a * b\n",
    "# Division(float) of number \n",
    "div1 = a / b\n",
    "# Division(floor) of number \n",
    "div2 = a // b\n",
    "# Modulo of both number\n",
    "mod = a % b\n",
    "\n",
    "# print results\n",
    "print(add)\n",
    "print(sub)\n",
    "print(mul)\n",
    "print(div1)\n",
    "print(div2)\n",
    "print(mod)"
   ]
  },
  {
   "cell_type": "markdown",
   "metadata": {
    "colab_type": "text",
    "id": "iapO2v-aN8B9"
   },
   "source": [
    "####Relational Operators :"
   ]
  },
  {
   "cell_type": "code",
   "execution_count": 0,
   "metadata": {
    "colab": {
     "base_uri": "https://localhost:8080/",
     "height": 126
    },
    "colab_type": "code",
    "executionInfo": {
     "elapsed": 872,
     "status": "ok",
     "timestamp": 1588096863980,
     "user": {
      "displayName": "Srijeet Chatterjee",
      "photoUrl": "https://lh3.googleusercontent.com/a-/AOh14GhvLyI2L7rMpswCMPIIHugxGS37iH6O6W9QSxh_Zw=s64",
      "userId": "01014322814526133923"
     },
     "user_tz": -330
    },
    "id": "p_VQIBMHN5WY",
    "outputId": "c2520f92-208a-4efb-b82d-6970d3aa0344"
   },
   "outputs": [
    {
     "name": "stdout",
     "output_type": "stream",
     "text": [
      "False\n",
      "True\n",
      "False\n",
      "True\n",
      "False\n",
      "True\n"
     ]
    }
   ],
   "source": [
    "# Examples of Relational Operators\n",
    "a = 13\n",
    "b = 33\n",
    "\n",
    "# a > b is False\n",
    "print(a > b)\n",
    "\n",
    "# a < b is True\n",
    "print(a < b)\n",
    "\n",
    "# a == b is False\n",
    "print(a == b)\n",
    "\n",
    "# a != b is True\n",
    "print(a != b)\n",
    "\n",
    "# a >= b is False\n",
    "print(a >= b)\n",
    "\n",
    "# a <= b is True\n",
    "print(a <= b)\n"
   ]
  },
  {
   "cell_type": "markdown",
   "metadata": {
    "colab_type": "text",
    "id": "Iz7aytfVOFfa"
   },
   "source": [
    "####Logical Operators:"
   ]
  },
  {
   "cell_type": "code",
   "execution_count": 0,
   "metadata": {
    "colab": {
     "base_uri": "https://localhost:8080/",
     "height": 72
    },
    "colab_type": "code",
    "executionInfo": {
     "elapsed": 1097,
     "status": "ok",
     "timestamp": 1588096867254,
     "user": {
      "displayName": "Srijeet Chatterjee",
      "photoUrl": "https://lh3.googleusercontent.com/a-/AOh14GhvLyI2L7rMpswCMPIIHugxGS37iH6O6W9QSxh_Zw=s64",
      "userId": "01014322814526133923"
     },
     "user_tz": -330
    },
    "id": "bkn9fxInN_Qj",
    "outputId": "d2d557e0-dfc8-45ed-cb1f-1672a274a648"
   },
   "outputs": [
    {
     "name": "stdout",
     "output_type": "stream",
     "text": [
      "False\n",
      "True\n",
      "False\n"
     ]
    }
   ],
   "source": [
    "# Examples of Logical Operator\n",
    "a = True\n",
    "b = False\n",
    "\n",
    "# Print a and b is False\n",
    "print(a and b)\n",
    "\n",
    "# Print a or b is True\n",
    "print(a or b)\n",
    "\n",
    "# Print not a is False\n",
    "print(not a)"
   ]
  },
  {
   "cell_type": "markdown",
   "metadata": {
    "colab_type": "text",
    "id": "Eess5nJmO9T2"
   },
   "source": [
    "####Bitwise Operators:"
   ]
  },
  {
   "cell_type": "code",
   "execution_count": 0,
   "metadata": {
    "colab": {
     "base_uri": "https://localhost:8080/",
     "height": 126
    },
    "colab_type": "code",
    "executionInfo": {
     "elapsed": 1509,
     "status": "ok",
     "timestamp": 1588096872053,
     "user": {
      "displayName": "Srijeet Chatterjee",
      "photoUrl": "https://lh3.googleusercontent.com/a-/AOh14GhvLyI2L7rMpswCMPIIHugxGS37iH6O6W9QSxh_Zw=s64",
      "userId": "01014322814526133923"
     },
     "user_tz": -330
    },
    "id": "p9uxYYWCO6Zs",
    "outputId": "6eda4036-c5af-482f-f2a6-e89b4925f4a8"
   },
   "outputs": [
    {
     "name": "stdout",
     "output_type": "stream",
     "text": [
      "0\n",
      "14\n",
      "-11\n",
      "14\n",
      "2\n",
      "40\n"
     ]
    }
   ],
   "source": [
    "# Examples of Bitwise operators\n",
    "a = 10\n",
    "b = 4\n",
    "\n",
    "# Print bitwise AND operation  \n",
    "print(a & b)\n",
    "\n",
    "# Print bitwise OR operation\n",
    "print(a | b)\n",
    "\n",
    "# Print bitwise NOT operation \n",
    "print(~a)\n",
    "\n",
    "# print bitwise XOR operation \n",
    "print(a ^ b)\n",
    "\n",
    "# print bitwise right shift operation \n",
    "print(a >> 2)\n",
    "\n",
    "# print bitwise left shift operation \n",
    "print(a << 2)"
   ]
  },
  {
   "cell_type": "markdown",
   "metadata": {
    "colab_type": "text",
    "id": "-ZYbiCodP8n1"
   },
   "source": [
    "#### Assignment Operators :"
   ]
  },
  {
   "cell_type": "code",
   "execution_count": 0,
   "metadata": {
    "colab": {
     "base_uri": "https://localhost:8080/",
     "height": 35
    },
    "colab_type": "code",
    "executionInfo": {
     "elapsed": 4063,
     "status": "ok",
     "timestamp": 1588096880397,
     "user": {
      "displayName": "Srijeet Chatterjee",
      "photoUrl": "https://lh3.googleusercontent.com/a-/AOh14GhvLyI2L7rMpswCMPIIHugxGS37iH6O6W9QSxh_Zw=s64",
      "userId": "01014322814526133923"
     },
     "user_tz": -330
    },
    "id": "EDUb5l9QPW4E",
    "outputId": "68b60147-6dae-42ad-a24b-f59267833702"
   },
   "outputs": [
    {
     "name": "stdout",
     "output_type": "stream",
     "text": [
      "8\n"
     ]
    }
   ],
   "source": [
    "a = 3\n",
    "a += 5\n",
    "print(a)"
   ]
  },
  {
   "cell_type": "markdown",
   "metadata": {
    "colab_type": "text",
    "id": "DD3MGAVQQA8I"
   },
   "source": [
    "####Special Operators:"
   ]
  },
  {
   "cell_type": "code",
   "execution_count": 0,
   "metadata": {
    "colab": {
     "base_uri": "https://localhost:8080/",
     "height": 72
    },
    "colab_type": "code",
    "executionInfo": {
     "elapsed": 2235,
     "status": "ok",
     "timestamp": 1588096895546,
     "user": {
      "displayName": "Srijeet Chatterjee",
      "photoUrl": "https://lh3.googleusercontent.com/a-/AOh14GhvLyI2L7rMpswCMPIIHugxGS37iH6O6W9QSxh_Zw=s64",
      "userId": "01014322814526133923"
     },
     "user_tz": -330
    },
    "id": "1xsI8LuaQY8P",
    "outputId": "5dbb6cfc-1383-47b7-8a46-c3691eef169c"
   },
   "outputs": [
    {
     "name": "stdout",
     "output_type": "stream",
     "text": [
      "False\n",
      "True\n",
      "False\n"
     ]
    }
   ],
   "source": [
    "# Examples of Identity operators\n",
    "a1 = 3\n",
    "b1 = 3\n",
    "a2 = 'GeeksforGeeks'\n",
    "b2 = 'GeeksforGeeks'\n",
    "a3 = [1,2,3]\n",
    "b3 = [1,2,3]\n",
    "\n",
    "\n",
    "print(a1 is not b1)\n",
    "\n",
    "\n",
    "print(a2 is b2)\n",
    "\n",
    "# Output is False, since lists are mutable.\n",
    "print(a3 is b3)\n"
   ]
  },
  {
   "cell_type": "markdown",
   "metadata": {
    "colab_type": "text",
    "id": "KzFWgIBEQeC_"
   },
   "source": [
    "NOTE :   \n",
    "\n",
    "Output is False, since lists are mutable.\n",
    "\n",
    "print(a3 is b3)"
   ]
  },
  {
   "cell_type": "markdown",
   "metadata": {
    "colab_type": "text",
    "id": "8xWVw8GyQ83z"
   },
   "source": [
    "#### Link for Operators :\n",
    "\n",
    "https://www.youtube.com/watch?v=oiJUZbRIR7Y&feature=youtu.be"
   ]
  },
  {
   "cell_type": "markdown",
   "metadata": {
    "colab_type": "text",
    "id": "OcS_pSorR1QW"
   },
   "source": [
    "#### Ternery Operators:"
   ]
  },
  {
   "cell_type": "markdown",
   "metadata": {
    "colab_type": "text",
    "id": "Zs_cVHdWR5ku"
   },
   "source": [
    "syntax : [on_true] if [expression] else [on_false] "
   ]
  },
  {
   "cell_type": "code",
   "execution_count": 0,
   "metadata": {
    "colab": {
     "base_uri": "https://localhost:8080/",
     "height": 35
    },
    "colab_type": "code",
    "executionInfo": {
     "elapsed": 1582,
     "status": "ok",
     "timestamp": 1588096909098,
     "user": {
      "displayName": "Srijeet Chatterjee",
      "photoUrl": "https://lh3.googleusercontent.com/a-/AOh14GhvLyI2L7rMpswCMPIIHugxGS37iH6O6W9QSxh_Zw=s64",
      "userId": "01014322814526133923"
     },
     "user_tz": -330
    },
    "id": "9wp4p62iR3IL",
    "outputId": "87675e51-7bc9-4c1f-f697-209d496092d6"
   },
   "outputs": [
    {
     "name": "stdout",
     "output_type": "stream",
     "text": [
      "2\n"
     ]
    }
   ],
   "source": [
    "a , b = 19 , 2 \n",
    "min = a if a < b else b\n",
    "print(min)"
   ]
  },
  {
   "cell_type": "code",
   "execution_count": 0,
   "metadata": {
    "colab": {
     "base_uri": "https://localhost:8080/",
     "height": 72
    },
    "colab_type": "code",
    "executionInfo": {
     "elapsed": 2714,
     "status": "ok",
     "timestamp": 1588096950170,
     "user": {
      "displayName": "Srijeet Chatterjee",
      "photoUrl": "https://lh3.googleusercontent.com/a-/AOh14GhvLyI2L7rMpswCMPIIHugxGS37iH6O6W9QSxh_Zw=s64",
      "userId": "01014322814526133923"
     },
     "user_tz": -330
    },
    "id": "i5k3gdy-SJj8",
    "outputId": "bc818035-cc0b-41aa-a1c1-91e6e252c34d"
   },
   "outputs": [
    {
     "name": "stdout",
     "output_type": "stream",
     "text": [
      "2\n",
      "2\n",
      "2\n"
     ]
    }
   ],
   "source": [
    "# ------------- Using Tuples :----------------\n",
    "\n",
    "a , b = 10 , 2 \n",
    "\n",
    "print((b,a)[a < b])   #----------see this is ulta --------the output\n",
    "\n",
    "# --------------- using dictionary ---------------\n",
    "\n",
    "print(   {True : a , False : b}  [ a  <  b ] )\n",
    "\n",
    "#--------- using lambda ---------------------\n",
    "\n",
    "print( ( lambda :b , lambda : a) [ a < b ]() )\n"
   ]
  },
  {
   "cell_type": "markdown",
   "metadata": {
    "colab_type": "text",
    "id": "G8s2hn2oS51C"
   },
   "source": [
    "NOTE ::: \n",
    "\n",
    "lamda is more efficient than above two methods\n",
    "because in lambda  we are assure that\n",
    "only one expression will be evaluated unlike in\n",
    "tuple and Dictionary"
   ]
  },
  {
   "cell_type": "code",
   "execution_count": 0,
   "metadata": {
    "colab": {
     "base_uri": "https://localhost:8080/",
     "height": 35
    },
    "colab_type": "code",
    "executionInfo": {
     "elapsed": 1132,
     "status": "ok",
     "timestamp": 1588096986142,
     "user": {
      "displayName": "Srijeet Chatterjee",
      "photoUrl": "https://lh3.googleusercontent.com/a-/AOh14GhvLyI2L7rMpswCMPIIHugxGS37iH6O6W9QSxh_Zw=s64",
      "userId": "01014322814526133923"
     },
     "user_tz": -330
    },
    "id": "fOFyB1giSYgO",
    "outputId": "1a562087-2746-4543-93a8-3c605a794b18"
   },
   "outputs": [
    {
     "name": "stdout",
     "output_type": "stream",
     "text": [
      "b is greater than a\n"
     ]
    }
   ],
   "source": [
    "# Python program to demonstrate nested ternary operator\n",
    "a, b = 10, 20\n",
    "\n",
    "print (\"Both a and b are equal\" if a == b else \"a is greater than b\" if a > b else \"b is greater than a\")"
   ]
  },
  {
   "cell_type": "code",
   "execution_count": 0,
   "metadata": {
    "colab": {
     "base_uri": "https://localhost:8080/",
     "height": 35
    },
    "colab_type": "code",
    "executionInfo": {
     "elapsed": 1117,
     "status": "ok",
     "timestamp": 1588096996722,
     "user": {
      "displayName": "Srijeet Chatterjee",
      "photoUrl": "https://lh3.googleusercontent.com/a-/AOh14GhvLyI2L7rMpswCMPIIHugxGS37iH6O6W9QSxh_Zw=s64",
      "userId": "01014322814526133923"
     },
     "user_tz": -330
    },
    "id": "7RCDBF4QTdMX",
    "outputId": "0255cdc3-d204-43ca-9096-a105ca3b92af"
   },
   "outputs": [
    {
     "name": "stdout",
     "output_type": "stream",
     "text": [
      "b is greater than a\n"
     ]
    }
   ],
   "source": [
    "# same above can be written as :\n",
    "# Python program to demonstrate nested ternary operator\n",
    "a, b = 10, 20\n",
    "\n",
    "if a != b:\n",
    "    if a > b:\n",
    "        print(\"a is greater than b\")\n",
    "    else:\n",
    "        print(\"b is greater than a\")\n",
    "else:\n",
    "    print(\"Both a and b are equal\")"
   ]
  },
  {
   "cell_type": "markdown",
   "metadata": {
    "colab_type": "text",
    "id": "-uFYR9uLT9b-"
   },
   "source": [
    "NOTE ---->\n",
    "\n",
    "1. Order of the arguments in the operator is different from other languages like C/C++ (See C/C++ ternary operators).\n",
    "2. Conditional expressions have the lowest priority amongst all Python operations."
   ]
  },
  {
   "cell_type": "markdown",
   "metadata": {
    "colab_type": "text",
    "id": "gaWis_FvUqK4"
   },
   "source": [
    "####Division Operator:"
   ]
  },
  {
   "cell_type": "markdown",
   "metadata": {
    "colab_type": "text",
    "id": "VBlnH-jBWSYk"
   },
   "source": [
    "NOTE :----->\n",
    "\n",
    "In Python 3, '/' operator does floating point division for both int and float arguments."
   ]
  },
  {
   "cell_type": "code",
   "execution_count": 0,
   "metadata": {
    "colab": {
     "base_uri": "https://localhost:8080/",
     "height": 162
    },
    "colab_type": "code",
    "executionInfo": {
     "elapsed": 1550,
     "status": "ok",
     "timestamp": 1588097057745,
     "user": {
      "displayName": "Srijeet Chatterjee",
      "photoUrl": "https://lh3.googleusercontent.com/a-/AOh14GhvLyI2L7rMpswCMPIIHugxGS37iH6O6W9QSxh_Zw=s64",
      "userId": "01014322814526133923"
     },
     "user_tz": -330
    },
    "id": "p3sNfSiqTpbC",
    "outputId": "4fbeba9c-3378-4907-d9bf-099ac8172ce2"
   },
   "outputs": [
    {
     "name": "stdout",
     "output_type": "stream",
     "text": [
      "2.5\n",
      "-2.5\n",
      "2.5\n",
      "-2.5\n",
      "2\n",
      "-3\n",
      "2.0\n",
      "-3.0\n"
     ]
    }
   ],
   "source": [
    "print(5/2)\n",
    "print(-5/2)\n",
    "print(5.0/2)\n",
    "print(-5.0/2)\n",
    "\n",
    "\n",
    "print(5//2)\n",
    "print(-5//2)\n",
    "print(5.0//2)\n",
    "print(-5.0//2)"
   ]
  },
  {
   "cell_type": "markdown",
   "metadata": {
    "colab_type": "text",
    "id": "pPxnbUnOWqS8"
   },
   "source": [
    "####Maximum Possible Value of Integer"
   ]
  },
  {
   "cell_type": "code",
   "execution_count": 0,
   "metadata": {
    "colab": {
     "base_uri": "https://localhost:8080/",
     "height": 35
    },
    "colab_type": "code",
    "executionInfo": {
     "elapsed": 2504,
     "status": "ok",
     "timestamp": 1588097062782,
     "user": {
      "displayName": "Srijeet Chatterjee",
      "photoUrl": "https://lh3.googleusercontent.com/a-/AOh14GhvLyI2L7rMpswCMPIIHugxGS37iH6O6W9QSxh_Zw=s64",
      "userId": "01014322814526133923"
     },
     "user_tz": -330
    },
    "id": "nrHEgOSRWt31",
    "outputId": "e354ba7c-6f7d-4f3e-e62d-8bd4fc4a2ab1"
   },
   "outputs": [
    {
     "name": "stdout",
     "output_type": "stream",
     "text": [
      "10000000000000000000000000000000000000000001\n"
     ]
    }
   ],
   "source": [
    "# A Python program to demonstrate that we can store\n",
    "# large numbers in Python\n",
    "\n",
    "x = 10000000000000000000000000000000000000000000;\n",
    "x = x + 1\n",
    "print (x)"
   ]
  },
  {
   "cell_type": "markdown",
   "metadata": {
    "colab_type": "text",
    "id": "ypZyAfkvWxzT"
   },
   "source": [
    "In Python, value of an integer is not restricted by the number of bits and can expand to the limit of the available memory (Sources : this and this). Thus we never need any special arrangement for storing large numbers (Imagine doing above arithmetic in C/C++).\n",
    "\n",
    "As a side note, in Python 3, there is only one type \"int\" for all type of integers. In Python 2.7. there are two separate types \"int\" (which is 32 bit) and \"long int\" that is same as \"int\" of Python 3.x, i.e., can store arbitrarily large numbers."
   ]
  },
  {
   "cell_type": "code",
   "execution_count": 0,
   "metadata": {
    "colab": {
     "base_uri": "https://localhost:8080/",
     "height": 55
    },
    "colab_type": "code",
    "executionInfo": {
     "elapsed": 747,
     "status": "ok",
     "timestamp": 1587197728507,
     "user": {
      "displayName": "Srijeet Chatterjee",
      "photoUrl": "https://lh3.googleusercontent.com/a-/AOh14GhvLyI2L7rMpswCMPIIHugxGS37iH6O6W9QSxh_Zw=s64",
      "userId": "01014322814526133923"
     },
     "user_tz": -330
    },
    "id": "MQZ9Qvx_WuqS",
    "outputId": "4cd4eb2e-c28e-4d4c-9f54-b996c43b2d83"
   },
   "outputs": [
    {
     "name": "stdout",
     "output_type": "stream",
     "text": [
      "100000000000000000000000000000000000000000000000000000000000000000000000000000000000000000000000000000000000000000000000000000000000000000000000000000000000000000000000000000000000000000000000000000000\n"
     ]
    }
   ],
   "source": [
    "\n",
    "# Printing 100 raise to power 100\n",
    "print(100**100)\n"
   ]
  },
  {
   "cell_type": "markdown",
   "metadata": {
    "colab_type": "text",
    "id": "m-a9vOWzZSt2"
   },
   "source": [
    "####Running and Saving .py file"
   ]
  },
  {
   "cell_type": "markdown",
   "metadata": {
    "colab_type": "text",
    "id": "MIw1tAHcW7LG"
   },
   "source": [
    "\n",
    "\n",
    "1. \n",
    "\n",
    "Making a Python file: Python files are stored with the extension \".py\". Open text editor and save a file with the name \"hello.py\". Open it and write the following code:\n",
    "\n",
    "2. Reading the file contents: \n",
    "\n",
    "Linux System - Move to the directory from terminal where the created file (hello.py) is stored by using the 'cd' command, and then type the following in the terminal :\n",
    "\n",
    "Windows system - Open command prompt and move to the directory where the file is stored by using the 'cd' command and then run the file by writing the file name as command."
   ]
  },
  {
   "cell_type": "markdown",
   "metadata": {
    "colab_type": "text",
    "id": "-zbs6Uw-aGSn"
   },
   "source": [
    "####Type Conversion"
   ]
  },
  {
   "cell_type": "markdown",
   "metadata": {
    "colab_type": "text",
    "id": "bqlfIQ2famE8"
   },
   "source": [
    "Python defines type conversion functions to directly convert one data type to another which is useful in day to day and competitive programming. This article is aimed at providing the information about certain conversion functions.\n",
    "\n",
    "1. int(a,base) : This function converts any data type to integer. 'Base' specifies the base in which string is if data type is string.\n",
    "\n",
    "2. float() : This function is used to convert any data type to a floating point number\n",
    "\n",
    "3. ord() : This function is used to convert a character to integer.\n",
    "\n",
    "4. hex() : This function is to convert integer to hexadecimal string.\n",
    "\n",
    "5. oct() : This function is to convert integer to octal string."
   ]
  },
  {
   "cell_type": "code",
   "execution_count": 0,
   "metadata": {
    "colab": {
     "base_uri": "https://localhost:8080/",
     "height": 53
    },
    "colab_type": "code",
    "executionInfo": {
     "elapsed": 1574,
     "status": "ok",
     "timestamp": 1588097103485,
     "user": {
      "displayName": "Srijeet Chatterjee",
      "photoUrl": "https://lh3.googleusercontent.com/a-/AOh14GhvLyI2L7rMpswCMPIIHugxGS37iH6O6W9QSxh_Zw=s64",
      "userId": "01014322814526133923"
     },
     "user_tz": -330
    },
    "id": "hSoSbLUnW1Ng",
    "outputId": "4b371ccd-c72b-440e-f478-115989d3babf"
   },
   "outputs": [
    {
     "name": "stdout",
     "output_type": "stream",
     "text": [
      "After converting to integer base 2 : 18\n",
      "After converting to float : 10010.0\n"
     ]
    }
   ],
   "source": [
    "# Python code to demonstrate Type conversion\n",
    "# using int(), float()\n",
    "\n",
    "# initializing string\n",
    "s = \"10010\"\n",
    "\n",
    "# printing string converting to int base 2\n",
    "c = int(s,2)\n",
    "print (\"After converting to integer base 2 : \", end = \"\")\n",
    "print (c)\n",
    "\n",
    "# printing string converting to float\n",
    "e = float(s)\n",
    "print (\"After converting to float : \", end = \"\")\n",
    "print (e)"
   ]
  },
  {
   "cell_type": "code",
   "execution_count": 0,
   "metadata": {
    "colab": {
     "base_uri": "https://localhost:8080/",
     "height": 72
    },
    "colab_type": "code",
    "executionInfo": {
     "elapsed": 935,
     "status": "ok",
     "timestamp": 1587198794364,
     "user": {
      "displayName": "Srijeet Chatterjee",
      "photoUrl": "https://lh3.googleusercontent.com/a-/AOh14GhvLyI2L7rMpswCMPIIHugxGS37iH6O6W9QSxh_Zw=s64",
      "userId": "01014322814526133923"
     },
     "user_tz": -330
    },
    "id": "K8TYh5YJapev",
    "outputId": "903efb96-6b27-4109-aac1-daeebc2c8f02"
   },
   "outputs": [
    {
     "name": "stdout",
     "output_type": "stream",
     "text": [
      "After converting character to integer : 52\n",
      "After converting 56 to hexadecimal string : 0x38\n",
      "After converting 56 to octal string : 0o70\n"
     ]
    }
   ],
   "source": [
    "# Python code to demonstrate Type conversion\n",
    "# using  ord(), hex(), oct()\n",
    "\n",
    "# initializing integer\n",
    "s = '4'\n",
    "\n",
    "# printing character converting to integer\n",
    "c = ord(s)\n",
    "print (\"After converting character to integer : \",end=\"\")\n",
    "print (c)\n",
    "\n",
    "# printing integer converting to hexadecimal string\n",
    "c = hex(56)\n",
    "print (\"After converting 56 to hexadecimal string : \",end=\"\")\n",
    "print (c)\n",
    "\n",
    "# printing integer converting to octal string\n",
    "c = oct(56)\n",
    "print (\"After converting 56 to octal string : \",end=\"\")\n",
    "print (c)\n"
   ]
  },
  {
   "cell_type": "markdown",
   "metadata": {
    "colab_type": "text",
    "id": "N7dKzgekbosT"
   },
   "source": [
    "6. tuple() : This function is used to convert to a tuple.\n",
    "\n",
    "7. set() : This function returns the type after converting to set.\n",
    "\n",
    "8. list() : This function is used to convert any data type to a list type."
   ]
  },
  {
   "cell_type": "code",
   "execution_count": 0,
   "metadata": {
    "colab": {
     "base_uri": "https://localhost:8080/",
     "height": 72
    },
    "colab_type": "code",
    "executionInfo": {
     "elapsed": 1113,
     "status": "ok",
     "timestamp": 1588097114306,
     "user": {
      "displayName": "Srijeet Chatterjee",
      "photoUrl": "https://lh3.googleusercontent.com/a-/AOh14GhvLyI2L7rMpswCMPIIHugxGS37iH6O6W9QSxh_Zw=s64",
      "userId": "01014322814526133923"
     },
     "user_tz": -330
    },
    "id": "KTuZjuOna5ZM",
    "outputId": "0fcadf44-5cb3-463b-cac3-01498a85db3b"
   },
   "outputs": [
    {
     "name": "stdout",
     "output_type": "stream",
     "text": [
      "After converting string to tuple : ('g', 'e', 'e', 'k', 's')\n",
      "After converting string to set : {'k', 'g', 's', 'e'}\n",
      "After converting string to list : ['g', 'e', 'e', 'k', 's']\n"
     ]
    }
   ],
   "source": [
    "\n",
    "# Python code to demonstrate Type conversion\n",
    "# using  tuple(), set(), list()\n",
    "\n",
    "# initializing string\n",
    "s = 'geeks'\n",
    "\n",
    "# printing string converting to tuple\n",
    "c = tuple(s)\n",
    "print (\"After converting string to tuple : \",end=\"\")\n",
    "print (c)\n",
    "\n",
    "# printing string converting to set\n",
    "c = set(s)\n",
    "print (\"After converting string to set : \",end=\"\")\n",
    "print (c)\n",
    "\n",
    "# printing string converting to list\n",
    "c = list(s)\n",
    "print (\"After converting string to list : \",end=\"\")\n",
    "print (c)\n"
   ]
  },
  {
   "cell_type": "markdown",
   "metadata": {
    "colab_type": "text",
    "id": "CdVoPMj7bxZ4"
   },
   "source": [
    "9. dict() : This function is used to convert a tuple of order (key,value) into a dictionary.\n",
    "\n",
    "10. str() : Used to convert integer into a string.\n",
    "11. complex(real,imag) : : This function converts real numbers to complex(real,imag) number."
   ]
  },
  {
   "cell_type": "code",
   "execution_count": 0,
   "metadata": {
    "colab": {
     "base_uri": "https://localhost:8080/",
     "height": 126
    },
    "colab_type": "code",
    "executionInfo": {
     "elapsed": 842,
     "status": "ok",
     "timestamp": 1587200052318,
     "user": {
      "displayName": "Srijeet Chatterjee",
      "photoUrl": "https://lh3.googleusercontent.com/a-/AOh14GhvLyI2L7rMpswCMPIIHugxGS37iH6O6W9QSxh_Zw=s64",
      "userId": "01014322814526133923"
     },
     "user_tz": -330
    },
    "id": "BO5pPiTQbwsR",
    "outputId": "e4fb204a-1250-4577-8efc-6bf6326becab"
   },
   "outputs": [
    {
     "name": "stdout",
     "output_type": "stream",
     "text": [
      "('a', 1)\n",
      "<class 'tuple'>\n",
      "<class 'tuple'>\n",
      "After converting integer to complex number : (1+2j)\n",
      "After converting integer to string : 1\n",
      "After converting tuple to dictionary : {'a': 1, 'f': 2, 'g': 3}\n"
     ]
    }
   ],
   "source": [
    "\n",
    "# Python code to demonstrate Type conversion\n",
    "# using  dict(), complex(), str()\n",
    "\n",
    "# initializing integers\n",
    "a = 1\n",
    "b = 2\n",
    "\n",
    "# initializing tuple of tuples :\n",
    "tup = (('a', 1) ,('f', 2), ('g', 3))\n",
    "print(tup[0])\n",
    "print(type(tup))\n",
    "print(type(tup[0]))\n",
    "\n",
    "# printing integer converting to complex number\n",
    "c = complex(1,2)\n",
    "print (\"After converting integer to complex number : \",end=\"\")\n",
    "print (c)\n",
    "\n",
    "# printing integer converting to string\n",
    "c = str(a)\n",
    "print (\"After converting integer to string : \",end=\"\")\n",
    "print (c)\n",
    "\n",
    "# printing tuple converting to expression dictionary\n",
    "c = dict(tup)\n",
    "print (\"After converting tuple to dictionary : \",end=\"\")\n",
    "print (c)"
   ]
  },
  {
   "cell_type": "markdown",
   "metadata": {
    "colab_type": "text",
    "id": "92sDc8dpgHzU"
   },
   "source": [
    "#### \\_\\_name\\_\\_ : A special Variable in python "
   ]
  },
  {
   "cell_type": "markdown",
   "metadata": {
    "colab_type": "text",
    "id": "tEHlW2oZiAs5"
   },
   "source": [
    "Since there is no main() function in Python, when the command to run a python program is given to the interpreter, the code that is at level 0 indentation is to be executed. However, before doing that, it will define a few special variables. \\_\\_name\\_\\_ is one such special variable. \n",
    "\n",
    "If the source file is executed as the main program, the interpreter sets the __name__ variable to have a value \"\\_\\_main\\_\\_\". If this file is being imported from another module, \\_\\_name\\_\\_ will be set to the module's name.\n",
    "\n",
    "\n",
    "\\_\\_name\\_\\_ is a built-in variable which evaluates to the name of the current module. Thus it can be used to check whether the current script is being run on its own or being imported somewhere else by combining it with if statement, as shown below.\n"
   ]
  },
  {
   "cell_type": "code",
   "execution_count": 0,
   "metadata": {
    "colab": {},
    "colab_type": "code",
    "id": "YK3r358Ob9kK"
   },
   "outputs": [],
   "source": [
    "# File1.py\n",
    "\n",
    "'''\n",
    "\n",
    "print \"File1 __name__ = %s\" %__name__\n",
    "\n",
    "if __name__ == \"__main__\":\n",
    "\tprint \"File1 is being run directly\"\n",
    "else:\n",
    "\tprint \"File1 is being imported\"\n",
    "\n",
    "'''"
   ]
  },
  {
   "cell_type": "code",
   "execution_count": 0,
   "metadata": {
    "colab": {},
    "colab_type": "code",
    "id": "a246-J6_iXHa"
   },
   "outputs": [],
   "source": [
    "# File2.py\n",
    "\n",
    "'''\n",
    "import File1\n",
    "\n",
    "print \"File2 __name__ = %s\" %__name__\n",
    "\n",
    "if __name__ == \"__main__\":\n",
    "\tprint \"File2 is being run directly\"\n",
    "else:\n",
    "\tprint \"File2 is being imported\"\n",
    "\n",
    "'''"
   ]
  },
  {
   "cell_type": "code",
   "execution_count": 0,
   "metadata": {
    "colab": {},
    "colab_type": "code",
    "id": "WagO9Lp1iX6a"
   },
   "outputs": [],
   "source": [
    "#----------------------Expected Output----------------------------------------\n",
    "\n",
    "'''\n",
    "Now the interpreter is given the command to run File1.py.\n",
    "python File1.py\n",
    "Output :\n",
    "File1 __name__ = __main__\n",
    "File1 is being run directly\n",
    "\n",
    "\n",
    "And then File2.py is run.\n",
    "python File2.py\n",
    "Output :\n",
    "File1 __name__ = File1\n",
    "File1 is being imported\n",
    "File2 __name__ = __main__\n",
    "File2 is being run directly\n",
    "\n",
    "'''"
   ]
  },
  {
   "cell_type": "markdown",
   "metadata": {
    "colab_type": "text",
    "id": "WpU2tBNlic60"
   },
   "source": [
    "As seen above, when File1.py is run directly, the interpreter sets the \\_\\_name\\_\\_ variable as \\_\\_main\\_\\_ and when it is run through File2.py by importing, the \\_\\_name\\_\\_ variable is set as the name of the python script, i.e. File1. \n",
    "\n",
    "Thus, it can be said that if \\_\\_name\\_\\_ == \"\\_\\_main\\_\\_\" is the part of the program that runs when the script is run from the command line using a command like python File1.py."
   ]
  },
  {
   "cell_type": "code",
   "execution_count": 0,
   "metadata": {
    "colab": {},
    "colab_type": "code",
    "id": "YIWGsAk0idkc"
   },
   "outputs": [],
   "source": []
  },
  {
   "cell_type": "markdown",
   "metadata": {
    "colab_type": "text",
    "id": "XsTzO-2l-K8N"
   },
   "source": [
    "###Module 2:"
   ]
  },
  {
   "cell_type": "markdown",
   "metadata": {
    "colab_type": "text",
    "id": "aBx8qFgp-WEn"
   },
   "source": [
    "####Loops in Python :"
   ]
  },
  {
   "cell_type": "markdown",
   "metadata": {
    "colab_type": "text",
    "id": "dfcoKPxw-lRj"
   },
   "source": [
    "#####While Loop "
   ]
  },
  {
   "cell_type": "code",
   "execution_count": 0,
   "metadata": {
    "colab": {
     "base_uri": "https://localhost:8080/",
     "height": 72
    },
    "colab_type": "code",
    "executionInfo": {
     "elapsed": 1119,
     "status": "ok",
     "timestamp": 1588097380592,
     "user": {
      "displayName": "Srijeet Chatterjee",
      "photoUrl": "https://lh3.googleusercontent.com/a-/AOh14GhvLyI2L7rMpswCMPIIHugxGS37iH6O6W9QSxh_Zw=s64",
      "userId": "01014322814526133923"
     },
     "user_tz": -330
    },
    "id": "Gw3iJjxj-uG5",
    "outputId": "a1167fb3-7ad6-4f3b-86b2-b83ef879f93c"
   },
   "outputs": [
    {
     "name": "stdout",
     "output_type": "stream",
     "text": [
      "Hello Geek\n",
      "Hello Geek\n",
      "Hello Geek\n"
     ]
    }
   ],
   "source": [
    "# Python program to illustrate\n",
    "# while loop\n",
    "count = 0\n",
    "while (count < 3):    \n",
    "    count = count + 1\n",
    "    print(\"Hello Geek\")\n"
   ]
  },
  {
   "cell_type": "markdown",
   "metadata": {
    "colab_type": "text",
    "id": "NWGcz-Hy-oHT"
   },
   "source": [
    "#####While Loop with a Else:"
   ]
  },
  {
   "cell_type": "code",
   "execution_count": 0,
   "metadata": {
    "colab": {
     "base_uri": "https://localhost:8080/",
     "height": 90
    },
    "colab_type": "code",
    "executionInfo": {
     "elapsed": 1402,
     "status": "ok",
     "timestamp": 1588097327002,
     "user": {
      "displayName": "Srijeet Chatterjee",
      "photoUrl": "https://lh3.googleusercontent.com/a-/AOh14GhvLyI2L7rMpswCMPIIHugxGS37iH6O6W9QSxh_Zw=s64",
      "userId": "01014322814526133923"
     },
     "user_tz": -330
    },
    "id": "8RZAPoyW-Mw_",
    "outputId": "0805f828-9052-402a-f9ad-dc31c108a300"
   },
   "outputs": [
    {
     "name": "stdout",
     "output_type": "stream",
     "text": [
      "Hello Geek\n",
      "Hello Geek\n",
      "Hello Geek\n",
      "In Else Block\n"
     ]
    }
   ],
   "source": [
    "# while loop with else:\n",
    "\n",
    "#Python program to illustrate\n",
    "# combining else with while\n",
    "count = 0\n",
    "while (count < 3):    \n",
    "    count = count + 1\n",
    "    print(\"Hello Geek\")\n",
    "else:\n",
    "    print(\"In Else Block\")"
   ]
  },
  {
   "cell_type": "markdown",
   "metadata": {
    "colab_type": "text",
    "id": "aum8wkyH-0C6"
   },
   "source": [
    "#####Single Statement While block:"
   ]
  },
  {
   "cell_type": "code",
   "execution_count": 0,
   "metadata": {
    "colab": {},
    "colab_type": "code",
    "id": "2E91LrD6-hdJ"
   },
   "outputs": [],
   "source": [
    "# Python program to illustrate\n",
    "# Single statement while block\n",
    "count = 0\n",
    "while (count < 4): print(\"Hello Geek\")"
   ]
  },
  {
   "cell_type": "markdown",
   "metadata": {
    "colab_type": "text",
    "id": "LBBvSQUY_SVX"
   },
   "source": [
    "Note: It is suggested not to use this type of loops as it is a never ending infinite loop where the condition is always true and you have to forcefully terminate the compiler."
   ]
  },
  {
   "cell_type": "markdown",
   "metadata": {
    "colab_type": "text",
    "id": "OpxHg893_WbT"
   },
   "source": [
    "#####for in Loop"
   ]
  },
  {
   "cell_type": "code",
   "execution_count": 0,
   "metadata": {
    "colab": {
     "base_uri": "https://localhost:8080/",
     "height": 90
    },
    "colab_type": "code",
    "executionInfo": {
     "elapsed": 1207,
     "status": "ok",
     "timestamp": 1588097569789,
     "user": {
      "displayName": "Srijeet Chatterjee",
      "photoUrl": "https://lh3.googleusercontent.com/a-/AOh14GhvLyI2L7rMpswCMPIIHugxGS37iH6O6W9QSxh_Zw=s64",
      "userId": "01014322814526133923"
     },
     "user_tz": -330
    },
    "id": "_-1f3lWy-7YS",
    "outputId": "53ee3073-7b37-45f9-c4bd-1ed204609269"
   },
   "outputs": [
    {
     "name": "stdout",
     "output_type": "stream",
     "text": [
      "0\n",
      "1\n",
      "2\n",
      "3\n"
     ]
    }
   ],
   "source": [
    "# Python program to illustrate\n",
    "# Iterating over range 0 to n-1\n",
    "\n",
    "n = 4\n",
    "for i in range(0, n):\n",
    "    print(i)"
   ]
  },
  {
   "cell_type": "code",
   "execution_count": 0,
   "metadata": {
    "colab": {
     "base_uri": "https://localhost:8080/",
     "height": 380
    },
    "colab_type": "code",
    "executionInfo": {
     "elapsed": 1239,
     "status": "ok",
     "timestamp": 1588097610513,
     "user": {
      "displayName": "Srijeet Chatterjee",
      "photoUrl": "https://lh3.googleusercontent.com/a-/AOh14GhvLyI2L7rMpswCMPIIHugxGS37iH6O6W9QSxh_Zw=s64",
      "userId": "01014322814526133923"
     },
     "user_tz": -330
    },
    "id": "SPXIun8i_c7H",
    "outputId": "abee8818-007f-4a8b-ba39-715dd251eb7a"
   },
   "outputs": [
    {
     "name": "stdout",
     "output_type": "stream",
     "text": [
      "List Iteration\n",
      "geeks\n",
      "for\n",
      "geeks\n",
      "\n",
      "Tuple Iteration\n",
      "geeks\n",
      "for\n",
      "geeks\n",
      "\n",
      "String Iteration\n",
      "G\n",
      "e\n",
      "e\n",
      "k\n",
      "s\n",
      "\n",
      "Dictionary Iteration\n",
      "xyz  123\n",
      "abc  345\n"
     ]
    }
   ],
   "source": [
    "\n",
    "# Python program to illustrate\n",
    "# Iterating over a list\n",
    "print(\"List Iteration\")\n",
    "l = [\"geeks\", \"for\", \"geeks\"]\n",
    "for i in l:\n",
    "    print(i)\n",
    "     \n",
    "# Iterating over a tuple (immutable)\n",
    "print(\"\\nTuple Iteration\")\n",
    "t = (\"geeks\", \"for\", \"geeks\")\n",
    "for i in t:\n",
    "    print(i)\n",
    "     \n",
    "# Iterating over a String\n",
    "print(\"\\nString Iteration\")    \n",
    "s = \"Geeks\"\n",
    "for i in s :\n",
    "    print(i)\n",
    "     \n",
    "# Iterating over dictionary\n",
    "print(\"\\nDictionary Iteration\")   \n",
    "d = dict() \n",
    "d['xyz'] = 123\n",
    "d['abc'] = 345\n",
    "for i in d :\n",
    "    print(\"%s  %d\" %(i, d[i]))\n"
   ]
  },
  {
   "cell_type": "markdown",
   "metadata": {
    "colab_type": "text",
    "id": "x49jBqf5AB8v"
   },
   "source": [
    "#####Iterating by index of sequences:"
   ]
  },
  {
   "cell_type": "code",
   "execution_count": 0,
   "metadata": {
    "colab": {
     "base_uri": "https://localhost:8080/",
     "height": 72
    },
    "colab_type": "code",
    "executionInfo": {
     "elapsed": 1074,
     "status": "ok",
     "timestamp": 1588097708666,
     "user": {
      "displayName": "Srijeet Chatterjee",
      "photoUrl": "https://lh3.googleusercontent.com/a-/AOh14GhvLyI2L7rMpswCMPIIHugxGS37iH6O6W9QSxh_Zw=s64",
      "userId": "01014322814526133923"
     },
     "user_tz": -330
    },
    "id": "QqDaf4dh_m2I",
    "outputId": "82ccf18e-fccd-40bb-9bea-9b8015163fb1"
   },
   "outputs": [
    {
     "name": "stdout",
     "output_type": "stream",
     "text": [
      "geeks\n",
      "for\n",
      "geeks\n"
     ]
    }
   ],
   "source": [
    "# Python program to illustrate\n",
    "# Iterating by index\n",
    "\n",
    "list = [\"geeks\", \"for\", \"geeks\"]\n",
    "for index in range(len(list)):\n",
    "    print (list[index])"
   ]
  },
  {
   "cell_type": "markdown",
   "metadata": {
    "colab_type": "text",
    "id": "oiznjIHaAF1n"
   },
   "source": [
    "#####Using else statement with for loops:"
   ]
  },
  {
   "cell_type": "code",
   "execution_count": 0,
   "metadata": {
    "colab": {
     "base_uri": "https://localhost:8080/",
     "height": 90
    },
    "colab_type": "code",
    "executionInfo": {
     "elapsed": 1181,
     "status": "ok",
     "timestamp": 1588097791981,
     "user": {
      "displayName": "Srijeet Chatterjee",
      "photoUrl": "https://lh3.googleusercontent.com/a-/AOh14GhvLyI2L7rMpswCMPIIHugxGS37iH6O6W9QSxh_Zw=s64",
      "userId": "01014322814526133923"
     },
     "user_tz": -330
    },
    "id": "WorJ7flK_xrK",
    "outputId": "19a50998-296f-40bd-e80e-1545a481056a"
   },
   "outputs": [
    {
     "name": "stdout",
     "output_type": "stream",
     "text": [
      "geeks\n",
      "for\n",
      "geeks\n",
      "Inside Else Block\n"
     ]
    }
   ],
   "source": [
    "# Python program to illustrate\n",
    "# combining else with for\n",
    "\n",
    "list = [\"geeks\", \"for\", \"geeks\"]\n",
    "for index in range(len(list)):\n",
    "    print (list[index])\n",
    "else:\n",
    "    print (\"Inside Else Block\")"
   ]
  },
  {
   "cell_type": "markdown",
   "metadata": {
    "colab_type": "text",
    "id": "wmnTyFS1AXSd"
   },
   "source": [
    "#####Nested Loops"
   ]
  },
  {
   "cell_type": "code",
   "execution_count": 0,
   "metadata": {
    "colab": {
     "base_uri": "https://localhost:8080/",
     "height": 55
    },
    "colab_type": "code",
    "executionInfo": {
     "elapsed": 1007,
     "status": "ok",
     "timestamp": 1588097903792,
     "user": {
      "displayName": "Srijeet Chatterjee",
      "photoUrl": "https://lh3.googleusercontent.com/a-/AOh14GhvLyI2L7rMpswCMPIIHugxGS37iH6O6W9QSxh_Zw=s64",
      "userId": "01014322814526133923"
     },
     "user_tz": -330
    },
    "id": "WDk6uH3DAPge",
    "outputId": "482eb829-8f3d-4c70-9d29-9072cd0eba7e"
   },
   "outputs": [
    {
     "data": {
      "text/plain": [
       "'\\n\\nfor iterator_var in sequence:\\n    for iterator_var in sequence:\\n        statements(s)\\n        statements(s)\\n\\n\\nwhile expression:\\n    while expression: \\n        statement(s)\\n        statement(s)\\n\\n        '"
      ]
     },
     "execution_count": 43,
     "metadata": {
      "tags": []
     },
     "output_type": "execute_result"
    }
   ],
   "source": [
    "'''\n",
    "\n",
    "for iterator_var in sequence:\n",
    "    for iterator_var in sequence:\n",
    "        statements(s)\n",
    "        statements(s)\n",
    "\n",
    "\n",
    "while expression:\n",
    "    while expression: \n",
    "        statement(s)\n",
    "        statement(s)\n",
    "\n",
    "        '''"
   ]
  },
  {
   "cell_type": "code",
   "execution_count": 0,
   "metadata": {
    "colab": {
     "base_uri": "https://localhost:8080/",
     "height": 90
    },
    "colab_type": "code",
    "executionInfo": {
     "elapsed": 1026,
     "status": "ok",
     "timestamp": 1588097923717,
     "user": {
      "displayName": "Srijeet Chatterjee",
      "photoUrl": "https://lh3.googleusercontent.com/a-/AOh14GhvLyI2L7rMpswCMPIIHugxGS37iH6O6W9QSxh_Zw=s64",
      "userId": "01014322814526133923"
     },
     "user_tz": -330
    },
    "id": "wPK-f4IJAug3",
    "outputId": "61ae4e87-6290-446e-a608-93b59b947917"
   },
   "outputs": [
    {
     "name": "stdout",
     "output_type": "stream",
     "text": [
      "1 \n",
      "2 2 \n",
      "3 3 3 \n",
      "4 4 4 4 \n"
     ]
    }
   ],
   "source": [
    "# Python program to illustrate \n",
    "# nested for loops in Python\n",
    "from __future__ import print_function\n",
    "for i in range(1, 5):\n",
    "    for j in range(i):\n",
    "         print(i, end=' ')\n",
    "    print()"
   ]
  },
  {
   "cell_type": "markdown",
   "metadata": {
    "colab_type": "text",
    "id": "aZGbNy4pA6p9"
   },
   "source": [
    "#####Loop Control Statements --- continue , break , pass"
   ]
  },
  {
   "cell_type": "code",
   "execution_count": 0,
   "metadata": {
    "colab": {
     "base_uri": "https://localhost:8080/",
     "height": 144
    },
    "colab_type": "code",
    "executionInfo": {
     "elapsed": 1103,
     "status": "ok",
     "timestamp": 1588097978204,
     "user": {
      "displayName": "Srijeet Chatterjee",
      "photoUrl": "https://lh3.googleusercontent.com/a-/AOh14GhvLyI2L7rMpswCMPIIHugxGS37iH6O6W9QSxh_Zw=s64",
      "userId": "01014322814526133923"
     },
     "user_tz": -330
    },
    "id": "J8mHO8q2AzXV",
    "outputId": "806d1649-64ec-47bc-c6eb-7e261526b9e1"
   },
   "outputs": [
    {
     "name": "stdout",
     "output_type": "stream",
     "text": [
      "Current Letter : g\n",
      "Current Letter : k\n",
      "Current Letter : f\n",
      "Current Letter : o\n",
      "Current Letter : r\n",
      "Current Letter : g\n",
      "Current Letter : k\n"
     ]
    }
   ],
   "source": [
    "# Prints all letters except 'e' and 's'\n",
    "for letter in 'geeksforgeeks': \n",
    "    if letter == 'e' or letter == 's':\n",
    "         continue\n",
    "    print ('Current Letter :', letter)\n",
    "    var = 10"
   ]
  },
  {
   "cell_type": "code",
   "execution_count": 0,
   "metadata": {
    "colab": {
     "base_uri": "https://localhost:8080/",
     "height": 35
    },
    "colab_type": "code",
    "executionInfo": {
     "elapsed": 1094,
     "status": "ok",
     "timestamp": 1588097995869,
     "user": {
      "displayName": "Srijeet Chatterjee",
      "photoUrl": "https://lh3.googleusercontent.com/a-/AOh14GhvLyI2L7rMpswCMPIIHugxGS37iH6O6W9QSxh_Zw=s64",
      "userId": "01014322814526133923"
     },
     "user_tz": -330
    },
    "id": "RTqTCiMSA9yh",
    "outputId": "42f1dd1e-b4bf-41c0-a228-284b7c5157aa"
   },
   "outputs": [
    {
     "name": "stdout",
     "output_type": "stream",
     "text": [
      "Current Letter : e\n"
     ]
    }
   ],
   "source": [
    "for letter in 'geeksforgeeks': \n",
    "\n",
    "    # break the loop as soon it sees 'e' \n",
    "    # or 's'\n",
    "    if letter == 'e' or letter == 's':\n",
    "         break\n",
    "\n",
    "print ('Current Letter :', letter)"
   ]
  },
  {
   "cell_type": "code",
   "execution_count": 0,
   "metadata": {
    "colab": {
     "base_uri": "https://localhost:8080/",
     "height": 35
    },
    "colab_type": "code",
    "executionInfo": {
     "elapsed": 1472,
     "status": "ok",
     "timestamp": 1588098049641,
     "user": {
      "displayName": "Srijeet Chatterjee",
      "photoUrl": "https://lh3.googleusercontent.com/a-/AOh14GhvLyI2L7rMpswCMPIIHugxGS37iH6O6W9QSxh_Zw=s64",
      "userId": "01014322814526133923"
     },
     "user_tz": -330
    },
    "id": "JZdp39ZlBE91",
    "outputId": "7f7f7a08-b589-4cdc-88d1-7772051cf959"
   },
   "outputs": [
    {
     "name": "stdout",
     "output_type": "stream",
     "text": [
      "Last Letter : s\n"
     ]
    }
   ],
   "source": [
    "\n",
    "# An empty loop\n",
    "for letter in 'geeksforgeeks':\n",
    "    pass\n",
    "print ('Last Letter :', letter)\n"
   ]
  },
  {
   "cell_type": "markdown",
   "metadata": {
    "colab_type": "text",
    "id": "gSfwg1f3Bcfy"
   },
   "source": [
    "####Using Iteration in Python :"
   ]
  },
  {
   "cell_type": "markdown",
   "metadata": {
    "colab_type": "text",
    "id": "GhdXHIlhBoI4"
   },
   "source": [
    "#####Accessing Items of iterable"
   ]
  },
  {
   "cell_type": "code",
   "execution_count": 0,
   "metadata": {
    "colab": {
     "base_uri": "https://localhost:8080/",
     "height": 72
    },
    "colab_type": "code",
    "executionInfo": {
     "elapsed": 1247,
     "status": "ok",
     "timestamp": 1588098179886,
     "user": {
      "displayName": "Srijeet Chatterjee",
      "photoUrl": "https://lh3.googleusercontent.com/a-/AOh14GhvLyI2L7rMpswCMPIIHugxGS37iH6O6W9QSxh_Zw=s64",
      "userId": "01014322814526133923"
     },
     "user_tz": -330
    },
    "id": "yeU9REM6BQEo",
    "outputId": "2d17b992-cb2e-486f-cb1f-4c506829b186"
   },
   "outputs": [
    {
     "name": "stdout",
     "output_type": "stream",
     "text": [
      "Aston\n",
      "Audi\n",
      "McLaren\n"
     ]
    }
   ],
   "source": [
    "# Accessing items using for-in loop\n",
    "\n",
    "cars = [\"Aston\", \"Audi\", \"McLaren\"]\n",
    "for x in cars:\n",
    "    print (x)"
   ]
  },
  {
   "cell_type": "code",
   "execution_count": 0,
   "metadata": {
    "colab": {
     "base_uri": "https://localhost:8080/",
     "height": 72
    },
    "colab_type": "code",
    "executionInfo": {
     "elapsed": 1011,
     "status": "ok",
     "timestamp": 1588098185135,
     "user": {
      "displayName": "Srijeet Chatterjee",
      "photoUrl": "https://lh3.googleusercontent.com/a-/AOh14GhvLyI2L7rMpswCMPIIHugxGS37iH6O6W9QSxh_Zw=s64",
      "userId": "01014322814526133923"
     },
     "user_tz": -330
    },
    "id": "j_U999L7BtYm",
    "outputId": "42a8cc15-59d0-42e2-804a-956720b62b24"
   },
   "outputs": [
    {
     "name": "stdout",
     "output_type": "stream",
     "text": [
      "Aston\n",
      "Audi\n",
      "McLaren\n"
     ]
    }
   ],
   "source": [
    "cars = [\"Aston\", \"Audi\", \"McLaren\"]\n",
    "for i in range(len(cars)):\n",
    "    print (cars[i])"
   ]
  },
  {
   "cell_type": "markdown",
   "metadata": {
    "colab_type": "text",
    "id": "5fwE20KEB3ln"
   },
   "source": [
    "#####Enumerate"
   ]
  },
  {
   "cell_type": "code",
   "execution_count": 0,
   "metadata": {
    "colab": {
     "base_uri": "https://localhost:8080/",
     "height": 72
    },
    "colab_type": "code",
    "executionInfo": {
     "elapsed": 1438,
     "status": "ok",
     "timestamp": 1588098198574,
     "user": {
      "displayName": "Srijeet Chatterjee",
      "photoUrl": "https://lh3.googleusercontent.com/a-/AOh14GhvLyI2L7rMpswCMPIIHugxGS37iH6O6W9QSxh_Zw=s64",
      "userId": "01014322814526133923"
     },
     "user_tz": -330
    },
    "id": "Iz5F1rPmBzMK",
    "outputId": "fa8c4853-8205-4704-c193-434bc3305bb4"
   },
   "outputs": [
    {
     "name": "stdout",
     "output_type": "stream",
     "text": [
      "Aston\n",
      "Audi\n",
      "McLaren \n"
     ]
    }
   ],
   "source": [
    "cars = [\"Aston\" , \"Audi\", \"McLaren \"]\n",
    "for i, x in enumerate(cars):\n",
    "    print (x)"
   ]
  },
  {
   "cell_type": "code",
   "execution_count": 0,
   "metadata": {
    "colab": {
     "base_uri": "https://localhost:8080/",
     "height": 72
    },
    "colab_type": "code",
    "executionInfo": {
     "elapsed": 1282,
     "status": "ok",
     "timestamp": 1588098227283,
     "user": {
      "displayName": "Srijeet Chatterjee",
      "photoUrl": "https://lh3.googleusercontent.com/a-/AOh14GhvLyI2L7rMpswCMPIIHugxGS37iH6O6W9QSxh_Zw=s64",
      "userId": "01014322814526133923"
     },
     "user_tz": -330
    },
    "id": "i7HTK5tTB2Uh",
    "outputId": "e38a7dc0-1400-439e-da97-694317cce851"
   },
   "outputs": [
    {
     "name": "stdout",
     "output_type": "stream",
     "text": [
      "0 Aston\n",
      "1 Audi\n",
      "2 McLaren \n"
     ]
    }
   ],
   "source": [
    "cars = [\"Aston\" , \"Audi\", \"McLaren \"]\n",
    "for x in enumerate(cars):\n",
    "    print (x[0], x[1])"
   ]
  },
  {
   "cell_type": "code",
   "execution_count": 0,
   "metadata": {
    "colab": {
     "base_uri": "https://localhost:8080/",
     "height": 35
    },
    "colab_type": "code",
    "executionInfo": {
     "elapsed": 927,
     "status": "ok",
     "timestamp": 1588098250450,
     "user": {
      "displayName": "Srijeet Chatterjee",
      "photoUrl": "https://lh3.googleusercontent.com/a-/AOh14GhvLyI2L7rMpswCMPIIHugxGS37iH6O6W9QSxh_Zw=s64",
      "userId": "01014322814526133923"
     },
     "user_tz": -330
    },
    "id": "LXdZ1vMYB9a2",
    "outputId": "d71f3adc-ccc3-4f69-d404-b5a534b8c9b8"
   },
   "outputs": [
    {
     "name": "stdout",
     "output_type": "stream",
     "text": [
      "<enumerate object at 0x7f3c9abaf1b0>\n"
     ]
    }
   ],
   "source": [
    "# Printing return value of enumerate() \n",
    "\n",
    "cars = [\"Aston\" , \"Audi\", \"McLaren \"]\n",
    "print (enumerate(cars))\n"
   ]
  },
  {
   "cell_type": "code",
   "execution_count": 0,
   "metadata": {
    "colab": {
     "base_uri": "https://localhost:8080/",
     "height": 72
    },
    "colab_type": "code",
    "executionInfo": {
     "elapsed": 1149,
     "status": "ok",
     "timestamp": 1588098268498,
     "user": {
      "displayName": "Srijeet Chatterjee",
      "photoUrl": "https://lh3.googleusercontent.com/a-/AOh14GhvLyI2L7rMpswCMPIIHugxGS37iH6O6W9QSxh_Zw=s64",
      "userId": "01014322814526133923"
     },
     "user_tz": -330
    },
    "id": "KQ1ZFXuuCA85",
    "outputId": "96c28d60-04c4-46ee-b98f-96829cdf857f"
   },
   "outputs": [
    {
     "name": "stdout",
     "output_type": "stream",
     "text": [
      "1 Aston\n",
      "2 Audi\n",
      "3 McLaren \n"
     ]
    }
   ],
   "source": [
    "\n",
    "# demonstrating the use of start in enumerate\n",
    "\n",
    "cars = [\"Aston\" , \"Audi\", \"McLaren \"]\n",
    "for x in enumerate(cars, start=1):\n",
    "    print (x[0], x[1])\n"
   ]
  },
  {
   "cell_type": "markdown",
   "metadata": {
    "colab_type": "text",
    "id": "VMPU0y7LCRa4"
   },
   "source": [
    "#####Looping extensions: i) Two iterators for a single looping construct: In this case, a list and dictionary are to be used for each iteration in a single looping block using enumerate function. Let us see example."
   ]
  },
  {
   "cell_type": "code",
   "execution_count": 0,
   "metadata": {
    "colab": {
     "base_uri": "https://localhost:8080/",
     "height": 108
    },
    "colab_type": "code",
    "executionInfo": {
     "elapsed": 1023,
     "status": "ok",
     "timestamp": 1588098408062,
     "user": {
      "displayName": "Srijeet Chatterjee",
      "photoUrl": "https://lh3.googleusercontent.com/a-/AOh14GhvLyI2L7rMpswCMPIIHugxGS37iH6O6W9QSxh_Zw=s64",
      "userId": "01014322814526133923"
     },
     "user_tz": -330
    },
    "id": "nO_qz4Y4CHgq",
    "outputId": "916c30f6-b428-4315-d23f-d705af69253a"
   },
   "outputs": [
    {
     "name": "stdout",
     "output_type": "stream",
     "text": [
      "Car: Aston Price: 570000$\n",
      "Car: Audi Price: 68000$\n",
      "Car: McLaren Price: 450000$\n",
      "Accessory: GPS kit Price: 8900$\n",
      "Accessory: Car repair-tool kit Price: 4500$\n"
     ]
    }
   ],
   "source": [
    "\n",
    "# Two separate lists\n",
    "cars = [\"Aston\", \"Audi\", \"McLaren\"]\n",
    "accessories = [\"GPS kit\", \"Car repair-tool kit\"]\n",
    "\n",
    "# Single dictionary holds prices of cars and \n",
    "# its accessories.\n",
    "# First three items store prices of cars and\n",
    "# next two items store prices of accessories.\n",
    "prices = {1:\"570000$\", 2:\"68000$\", 3:\"450000$\",\n",
    "          4:\"8900$\", 5:\"4500$\"}\n",
    "\n",
    "# Printing prices of cars\n",
    "for index, c in enumerate(cars, start=1):\n",
    "    print (\"Car: %s Price: %s\"%(c, prices[index]))\n",
    "\n",
    "# Printing prices of accessories\n",
    "for index, a in enumerate(accessories,start=1):\n",
    "    print (\"Accessory: %s Price: %s\"\\\n",
    "           %(a,prices[index+len(cars)]))\n"
   ]
  },
  {
   "cell_type": "markdown",
   "metadata": {
    "colab_type": "text",
    "id": "1zLji_ZdCtZG"
   },
   "source": [
    "#####ii) zip function :\n",
    "(Both iterators to be used in single looping construct): This function is helpful to combine similar type iterators(list-list or dict- dict etc,) data items at ith position. It uses the shortest length of these input iterators. Other items of larger length iterators are skipped. In case of empty iterators, it returns No output."
   ]
  },
  {
   "cell_type": "code",
   "execution_count": 0,
   "metadata": {
    "colab": {
     "base_uri": "https://localhost:8080/",
     "height": 72
    },
    "colab_type": "code",
    "executionInfo": {
     "elapsed": 1112,
     "status": "ok",
     "timestamp": 1588098456407,
     "user": {
      "displayName": "Srijeet Chatterjee",
      "photoUrl": "https://lh3.googleusercontent.com/a-/AOh14GhvLyI2L7rMpswCMPIIHugxGS37iH6O6W9QSxh_Zw=s64",
      "userId": "01014322814526133923"
     },
     "user_tz": -330
    },
    "id": "EYx3o3GGCpnP",
    "outputId": "9c478f4b-b144-4c06-9b37-757ada287fd9"
   },
   "outputs": [
    {
     "name": "stdout",
     "output_type": "stream",
     "text": [
      "Car: Aston, Accessory required: GPS\n",
      "Car: Audi, Accessory required: Car Repair Kit\n",
      "Car: McLaren, Accessory required: Dolby sound kit\n"
     ]
    }
   ],
   "source": [
    "# Python program to demonstrate the working of zip\n",
    "\n",
    "# Two separate lists\n",
    "cars = [\"Aston\", \"Audi\", \"McLaren\"]\n",
    "accessories = [\"GPS\", \"Car Repair Kit\", \n",
    "               \"Dolby sound kit\"]\n",
    "\n",
    "# Combining lists and printing\n",
    "for c, a in zip(cars, accessories):\n",
    "    print (\"Car: %s, Accessory required: %s\"\\\n",
    "          %(c, a))\n"
   ]
  },
  {
   "cell_type": "code",
   "execution_count": 0,
   "metadata": {
    "colab": {
     "base_uri": "https://localhost:8080/",
     "height": 53
    },
    "colab_type": "code",
    "executionInfo": {
     "elapsed": 1153,
     "status": "ok",
     "timestamp": 1588098477020,
     "user": {
      "displayName": "Srijeet Chatterjee",
      "photoUrl": "https://lh3.googleusercontent.com/a-/AOh14GhvLyI2L7rMpswCMPIIHugxGS37iH6O6W9QSxh_Zw=s64",
      "userId": "01014322814526133923"
     },
     "user_tz": -330
    },
    "id": "gO3ZckWFC1aB",
    "outputId": "2f8bc161-93a0-4f73-fef2-9ade7ef48e75"
   },
   "outputs": [
    {
     "name": "stdout",
     "output_type": "stream",
     "text": [
      "('Aston', 'Audi', 'McLaren')\n",
      "('GPS', 'Car Repair', 'Dolby sound kit')\n"
     ]
    }
   ],
   "source": [
    "\n",
    "# Python program to demonstrate unzip (reverse \n",
    "# of zip)using * with zip function\n",
    "\n",
    "# Unzip lists\n",
    "l1,l2 = zip(*[('Aston', 'GPS'), \n",
    "              ('Audi', 'Car Repair'), \n",
    "              ('McLaren', 'Dolby sound kit') \n",
    "           ])\n",
    "\n",
    "# Printing unzipped lists      \n",
    "print(l1)\n",
    "print(l2)\n"
   ]
  },
  {
   "cell_type": "markdown",
   "metadata": {
    "colab_type": "text",
    "id": "3DFAUYxFDB1w"
   },
   "source": [
    "####switch cases in Python :"
   ]
  },
  {
   "cell_type": "code",
   "execution_count": 0,
   "metadata": {
    "colab": {
     "base_uri": "https://localhost:8080/",
     "height": 35
    },
    "colab_type": "code",
    "executionInfo": {
     "elapsed": 1241,
     "status": "ok",
     "timestamp": 1588098734103,
     "user": {
      "displayName": "Srijeet Chatterjee",
      "photoUrl": "https://lh3.googleusercontent.com/a-/AOh14GhvLyI2L7rMpswCMPIIHugxGS37iH6O6W9QSxh_Zw=s64",
      "userId": "01014322814526133923"
     },
     "user_tz": -330
    },
    "id": "q0OMilP4DIFT",
    "outputId": "0fa08a11-9b7a-4666-e4e0-3030cf8132c2"
   },
   "outputs": [
    {
     "name": "stdout",
     "output_type": "stream",
     "text": [
      "one\n"
     ]
    }
   ],
   "source": [
    "# Function to convert number into string\n",
    "# Switcher is dictionary data type here\n",
    "def numbers_to_strings(argument):\n",
    "    switcher = {\n",
    "        0: \"zero\",\n",
    "        1: \"one\",\n",
    "        2: \"two\",\n",
    "    }\n",
    "\n",
    "    # get() method of dictionary data type returns \n",
    "    # value of passed argument if it is present \n",
    "    # in dictionary otherwise second argument will\n",
    "    # be assigned as default value of passed argument\n",
    "    return switcher.get(argument, \"nothing\")\n",
    "\n",
    "# Driver program\n",
    "if __name__ == \"__main__\":\n",
    "    argument = 1\n",
    "    print (numbers_to_strings(argument))\n"
   ]
  },
  {
   "cell_type": "markdown",
   "metadata": {
    "colab_type": "text",
    "id": "WoevO5qtEBQa"
   },
   "source": [
    "####Difference between is and == operator in python :"
   ]
  },
  {
   "cell_type": "markdown",
   "metadata": {
    "colab_type": "text",
    "id": "-RLnVMucEH38"
   },
   "source": [
    "The == operator compares the values of both the operands and checks for value equality. Whereas is operator checks whether both the operands refer to the same object or not."
   ]
  },
  {
   "cell_type": "code",
   "execution_count": 0,
   "metadata": {
    "colab": {
     "base_uri": "https://localhost:8080/",
     "height": 90
    },
    "colab_type": "code",
    "executionInfo": {
     "elapsed": 1080,
     "status": "ok",
     "timestamp": 1588098816053,
     "user": {
      "displayName": "Srijeet Chatterjee",
      "photoUrl": "https://lh3.googleusercontent.com/a-/AOh14GhvLyI2L7rMpswCMPIIHugxGS37iH6O6W9QSxh_Zw=s64",
      "userId": "01014322814526133923"
     },
     "user_tz": -330
    },
    "id": "GlFasypiDqAZ",
    "outputId": "bda92e2c-b6ce-4aed-898d-9a7d42b4aa2a"
   },
   "outputs": [
    {
     "name": "stdout",
     "output_type": "stream",
     "text": [
      "True\n",
      "False\n",
      "True\n",
      "False\n"
     ]
    }
   ],
   "source": [
    "\n",
    "# python3 code to \n",
    "# illustrate the \n",
    "# difference between\n",
    "# == and is operator\n",
    "# [] is an empty list\n",
    "list1 = []\n",
    "list2 = []\n",
    "list3=list1\n",
    "\n",
    "if (list1 == list2):\n",
    "    print(\"True\")\n",
    "else:\n",
    "    print(\"False\")\n",
    "\n",
    "if (list1 is list2):\n",
    "    print(\"True\")\n",
    "else:\n",
    "    print(\"False\")\n",
    "\n",
    "if (list1 is list3):\n",
    "    print(\"True\")\n",
    "else:    \n",
    "    print(\"False\")\n",
    "\n",
    "list3 = list3 + list2\n",
    "\n",
    "if (list1 is list3):\n",
    "    print(\"True\")\n",
    "else:    \n",
    "    print(\"False\")"
   ]
  },
  {
   "cell_type": "markdown",
   "metadata": {
    "colab_type": "text",
    "id": "Myc8ZIqYEX3J"
   },
   "source": [
    "Output of the first if condition is \"True\" as both list1 and list2 are empty lists.\n",
    "\n",
    "Second if condition shows \"False\" because two empty lists are at different memory locations. Hence list1 and list2 refer to different objects. We can check it with id() function in python which returns the “identity” of an object.\n",
    "\n",
    "Output of the third if condition is \"True\" as both list1 and list3 are pointing to the same object.\n",
    "\n",
    "Output of the fourth if condition is \"False\" because concatenation of two list is always produce a new list."
   ]
  },
  {
   "cell_type": "code",
   "execution_count": 0,
   "metadata": {
    "colab": {
     "base_uri": "https://localhost:8080/",
     "height": 53
    },
    "colab_type": "code",
    "executionInfo": {
     "elapsed": 1126,
     "status": "ok",
     "timestamp": 1588098889706,
     "user": {
      "displayName": "Srijeet Chatterjee",
      "photoUrl": "https://lh3.googleusercontent.com/a-/AOh14GhvLyI2L7rMpswCMPIIHugxGS37iH6O6W9QSxh_Zw=s64",
      "userId": "01014322814526133923"
     },
     "user_tz": -330
    },
    "id": "QuSUwawiENNQ",
    "outputId": "527ff28b-9303-470a-9ee9-79bc70f8f376"
   },
   "outputs": [
    {
     "name": "stdout",
     "output_type": "stream",
     "text": [
      "139898271110728\n",
      "139898270731592\n"
     ]
    }
   ],
   "source": [
    "list1 = []\n",
    "list2 = []\n",
    "\n",
    "print(id(list1))\n",
    "print(id(list2))"
   ]
  },
  {
   "cell_type": "markdown",
   "metadata": {
    "colab_type": "text",
    "id": "NY8cI1DWExFH"
   },
   "source": [
    "###Module 3 : strings"
   ]
  },
  {
   "cell_type": "markdown",
   "metadata": {
    "colab_type": "text",
    "id": "5-WfutM4GBTS"
   },
   "source": [
    "####Interesting Facts about strings in Python Part 1"
   ]
  },
  {
   "cell_type": "markdown",
   "metadata": {
    "colab_type": "text",
    "id": "vDB1Qmjbatmt"
   },
   "source": [
    "    Strings are Immutable :"
   ]
  },
  {
   "cell_type": "code",
   "execution_count": 0,
   "metadata": {
    "colab": {
     "base_uri": "https://localhost:8080/",
     "height": 243
    },
    "colab_type": "code",
    "executionInfo": {
     "elapsed": 3689,
     "status": "error",
     "timestamp": 1588575850167,
     "user": {
      "displayName": "Srijeet Chatterjee",
      "photoUrl": "https://lh3.googleusercontent.com/a-/AOh14GhvLyI2L7rMpswCMPIIHugxGS37iH6O6W9QSxh_Zw=s64",
      "userId": "01014322814526133923"
     },
     "user_tz": -330
    },
    "id": "GPyYlzjzEfLk",
    "outputId": "83924e1c-0734-4bb3-d3e8-f6df474fdc26"
   },
   "outputs": [
    {
     "name": "stdout",
     "output_type": "stream",
     "text": [
      "Geeks\n"
     ]
    },
    {
     "ename": "TypeError",
     "evalue": "ignored",
     "output_type": "error",
     "traceback": [
      "\u001b[0;31m---------------------------------------------------------------------------\u001b[0m",
      "\u001b[0;31mTypeError\u001b[0m                                 Traceback (most recent call last)",
      "\u001b[0;32m<ipython-input-1-2dccef77c3ac>\u001b[0m in \u001b[0;36m<module>\u001b[0;34m()\u001b[0m\n\u001b[1;32m      5\u001b[0m \u001b[0mprint\u001b[0m\u001b[0;34m(\u001b[0m\u001b[0ma\u001b[0m\u001b[0;34m)\u001b[0m\u001b[0;34m\u001b[0m\u001b[0;34m\u001b[0m\u001b[0m\n\u001b[1;32m      6\u001b[0m \u001b[0;34m\u001b[0m\u001b[0m\n\u001b[0;32m----> 7\u001b[0;31m \u001b[0ma\u001b[0m\u001b[0;34m[\u001b[0m\u001b[0;36m2\u001b[0m\u001b[0;34m]\u001b[0m \u001b[0;34m=\u001b[0m \u001b[0;34m'E'\u001b[0m\u001b[0;34m\u001b[0m\u001b[0;34m\u001b[0m\u001b[0m\n\u001b[0m\u001b[1;32m      8\u001b[0m \u001b[0mprint\u001b[0m\u001b[0;34m(\u001b[0m\u001b[0ma\u001b[0m\u001b[0;34m)\u001b[0m \u001b[0;31m# causes error\u001b[0m\u001b[0;34m\u001b[0m\u001b[0;34m\u001b[0m\u001b[0m\n",
      "\u001b[0;31mTypeError\u001b[0m: 'str' object does not support item assignment"
     ]
    }
   ],
   "source": [
    "# Python3 program to show that \n",
    "# string cannot be changed\n",
    "\n",
    "a = 'Geeks'\n",
    "\n",
    "# output is displayed\n",
    "print(a)\n",
    "\n",
    "a[2] = 'E'\n",
    "print(a) # causes error"
   ]
  },
  {
   "cell_type": "markdown",
   "metadata": {
    "colab_type": "text",
    "id": "07DxrHGKaztp"
   },
   "source": [
    "But this works fine :"
   ]
  },
  {
   "cell_type": "code",
   "execution_count": 0,
   "metadata": {
    "colab": {
     "base_uri": "https://localhost:8080/",
     "height": 53
    },
    "colab_type": "code",
    "executionInfo": {
     "elapsed": 3674,
     "status": "ok",
     "timestamp": 1588575850171,
     "user": {
      "displayName": "Srijeet Chatterjee",
      "photoUrl": "https://lh3.googleusercontent.com/a-/AOh14GhvLyI2L7rMpswCMPIIHugxGS37iH6O6W9QSxh_Zw=s64",
      "userId": "01014322814526133923"
     },
     "user_tz": -330
    },
    "id": "pQqJhnzjayyx",
    "outputId": "7f0ffd98-1e58-43af-8dbd-dbc3d83e7778"
   },
   "outputs": [
    {
     "name": "stdout",
     "output_type": "stream",
     "text": [
      "Geeks\n",
      "Geeksfor\n"
     ]
    }
   ],
   "source": [
    "\n",
    "# Python3 program to show that \n",
    "# a string can be appended to a string.\n",
    "\n",
    "a = 'Geeks'\n",
    "\n",
    "# output is displayed\n",
    "print(a)\n",
    "a = a + 'for'\n",
    "\n",
    "print(a) # works fine"
   ]
  },
  {
   "cell_type": "markdown",
   "metadata": {
    "colab_type": "text",
    "id": "1tmAPsc9bH14"
   },
   "source": [
    "In the second program, interpreter makes a copy of the original string and then work on it and modifies it. So the expression a = a +’for’ doesn't change string but reassigns the variable a to the new string generated by the result and drops down the previous string.\n"
   ]
  },
  {
   "cell_type": "code",
   "execution_count": 0,
   "metadata": {
    "colab": {
     "base_uri": "https://localhost:8080/",
     "height": 53
    },
    "colab_type": "code",
    "executionInfo": {
     "elapsed": 3664,
     "status": "ok",
     "timestamp": 1588575850172,
     "user": {
      "displayName": "Srijeet Chatterjee",
      "photoUrl": "https://lh3.googleusercontent.com/a-/AOh14GhvLyI2L7rMpswCMPIIHugxGS37iH6O6W9QSxh_Zw=s64",
      "userId": "01014322814526133923"
     },
     "user_tz": -330
    },
    "id": "AOCaNDYWbHKk",
    "outputId": "75655d6c-2c76-40f1-ef60-2132a369af98"
   },
   "outputs": [
    {
     "name": "stdout",
     "output_type": "stream",
     "text": [
      "140428519243424\n",
      "140428519243424\n"
     ]
    }
   ],
   "source": [
    "\n",
    "# Python3 program to show that\n",
    "# both string hold same identity\n",
    "\n",
    "string1 = \"Hello\"\n",
    "string2 = \"Hello\"\n",
    "\n",
    "print(id(string1))\n",
    "print(id(string2))"
   ]
  },
  {
   "cell_type": "markdown",
   "metadata": {
    "colab_type": "text",
    "id": "43eU0Ej6bYF6"
   },
   "source": [
    " string1 and string2 both point to same object or same location.Now if someone try to modify any one of the string results will be different."
   ]
  },
  {
   "cell_type": "code",
   "execution_count": 0,
   "metadata": {
    "colab": {
     "base_uri": "https://localhost:8080/",
     "height": 72
    },
    "colab_type": "code",
    "executionInfo": {
     "elapsed": 1414,
     "status": "ok",
     "timestamp": 1588323025869,
     "user": {
      "displayName": "Srijeet Chatterjee",
      "photoUrl": "https://lh3.googleusercontent.com/a-/AOh14GhvLyI2L7rMpswCMPIIHugxGS37iH6O6W9QSxh_Zw=s64",
      "userId": "01014322814526133923"
     },
     "user_tz": -330
    },
    "id": "NricCuKKbPnb",
    "outputId": "6836afcf-7f96-48ee-f0e2-8635e0905557"
   },
   "outputs": [
    {
     "name": "stdout",
     "output_type": "stream",
     "text": [
      "140416324034376\n",
      "HelloWorld\n",
      "140416314683632\n"
     ]
    }
   ],
   "source": [
    "# Modifying a string\n",
    "\n",
    "string1 = \"Hello\"\n",
    "\n",
    "# identity of string1\n",
    "print(id(string1))\n",
    "\n",
    "string1 += \"World\"\n",
    "print(string1)\n",
    "\n",
    "# identity of modified string1\n",
    "print(id(string1))\n"
   ]
  },
  {
   "cell_type": "markdown",
   "metadata": {
    "colab_type": "text",
    "id": "T_PdbpWebn9K"
   },
   "source": [
    "String1 is modified which contradict the fact that strings are immutable, but the identity before and after modification are different.It means a new object of the string1 is created after modification which confirms the fact that strings are immutable as no change was made in previous object of string1 rather a new one is created"
   ]
  },
  {
   "cell_type": "markdown",
   "metadata": {
    "colab_type": "text",
    "id": "3LJfa6_Wbr_E"
   },
   "source": [
    "    Three ways to create strings:"
   ]
  },
  {
   "cell_type": "markdown",
   "metadata": {
    "colab_type": "text",
    "id": "kDmOOZ8zbuPJ"
   },
   "source": [
    "Strings in Python can be created using single quotes or double quotes or a triple quotes .\n",
    "\n",
    "The single quotes and double quotes works same for the string creation.Talking about triple quotes, these are used when we have to write a string in multiple lines and printing as it is without using any escape sequence\n"
   ]
  },
  {
   "cell_type": "code",
   "execution_count": 0,
   "metadata": {
    "colab": {
     "base_uri": "https://localhost:8080/",
     "height": 144
    },
    "colab_type": "code",
    "executionInfo": {
     "elapsed": 1078,
     "status": "ok",
     "timestamp": 1588323147776,
     "user": {
      "displayName": "Srijeet Chatterjee",
      "photoUrl": "https://lh3.googleusercontent.com/a-/AOh14GhvLyI2L7rMpswCMPIIHugxGS37iH6O6W9QSxh_Zw=s64",
      "userId": "01014322814526133923"
     },
     "user_tz": -330
    },
    "id": "MICrzF-Bbf1S",
    "outputId": "1e209781-49a2-4f79-ccf3-77bff03fed55"
   },
   "outputs": [
    {
     "name": "stdout",
     "output_type": "stream",
     "text": [
      "Geeks\n",
      "for\n",
      "Geeks a portal \n",
      "for geeks\n",
      "He said, \"I'm fine.\"\n",
      "GeeksforGeeks a portal \n",
      "for geeks\n"
     ]
    }
   ],
   "source": [
    "# Python3 program to create  \n",
    "# strings in three different\n",
    "# ways and concatenate them.\n",
    "\n",
    "# string with single quotes\n",
    "a = 'Geeks'\n",
    "\n",
    "# string with double quotes\n",
    "b = \"for\"\n",
    "\n",
    "# string with triple quotes\n",
    "c = '''Geeks a portal \n",
    "for geeks'''\n",
    "\n",
    "d = '''He said, \"I'm fine.\"'''\n",
    "\n",
    "print(a)\n",
    "print(b)\n",
    "print(c)\n",
    "print(d)\n",
    "\n",
    "\n",
    "# Concatenation of strings created \n",
    "# using different quotes\n",
    "print(a + b + c) "
   ]
  },
  {
   "cell_type": "markdown",
   "metadata": {
    "colab_type": "text",
    "id": "BH4VCcAyb-2L"
   },
   "source": [
    "    Printing Single or Double Quotes :"
   ]
  },
  {
   "cell_type": "markdown",
   "metadata": {
    "colab_type": "text",
    "id": "rHL8qLH_cbMt"
   },
   "source": [
    "How to print single quote or double quote on screen? We can do that in the following two ways:\n",
    "\n",
    "    First one is to use escape character to display the additional quote.\n",
    "    The second way is by using mix quote, i.e., when we want to print single quote then using double quotes as delimiters and vice-versa.\n"
   ]
  },
  {
   "cell_type": "code",
   "execution_count": 0,
   "metadata": {
    "colab": {
     "base_uri": "https://localhost:8080/",
     "height": 90
    },
    "colab_type": "code",
    "executionInfo": {
     "elapsed": 1104,
     "status": "ok",
     "timestamp": 1588323299525,
     "user": {
      "displayName": "Srijeet Chatterjee",
      "photoUrl": "https://lh3.googleusercontent.com/a-/AOh14GhvLyI2L7rMpswCMPIIHugxGS37iH6O6W9QSxh_Zw=s64",
      "userId": "01014322814526133923"
     },
     "user_tz": -330
    },
    "id": "QRZR8XK7b9rd",
    "outputId": "acbd76b9-a2fb-4b1e-86f5-26e11f9212e9"
   },
   "outputs": [
    {
     "name": "stdout",
     "output_type": "stream",
     "text": [
      "Hi Mr Geek.\n",
      "He said, \"Welcome to GeeksforGeeks\"\n",
      "Hey so happy to be here\n",
      "Getting Geeky, \"Loving it\"\n"
     ]
    }
   ],
   "source": [
    "\n",
    "print(\"Hi Mr Geek.\")\n",
    "\n",
    "# use of escape sequence\n",
    "print(\"He said, \\\"Welcome to GeeksforGeeks\\\"\")    \n",
    "\n",
    "print('Hey so happy to be here')\n",
    "\n",
    "# use of mix quotes\n",
    "print ('Getting Geeky, \"Loving it\"')                \n"
   ]
  },
  {
   "cell_type": "markdown",
   "metadata": {
    "colab_type": "text",
    "id": "oBlQGYoKcofO"
   },
   "source": [
    "How to print escape character instead?\n",
    "If there is a requirement of printing the escape character(\\) instead,then if user mention it in a string interpreter will think of it as escape character and will not print it.In order to print the escape character user have to use escape character before '' as shown in the example.\n"
   ]
  },
  {
   "cell_type": "code",
   "execution_count": 0,
   "metadata": {
    "colab": {
     "base_uri": "https://localhost:8080/",
     "height": 35
    },
    "colab_type": "code",
    "executionInfo": {
     "elapsed": 1146,
     "status": "ok",
     "timestamp": 1588323350137,
     "user": {
      "displayName": "Srijeet Chatterjee",
      "photoUrl": "https://lh3.googleusercontent.com/a-/AOh14GhvLyI2L7rMpswCMPIIHugxGS37iH6O6W9QSxh_Zw=s64",
      "userId": "01014322814526133923"
     },
     "user_tz": -330
    },
    "id": "SMXVjMX5cit8",
    "outputId": "7db88d64-0dec-4fcc-bae9-5bc0fb3073d9"
   },
   "outputs": [
    {
     "name": "stdout",
     "output_type": "stream",
     "text": [
      " \\ is back slash \n"
     ]
    }
   ],
   "source": [
    "# Print Escape character\n",
    "print (\" \\\\ is back slash \")"
   ]
  },
  {
   "cell_type": "markdown",
   "metadata": {
    "colab_type": "text",
    "id": "D83sgmS6cxGl"
   },
   "source": [
    "####Interesting Facts about Strings in Python Set 2"
   ]
  },
  {
   "cell_type": "markdown",
   "metadata": {
    "colab_type": "text",
    "id": "GkdkIgBRdEgj"
   },
   "source": [
    "Like other programming languages, it's possible to access individual characters of a string by using array-like indexing syntax. In this we can access each and every element of string through their index number and the indexing starts from 0. Python does index out of bound checking."
   ]
  },
  {
   "cell_type": "markdown",
   "metadata": {
    "colab_type": "text",
    "id": "ODd6Ihz_dOkg"
   },
   "source": [
    "So, we can obtain the required character using syntax, \n",
    "    string_name[index_position]:\n",
    "\n",
    "    The positive index_position denotes the element from the starting(0) and the negative index shows the index from the end(-1)"
   ]
  },
  {
   "cell_type": "code",
   "execution_count": 0,
   "metadata": {
    "colab": {
     "base_uri": "https://localhost:8080/",
     "height": 262
    },
    "colab_type": "code",
    "executionInfo": {
     "elapsed": 1325,
     "status": "error",
     "timestamp": 1588323656198,
     "user": {
      "displayName": "Srijeet Chatterjee",
      "photoUrl": "https://lh3.googleusercontent.com/a-/AOh14GhvLyI2L7rMpswCMPIIHugxGS37iH6O6W9QSxh_Zw=s64",
      "userId": "01014322814526133923"
     },
     "user_tz": -330
    },
    "id": "gObGckcjcqxD",
    "outputId": "a2d078b7-b056-4b81-c3e4-dfef56faebde"
   },
   "outputs": [
    {
     "name": "stdout",
     "output_type": "stream",
     "text": [
      "e\n",
      "a\n",
      "o\n"
     ]
    },
    {
     "ename": "IndexError",
     "evalue": "ignored",
     "output_type": "error",
     "traceback": [
      "\u001b[0;31m---------------------------------------------------------------------------\u001b[0m",
      "\u001b[0;31mIndexError\u001b[0m                                Traceback (most recent call last)",
      "\u001b[0;32m<ipython-input-11-5c1833ee9e5b>\u001b[0m in \u001b[0;36m<module>\u001b[0;34m()\u001b[0m\n\u001b[1;32m     12\u001b[0m \u001b[0;34m\u001b[0m\u001b[0m\n\u001b[1;32m     13\u001b[0m \u001b[0;31m# Length of string is 10 so it is out of bound\u001b[0m\u001b[0;34m\u001b[0m\u001b[0;34m\u001b[0m\u001b[0;34m\u001b[0m\u001b[0m\n\u001b[0;32m---> 14\u001b[0;31m \u001b[0mprint\u001b[0m\u001b[0;34m(\u001b[0m\u001b[0mx\u001b[0m\u001b[0;34m[\u001b[0m\u001b[0;36m14\u001b[0m\u001b[0;34m]\u001b[0m\u001b[0;34m)\u001b[0m\u001b[0;34m\u001b[0m\u001b[0;34m\u001b[0m\u001b[0m\n\u001b[0m",
      "\u001b[0;31mIndexError\u001b[0m: string index out of range"
     ]
    }
   ],
   "source": [
    "# A python program to illustrate slicing in strings\n",
    "\n",
    "x = \"Geeks at work\"\n",
    "\n",
    "# Prints 3rd character beginning from 0\n",
    "print(x[2])\n",
    "\n",
    "# Prints 7th character\n",
    "print(x[6])  \n",
    "\n",
    "# Prints 3rd character from rear beginning from -1\n",
    "print(x[-3])\n",
    "\n",
    "# Length of string is 10 so it is out of bound\n",
    "print(x[14]) \n"
   ]
  },
  {
   "cell_type": "markdown",
   "metadata": {
    "colab_type": "text",
    "id": "BKGt4fQId9SI"
   },
   "source": [
    "    SLICING "
   ]
  },
  {
   "cell_type": "markdown",
   "metadata": {
    "colab_type": "text",
    "id": "0nISRSv9eAuP"
   },
   "source": [
    "To extract substring from the whole string then we use the syntax like\n",
    "\n",
    "string_name[beginning: end : step]\n",
    "\n",
    "    beginning represents the starting index of string\n",
    "    end denotes the end index of string which is not inclusive \n",
    "    steps denotes the distance between the two words.\n",
    "\n",
    "Note: We can also slice the string using beginning and only and steps are optional."
   ]
  },
  {
   "cell_type": "code",
   "execution_count": 0,
   "metadata": {
    "colab": {
     "base_uri": "https://localhost:8080/",
     "height": 72
    },
    "colab_type": "code",
    "executionInfo": {
     "elapsed": 972,
     "status": "ok",
     "timestamp": 1588323727653,
     "user": {
      "displayName": "Srijeet Chatterjee",
      "photoUrl": "https://lh3.googleusercontent.com/a-/AOh14GhvLyI2L7rMpswCMPIIHugxGS37iH6O6W9QSxh_Zw=s64",
      "userId": "01014322814526133923"
     },
     "user_tz": -330
    },
    "id": "PUEv_2aedWe0",
    "outputId": "513bc299-ecaa-47ef-b917-a843c4ea7968"
   },
   "outputs": [
    {
     "name": "stdout",
     "output_type": "stream",
     "text": [
      "lco\n",
      "oet\n",
      "Ge\n"
     ]
    }
   ],
   "source": [
    "# A python program to illustrate\n",
    "# print substrings of a string\n",
    "x = \"Welcome to GeeksforGeeks\"\n",
    "\n",
    "# Prints substring from 2nd to 5th character\n",
    "print (x[2:5])      \n",
    "\n",
    "# Prints substring stepping up 2nd character \n",
    "# from 4th to 10th character\n",
    "print (x[4:10:2])    \n",
    "\n",
    "# Prints 3rd character from rear from 3 to 5\n",
    "print (x[-5:-3])     "
   ]
  },
  {
   "cell_type": "markdown",
   "metadata": {
    "colab_type": "text",
    "id": "XMezvr4MeP-X"
   },
   "source": [
    "####String Methods Set 1 :"
   ]
  },
  {
   "cell_type": "markdown",
   "metadata": {
    "colab_type": "text",
    "id": "XWmPmgs5ek9q"
   },
   "source": [
    "    Find :"
   ]
  },
  {
   "cell_type": "markdown",
   "metadata": {
    "colab_type": "text",
    "id": "JOijB5kkenkX"
   },
   "source": [
    "1. find(\"string\", beg, end) :- This function is used to find the position of the substring within a string.It takes 3 arguments, substring , starting index( by default 0) and ending index( by default string length).\n",
    "\n",
    "    ```It returns \"-1 \" if string is not found in given range.\n",
    "    It returns first occurrence of string if found.\n",
    "\n",
    "2. rfind(\"string\", beg, end) :- This function has the similar working as find(), but \n",
    "\n",
    "     ```it returns the position of the last occurrence of string.```\n"
   ]
  },
  {
   "cell_type": "code",
   "execution_count": 0,
   "metadata": {
    "colab": {
     "base_uri": "https://localhost:8080/",
     "height": 53
    },
    "colab_type": "code",
    "executionInfo": {
     "elapsed": 859,
     "status": "ok",
     "timestamp": 1588323951964,
     "user": {
      "displayName": "Srijeet Chatterjee",
      "photoUrl": "https://lh3.googleusercontent.com/a-/AOh14GhvLyI2L7rMpswCMPIIHugxGS37iH6O6W9QSxh_Zw=s64",
      "userId": "01014322814526133923"
     },
     "user_tz": -330
    },
    "id": "Ks70-_oGeHlh",
    "outputId": "334c7e43-d74b-4c28-b957-f1c510852142"
   },
   "outputs": [
    {
     "name": "stdout",
     "output_type": "stream",
     "text": [
      "The first occurrence of str2 is at : 8\n",
      "The last occurrence of str2 is at : 21\n"
     ]
    }
   ],
   "source": [
    "# Python code to demonstrate working of \n",
    "# find() and rfind()\n",
    "str = \"geeksforgeeks is for geeks\"\n",
    "str2 = \"geeks\"\n",
    "\n",
    "# using find() to find first occurrence of str2\n",
    "# returns 8\n",
    "print (\"The first occurrence of str2 is at : \", end=\"\")\n",
    "print (str.find( str2, 4) )\n",
    "\n",
    "# using rfind() to find last occurrence of str2\n",
    "# returns 21\n",
    "print (\"The last occurrence of str2 is at : \", end=\"\")\n",
    "print ( str.rfind( str2, 4) )\n"
   ]
  },
  {
   "cell_type": "markdown",
   "metadata": {
    "colab_type": "text",
    "id": "klHUvbOxfNIg"
   },
   "source": [
    "    str.startswith(\"sub_string\", beg, end) :- \n",
    "\n",
    "    The purpose of this function is to return true if the function begins with mentioned string(prefix) else return false.```"
   ]
  },
  {
   "cell_type": "markdown",
   "metadata": {
    "colab_type": "text",
    "id": "k-JdUDHxfksM"
   },
   "source": [
    "    str.endswith(\"sub_string\", beg, end) :- \n",
    "    \n",
    "    The purpose of this function is to return true if the function ends with mentioned string(suffix) else return false."
   ]
  },
  {
   "cell_type": "code",
   "execution_count": 0,
   "metadata": {
    "colab": {
     "base_uri": "https://localhost:8080/",
     "height": 53
    },
    "colab_type": "code",
    "executionInfo": {
     "elapsed": 1181,
     "status": "ok",
     "timestamp": 1588324158274,
     "user": {
      "displayName": "Srijeet Chatterjee",
      "photoUrl": "https://lh3.googleusercontent.com/a-/AOh14GhvLyI2L7rMpswCMPIIHugxGS37iH6O6W9QSxh_Zw=s64",
      "userId": "01014322814526133923"
     },
     "user_tz": -330
    },
    "id": "t8AFjHMofCFm",
    "outputId": "53ad7b33-61e4-4752-b9e8-ef250668f2dc"
   },
   "outputs": [
    {
     "name": "stdout",
     "output_type": "stream",
     "text": [
      "str1 begins with : geeks\n",
      "str1 does not end with : geeks\n"
     ]
    }
   ],
   "source": [
    "\n",
    "# Python code to demonstrate working of \n",
    "# startswith() and endswith()\n",
    "\n",
    "str = \"geeks\"\n",
    "str1 = \"geeksforgeeksportal\"\n",
    "\n",
    "# using startswith() to find if str \n",
    "# starts with str1\n",
    "if str1.startswith(str):\n",
    "        print (\"str1 begins with : \" + str)\n",
    "else : print (\"str1 does not begin with : \"+ str)\n",
    "\n",
    "# using endswith() to find \n",
    "# if str ends with str1\n",
    "if str1.endswith(str):\n",
    "    print (\"str1 ends with : \" + str)\n",
    "else : print (\"str1 does not end with : \" + str)\n",
    "\n"
   ]
  },
  {
   "cell_type": "markdown",
   "metadata": {
    "colab_type": "text",
    "id": "zHr9nUNMf_oc"
   },
   "source": [
    "    str.islower(  ) &  str.isupper(  ) :\n",
    "\n",
    "    islower(\"string\") :- This function returns true if all the letters in the string are lower cased, otherwise false.\n",
    "\n",
    "    isupper(\"string\") :- This function returns true if all the letters in the string are upper cased, otherwise false.\n"
   ]
  },
  {
   "cell_type": "code",
   "execution_count": 0,
   "metadata": {
    "colab": {
     "base_uri": "https://localhost:8080/",
     "height": 53
    },
    "colab_type": "code",
    "executionInfo": {
     "elapsed": 1132,
     "status": "ok",
     "timestamp": 1588324243254,
     "user": {
      "displayName": "Srijeet Chatterjee",
      "photoUrl": "https://lh3.googleusercontent.com/a-/AOh14GhvLyI2L7rMpswCMPIIHugxGS37iH6O6W9QSxh_Zw=s64",
      "userId": "01014322814526133923"
     },
     "user_tz": -330
    },
    "id": "gcrjmeCDft96",
    "outputId": "9165065e-b7f5-4487-94ca-cd8f19adef47"
   },
   "outputs": [
    {
     "name": "stdout",
     "output_type": "stream",
     "text": [
      "All characters in str are not upper cased\n",
      "All characters in str1 are lower cased\n"
     ]
    }
   ],
   "source": [
    "# Python code to demonstrate working of \n",
    "# isupper() and islower()\n",
    "str = \"GeeksforGeeks\"\n",
    "str1 = \"geeks\"\n",
    "\n",
    "# checking if all characters in str are upper cased\n",
    "if str.isupper() :\n",
    "       print (\"All characters in str are upper cased\")\n",
    "else : print (\"All characters in str are not upper cased\")\n",
    "\n",
    "# checking if all characters in str1 are lower cased\n",
    "if str1.islower() :\n",
    "       print (\"All characters in str1 are lower cased\")\n",
    "else : print (\"All characters in str1 are not lower cased\")"
   ]
  },
  {
   "cell_type": "markdown",
   "metadata": {
    "colab_type": "text",
    "id": "vy5ePjjBgOou"
   },
   "source": [
    "    str.lower() &  str.upper()& str.swapcase() & str.title():\n",
    "\n",
    "    lower() :- This function returns the new string with all the letters converted into its lower case.\n",
    "\n",
    "    upper() :- This function returns the new string with all the letters converted into its upper case.\n",
    "\n",
    "    swapcase() :- This function is used to swap the cases of string i.e upper case is converted to lower case and vice versa.\n",
    "\n",
    "    title() :- This function converts the string to its title case i.e the first letter of every word of string is upper cased and else all are lower cased."
   ]
  },
  {
   "cell_type": "code",
   "execution_count": 0,
   "metadata": {
    "colab": {
     "base_uri": "https://localhost:8080/",
     "height": 90
    },
    "colab_type": "code",
    "executionInfo": {
     "elapsed": 1237,
     "status": "ok",
     "timestamp": 1588324374381,
     "user": {
      "displayName": "Srijeet Chatterjee",
      "photoUrl": "https://lh3.googleusercontent.com/a-/AOh14GhvLyI2L7rMpswCMPIIHugxGS37iH6O6W9QSxh_Zw=s64",
      "userId": "01014322814526133923"
     },
     "user_tz": -330
    },
    "id": "wwxfkTTOgJI8",
    "outputId": "309f931f-1db0-429b-9d23-0bd61fa78b01"
   },
   "outputs": [
    {
     "name": "stdout",
     "output_type": "stream",
     "text": [
      " The lower case converted string is : geeksforgeeks is for geeks\n",
      " The upper case converted string is : GEEKSFORGEEKS IS FOR GEEKS\n",
      " The swap case converted string is : gEEKSfORgEEKS IS FoR gEEkS\n",
      " The title case converted string is : Geeksforgeeks Is For Geeks\n"
     ]
    }
   ],
   "source": [
    "\n",
    "# Python code to demonstrate working of \n",
    "# upper(), lower(), swapcase() and title()\n",
    "str = \"GeeksForGeeks is fOr GeeKs\"\n",
    "\n",
    "# Coverting string into its lower case\n",
    "str1 = str.lower();\n",
    "print (\" The lower case converted string is : \" + str1)\n",
    "\n",
    "# Coverting string into its upper case\n",
    "str2 = str.upper();\n",
    "print (\" The upper case converted string is : \" + str2)\n",
    "\n",
    "# Coverting string into its swapped case\n",
    "str3 = str.swapcase();\n",
    "print (\" The swap case converted string is : \" + str3)\n",
    "\n",
    "# Coverting string into its title case\n",
    "str4 = str.title();\n",
    "print (\" The title case converted string is : \" + str4)\n"
   ]
  },
  {
   "cell_type": "markdown",
   "metadata": {
    "colab_type": "text",
    "id": "uVxviVIkgvcf"
   },
   "source": [
    "#### String Methods Set 2:"
   ]
  },
  {
   "cell_type": "markdown",
   "metadata": {
    "colab_type": "text",
    "id": "sQUvwnKQhIX9"
   },
   "source": [
    "      1. len(str) :- \n",
    "      \n",
    "      This function returns the length of the string.\n",
    "\n",
    "      2. str.count(\"sub_string\", beg, end) :- \n",
    "\n",
    "      This function counts the occurrence of mentioned substring in \n",
    "      whole string. This function takes 3 arguments, substring, \n",
    "      beginning position( by default 0) and end position(by default \n",
    "      string length). "
   ]
  },
  {
   "cell_type": "code",
   "execution_count": 0,
   "metadata": {
    "colab": {
     "base_uri": "https://localhost:8080/",
     "height": 53
    },
    "colab_type": "code",
    "executionInfo": {
     "elapsed": 1325,
     "status": "ok",
     "timestamp": 1588324550483,
     "user": {
      "displayName": "Srijeet Chatterjee",
      "photoUrl": "https://lh3.googleusercontent.com/a-/AOh14GhvLyI2L7rMpswCMPIIHugxGS37iH6O6W9QSxh_Zw=s64",
      "userId": "01014322814526133923"
     },
     "user_tz": -330
    },
    "id": "YtpOP3xtgpHj",
    "outputId": "b48f97da-1920-44c0-8ab0-a91f32ac4532"
   },
   "outputs": [
    {
     "name": "stdout",
     "output_type": "stream",
     "text": [
      " The length of string is :  26\n",
      " Number of appearance of geeks is : 2\n"
     ]
    }
   ],
   "source": [
    "\n",
    "# Python code to demonstrate working of \n",
    "# len() and count()\n",
    "str = \"geeksforgeeks is for geeks\"\n",
    " \n",
    "# Printing length of string using len()\n",
    "print (\" The length of string is : \", len(str));\n",
    "\n",
    "# Printing occurrence of \"geeks\" in string\n",
    "# Prints 2 as it only checks till 15th element\n",
    "print (\" Number of appearance of \"\"geeks\"\" is : \",end=\"\")\n",
    "print (str.count(\"geeks\",0,15))\n"
   ]
  },
  {
   "cell_type": "markdown",
   "metadata": {
    "colab_type": "text",
    "id": "pE17HrRhhU4-"
   },
   "source": [
    "    3. str.center(200,'-') :- \n",
    "\n",
    "    This function is used to surround the string with a character repeated \n",
    "    both sides of string multiple times. By default the character is a \n",
    "    space. Takes 2 arguments, length of string and the character.\n",
    "\n",
    "    4. str.ljust(20 , '-') :- \n",
    "\n",
    "    This function returns the original string shifted to left that has a \n",
    "    character at its right. It left adjusts the string. By default the \n",
    "    character is space. It also takes two arguments, length of string and \n",
    "    the character.\n",
    "\n",
    "    5. str.rjust(20,'-') :- \n",
    "    \n",
    "    This function returns the original string shifted to right that has \n",
    "    character at its left. It right adjusts the string. By default the \n",
    "    character is space. It also takes two arguments, length of string and \n",
    "    the character."
   ]
  },
  {
   "cell_type": "code",
   "execution_count": 0,
   "metadata": {
    "colab": {
     "base_uri": "https://localhost:8080/",
     "height": 72
    },
    "colab_type": "code",
    "executionInfo": {
     "elapsed": 1131,
     "status": "ok",
     "timestamp": 1588324885102,
     "user": {
      "displayName": "Srijeet Chatterjee",
      "photoUrl": "https://lh3.googleusercontent.com/a-/AOh14GhvLyI2L7rMpswCMPIIHugxGS37iH6O6W9QSxh_Zw=s64",
      "userId": "01014322814526133923"
     },
     "user_tz": -330
    },
    "id": "W8qqmBxAhUGr",
    "outputId": "fcdabc2d-6635-45a7-d57f-b33b5d32fdd9"
   },
   "outputs": [
    {
     "name": "stdout",
     "output_type": "stream",
     "text": [
      "The string after centering with '-' is : ---geeksforgeeks----\n",
      "The string after ljust is : geeksforgeeks-------\n",
      "The string after rjust is :        geeksforgeeks\n"
     ]
    }
   ],
   "source": [
    "# Python code to demonstrate working of \n",
    "# center(), ljust() and rjust()\n",
    "str = \"geeksforgeeks\"\n",
    " \n",
    "# Printing the string after centering with '-'\n",
    "print (\"The string after centering with '-' is : \",end=\"\")\n",
    "print ( str.center(20,'-'))\n",
    "\n",
    "# Printing the string after ljust()\n",
    "print (\"The string after ljust is : \",end=\"\")\n",
    "print ( str.ljust(20,'-'))\n",
    "\n",
    "# Printing the string after rjust()\n",
    "print (\"The string after rjust is : \",end=\"\")\n",
    "print ( str.rjust(20,' '))"
   ]
  },
  {
   "cell_type": "markdown",
   "metadata": {
    "colab_type": "text",
    "id": "0RiLuk8Mi5ZD"
   },
   "source": [
    "\n",
    "    6. str.isalpha() :-  True/False\n",
    "\n",
    "    This function returns true when all the characters in the string are\n",
    "    alphabets else returns false.\n",
    "\n",
    "    7. str.isalnum() :-  True/False\n",
    "    \n",
    "    This function returns true when all the characters in the string are\n",
    "    combination of numbers and/or alphabets(i.e. alphanumeric) else returns\n",
    "    false.\n",
    "\n",
    "    8. str.isspace() :-  True/False\n",
    "    \n",
    "    This function returns true when all the characters in the string are spaces\n",
    "    else returns false"
   ]
  },
  {
   "cell_type": "code",
   "execution_count": 0,
   "metadata": {
    "colab": {
     "base_uri": "https://localhost:8080/",
     "height": 72
    },
    "colab_type": "code",
    "executionInfo": {
     "elapsed": 1133,
     "status": "ok",
     "timestamp": 1588325136574,
     "user": {
      "displayName": "Srijeet Chatterjee",
      "photoUrl": "https://lh3.googleusercontent.com/a-/AOh14GhvLyI2L7rMpswCMPIIHugxGS37iH6O6W9QSxh_Zw=s64",
      "userId": "01014322814526133923"
     },
     "user_tz": -330
    },
    "id": "ayPpLM4LiTG2",
    "outputId": "f2434f94-8014-462e-92de-cf6c11a78002"
   },
   "outputs": [
    {
     "name": "stdout",
     "output_type": "stream",
     "text": [
      "All characters are alphabets in str\n",
      "All characters are alphanumeric in str1\n",
      "All characters are not spaces in str1\n"
     ]
    }
   ],
   "source": [
    "# Python code to demonstrate working of \n",
    "# isalpha(), isalnum(), isspace()\n",
    "str = \"geeksforgeeks\"\n",
    "str1 = \"12dr3\"\n",
    " \n",
    "# Checking if str has all alphabets \n",
    "if (str.isalpha()):\n",
    "       print (\"All characters are alphabets in str\")\n",
    "else : print (\"All characters are not alphabets in str\")\n",
    "\n",
    "# Checking if str1 has all alphanumeric\n",
    "if (str1.isalnum()):\n",
    "       print (\"All characters are alphanumeric in str1\")\n",
    "else : print (\"All characters are not alphanumeric in str1\")\n",
    "\n",
    "# Checking if str1 has all spaces\n",
    "if (str1.isspace()):\n",
    "       print (\"All characters are spaces in str1\")\n",
    "else : print (\"All characters are not spaces in str1\")"
   ]
  },
  {
   "cell_type": "markdown",
   "metadata": {
    "colab_type": "text",
    "id": "KqcjIMcJjm_4"
   },
   "source": [
    "     9. '-'.join(iterable_with_string_elements) :- \n",
    "     \n",
    "     This function is used to join a sequence of strings mentioned in its\n",
    "     arguments with the string."
   ]
  },
  {
   "cell_type": "code",
   "execution_count": 0,
   "metadata": {
    "colab": {
     "base_uri": "https://localhost:8080/",
     "height": 53
    },
    "colab_type": "code",
    "executionInfo": {
     "elapsed": 1204,
     "status": "ok",
     "timestamp": 1588325289566,
     "user": {
      "displayName": "Srijeet Chatterjee",
      "photoUrl": "https://lh3.googleusercontent.com/a-/AOh14GhvLyI2L7rMpswCMPIIHugxGS37iH6O6W9QSxh_Zw=s64",
      "userId": "01014322814526133923"
     },
     "user_tz": -330
    },
    "id": "pf51LdGIjCkq",
    "outputId": "c9db46df-0097-4f08-8ec4-06b6d8136e73"
   },
   "outputs": [
    {
     "name": "stdout",
     "output_type": "stream",
     "text": [
      "The string after joining is : geeks_for_geeks\n",
      "GEEKS_FOR_GEEKS\n"
     ]
    }
   ],
   "source": [
    "# Python code to demonstrate working of \n",
    "# join()\n",
    "str = \"_\"\n",
    "str1 = [\"geeks\", \"for\", \"geeks\" ]\n",
    "str2 = (\"GEEKS\",\"FOR\",\"GEEKS\")\n",
    "\n",
    "# using join() to join sequence str1 with str\n",
    "print (\"The string after joining is : \", end=\"\")\n",
    "print ( str.join(str1))\n",
    "print ( str.join(str2))"
   ]
  },
  {
   "cell_type": "markdown",
   "metadata": {
    "colab_type": "text",
    "id": "gSczBg9kkO8y"
   },
   "source": [
    "####String Methods Set 3"
   ]
  },
  {
   "cell_type": "markdown",
   "metadata": {
    "colab_type": "text",
    "id": "1fmUJvNI2xtK"
   },
   "source": [
    "     1. str.strip(' ') :- \n",
    "     \n",
    "     This method is used to delete all the leading and trailing characters\n",
    "     mentioned in its argument.\n",
    "\n",
    "     2. str.lstrip('-') :- \n",
    "     \n",
    "     This method is used to delete all the leading characters mentioned in its\n",
    "     argument.\n",
    "\n",
    "     3. str.rstrip('-') :- \n",
    "     \n",
    "     This method is used to delete all the trailing characters mentioned in \n",
    "     its argument."
   ]
  },
  {
   "cell_type": "code",
   "execution_count": 0,
   "metadata": {
    "colab": {
     "base_uri": "https://localhost:8080/",
     "height": 72
    },
    "colab_type": "code",
    "executionInfo": {
     "elapsed": 1256,
     "status": "ok",
     "timestamp": 1589102033180,
     "user": {
      "displayName": "Srijeet Chatterjee",
      "photoUrl": "https://lh3.googleusercontent.com/a-/AOh14GhvLyI2L7rMpswCMPIIHugxGS37iH6O6W9QSxh_Zw=s64",
      "userId": "01014322814526133923"
     },
     "user_tz": -330
    },
    "id": "IfDbwplt2xEX",
    "outputId": "06ead1d9-1a32-4751-956f-7b6d3dc76c1c"
   },
   "outputs": [
    {
     "name": "stdout",
     "output_type": "stream",
     "text": [
      " String after stripping all '-' is : geeksforgeeks\n",
      " String after stripping all leading '-' is : geeksforgeeks---\n",
      " String after stripping all trailing '-' is : ---geeksforgeeks\n"
     ]
    }
   ],
   "source": [
    "# Python code to demonstrate working of \n",
    "# strip(), lstrip() and rstrip()\n",
    "str = \"---geeksforgeeks---\"\n",
    "\n",
    "# using strip() to delete all '-'\n",
    "print ( \" String after stripping all '-' is : \", end=\"\")\n",
    "print ( str.strip('-') )\n",
    "\n",
    "# using lstrip() to delete all trailing '-'\n",
    "print ( \" String after stripping all leading '-' is : \", end=\"\")\n",
    "print ( str.lstrip('-') )\n",
    "\n",
    "# using rstrip() to delete all leading '-'\n",
    "print ( \" String after stripping all trailing '-' is : \", end=\"\")\n",
    "print ( str.rstrip('-') )"
   ]
  },
  {
   "cell_type": "markdown",
   "metadata": {
    "colab_type": "text",
    "id": "XnJDB51P3IzG"
   },
   "source": [
    "    4. min(str) :- \n",
    "    \n",
    "    This function returns the minimum value alphabet from string.\n",
    "\n",
    "    5. max(str) :- \n",
    "    \n",
    "    This function returns the maximum value alphabet from string.\n"
   ]
  },
  {
   "cell_type": "code",
   "execution_count": 0,
   "metadata": {
    "colab": {
     "base_uri": "https://localhost:8080/",
     "height": 53
    },
    "colab_type": "code",
    "executionInfo": {
     "elapsed": 1030,
     "status": "ok",
     "timestamp": 1589102100357,
     "user": {
      "displayName": "Srijeet Chatterjee",
      "photoUrl": "https://lh3.googleusercontent.com/a-/AOh14GhvLyI2L7rMpswCMPIIHugxGS37iH6O6W9QSxh_Zw=s64",
      "userId": "01014322814526133923"
     },
     "user_tz": -330
    },
    "id": "JKCdxbFF3Zoy",
    "outputId": "39de3dac-7b2f-4d20-ed2a-6cf0a1b8ad13"
   },
   "outputs": [
    {
     "name": "stdout",
     "output_type": "stream",
     "text": [
      "The minimum value character is : e\n",
      "The maximum value character is : s\n"
     ]
    }
   ],
   "source": [
    "# Python code to demonstrate working of \n",
    "# min() and max()\n",
    "str = \"geeksforgeeks\"\n",
    "\n",
    "# using min() to print the smallest character\n",
    "# prints 'e'\n",
    "print (\"The minimum value character is : \" + min(str))\n",
    "\n",
    "# using max() to print the largest character\n",
    "# prints 's'\n",
    "print (\"The maximum value character is : \" + max(str))"
   ]
  },
  {
   "cell_type": "markdown",
   "metadata": {
    "colab_type": "text",
    "id": "mlIbGylk3cnI"
   },
   "source": [
    "    \n",
    "    6. <str>.maketrans(str1,str2) : Returns mapping , \n",
    "    \n",
    "    **Note** : Here str is str object not any other string variable.\n",
    "    Because in Python3, maketrans is a static method of the str type.\n",
    "    \n",
    "    It is used to map the contents of string 1 with string 2 with respective\n",
    "    indices to be translated later using translate().\n",
    "    \n",
    "    mapping  = maketrans(str1,str2)\n",
    "    \n",
    "    7. str.translate(mapping) :\n",
    "    \n",
    "    This is used to swap the string elements mapped with the help of maketrans()."
   ]
  },
  {
   "cell_type": "code",
   "execution_count": 0,
   "metadata": {
    "colab": {
     "base_uri": "https://localhost:8080/",
     "height": 53
    },
    "colab_type": "code",
    "executionInfo": {
     "elapsed": 1206,
     "status": "ok",
     "timestamp": 1589102710587,
     "user": {
      "displayName": "Srijeet Chatterjee",
      "photoUrl": "https://lh3.googleusercontent.com/a-/AOh14GhvLyI2L7rMpswCMPIIHugxGS37iH6O6W9QSxh_Zw=s64",
      "userId": "01014322814526133923"
     },
     "user_tz": -330
    },
    "id": "nUaKcS8k4D7H",
    "outputId": "51c6678e-0701-4731-c3a5-a9512ad4a099"
   },
   "outputs": [
    {
     "name": "stdout",
     "output_type": "stream",
     "text": [
      "The string after translation using mapped elements is : \n",
      "aeeksbcraeeks\n"
     ]
    }
   ],
   "source": [
    "# Python code to demonstrate working of \n",
    "# maketrans() and translate()\n",
    "\n",
    "mystr = \"geeksforgeeks\"\n",
    "\n",
    "str1 = \"gfo\"\n",
    "str2 = \"abc\"\n",
    "\n",
    "# using maktrans() to map elements of str2 with str1\n",
    "mapped = str.maketrans( str1, str2 )\n",
    "\n",
    "# using translate() to translate using the mapping\n",
    "print(\"The string after translation using mapped elements is : \")\n",
    "print(mystr.translate(mapped))"
   ]
  },
  {
   "cell_type": "markdown",
   "metadata": {
    "colab_type": "text",
    "id": "Tyy1kar44BLF"
   },
   "source": [
    "    8. str.replace(to_replace_sub_str , new_sub_str , 2) :- \n",
    "    \n",
    "    This function is used to replace the substring with a new substring in the\n",
    "    string. This function has 3 arguments. The string to replace, new string\n",
    "    which would replace and max value denoting the limit to replace action\n",
    "    ( by default unlimited ). "
   ]
  },
  {
   "cell_type": "code",
   "execution_count": 0,
   "metadata": {
    "colab": {
     "base_uri": "https://localhost:8080/",
     "height": 35
    },
    "colab_type": "code",
    "executionInfo": {
     "elapsed": 1254,
     "status": "ok",
     "timestamp": 1589102501483,
     "user": {
      "displayName": "Srijeet Chatterjee",
      "photoUrl": "https://lh3.googleusercontent.com/a-/AOh14GhvLyI2L7rMpswCMPIIHugxGS37iH6O6W9QSxh_Zw=s64",
      "userId": "01014322814526133923"
     },
     "user_tz": -330
    },
    "id": "WaAABEZY4pPj",
    "outputId": "aaf7a3d4-3731-40d0-8395-d0a7e35aa26d"
   },
   "outputs": [
    {
     "name": "stdout",
     "output_type": "stream",
     "text": [
      "The string after replacing strings is : geeksforgeeks is for nerds\n"
     ]
    }
   ],
   "source": [
    "# Python code to demonstrate working of \n",
    "# replace()\n",
    "\n",
    "mystr = \"nerdsfornerds is for nerds\"\n",
    "\n",
    "str1 = \"nerds\"\n",
    "str2 = \"geeks\"\n",
    "\n",
    "# using replace() to replace str2 with str1 in str\n",
    "# only changes 2 occurrences \n",
    "print (\"The string after replacing strings is : \", end=\"\")\n",
    "print (mystr.replace( str1, str2, 2)) \n"
   ]
  },
  {
   "cell_type": "markdown",
   "metadata": {
    "colab_type": "text",
    "id": "Rq2FRGMo5G5q"
   },
   "source": [
    "     9. str.expandtabs(5) :-  replaces \\t with length 5 long space\n",
    "     \n",
    "     It is used to replace all tab characters(“\\t”) with whitespace or simply\n",
    "     spaces using the given tab size, which is optional to supply."
   ]
  },
  {
   "cell_type": "code",
   "execution_count": 0,
   "metadata": {
    "colab": {
     "base_uri": "https://localhost:8080/",
     "height": 72
    },
    "colab_type": "code",
    "executionInfo": {
     "elapsed": 939,
     "status": "ok",
     "timestamp": 1589102982310,
     "user": {
      "displayName": "Srijeet Chatterjee",
      "photoUrl": "https://lh3.googleusercontent.com/a-/AOh14GhvLyI2L7rMpswCMPIIHugxGS37iH6O6W9QSxh_Zw=s64",
      "userId": "01014322814526133923"
     },
     "user_tz": -330
    },
    "id": "EFnGKmTc5Sb5",
    "outputId": "bcfe7df6-4fef-4c08-d8f1-d4723edabd2a"
   },
   "outputs": [
    {
     "name": "stdout",
     "output_type": "stream",
     "text": [
      "GEEKS   FOR     GEEKS\n",
      "GEEKS                                   FOR                                     GEEKS\n",
      "GEEKS     FOR  GEEKS\n"
     ]
    }
   ],
   "source": [
    "# Python code to illustrate expandtabs()\n",
    "string = 'GEEKS\\tFOR\\tGEEKS'\n",
    "\n",
    "# No parameters, by default size is 8\n",
    "print (string.expandtabs())\n",
    "\n",
    "# tab size taken as 2\n",
    "print(string.expandtabs(40))\n",
    "\n",
    "# tab size taken as 5\n",
    "print(string.expandtabs(5))"
   ]
  },
  {
   "cell_type": "markdown",
   "metadata": {
    "colab_type": "text",
    "id": "pEkqVoVY7Bfu"
   },
   "source": [
    "#### Python | Program to convert String to a List "
   ]
  },
  {
   "cell_type": "markdown",
   "metadata": {
    "colab_type": "text",
    "id": "ZEpJWOWQ7FPT"
   },
   "source": [
    "In this program, we will try to convert a given string to a list, where spaces or any other special characters, according to the users choice, are encountered. \n",
    "\n",
    "    To do this we use the split() method.\n",
    "    \n",
    "    Syntax:\n",
    "    string.split(\"delimiter\")\n",
    "\n",
    "```\n",
    "\n",
    "Examples:\n",
    "\n",
    "Input : \"Geeks for Geeks\"\n",
    "Output : ['Geeks', 'for', 'Geeks']\n",
    "\n",
    "Input : \"Geeks-for-Geeks\"\n",
    "Output : ['Geeks', 'for', 'Geeks']\n",
    "\n",
    "```"
   ]
  },
  {
   "cell_type": "markdown",
   "metadata": {
    "colab_type": "text",
    "id": "i41VC1AJ7S10"
   },
   "source": [
    "The split method is used to split the strings and store them in the list. The built-in method returns a list of the words in the string, using the \"delimiter\" as the delimiter string. If a delimiter is not specified or is None, a different splitting algorithm is applied: runs of consecutive whitespace are regarded as a single separator, and the result will contain no empty strings at the start or end if the string has leading or trailing whitespace. "
   ]
  },
  {
   "cell_type": "code",
   "execution_count": 0,
   "metadata": {
    "colab": {
     "base_uri": "https://localhost:8080/",
     "height": 35
    },
    "colab_type": "code",
    "executionInfo": {
     "elapsed": 1284,
     "status": "ok",
     "timestamp": 1589103130934,
     "user": {
      "displayName": "Srijeet Chatterjee",
      "photoUrl": "https://lh3.googleusercontent.com/a-/AOh14GhvLyI2L7rMpswCMPIIHugxGS37iH6O6W9QSxh_Zw=s64",
      "userId": "01014322814526133923"
     },
     "user_tz": -330
    },
    "id": "kyWvM0Vo7UQQ",
    "outputId": "98df09cf-0d57-455c-a881-80ca1f909657"
   },
   "outputs": [
    {
     "name": "stdout",
     "output_type": "stream",
     "text": [
      "['Geeks', 'for', 'Geeks']\n"
     ]
    }
   ],
   "source": [
    "# Python code to convert string to list\n",
    "\n",
    "def Convert(string):\n",
    "    li = list(string.split(\" \"))\n",
    "    return li\n",
    "\n",
    "# Driver code    \n",
    "str1 = \"Geeks for Geeks\"\n",
    "print(Convert(str1))"
   ]
  },
  {
   "cell_type": "code",
   "execution_count": 0,
   "metadata": {
    "colab": {
     "base_uri": "https://localhost:8080/",
     "height": 35
    },
    "colab_type": "code",
    "executionInfo": {
     "elapsed": 1250,
     "status": "ok",
     "timestamp": 1589103142375,
     "user": {
      "displayName": "Srijeet Chatterjee",
      "photoUrl": "https://lh3.googleusercontent.com/a-/AOh14GhvLyI2L7rMpswCMPIIHugxGS37iH6O6W9QSxh_Zw=s64",
      "userId": "01014322814526133923"
     },
     "user_tz": -330
    },
    "id": "FiFtKh6U7ZjW",
    "outputId": "43be32bb-2d68-4094-a79e-b01cb8dc899a"
   },
   "outputs": [
    {
     "name": "stdout",
     "output_type": "stream",
     "text": [
      "['Geeks', 'for', 'Geeks']\n"
     ]
    }
   ],
   "source": [
    "# Python code to convert string to list\n",
    "def Convert(string):\n",
    "    li = list(string.split(\"-\"))\n",
    "    return li\n",
    "\n",
    "# Driver code    \n",
    "str1 = \"Geeks-for-Geeks\"\n",
    "print(Convert(str1))"
   ]
  },
  {
   "cell_type": "markdown",
   "metadata": {
    "colab_type": "text",
    "id": "vjEFKQU_7a30"
   },
   "source": [
    "####Python | Check for URL in a string :"
   ]
  },
  {
   "cell_type": "markdown",
   "metadata": {
    "colab_type": "text",
    "id": "s11xeIa47g_u"
   },
   "source": [
    "    Prerequisite : Pattern matching with Regular Expression\n",
    "\n",
    "    In this article, we will need to accept a string and we need to check if\n",
    "    the string contains any URL in it. If the URL is present in the string, we\n",
    "    will say URL's been found or not and print the respective URL present in\n",
    "    the string. We will use the concept of Regular Expression of Python to \n",
    "    solve the problem.\n",
    "\n",
    "```\n",
    "Examples:\n",
    "\n",
    "Input : \n",
    "'My Profile:https://auth.geeksforgeeks.org/user/Chinmoy%20Lenka/articles in the portal of http://www.geeksforgeeks.org/'\n",
    "\n",
    "Output :\n",
    "['https://auth.geeksforgeeks.org/user/Chinmoy%20Lenka/articles', 'http://www.geeksforgeeks.org/']\n",
    "\n",
    "Input : \n",
    "'I am a blogger at https://geeksforgeeks.org'\n",
    "\n",
    "Output : \n",
    "['https://geeksforgeeks.org']\n",
    "```"
   ]
  },
  {
   "cell_type": "markdown",
   "metadata": {
    "colab_type": "text",
    "id": "wPu28F-57hYq"
   },
   "source": [
    "To find the URLs in a given string we have used the \n",
    "\n",
    "    findall() function from the regular expression module of Python. \n",
    "\n",
    "This return all non-overlapping matches of pattern in string, as a list of strings. The string is scanned left-to-right, and matches are returned in the order found."
   ]
  },
  {
   "cell_type": "code",
   "execution_count": 0,
   "metadata": {
    "colab": {
     "base_uri": "https://localhost:8080/",
     "height": 35
    },
    "colab_type": "code",
    "executionInfo": {
     "elapsed": 881,
     "status": "ok",
     "timestamp": 1589103463687,
     "user": {
      "displayName": "Srijeet Chatterjee",
      "photoUrl": "https://lh3.googleusercontent.com/a-/AOh14GhvLyI2L7rMpswCMPIIHugxGS37iH6O6W9QSxh_Zw=s64",
      "userId": "01014322814526133923"
     },
     "user_tz": -330
    },
    "id": "ZKqG1Mbr7hp6",
    "outputId": "e8914571-5d82-4f19-820a-5e8f45ead34d"
   },
   "outputs": [
    {
     "name": "stdout",
     "output_type": "stream",
     "text": [
      "Urls:  ['https://auth.geeksforgeeks.org/user/Chinmoy%20Lenka/articles in the portal of http://www.geeksforgeeks.org/']\n"
     ]
    }
   ],
   "source": [
    "# Python code to find the URL from an input string\n",
    "# Using the regular expression\n",
    "import re\n",
    "\n",
    "def Find(string):\n",
    "    # findall() has been used \n",
    "    # with valid conditions for urls in string\n",
    "    url = re.findall('http[s]?://(?:[a-zA-Z]|[0-9]|[$-_@.&+]|[!*\\(\\), ]|(?:%[0-9a-fA-F][0-9a-fA-F]))+', string)\n",
    "    return url\n",
    "    \n",
    "# Driver Code\n",
    "string = 'My Profile: https://auth.geeksforgeeks.org/user/Chinmoy%20Lenka/articles in the portal of http://www.geeksforgeeks.org/'\n",
    "\n",
    "print(\"Urls: \", Find(string))\n"
   ]
  },
  {
   "cell_type": "markdown",
   "metadata": {
    "colab_type": "text",
    "id": "W3IVzKaP9Oq3"
   },
   "source": [
    "####Python String :"
   ]
  },
  {
   "cell_type": "markdown",
   "metadata": {
    "colab_type": "text",
    "id": "sTr9ZjX69RVt"
   },
   "source": [
    "In Python, Strings are arrays of bytes representing Unicode characters. However, Python does not have a character data type, a single character is simply a string with a length of 1. Square brackets can be used to access elements of the string."
   ]
  },
  {
   "cell_type": "markdown",
   "metadata": {
    "colab_type": "text",
    "id": "VJOQogOUaXFn"
   },
   "source": [
    "    Creating a String\n",
    "Strings in Python can be created using single quotes or double quotes or even triple quotes.\n"
   ]
  },
  {
   "cell_type": "code",
   "execution_count": 0,
   "metadata": {
    "colab": {
     "base_uri": "https://localhost:8080/",
     "height": 253
    },
    "colab_type": "code",
    "executionInfo": {
     "elapsed": 2972,
     "status": "ok",
     "timestamp": 1589111280553,
     "user": {
      "displayName": "Srijeet Chatterjee",
      "photoUrl": "https://lh3.googleusercontent.com/a-/AOh14GhvLyI2L7rMpswCMPIIHugxGS37iH6O6W9QSxh_Zw=s64",
      "userId": "01014322814526133923"
     },
     "user_tz": -330
    },
    "id": "J4ynADkp7huQ",
    "outputId": "f97e3db4-7c1f-413d-d8c2-ba8c846b854f"
   },
   "outputs": [
    {
     "name": "stdout",
     "output_type": "stream",
     "text": [
      "String with the use of Single Quotes: \n",
      "Welcome to the Geeks World\n",
      "\n",
      "String with the use of Double Quotes: \n",
      "I'm a Geek\n",
      "\n",
      "String with the use of Triple Quotes: \n",
      "I'm a Geek and I live in a world of \"Geeks\"\n",
      "\n",
      "Creating a multiline String: \n",
      "Geeks\n",
      "            For\n",
      "            Life\n"
     ]
    }
   ],
   "source": [
    "# Python Program for\n",
    "# Creation of String\n",
    "\n",
    "# Creating a String \n",
    "# with single Quotes\n",
    "String1 = 'Welcome to the Geeks World'\n",
    "print(\"String with the use of Single Quotes: \")\n",
    "print(String1)\n",
    "\n",
    "# Creating a String\n",
    "# with double Quotes\n",
    "String1 = \"I'm a Geek\"\n",
    "print(\"\\nString with the use of Double Quotes: \")\n",
    "print(String1)\n",
    "\n",
    "# Creating a String\n",
    "# with triple Quotes\n",
    "String1 = '''I'm a Geek and I live in a world of \"Geeks\"'''\n",
    "print(\"\\nString with the use of Triple Quotes: \")\n",
    "print(String1)\n",
    "\n",
    "# Creating String with triple\n",
    "# Quotes allows multiple lines\n",
    "String1 = '''Geeks\n",
    "            For\n",
    "            Life'''\n",
    "print(\"\\nCreating a multiline String: \")\n",
    "print(String1)"
   ]
  },
  {
   "cell_type": "markdown",
   "metadata": {
    "colab_type": "text",
    "id": "6pac0wmradda"
   },
   "source": [
    "    Accessing characters in Python\n",
    "In Python, individual characters of a String can be accessed by using the method of Indexing. Indexing allows negative address references to access characters from the back of the String, e.g. -1 refers to the last character, -2 refers to the second last character and so on.\n",
    "While accessing an index out of the range will cause an IndexError. Only Integers are allowed to be passed as an index, float or other types will cause a TypeError.\n"
   ]
  },
  {
   "cell_type": "code",
   "execution_count": 0,
   "metadata": {
    "colab": {
     "base_uri": "https://localhost:8080/",
     "height": 162
    },
    "colab_type": "code",
    "executionInfo": {
     "elapsed": 4384,
     "status": "ok",
     "timestamp": 1589111316386,
     "user": {
      "displayName": "Srijeet Chatterjee",
      "photoUrl": "https://lh3.googleusercontent.com/a-/AOh14GhvLyI2L7rMpswCMPIIHugxGS37iH6O6W9QSxh_Zw=s64",
      "userId": "01014322814526133923"
     },
     "user_tz": -330
    },
    "id": "AU74iYWpajjC",
    "outputId": "a5b5f756-a73d-4799-eff3-3b50b552bd8a"
   },
   "outputs": [
    {
     "name": "stdout",
     "output_type": "stream",
     "text": [
      "Initial String: \n",
      "GeeksForGeeks\n",
      "\n",
      "First character of String is: \n",
      "G\n",
      "\n",
      "Last character of String is: \n",
      "s\n"
     ]
    }
   ],
   "source": [
    "# Python Program to Access\n",
    "# characters of String\n",
    "\n",
    "String1 = \"GeeksForGeeks\"\n",
    "print(\"Initial String: \")\n",
    "print(String1)\n",
    "\n",
    "# Printing First character\n",
    "print(\"\\nFirst character of String is: \")\n",
    "print(String1[0])\n",
    "\n",
    "# Printing Last character\n",
    "print(\"\\nLast character of String is: \")\n",
    "print(String1[-1])\n"
   ]
  },
  {
   "cell_type": "markdown",
   "metadata": {
    "colab_type": "text",
    "id": "LskQAgBqalox"
   },
   "source": [
    "    String Slicing\n",
    "To access a range of characters in the String, method of slicing is used. Slicing in a String is done by using a Slicing operator (colon).\n"
   ]
  },
  {
   "cell_type": "code",
   "execution_count": 0,
   "metadata": {
    "colab": {
     "base_uri": "https://localhost:8080/",
     "height": 162
    },
    "colab_type": "code",
    "executionInfo": {
     "elapsed": 1259,
     "status": "ok",
     "timestamp": 1589111342054,
     "user": {
      "displayName": "Srijeet Chatterjee",
      "photoUrl": "https://lh3.googleusercontent.com/a-/AOh14GhvLyI2L7rMpswCMPIIHugxGS37iH6O6W9QSxh_Zw=s64",
      "userId": "01014322814526133923"
     },
     "user_tz": -330
    },
    "id": "9IGEhaWkap8E",
    "outputId": "e18befac-5944-4bd8-a5a5-69cbe3df84ec"
   },
   "outputs": [
    {
     "name": "stdout",
     "output_type": "stream",
     "text": [
      "Initial String: \n",
      "GeeksForGeeks\n",
      "\n",
      "Slicing characters from 3-12: \n",
      "ksForGeek\n",
      "\n",
      "Slicing characters between 3rd and 2nd last character: \n",
      "ksForGee\n"
     ]
    }
   ],
   "source": [
    "# Python Program to\n",
    "# demonstrate String slicing\n",
    "\n",
    "# Creating a String\n",
    "String1 = \"GeeksForGeeks\"\n",
    "print(\"Initial String: \") \n",
    "print(String1)\n",
    "\n",
    "# Printing 3rd to 12th character\n",
    "print(\"\\nSlicing characters from 3-12: \")\n",
    "print(String1[3:12])\n",
    "\n",
    "# Printing characters between \n",
    "# 3rd and 2nd last character\n",
    "print(\"\\nSlicing characters between \" +\n",
    "    \"3rd and 2nd last character: \")\n",
    "print(String1[3:-2])"
   ]
  },
  {
   "cell_type": "markdown",
   "metadata": {
    "colab_type": "text",
    "id": "Rlzz5fpYauA0"
   },
   "source": [
    "    Deleting/Updating from a String\n",
    "In Python, Updation or deletion of characters from a String is not allowed. This will cause an error because item assignment or item deletion from a String is not supported. Although deletion of entire String is possible with the use of a built-in del keyword. This is because Strings are immutable, hence elements of a String cannot be changed once it has been assigned. Only new strings can be reassigned to the same name."
   ]
  },
  {
   "cell_type": "code",
   "execution_count": 0,
   "metadata": {
    "colab": {
     "base_uri": "https://localhost:8080/",
     "height": 280
    },
    "colab_type": "code",
    "executionInfo": {
     "elapsed": 1195,
     "status": "error",
     "timestamp": 1589111369568,
     "user": {
      "displayName": "Srijeet Chatterjee",
      "photoUrl": "https://lh3.googleusercontent.com/a-/AOh14GhvLyI2L7rMpswCMPIIHugxGS37iH6O6W9QSxh_Zw=s64",
      "userId": "01014322814526133923"
     },
     "user_tz": -330
    },
    "id": "NMQWmxn0awp9",
    "outputId": "ecfec70a-0d45-4a50-a76e-3a24cc88aef8"
   },
   "outputs": [
    {
     "name": "stdout",
     "output_type": "stream",
     "text": [
      "Initial String: \n",
      "Hello, I'm a Geek\n"
     ]
    },
    {
     "ename": "TypeError",
     "evalue": "ignored",
     "output_type": "error",
     "traceback": [
      "\u001b[0;31m---------------------------------------------------------------------------\u001b[0m",
      "\u001b[0;31mTypeError\u001b[0m                                 Traceback (most recent call last)",
      "\u001b[0;32m<ipython-input-18-e40470052b27>\u001b[0m in \u001b[0;36m<module>\u001b[0;34m()\u001b[0m\n\u001b[1;32m      6\u001b[0m \u001b[0;31m# Updating a character\u001b[0m\u001b[0;34m\u001b[0m\u001b[0;34m\u001b[0m\u001b[0;34m\u001b[0m\u001b[0m\n\u001b[1;32m      7\u001b[0m \u001b[0;31m# of the String\u001b[0m\u001b[0;34m\u001b[0m\u001b[0;34m\u001b[0m\u001b[0;34m\u001b[0m\u001b[0m\n\u001b[0;32m----> 8\u001b[0;31m \u001b[0mString1\u001b[0m\u001b[0;34m[\u001b[0m\u001b[0;36m2\u001b[0m\u001b[0;34m]\u001b[0m \u001b[0;34m=\u001b[0m \u001b[0;34m'p'\u001b[0m\u001b[0;34m\u001b[0m\u001b[0;34m\u001b[0m\u001b[0m\n\u001b[0m\u001b[1;32m      9\u001b[0m \u001b[0mprint\u001b[0m\u001b[0;34m(\u001b[0m\u001b[0;34m\"\\nUpdating character at 2nd Index: \"\u001b[0m\u001b[0;34m)\u001b[0m\u001b[0;34m\u001b[0m\u001b[0;34m\u001b[0m\u001b[0m\n\u001b[1;32m     10\u001b[0m \u001b[0mprint\u001b[0m\u001b[0;34m(\u001b[0m\u001b[0mString1\u001b[0m\u001b[0;34m)\u001b[0m\u001b[0;34m\u001b[0m\u001b[0;34m\u001b[0m\u001b[0m\n",
      "\u001b[0;31mTypeError\u001b[0m: 'str' object does not support item assignment"
     ]
    }
   ],
   "source": [
    "# Python Program to Update\n",
    "# character of a String\n",
    "\n",
    "String1 = \"Hello, I'm a Geek\"\n",
    "print(\"Initial String: \")\n",
    "print(String1)\n",
    "\n",
    "# Updating a character \n",
    "# of the String\n",
    "String1[2] = 'p'\n",
    "print(\"\\nUpdating character at 2nd Index: \")\n",
    "print(String1)\n"
   ]
  },
  {
   "cell_type": "markdown",
   "metadata": {
    "colab_type": "text",
    "id": "ibGMXlKXbANS"
   },
   "source": [
    "    Updating Entire String:"
   ]
  },
  {
   "cell_type": "code",
   "execution_count": 0,
   "metadata": {
    "colab": {
     "base_uri": "https://localhost:8080/",
     "height": 108
    },
    "colab_type": "code",
    "executionInfo": {
     "elapsed": 1209,
     "status": "ok",
     "timestamp": 1589111419606,
     "user": {
      "displayName": "Srijeet Chatterjee",
      "photoUrl": "https://lh3.googleusercontent.com/a-/AOh14GhvLyI2L7rMpswCMPIIHugxGS37iH6O6W9QSxh_Zw=s64",
      "userId": "01014322814526133923"
     },
     "user_tz": -330
    },
    "id": "XFBZDKjOa8gR",
    "outputId": "e89fc433-6252-42e8-d604-bdca49a96034"
   },
   "outputs": [
    {
     "name": "stdout",
     "output_type": "stream",
     "text": [
      "Initial String: \n",
      "Hello, I'm a Geek\n",
      "\n",
      "Updated String: \n",
      "Welcome to the Geek World\n"
     ]
    }
   ],
   "source": [
    "# Python Program to Update\n",
    "# entire String\n",
    "\n",
    "String1 = \"Hello, I'm a Geek\"\n",
    "print(\"Initial String: \")\n",
    "print(String1)\n",
    "\n",
    "# Updating a String\n",
    "String1 = \"Welcome to the Geek World\"\n",
    "print(\"\\nUpdated String: \")\n",
    "print(String1)"
   ]
  },
  {
   "cell_type": "markdown",
   "metadata": {
    "colab_type": "text",
    "id": "92ndDo0vbDzy"
   },
   "source": [
    "    Deletion of a character:"
   ]
  },
  {
   "cell_type": "code",
   "execution_count": 0,
   "metadata": {
    "colab": {
     "base_uri": "https://localhost:8080/",
     "height": 280
    },
    "colab_type": "code",
    "executionInfo": {
     "elapsed": 1287,
     "status": "error",
     "timestamp": 1589111454836,
     "user": {
      "displayName": "Srijeet Chatterjee",
      "photoUrl": "https://lh3.googleusercontent.com/a-/AOh14GhvLyI2L7rMpswCMPIIHugxGS37iH6O6W9QSxh_Zw=s64",
      "userId": "01014322814526133923"
     },
     "user_tz": -330
    },
    "id": "pINVXHsYa82x",
    "outputId": "c4a60f37-1703-4428-91dd-77186b02520a"
   },
   "outputs": [
    {
     "name": "stdout",
     "output_type": "stream",
     "text": [
      "Initial String: \n",
      "Hello, I'm a Geek\n"
     ]
    },
    {
     "ename": "TypeError",
     "evalue": "ignored",
     "output_type": "error",
     "traceback": [
      "\u001b[0;31m---------------------------------------------------------------------------\u001b[0m",
      "\u001b[0;31mTypeError\u001b[0m                                 Traceback (most recent call last)",
      "\u001b[0;32m<ipython-input-20-ac4fb6a16a9f>\u001b[0m in \u001b[0;36m<module>\u001b[0;34m()\u001b[0m\n\u001b[1;32m      6\u001b[0m \u001b[0;31m# Deleting a character\u001b[0m\u001b[0;34m\u001b[0m\u001b[0;34m\u001b[0m\u001b[0;34m\u001b[0m\u001b[0m\n\u001b[1;32m      7\u001b[0m \u001b[0;31m# of the String\u001b[0m\u001b[0;34m\u001b[0m\u001b[0;34m\u001b[0m\u001b[0;34m\u001b[0m\u001b[0m\n\u001b[0;32m----> 8\u001b[0;31m \u001b[0;32mdel\u001b[0m \u001b[0mString1\u001b[0m\u001b[0;34m[\u001b[0m\u001b[0;36m2\u001b[0m\u001b[0;34m]\u001b[0m\u001b[0;34m\u001b[0m\u001b[0;34m\u001b[0m\u001b[0m\n\u001b[0m\u001b[1;32m      9\u001b[0m \u001b[0mprint\u001b[0m\u001b[0;34m(\u001b[0m\u001b[0;34m\"\\nDeleting character at 2nd Index: \"\u001b[0m\u001b[0;34m)\u001b[0m\u001b[0;34m\u001b[0m\u001b[0;34m\u001b[0m\u001b[0m\n\u001b[1;32m     10\u001b[0m \u001b[0mprint\u001b[0m\u001b[0;34m(\u001b[0m\u001b[0mString1\u001b[0m\u001b[0;34m)\u001b[0m\u001b[0;34m\u001b[0m\u001b[0;34m\u001b[0m\u001b[0m\n",
      "\u001b[0;31mTypeError\u001b[0m: 'str' object doesn't support item deletion"
     ]
    }
   ],
   "source": [
    "# Python Program to Delete\n",
    "# characters from a String\n",
    "\n",
    "String1 = \"Hello, I'm a Geek\"\n",
    "print(\"Initial String: \")\n",
    "print(String1)\n",
    "\n",
    "# Deleting a character \n",
    "# of the String\n",
    "del String1[2] \n",
    "print(\"\\nDeleting character at 2nd Index: \")\n",
    "print(String1)"
   ]
  },
  {
   "cell_type": "markdown",
   "metadata": {
    "colab_type": "text",
    "id": "_FMneYnca9GV"
   },
   "source": [
    "    Deleting Entire String:\n",
    "Deletion of entire string is possible with the use of del keyword. Further, if we try to print the string, this will produce an error because String is deleted and is unavailable to be printed."
   ]
  },
  {
   "cell_type": "code",
   "execution_count": 0,
   "metadata": {
    "colab": {
     "base_uri": "https://localhost:8080/",
     "height": 280
    },
    "colab_type": "code",
    "executionInfo": {
     "elapsed": 1317,
     "status": "error",
     "timestamp": 1589111486932,
     "user": {
      "displayName": "Srijeet Chatterjee",
      "photoUrl": "https://lh3.googleusercontent.com/a-/AOh14GhvLyI2L7rMpswCMPIIHugxGS37iH6O6W9QSxh_Zw=s64",
      "userId": "01014322814526133923"
     },
     "user_tz": -330
    },
    "id": "G8cXbQm7bM-v",
    "outputId": "d2d2729a-f019-45ed-a87f-d656d560a984"
   },
   "outputs": [
    {
     "name": "stdout",
     "output_type": "stream",
     "text": [
      "Initial String: \n",
      "Hello, I'm a Geek\n",
      "\n",
      "Deleting entire String: \n"
     ]
    },
    {
     "ename": "NameError",
     "evalue": "ignored",
     "output_type": "error",
     "traceback": [
      "\u001b[0;31m---------------------------------------------------------------------------\u001b[0m",
      "\u001b[0;31mNameError\u001b[0m                                 Traceback (most recent call last)",
      "\u001b[0;32m<ipython-input-21-34f7b0905e60>\u001b[0m in \u001b[0;36m<module>\u001b[0;34m()\u001b[0m\n\u001b[1;32m      8\u001b[0m \u001b[0;32mdel\u001b[0m \u001b[0mString1\u001b[0m\u001b[0;34m\u001b[0m\u001b[0;34m\u001b[0m\u001b[0m\n\u001b[1;32m      9\u001b[0m \u001b[0mprint\u001b[0m\u001b[0;34m(\u001b[0m\u001b[0;34m\"\\nDeleting entire String: \"\u001b[0m\u001b[0;34m)\u001b[0m\u001b[0;34m\u001b[0m\u001b[0;34m\u001b[0m\u001b[0m\n\u001b[0;32m---> 10\u001b[0;31m \u001b[0mprint\u001b[0m\u001b[0;34m(\u001b[0m\u001b[0mString1\u001b[0m\u001b[0;34m)\u001b[0m\u001b[0;34m\u001b[0m\u001b[0;34m\u001b[0m\u001b[0m\n\u001b[0m",
      "\u001b[0;31mNameError\u001b[0m: name 'String1' is not defined"
     ]
    }
   ],
   "source": [
    "# Python Program to Delete\n",
    "# entire String\n",
    "\n",
    "String1 = \"Hello, I'm a Geek\"\n",
    "print(\"Initial String: \")\n",
    "print(String1)\n",
    "\n",
    "# Deleting a String\n",
    "# with the use of del\n",
    "del String1 \n",
    "print(\"\\nDeleting entire String: \")\n",
    "print(String1)"
   ]
  },
  {
   "cell_type": "markdown",
   "metadata": {
    "colab_type": "text",
    "id": "vB-7oJkCbXOZ"
   },
   "source": [
    "    Escape Sequencing in Python\n",
    "\n",
    "While printing Strings with single and double quotes in it causes SyntaxError because String already contains Single and Double Quotes and hence cannot be printed with the use of either of these. \n",
    "\n",
    "    Hence, to print such a String either Triple Quotes are used or Escape sequences are used to print such Strings.\n"
   ]
  },
  {
   "cell_type": "markdown",
   "metadata": {
    "colab_type": "text",
    "id": "ozadjA4Ebpoi"
   },
   "source": [
    "    Escape sequences start with a backslash and can be interpreted differently.\n",
    "    \n",
    "    If single quotes are used to represent a string, then all the single quotes\n",
    "    present in the string must be escaped and same is done for Double Quotes."
   ]
  },
  {
   "cell_type": "code",
   "execution_count": 0,
   "metadata": {
    "colab": {
     "base_uri": "https://localhost:8080/",
     "height": 134
    },
    "colab_type": "code",
    "executionInfo": {
     "elapsed": 1020,
     "status": "error",
     "timestamp": 1589111831565,
     "user": {
      "displayName": "Srijeet Chatterjee",
      "photoUrl": "https://lh3.googleusercontent.com/a-/AOh14GhvLyI2L7rMpswCMPIIHugxGS37iH6O6W9QSxh_Zw=s64",
      "userId": "01014322814526133923"
     },
     "user_tz": -330
    },
    "id": "E7koqnyabVu9",
    "outputId": "54c0526d-9c00-4d7f-d127-3e8c4f73b89c"
   },
   "outputs": [
    {
     "ename": "SyntaxError",
     "evalue": "ignored",
     "output_type": "error",
     "traceback": [
      "\u001b[0;36m  File \u001b[0;32m\"<ipython-input-30-7da3985a9a67>\"\u001b[0;36m, line \u001b[0;32m8\u001b[0m\n\u001b[0;31m    String1 = 'I'm a \"Geek\"'\u001b[0m\n\u001b[0m                 ^\u001b[0m\n\u001b[0;31mSyntaxError\u001b[0m\u001b[0;31m:\u001b[0m invalid syntax\n"
     ]
    }
   ],
   "source": [
    "# Python Program for\n",
    "# Escape Sequencing \n",
    "# of String\n",
    "\n",
    "# Initial String\n",
    "String1 = '''I'm a \"Geek\"'''\n",
    "print(\"Initial String with use of Triple Quotes: \")\n",
    "print(String1)\n",
    "\n",
    "# Escaping Single Quote \n",
    "String1 = 'I'm a \"Geek\"'\n",
    "print(\"\\nEscaping Single Quote: \")\n",
    "print(String1)\n",
    "\n",
    "# Escaping Doule Quotes\n",
    "String1 = \"I'm a \\\"Geek\\\"\"\n",
    "print(\"\\nEscaping Double Quotes: \")\n",
    "print(String1)\n",
    "\n",
    "# Printing Paths with the \n",
    "# use of Escape Sequences\n",
    "String1 = \"C:\\\\Python\\\\Geeks\\\\\"\n",
    "print(\"\\nEscaping Backslashes: \")\n",
    "print(String1)\n",
    "\n",
    "\n"
   ]
  },
  {
   "cell_type": "markdown",
   "metadata": {
    "colab_type": "text",
    "id": "cnjKLc_Fcqg1"
   },
   "source": [
    "    To ignore the escape sequences in a String, r or R is used, \n",
    "    this implies that the string is a raw string and escape sequences \n",
    "    inside it are to be ignored."
   ]
  },
  {
   "cell_type": "code",
   "execution_count": 0,
   "metadata": {
    "colab": {
     "base_uri": "https://localhost:8080/",
     "height": 126
    },
    "colab_type": "code",
    "executionInfo": {
     "elapsed": 1356,
     "status": "ok",
     "timestamp": 1589111878569,
     "user": {
      "displayName": "Srijeet Chatterjee",
      "photoUrl": "https://lh3.googleusercontent.com/a-/AOh14GhvLyI2L7rMpswCMPIIHugxGS37iH6O6W9QSxh_Zw=s64",
      "userId": "01014322814526133923"
     },
     "user_tz": -330
    },
    "id": "QoP_vSTwbV8O",
    "outputId": "c7bff6b0-c5c6-46d1-a33a-18410d929f1f"
   },
   "outputs": [
    {
     "name": "stdout",
     "output_type": "stream",
     "text": [
      "\n",
      "Printing in HEX with the use of Escape Sequences: \n",
      "This is Geeks in HEX\n",
      "\n",
      "Printing Raw String in HEX Format: \n",
      "This is \\x47\\x65\\x65\\x6b\\x73 in \\x48\\x45\\x58\n"
     ]
    }
   ],
   "source": [
    "\n",
    "# Printing Geeks in HEX\n",
    "String1 = \"This is \\x47\\x65\\x65\\x6b\\x73 in \\x48\\x45\\x58\"\n",
    "print(\"\\nPrinting in HEX with the use of Escape Sequences: \")\n",
    "print(String1)\n",
    "\n",
    "# Using raw String to \n",
    "# ignore Escape Sequences\n",
    "String1 = r\"This is \\x47\\x65\\x65\\x6b\\x73 in \\x48\\x45\\x58\"\n",
    "print(\"\\nPrinting Raw String in HEX Format: \")\n",
    "print(String1)"
   ]
  },
  {
   "cell_type": "markdown",
   "metadata": {
    "colab_type": "text",
    "id": "nn3RbY7KcxWi"
   },
   "source": [
    "    Formatting of Strings"
   ]
  },
  {
   "cell_type": "markdown",
   "metadata": {
    "colab_type": "text",
    "id": "dUwMaOQEc0pQ"
   },
   "source": [
    "Strings in Python can be formatted with the use of \n",
    "\n",
    "    format( ) method \n",
    "    \n",
    "which is very versatile and powerful tool for formatting of Strings. Format method in String contains curly braces {} as placeholders which can hold arguments according to position or keyword to specify the order.\n"
   ]
  },
  {
   "cell_type": "code",
   "execution_count": 0,
   "metadata": {
    "colab": {
     "base_uri": "https://localhost:8080/",
     "height": 162
    },
    "colab_type": "code",
    "executionInfo": {
     "elapsed": 1160,
     "status": "ok",
     "timestamp": 1589111951112,
     "user": {
      "displayName": "Srijeet Chatterjee",
      "photoUrl": "https://lh3.googleusercontent.com/a-/AOh14GhvLyI2L7rMpswCMPIIHugxGS37iH6O6W9QSxh_Zw=s64",
      "userId": "01014322814526133923"
     },
     "user_tz": -330
    },
    "id": "9K6XBgdcbWAA",
    "outputId": "c3449c93-6fa0-4a6f-b550-798722db68e3"
   },
   "outputs": [
    {
     "name": "stdout",
     "output_type": "stream",
     "text": [
      "Print String in default order: \n",
      "Geeks For Life\n",
      "\n",
      "Print String in Positional order: \n",
      "For Geeks Life\n",
      "\n",
      "Print String in order of Keywords: \n",
      "Life For Geeks\n"
     ]
    }
   ],
   "source": [
    "# Python Program for\n",
    "# Formatting of Strings\n",
    "\n",
    "# Default order\n",
    "String1 = \"{} {} {}\".format('Geeks', 'For', 'Life')\n",
    "print(\"Print String in default order: \")\n",
    "print(String1)\n",
    "\n",
    "# Positional Formatting\n",
    "String1 = \"{1} {0} {2}\".format('Geeks', 'For', 'Life')\n",
    "print(\"\\nPrint String in Positional order: \")\n",
    "print(String1)\n",
    "\n",
    "# Keyword Formatting\n",
    "String1 = \"{l} {f} {g}\".format(g = 'Geeks', f = 'For', l = 'Life')\n",
    "print(\"\\nPrint String in order of Keywords: \")\n",
    "print(String1)"
   ]
  },
  {
   "cell_type": "markdown",
   "metadata": {
    "colab_type": "text",
    "id": "xSd1BLV8dC9d"
   },
   "source": [
    " Integers such as Binary, hexadecimal, etc. and floats can be rounded or displayed in the exponent form with the use of format specifiers."
   ]
  },
  {
   "cell_type": "code",
   "execution_count": 0,
   "metadata": {
    "colab": {
     "base_uri": "https://localhost:8080/",
     "height": 181
    },
    "colab_type": "code",
    "executionInfo": {
     "elapsed": 1215,
     "status": "ok",
     "timestamp": 1589111971507,
     "user": {
      "displayName": "Srijeet Chatterjee",
      "photoUrl": "https://lh3.googleusercontent.com/a-/AOh14GhvLyI2L7rMpswCMPIIHugxGS37iH6O6W9QSxh_Zw=s64",
      "userId": "01014322814526133923"
     },
     "user_tz": -330
    },
    "id": "MB6CRkYgbWGg",
    "outputId": "e4933352-5fb0-44a5-867b-08845127ecab"
   },
   "outputs": [
    {
     "name": "stdout",
     "output_type": "stream",
     "text": [
      "\n",
      "Binary representation of 16 is \n",
      "10000\n",
      "\n",
      "Exponent representation of 165.6458 is \n",
      "1.656458e+02\n",
      "\n",
      "one-sixth is : \n",
      "0.17\n"
     ]
    }
   ],
   "source": [
    "# Formatting of Integers\n",
    "String1 = \"{0:b}\".format(16)\n",
    "print(\"\\nBinary representation of 16 is \")\n",
    "print(String1)\n",
    "\n",
    "# Formatting of Floats\n",
    "String1 = \"{0:e}\".format(165.6458)\n",
    "print(\"\\nExponent representation of 165.6458 is \")\n",
    "print(String1)\n",
    "\n",
    "# Rounding off Integers\n",
    "String1 = \"{0:.2f}\".format(1/6)\n",
    "print(\"\\none-sixth is : \")\n",
    "print(String1)\n"
   ]
  },
  {
   "cell_type": "markdown",
   "metadata": {
    "colab_type": "text",
    "id": "8rSZQ4D1dfB-"
   },
   "source": [
    "    A string can be left() or center(^) justified with the use of format specifiers, separated by colon(:). "
   ]
  },
  {
   "cell_type": "code",
   "execution_count": 0,
   "metadata": {
    "colab": {
     "base_uri": "https://localhost:8080/",
     "height": 108
    },
    "colab_type": "code",
    "executionInfo": {
     "elapsed": 1082,
     "status": "ok",
     "timestamp": 1589112093841,
     "user": {
      "displayName": "Srijeet Chatterjee",
      "photoUrl": "https://lh3.googleusercontent.com/a-/AOh14GhvLyI2L7rMpswCMPIIHugxGS37iH6O6W9QSxh_Zw=s64",
      "userId": "01014322814526133923"
     },
     "user_tz": -330
    },
    "id": "QFWRkiPwbWLx",
    "outputId": "7493bac5-69b8-4972-c687-3696341bf095"
   },
   "outputs": [
    {
     "name": "stdout",
     "output_type": "stream",
     "text": [
      "\n",
      "Left, center and right alignment with Formatting: \n",
      "|Geeks     |   for    |     Geeks|\n",
      "\n",
      " GeeksforGeeks   was founded in 2009!\n"
     ]
    }
   ],
   "source": [
    "# String alignment\n",
    "String1 = \"|{:<10}|{:^10}|{:>10}|\".format('Geeks','for','Geeks')\n",
    "print(\"\\nLeft, center and right alignment with Formatting: \")\n",
    "print(String1)\n",
    "\n",
    "# To demonstrate aligning of spaces \n",
    "String1 = \"\\n{0:^16} was founded in {1:<4}!\".format(\"GeeksforGeeks\", 2009)\n",
    "print(String1)"
   ]
  },
  {
   "cell_type": "markdown",
   "metadata": {
    "colab_type": "text",
    "id": "bsQ_3SQ2dldF"
   },
   "source": [
    "    Old style formatting was done without the use of format method by using % operator"
   ]
  },
  {
   "cell_type": "code",
   "execution_count": 0,
   "metadata": {
    "colab": {
     "base_uri": "https://localhost:8080/",
     "height": 108
    },
    "colab_type": "code",
    "executionInfo": {
     "elapsed": 1006,
     "status": "ok",
     "timestamp": 1589112121084,
     "user": {
      "displayName": "Srijeet Chatterjee",
      "photoUrl": "https://lh3.googleusercontent.com/a-/AOh14GhvLyI2L7rMpswCMPIIHugxGS37iH6O6W9QSxh_Zw=s64",
      "userId": "01014322814526133923"
     },
     "user_tz": -330
    },
    "id": "Ynk05rL3bWV1",
    "outputId": "4c9f9f77-100a-4396-e62c-9a18f4e0967d"
   },
   "outputs": [
    {
     "name": "stdout",
     "output_type": "stream",
     "text": [
      "Formatting in 3.2f format: \n",
      "The value of Integer1 is 12.35\n",
      "\n",
      "Formatting in 3.4f format: \n",
      "The value of Integer1 is 12.3457\n"
     ]
    }
   ],
   "source": [
    "# Python Program for\n",
    "# Old Style Formatting\n",
    "# of Integers\n",
    "\n",
    "Integer1 = 12.3456789\n",
    "print(\"Formatting in 3.2f format: \")\n",
    "print('The value of Integer1 is %3.2f' %Integer1)\n",
    "print(\"\\nFormatting in 3.4f format: \")\n",
    "print('The value of Integer1 is %3.4f' %Integer1)\n"
   ]
  },
  {
   "cell_type": "markdown",
   "metadata": {
    "colab_type": "text",
    "id": "dG6ydTVad7tM"
   },
   "source": [
    "    String constants\n"
   ]
  },
  {
   "cell_type": "markdown",
   "metadata": {
    "colab_type": "text",
    "id": "caUK9X-ieCpv"
   },
   "source": [
    "```\n",
    "\n",
    "string.ascii_letters \t  Concatenation of the ascii_lowercase and ascii_uppercase constants.\n",
    "string.ascii_lowercase \tConcatenation of lowercase letters\n",
    "string.ascii_uppercase \tConcatenation of uppercase letters\n",
    "string.digits \t         Digit in strings\n",
    "string.hexdigits \t      Hexadigit in strings\n",
    "string.letters \t        concatenation of the strings lowercase and uppercase\n",
    "string.lowercase \t      A string must contain lowercase letters.\n",
    "string.octdigits \t      Octadigit in a string\n",
    "string.punctuation \t    ASCII characters having punctuation characters.\n",
    "string.printable \t      String of characters which are printable\n",
    "String.endswith() \t     Returns True if a string ends with the given suffix otherwise returns False\n",
    "String.startswith() \t   Returns True if a string starts with the given prefix otherwise returns False\n",
    "String.isdigit() \t      Returns “True” if all characters in the string are digits, Otherwise, It returns “False”.\n",
    "String.isalpha() \t      Returns “True” if all characters in the string are alphabets, Otherwise, It returns “False”.\n",
    "string.isdecimal() \t    Returns true if all characters in a string are decimal.\n",
    "str.format() \t          one of the string formatting methods in Python3, which allows multiple substitutions and value formatting.\n",
    "String.index \t          Returns the position of the first occurrence of substring in a string\n",
    "string.uppercase \t      A string must contain uppercase letters.\n",
    "string.whitespace \t     A string containing all characters that are considered whitespace.\n",
    "string.swapcase() \t     Method converts all uppercase characters to lowercase and vice versa of the given string, and returns it\n",
    "replace() \t             returns a copy of the string where all occurrences of a substring is replaced with another substring.\n",
    "\n",
    "```"
   ]
  },
  {
   "cell_type": "markdown",
   "metadata": {
    "colab_type": "text",
    "id": "BpQK8kT_dyOV"
   },
   "source": [
    "    Deprecated string functions"
   ]
  },
  {
   "cell_type": "markdown",
   "metadata": {
    "colab_type": "text",
    "id": "Uh1tG3xhd0qD"
   },
   "source": [
    "```\n",
    "\n",
    "string.Isdecimal \tReturns true if all characters in a string are decimal\n",
    "String.Isalnum \tReturns true if all the characters in a given string are alphanumeric.\n",
    "string.Istitle \tReturns True if the string is a titlecased string\n",
    "String.partition \tsplits the string at the first occurrence of the separator and returns a tuple.\n",
    "String.Isidentifier \tCheck whether a string is a valid identifier or not.\n",
    "String.len \tReturns the length of the string.\n",
    "String.rindex \tReturns the highest index of the substring inside the string if substring is found.\n",
    "String.Max \tReturns the highest alphabetical character in a string.\n",
    "String.min \tReturns the minimum alphabetical character in a string.\n",
    "String.splitlines \tReturns a list of lines in the string.\n",
    "string.capitalize \tReturn a word with its first character capitalized.\n",
    "string.expandtabs \tExpand tabs in a string replacing them by one or more spaces\n",
    "string.find \tReturn the lowest indexin a sub string.\n",
    "string.rfind \tfind the highest index.\n",
    "string.count \tReturn the number of (non-overlapping) occurrences of substring sub in string\n",
    "string.lower \tReturn a copy of s, but with upper case letters converted to lower case.\n",
    "string.split \tReturn a list of the words of the string,If the optional second argument sep is absent or None\n",
    "string.rsplit() \tReturn a list of the words of the string s, scanning s from the end.\n",
    "rpartition() \tMethod splits the given string into three parts\n",
    "string.splitfields \tReturn a list of the words of the string when only used with two arguments.\n",
    "string.join \tConcatenate a list or tuple of words with intervening occurrences of sep.\n",
    "string.strip() \tIt return a copy of the string with both leading and trailing characters removed\n",
    "string.lstrip \tReturn a copy of the string with leading characters removed.\n",
    "string.rstrip \tReturn a copy of the string with trailing characters removed.\n",
    "string.swapcase \tConverts lower case letters to upper case and vice versa.\n",
    "string.translate \ttranslate the characters using table\n",
    "string.upper \tlower case letters converted to upper case.\n",
    "string.ljust \tleft-justify in a field of given width.\n",
    "string.rjust \tRight-justify in a field of given width.\n",
    "string.center() \tCenter-justify in a field of given width.\n",
    "string-zfill \tPad a numeric string on the left with zero digits until the given width is reached.\n",
    "string.replace \tReturn a copy of string s with all occurrences of substring old replaced by new.\n",
    "\n",
    "```"
   ]
  },
  {
   "cell_type": "markdown",
   "metadata": {
    "colab_type": "text",
    "id": "L5um1Ca2fC1F"
   },
   "source": [
    "####Pattern Matching in Python with Regex:"
   ]
  },
  {
   "cell_type": "markdown",
   "metadata": {
    "colab_type": "text",
    "id": "8hz2Nrl6fOUs"
   },
   "source": [
    "Prerequisite: Regular Expressions in Python\n",
    "\n",
    "You may be familiar with searching for text by pressing ctrl-F and typing in the words you’re looking for. Regular expressions go one step further: They allow you to specify a pattern of text to search for.\n",
    "\n",
    "Regular expressions, called regexes for short, are descriptions for a pattern of text. For example, a \\d in a regex stands for a digit character — that is, any single numeral 0 to 9."
   ]
  },
  {
   "cell_type": "markdown",
   "metadata": {
    "colab_type": "text",
    "id": "4Te581dJfjsg"
   },
   "source": [
    "    Following regex is used in Python to match a string of three numbers, a\n",
    "    hyphen, three more numbers, another hyphen, and four numbers.\n",
    "\n",
    "    Any other string would not match the pattern.\n",
    "\n",
    "    \\d\\d\\d-\\d\\d\\d-\\d\\d\\d\\d"
   ]
  },
  {
   "cell_type": "markdown",
   "metadata": {
    "colab_type": "text",
    "id": "SefepF06fubO"
   },
   "source": [
    "    Regular expressions can be much more sophisticated. For example, adding a \n",
    "    3 in curly brackets ({3}) after a pattern is like saying, “ Match this\n",
    "    pattern three times.” So the slightly shorter regex\n",
    "\n",
    "    \\d{3}-\\d{3}-\\d{4}"
   ]
  },
  {
   "cell_type": "markdown",
   "metadata": {
    "colab_type": "text",
    "id": "kG3gwRcuf3CT"
   },
   "source": [
    "***Creating Regex object***"
   ]
  },
  {
   "cell_type": "markdown",
   "metadata": {
    "colab_type": "text",
    "id": "XEy33FTPf-XU"
   },
   "source": [
    "All the regex functions in Python are in the re module\n",
    "\n",
    "    import re\n",
    "\n",
    "To create a Regex object that matches the phone number pattern, enter the following into the interactive shell.\n",
    "\n",
    "    phoneNumRegex = re.compile(r'\\d\\d\\d-\\d\\d\\d-\\d\\d\\d\\d')\n",
    "\n",
    "Now the phoneNumRegex variable contains a Regex object."
   ]
  },
  {
   "cell_type": "markdown",
   "metadata": {
    "colab_type": "text",
    "id": "TNiCVZzKgJIX"
   },
   "source": [
    "***Matching regex objects***"
   ]
  },
  {
   "cell_type": "markdown",
   "metadata": {
    "colab_type": "text",
    "id": "AkGLp3WAgL8E"
   },
   "source": [
    "A Regex object’s search() method searches the string it is passed for any matches to the regex. Match objects have a group() method that will return the actual matched text from the searched string."
   ]
  },
  {
   "cell_type": "code",
   "execution_count": 0,
   "metadata": {
    "colab": {
     "base_uri": "https://localhost:8080/",
     "height": 35
    },
    "colab_type": "code",
    "executionInfo": {
     "elapsed": 1040,
     "status": "ok",
     "timestamp": 1589112813518,
     "user": {
      "displayName": "Srijeet Chatterjee",
      "photoUrl": "https://lh3.googleusercontent.com/a-/AOh14GhvLyI2L7rMpswCMPIIHugxGS37iH6O6W9QSxh_Zw=s64",
      "userId": "01014322814526133923"
     },
     "user_tz": -330
    },
    "id": "PYG6_XvtbWg2",
    "outputId": "cc5200aa-4056-411b-e8a5-d7c5d93073bb"
   },
   "outputs": [
    {
     "name": "stdout",
     "output_type": "stream",
     "text": [
      "Phone number found: 415-555-4242\n"
     ]
    }
   ],
   "source": [
    "# Python program to illustrate\n",
    "# Matching regex objects\n",
    "import re\n",
    "phoneNumRegex = re.compile(r'\\d\\d\\d-\\d\\d\\d-\\d\\d\\d\\d')\n",
    "mo = phoneNumRegex.search('My number is 415-555-4242.')\n",
    "print('Phone number found: ' + mo.group())"
   ]
  },
  {
   "cell_type": "markdown",
   "metadata": {
    "colab_type": "text",
    "id": "wzAzXrkxgWl7"
   },
   "source": [
    "    Steps of Regular Expression Matching\n",
    "\n",
    "While there are several steps to using regular expressions in Python, each step is fairly simple.\n",
    "\n",
    "    1. Import the regex module with import re.\n",
    "    2. Create a Regex object with the re.compile() function. (Remember to use a raw string.)\n",
    "    3. Pass the string you want to search into the Regex object’s search() method. This returns a Match object.\n",
    "    4. Call the Match object’s group() method to return a string of the actual matched text."
   ]
  },
  {
   "cell_type": "markdown",
   "metadata": {
    "colab_type": "text",
    "id": "jLsPk7THgiqs"
   },
   "source": [
    "***Grouping with parentheses***\n",
    "\n",
    "    **Matching objects**:\n",
    "    \n",
    "    Say you want to separate the area code from the rest of\n",
    "    the phone number. \n",
    "    \n",
    "    Adding parentheses will create groups in the regex:\n",
    "\n",
    "    (\\d\\d\\d)-(\\d\\d\\d-\\d\\d\\d\\d). \n",
    "    \n",
    "    Then you can use the group() match object method to grab the matching \n",
    "    text from just one group."
   ]
  },
  {
   "cell_type": "code",
   "execution_count": 0,
   "metadata": {
    "colab": {
     "base_uri": "https://localhost:8080/",
     "height": 35
    },
    "colab_type": "code",
    "executionInfo": {
     "elapsed": 1086,
     "status": "ok",
     "timestamp": 1589112946200,
     "user": {
      "displayName": "Srijeet Chatterjee",
      "photoUrl": "https://lh3.googleusercontent.com/a-/AOh14GhvLyI2L7rMpswCMPIIHugxGS37iH6O6W9QSxh_Zw=s64",
      "userId": "01014322814526133923"
     },
     "user_tz": -330
    },
    "id": "8s12emlibWaO",
    "outputId": "d83f380a-98b7-4276-ee3e-9e16721cba20"
   },
   "outputs": [
    {
     "name": "stdout",
     "output_type": "stream",
     "text": [
      "415\n"
     ]
    }
   ],
   "source": [
    "# Python program to illustrate\n",
    "# Matching regex objects\n",
    "# with grouping \n",
    "import re\n",
    "phoneNumRegex = re.compile(r'(\\d\\d\\d)-(\\d\\d\\d-\\d\\d\\d\\d)')\n",
    "mo = phoneNumRegex.search('My number is 415-555-4242.')\n",
    "print(mo.group(1))"
   ]
  },
  {
   "cell_type": "markdown",
   "metadata": {
    "colab_type": "text",
    "id": "3o0AfOL5g_io"
   },
   "source": [
    "    Retrieve all the groups at once : \n",
    "    \n",
    "    If you would like to retrieve all the groups at once, use the groups(),\n",
    "    method—note the plural form for the name."
   ]
  },
  {
   "cell_type": "code",
   "execution_count": 0,
   "metadata": {
    "colab": {
     "base_uri": "https://localhost:8080/",
     "height": 35
    },
    "colab_type": "code",
    "executionInfo": {
     "elapsed": 1177,
     "status": "ok",
     "timestamp": 1589113025820,
     "user": {
      "displayName": "Srijeet Chatterjee",
      "photoUrl": "https://lh3.googleusercontent.com/a-/AOh14GhvLyI2L7rMpswCMPIIHugxGS37iH6O6W9QSxh_Zw=s64",
      "userId": "01014322814526133923"
     },
     "user_tz": -330
    },
    "id": "VIz2UYGnbWSv",
    "outputId": "731c8c94-d5c9-43d7-928a-b11c1c200ef4"
   },
   "outputs": [
    {
     "name": "stdout",
     "output_type": "stream",
     "text": [
      "('415', '555-4242')\n"
     ]
    }
   ],
   "source": [
    "# Python program to illustrate\n",
    "# Matching regex objects\n",
    "# with groups \n",
    "import re\n",
    "phoneNumRegex = re.compile(r'(\\d\\d\\d)-(\\d\\d\\d-\\d\\d\\d\\d)')\n",
    "mo = phoneNumRegex.search('My number is 415-555-4242.')\n",
    "print(mo.groups())"
   ]
  },
  {
   "cell_type": "markdown",
   "metadata": {
    "colab_type": "text",
    "id": "G3Wgqe4ohP1e"
   },
   "source": [
    "    Using mo.groups : \n",
    "    \n",
    "    mo.groups() will return a tuple of multiple values, you can use the\n",
    "    multiple-assignment trick to assign each value to a separate variable,\n",
    "    as in the following areaCode, mainNumber = mo.groups() line."
   ]
  },
  {
   "cell_type": "code",
   "execution_count": 0,
   "metadata": {
    "colab": {
     "base_uri": "https://localhost:8080/",
     "height": 35
    },
    "colab_type": "code",
    "executionInfo": {
     "elapsed": 1010,
     "status": "ok",
     "timestamp": 1589113087595,
     "user": {
      "displayName": "Srijeet Chatterjee",
      "photoUrl": "https://lh3.googleusercontent.com/a-/AOh14GhvLyI2L7rMpswCMPIIHugxGS37iH6O6W9QSxh_Zw=s64",
      "userId": "01014322814526133923"
     },
     "user_tz": -330
    },
    "id": "n5vxMmuxbWQ1",
    "outputId": "b5b5910b-ba8b-4232-886f-9dbf25e11967"
   },
   "outputs": [
    {
     "name": "stdout",
     "output_type": "stream",
     "text": [
      "555-4242\n"
     ]
    }
   ],
   "source": [
    "# Python program to illustrate\n",
    "# Matching regex objects\n",
    "# with mo.groups() \n",
    "import re\n",
    "phoneNumRegex = re.compile(r'(\\d\\d\\d)-(\\d\\d\\d-\\d\\d\\d\\d)')\n",
    "mo = phoneNumRegex.search('My number is 415-555-4242.')\n",
    "areaCode, mainNumber = mo.groups()\n",
    "print(mainNumber)"
   ]
  },
  {
   "cell_type": "markdown",
   "metadata": {
    "colab_type": "text",
    "id": "9A6HIEJdhWxx"
   },
   "source": [
    "    Match a parenthesis : \n",
    "    \n",
    "    Parentheses have a special meaning in regular expressions, but what \n",
    "    do you do if you need to match a parenthesis in your text. \n",
    "    \n",
    "    For instance, maybe the phone numbers you are trying to match have the \n",
    "    area code set in parentheses. \n",
    "    \n",
    "    In this case, you need to escape the ( and ) characters with a backslash.\n",
    "    Enter the following into the interactive shell:"
   ]
  },
  {
   "cell_type": "code",
   "execution_count": 0,
   "metadata": {
    "colab": {
     "base_uri": "https://localhost:8080/",
     "height": 35
    },
    "colab_type": "code",
    "executionInfo": {
     "elapsed": 1313,
     "status": "ok",
     "timestamp": 1589113132021,
     "user": {
      "displayName": "Srijeet Chatterjee",
      "photoUrl": "https://lh3.googleusercontent.com/a-/AOh14GhvLyI2L7rMpswCMPIIHugxGS37iH6O6W9QSxh_Zw=s64",
      "userId": "01014322814526133923"
     },
     "user_tz": -330
    },
    "id": "eQh_yAGAbWEs",
    "outputId": "5a643dd3-a62e-46ea-9c67-f0cf3bb9fdbc"
   },
   "outputs": [
    {
     "name": "stdout",
     "output_type": "stream",
     "text": [
      "(415)\n"
     ]
    }
   ],
   "source": [
    "# Python program to illustrate\n",
    "# Matching regex objects\n",
    "# with grouping \n",
    "import re\n",
    "phoneNumRegex = re.compile(r'(\\(\\d\\d\\d\\)) (\\d\\d\\d-\\d\\d\\d\\d)')\n",
    "mo = phoneNumRegex.search('My phone number is (415) 555-4242.')\n",
    "print(mo.group(1))"
   ]
  },
  {
   "cell_type": "markdown",
   "metadata": {
    "colab_type": "text",
    "id": "QT5C7QEEhiaN"
   },
   "source": [
    "    Matching Multiple Groups with the Pipe"
   ]
  },
  {
   "cell_type": "markdown",
   "metadata": {
    "colab_type": "text",
    "id": "50U_u9VNhomx"
   },
   "source": [
    "    The | character is called a pipe. \n",
    "    \n",
    "    You can use it anywhere you want to match one of many expressions. \n",
    "    For example, the regular expression r'Batman|Tina Fey' will match \n",
    "    either 'Batman' or 'Tina Fey'.\n",
    "\n",
    "When both Batman and Tina Fey occur in the searched string, the first occurrence of matching text will be returned as the Match object. Enter the following into the interactive shell:"
   ]
  },
  {
   "cell_type": "code",
   "execution_count": 0,
   "metadata": {
    "colab": {
     "base_uri": "https://localhost:8080/",
     "height": 35
    },
    "colab_type": "code",
    "executionInfo": {
     "elapsed": 1116,
     "status": "ok",
     "timestamp": 1589113348622,
     "user": {
      "displayName": "Srijeet Chatterjee",
      "photoUrl": "https://lh3.googleusercontent.com/a-/AOh14GhvLyI2L7rMpswCMPIIHugxGS37iH6O6W9QSxh_Zw=s64",
      "userId": "01014322814526133923"
     },
     "user_tz": -330
    },
    "id": "KrcQjykvhiAg",
    "outputId": "a221f1f0-6634-4e62-b751-7286c4efe644"
   },
   "outputs": [
    {
     "name": "stdout",
     "output_type": "stream",
     "text": [
      "Batman\n"
     ]
    }
   ],
   "source": [
    "# Python program to illustrate\n",
    "# Matching regex objects\n",
    "# with multiple Groups with the Pipe\n",
    "import re\n",
    "heroRegex = re.compile (r'Batman|Tina Fey')\n",
    "mo1 = heroRegex.search('Batman and Tina Fey.')\n",
    "print(mo1.group())"
   ]
  },
  {
   "cell_type": "markdown",
   "metadata": {
    "colab_type": "text",
    "id": "1i6Oufl7iWZq"
   },
   "source": [
    "    Matching Specific Repetitions with Curly Brackets\n",
    "\n",
    "If you have a group that you want to repeat a specific number of times, follow the group in your regex with a number in curly brackets. For example, the regex (Ha){3} will match the string 'HaHaHa', but it will not match 'HaHa', since the latter has only two repeats of the (Ha) group.\n",
    "\n",
    "    Instead of one number, you can specify a range by writing a minimum, a\n",
    "    comma, and a maximum in between the curly brackets. For example, the \n",
    "    regex (Ha){3, 5} will match 'HaHaHa', 'HaHaHaHa', and 'HaHaHaHaHa'.\n",
    "\n",
    "You can also leave out the first or second number in the curly brackets to leave the minimum or maximum unbounded. \n",
    "\n",
    "    For example, (Ha){3, } will match three or more instances of the (Ha)\n",
    "    group, while (Ha){, 5} will match zero to five instances. \n",
    "\n",
    "Curly brackets can help make your regular expressions shorter. These two regular expressions match identical patterns:\n",
    "\n",
    "    (Ha){3}\n",
    "\n",
    "    (Ha)(Ha)(Ha)"
   ]
  },
  {
   "cell_type": "markdown",
   "metadata": {
    "colab_type": "text",
    "id": "0BjFYgBei0vy"
   },
   "source": [
    "    And these two regular expressions also match identical patterns:\n",
    "\n",
    "    (Ha){3, 5}\n",
    "\n",
    "    ((Ha)(Ha)(Ha))|((Ha)(Ha)(Ha)(Ha))|((Ha)(Ha)(Ha)(Ha)(Ha))"
   ]
  },
  {
   "cell_type": "code",
   "execution_count": 0,
   "metadata": {
    "colab": {
     "base_uri": "https://localhost:8080/",
     "height": 35
    },
    "colab_type": "code",
    "executionInfo": {
     "elapsed": 1235,
     "status": "ok",
     "timestamp": 1589113494008,
     "user": {
      "displayName": "Srijeet Chatterjee",
      "photoUrl": "https://lh3.googleusercontent.com/a-/AOh14GhvLyI2L7rMpswCMPIIHugxGS37iH6O6W9QSxh_Zw=s64",
      "userId": "01014322814526133923"
     },
     "user_tz": -330
    },
    "id": "fM-H3eJZhh-c",
    "outputId": "7afcd0da-e188-4beb-cb2a-b6402db4cc33"
   },
   "outputs": [
    {
     "name": "stdout",
     "output_type": "stream",
     "text": [
      "HaHaHa\n"
     ]
    }
   ],
   "source": [
    "# Python program to illustrate\n",
    "# Matching Specific Repetitions \n",
    "# with Curly Brackets\n",
    "import re\n",
    "haRegex = re.compile(r'(Ha){3}')\n",
    "mo1 = haRegex.search('HaHaHa')\n",
    "print(mo1.group())\n"
   ]
  },
  {
   "cell_type": "code",
   "execution_count": 0,
   "metadata": {
    "colab": {
     "base_uri": "https://localhost:8080/",
     "height": 35
    },
    "colab_type": "code",
    "executionInfo": {
     "elapsed": 1027,
     "status": "ok",
     "timestamp": 1589113503541,
     "user": {
      "displayName": "Srijeet Chatterjee",
      "photoUrl": "https://lh3.googleusercontent.com/a-/AOh14GhvLyI2L7rMpswCMPIIHugxGS37iH6O6W9QSxh_Zw=s64",
      "userId": "01014322814526133923"
     },
     "user_tz": -330
    },
    "id": "Pew61oE9hh8W",
    "outputId": "2c963dd1-f5e8-431f-fe8f-b0251ccbf0c1"
   },
   "outputs": [
    {
     "name": "stdout",
     "output_type": "stream",
     "text": [
      "True\n"
     ]
    }
   ],
   "source": [
    "# Python program to illustrate\n",
    "# Matching Specific Repetitions \n",
    "# with Curly Brackets\n",
    "import re\n",
    "haRegex = re.compile(r'(Ha){3}')\n",
    "mo2 = haRegex.search('Ha')== None\n",
    "print(mo2)"
   ]
  },
  {
   "cell_type": "markdown",
   "metadata": {
    "colab_type": "text",
    "id": "Rv38vEvLjM_A"
   },
   "source": [
    "    Here, (Ha){3} matches 'HaHaHa' but not 'Ha'. Since it doesn’t match 'Ha', search() returns None."
   ]
  },
  {
   "cell_type": "markdown",
   "metadata": {
    "colab_type": "text",
    "id": "sycZovmEjQhE"
   },
   "source": [
    "    Optional Matching with the Question Mark\n",
    "\n",
    "Sometimes there is a pattern that you want to match only optionally. \n",
    "\n",
    "That is, the regex should find a match whether or not that bit of text is there. \n",
    "\n",
    "    The ? character flags the group that precedes it as an optional part of \n",
    "    the pattern. For example, enter the following into the interactive shell:"
   ]
  },
  {
   "cell_type": "code",
   "execution_count": 0,
   "metadata": {
    "colab": {
     "base_uri": "https://localhost:8080/",
     "height": 35
    },
    "colab_type": "code",
    "executionInfo": {
     "elapsed": 1209,
     "status": "ok",
     "timestamp": 1589113639367,
     "user": {
      "displayName": "Srijeet Chatterjee",
      "photoUrl": "https://lh3.googleusercontent.com/a-/AOh14GhvLyI2L7rMpswCMPIIHugxGS37iH6O6W9QSxh_Zw=s64",
      "userId": "01014322814526133923"
     },
     "user_tz": -330
    },
    "id": "sPxcxtV8jC08",
    "outputId": "1101d9af-35fd-4284-84e1-9f82237853de"
   },
   "outputs": [
    {
     "name": "stdout",
     "output_type": "stream",
     "text": [
      "Batman\n"
     ]
    }
   ],
   "source": [
    "# Python program to illustrate\n",
    "# optional matching\n",
    "# with question mark(?)\n",
    "import re\n",
    "batRegex = re.compile(r'Bat(wo)?man')\n",
    "mo1 = batRegex.search('The Adventures of Batman')\n",
    "print(mo1.group())"
   ]
  },
  {
   "cell_type": "code",
   "execution_count": 0,
   "metadata": {
    "colab": {
     "base_uri": "https://localhost:8080/",
     "height": 35
    },
    "colab_type": "code",
    "executionInfo": {
     "elapsed": 1069,
     "status": "ok",
     "timestamp": 1589113646746,
     "user": {
      "displayName": "Srijeet Chatterjee",
      "photoUrl": "https://lh3.googleusercontent.com/a-/AOh14GhvLyI2L7rMpswCMPIIHugxGS37iH6O6W9QSxh_Zw=s64",
      "userId": "01014322814526133923"
     },
     "user_tz": -330
    },
    "id": "8lYaNjzUjDfH",
    "outputId": "18d68182-3af1-4058-82c4-3ebccece5540"
   },
   "outputs": [
    {
     "name": "stdout",
     "output_type": "stream",
     "text": [
      "Batwoman\n"
     ]
    }
   ],
   "source": [
    "# Python program to illustrate\n",
    "# optional matching\n",
    "# with question mark(?)\n",
    "import re\n",
    "batRegex = re.compile(r'Bat(wo)?man')\n",
    "mo2 = batRegex.search('The Adventures of Batwoman')\n",
    "print(mo2.group())"
   ]
  },
  {
   "cell_type": "markdown",
   "metadata": {
    "colab_type": "text",
    "id": "jTNr-mYfjgxN"
   },
   "source": [
    "    The (wo)? part of the regular expression means that the pattern wo is \n",
    "    an optional group. The regex will match text that has zero instances or \n",
    "    one instance of wo in it. This is why the regex matches both 'Batwoman' \n",
    "    and 'Batman'.\n",
    "    \n",
    "You can think of the ? as saying, “Match zero or one of the group preceding this question mark.” If you need to match an actual question mark character, escape it with \\?."
   ]
  },
  {
   "cell_type": "markdown",
   "metadata": {
    "colab_type": "text",
    "id": "ge-hAZsEjpiU"
   },
   "source": [
    "    Matching Zero or More with the Star\n",
    "    \n",
    "The * (called the star or asterisk) means “match zero or more”—the group that precedes the star can occur any number of times in the text. It can be completely absent or repeated over and over again. Let’s look at the Batman example again."
   ]
  },
  {
   "cell_type": "code",
   "execution_count": 0,
   "metadata": {
    "colab": {
     "base_uri": "https://localhost:8080/",
     "height": 35
    },
    "colab_type": "code",
    "executionInfo": {
     "elapsed": 1087,
     "status": "ok",
     "timestamp": 1589113706519,
     "user": {
      "displayName": "Srijeet Chatterjee",
      "photoUrl": "https://lh3.googleusercontent.com/a-/AOh14GhvLyI2L7rMpswCMPIIHugxGS37iH6O6W9QSxh_Zw=s64",
      "userId": "01014322814526133923"
     },
     "user_tz": -330
    },
    "id": "xYVTeqq9jDcO",
    "outputId": "5e7f4c5a-5b66-4f9c-86fa-aa9a822928ad"
   },
   "outputs": [
    {
     "name": "stdout",
     "output_type": "stream",
     "text": [
      "Batman\n"
     ]
    }
   ],
   "source": [
    "# Python program to illustrate\n",
    "# matching a regular expression\n",
    "# with asterisk(*)\n",
    "import re\n",
    "batRegex = re.compile(r'Bat(wo)*man')\n",
    "mo1 = batRegex.search('The Adventures of Batman')\n",
    "print(mo1.group())"
   ]
  },
  {
   "cell_type": "code",
   "execution_count": 0,
   "metadata": {
    "colab": {
     "base_uri": "https://localhost:8080/",
     "height": 35
    },
    "colab_type": "code",
    "executionInfo": {
     "elapsed": 1156,
     "status": "ok",
     "timestamp": 1589113714185,
     "user": {
      "displayName": "Srijeet Chatterjee",
      "photoUrl": "https://lh3.googleusercontent.com/a-/AOh14GhvLyI2L7rMpswCMPIIHugxGS37iH6O6W9QSxh_Zw=s64",
      "userId": "01014322814526133923"
     },
     "user_tz": -330
    },
    "id": "QKLfYcx4jDZP",
    "outputId": "a7fd6c73-9d3e-48f3-af93-fef7624daec3"
   },
   "outputs": [
    {
     "name": "stdout",
     "output_type": "stream",
     "text": [
      "Batwoman\n"
     ]
    }
   ],
   "source": [
    "#python program to illustrate\n",
    "#matching a regular expression\n",
    "#with asterisk(*)\n",
    "import re\n",
    "batRegex = re.compile(r'Bat(wo)*man')\n",
    "mo2 = batRegex.search('The Adventures of Batwoman')\n",
    "print(mo2.group())"
   ]
  },
  {
   "cell_type": "code",
   "execution_count": 0,
   "metadata": {
    "colab": {
     "base_uri": "https://localhost:8080/",
     "height": 35
    },
    "colab_type": "code",
    "executionInfo": {
     "elapsed": 1581,
     "status": "ok",
     "timestamp": 1589113721654,
     "user": {
      "displayName": "Srijeet Chatterjee",
      "photoUrl": "https://lh3.googleusercontent.com/a-/AOh14GhvLyI2L7rMpswCMPIIHugxGS37iH6O6W9QSxh_Zw=s64",
      "userId": "01014322814526133923"
     },
     "user_tz": -330
    },
    "id": "aqOw7i7ajDW4",
    "outputId": "536159e2-b9a4-4416-cfda-07ad0b8b241a"
   },
   "outputs": [
    {
     "name": "stdout",
     "output_type": "stream",
     "text": [
      "Batwowowowoman\n"
     ]
    }
   ],
   "source": [
    "# Python program to illustrate\n",
    "# matching a regular expression\n",
    "# with asterisk(*)\n",
    "import re\n",
    "batRegex = re.compile(r'Bat(wo)*man')\n",
    "mo3 = batRegex.search('The Adventures of Batwowowowoman')\n",
    "print(mo3.group())"
   ]
  },
  {
   "cell_type": "markdown",
   "metadata": {
    "colab_type": "text",
    "id": "wdF1P4zOj1AC"
   },
   "source": [
    "    For 'Batman', the (wo)* part of the regex matches zero instances of wo \n",
    "    in the string; for 'Batwoman', the (wo)* matches one instance of wo; \n",
    "    and for 'Batwowowowoman', (wo)* matches four instances of wo."
   ]
  },
  {
   "cell_type": "markdown",
   "metadata": {
    "colab_type": "text",
    "id": "30oOMdgwkCCg"
   },
   "source": [
    "    If you need to match an actual star character, prefix the star in the regular expression with a backslash, \\*."
   ]
  },
  {
   "cell_type": "markdown",
   "metadata": {
    "colab_type": "text",
    "id": "BDiTUOQBkGWk"
   },
   "source": [
    "    Matching One or More with the Plus\n",
    "\n",
    "While * means “match zero or more, ” the + (or plus) means “match one or more.” Unlike the star, which does not require its group to appear in the matched string, the group preceding a plus must appear at least once. It is not optional. Enter the following into the interactive shell, and compare it with the star regexes in the previous section:"
   ]
  },
  {
   "cell_type": "code",
   "execution_count": 0,
   "metadata": {
    "colab": {
     "base_uri": "https://localhost:8080/",
     "height": 35
    },
    "colab_type": "code",
    "executionInfo": {
     "elapsed": 1204,
     "status": "ok",
     "timestamp": 1589113827975,
     "user": {
      "displayName": "Srijeet Chatterjee",
      "photoUrl": "https://lh3.googleusercontent.com/a-/AOh14GhvLyI2L7rMpswCMPIIHugxGS37iH6O6W9QSxh_Zw=s64",
      "userId": "01014322814526133923"
     },
     "user_tz": -330
    },
    "id": "ju0rF3-Oj0bZ",
    "outputId": "03219da1-d6b0-4866-99ba-c62d38c5a446"
   },
   "outputs": [
    {
     "name": "stdout",
     "output_type": "stream",
     "text": [
      "Batwoman\n"
     ]
    }
   ],
   "source": [
    "# Python program to illustrate\n",
    "# matching a regular expression\n",
    "# with plus(+)\n",
    "import re\n",
    "batRegex = re.compile(r'Bat(wo)+man')\n",
    "mo1 = batRegex.search('The Adventures of Batwoman')\n",
    "print(mo1.group())"
   ]
  },
  {
   "cell_type": "code",
   "execution_count": 0,
   "metadata": {
    "colab": {
     "base_uri": "https://localhost:8080/",
     "height": 35
    },
    "colab_type": "code",
    "executionInfo": {
     "elapsed": 1228,
     "status": "ok",
     "timestamp": 1589113838047,
     "user": {
      "displayName": "Srijeet Chatterjee",
      "photoUrl": "https://lh3.googleusercontent.com/a-/AOh14GhvLyI2L7rMpswCMPIIHugxGS37iH6O6W9QSxh_Zw=s64",
      "userId": "01014322814526133923"
     },
     "user_tz": -330
    },
    "id": "DVNKQYROjDUU",
    "outputId": "d7152242-505b-4ac6-ea1d-2d1f092777d8"
   },
   "outputs": [
    {
     "name": "stdout",
     "output_type": "stream",
     "text": [
      "Batwowowowoman\n"
     ]
    }
   ],
   "source": [
    "# Python program to illustrate\n",
    "# matching a regular expression\n",
    "# with plus(+)\n",
    "import re\n",
    "batRegex = re.compile(r'Bat(wo)+man')\n",
    "mo2 = batRegex.search('The Adventures of Batwowowowoman')\n",
    "print(mo2.group())"
   ]
  },
  {
   "cell_type": "code",
   "execution_count": 0,
   "metadata": {
    "colab": {
     "base_uri": "https://localhost:8080/",
     "height": 35
    },
    "colab_type": "code",
    "executionInfo": {
     "elapsed": 1141,
     "status": "ok",
     "timestamp": 1589113855532,
     "user": {
      "displayName": "Srijeet Chatterjee",
      "photoUrl": "https://lh3.googleusercontent.com/a-/AOh14GhvLyI2L7rMpswCMPIIHugxGS37iH6O6W9QSxh_Zw=s64",
      "userId": "01014322814526133923"
     },
     "user_tz": -330
    },
    "id": "ADpPGwfbjDSX",
    "outputId": "eca701fe-7bd2-4e6b-bc71-63265432b420"
   },
   "outputs": [
    {
     "name": "stdout",
     "output_type": "stream",
     "text": [
      "True\n"
     ]
    }
   ],
   "source": [
    "# Python program to illustrate\n",
    "# matching a regular expression\n",
    "# with plus(+)\n",
    "import re\n",
    "batRegex = re.compile(r'Bat(wo)+man')\n",
    "mo3 = batRegex.search('The Adventures of Batman')== None\n",
    "print(mo3)"
   ]
  },
  {
   "cell_type": "markdown",
   "metadata": {
    "colab_type": "text",
    "id": "zGBYk_8lkVw5"
   },
   "source": [
    "The regex Bat(wo)+man will not match the string 'The Adventures of Batman' because at least one wo is required by the plus sign.\n",
    "\n",
    "    If you need to match an actual plus sign character, prefix the plus sign with a backslash to escape it: \\+.\n",
    "\n"
   ]
  },
  {
   "cell_type": "markdown",
   "metadata": {
    "colab_type": "text",
    "id": "QsKHpz-Qkc_4"
   },
   "source": [
    "#### Python Regex to extract maximum numeric value from a string"
   ]
  },
  {
   "cell_type": "markdown",
   "metadata": {
    "colab_type": "text",
    "id": "2JOirA7bkgFb"
   },
   "source": [
    "Given an alphanumeric string, extract maximum numeric value from that string. Alphabets will only be in lower case.\n",
    "\n",
    "```\n",
    "Examples:\n",
    "\n",
    "Input : 100klh564abc365bg\n",
    "Output : 564\n",
    "Maximum numeric value among 100, 564 \n",
    "and 365 is 564.\n",
    "\n",
    "Input : abchsd0sdhs\n",
    "Output : 0\n",
    "```\n"
   ]
  },
  {
   "cell_type": "markdown",
   "metadata": {
    "colab_type": "text",
    "id": "nyuS8t3Ykn-p"
   },
   "source": [
    "This problem has existing solution please refer Extract maximum numeric value from a given string | Set 1 (General approach) link. We will solve this problem quickly in python using Regex. Approach is very simple,\n",
    "\n",
    "    1. Find list of all integer numbers in string separated by lower \n",
    "       case characters using re.findall(expression,string) method.\n",
    "\n",
    "    2. Convert each number in form of string into decimal number and then \n",
    "       find max of it.\n",
    "\n"
   ]
  },
  {
   "cell_type": "code",
   "execution_count": 0,
   "metadata": {
    "colab": {
     "base_uri": "https://localhost:8080/",
     "height": 53
    },
    "colab_type": "code",
    "executionInfo": {
     "elapsed": 1207,
     "status": "ok",
     "timestamp": 1589114030283,
     "user": {
      "displayName": "Srijeet Chatterjee",
      "photoUrl": "https://lh3.googleusercontent.com/a-/AOh14GhvLyI2L7rMpswCMPIIHugxGS37iH6O6W9QSxh_Zw=s64",
      "userId": "01014322814526133923"
     },
     "user_tz": -330
    },
    "id": "OlFXz0z7jDQg",
    "outputId": "d72b92f4-d246-4bac-db3e-9c6ca9ae1075"
   },
   "outputs": [
    {
     "name": "stdout",
     "output_type": "stream",
     "text": [
      "['100', '564', '365']\n",
      "564\n"
     ]
    }
   ],
   "source": [
    "# Function to extract maximum numeric value from \n",
    "# a given string\n",
    "import re\n",
    "\n",
    "def extractMax(input):\n",
    "\n",
    "     # get a list of all numbers separated by \n",
    "     # lower case characters \n",
    "     # \\d+ is a regular expression which means\n",
    "     # one or more digit\n",
    "     # output will be like ['100','564','365']\n",
    "     numbers = re.findall('\\d+',input)\n",
    "     print(numbers)\n",
    "\n",
    "     # now we need to convert each number into integer\n",
    "     # int(string) converts string into integer\n",
    "     # we will map int() function onto all elements \n",
    "     # of numbers list\n",
    "     numbers = map(int,numbers)\n",
    "\n",
    "     print (max(numbers))\n",
    "\n",
    "# Driver program\n",
    "if __name__ == \"__main__\":\n",
    "    input = '100klh564abc365bg'\n",
    "    extractMax(input)"
   ]
  },
  {
   "cell_type": "markdown",
   "metadata": {
    "colab_type": "text",
    "id": "0fJsSQYl_zGo"
   },
   "source": [
    "###Module 4 : Classes and Functions :"
   ]
  },
  {
   "cell_type": "markdown",
   "metadata": {
    "colab_type": "text",
    "id": "CxZJ3jZQn6xz"
   },
   "source": [
    "#### Set2:(Variables, Expressions ,Conditions and Functions ):"
   ]
  },
  {
   "cell_type": "markdown",
   "metadata": {
    "colab_type": "text",
    "id": "xUZkaPe_31LS"
   },
   "source": [
    "##### Dictionaries , Random , Date&Time"
   ]
  },
  {
   "cell_type": "markdown",
   "metadata": {
    "colab_type": "text",
    "id": "QaF3_fc9CnJb"
   },
   "source": [
    "And Intro to Dictionaries:"
   ]
  },
  {
   "cell_type": "code",
   "execution_count": 0,
   "metadata": {
    "colab": {
     "base_uri": "https://localhost:8080/",
     "height": 199
    },
    "colab_type": "code",
    "executionInfo": {
     "elapsed": 1075,
     "status": "ok",
     "timestamp": 1588534686961,
     "user": {
      "displayName": "Srijeet Chatterjee",
      "photoUrl": "https://lh3.googleusercontent.com/a-/AOh14GhvLyI2L7rMpswCMPIIHugxGS37iH6O6W9QSxh_Zw=s64",
      "userId": "01014322814526133923"
     },
     "user_tz": -330
    },
    "id": "y9ysoW_NCqQz",
    "outputId": "0f027c4d-2c4b-4f61-a2ef-5ad596a5e742"
   },
   "outputs": [
    {
     "name": "stdout",
     "output_type": "stream",
     "text": [
      "{'xyz': 123, 'abc': 345}\n",
      "dict_keys(['xyz', 'abc'])\n",
      "dict_values([123, 345])\n",
      "xyz  123\n",
      "abc  345\n",
      "0 xyz 123\n",
      "1 abc 345\n",
      "xyz\n",
      "xyz\n"
     ]
    },
    {
     "data": {
      "text/plain": [
       "False"
      ]
     },
     "execution_count": 6,
     "metadata": {
      "tags": []
     },
     "output_type": "execute_result"
    }
   ],
   "source": [
    "# Create a new dictionary  \n",
    "d = dict() # or d = {} \n",
    "  \n",
    "# Add a key - value pairs to dictionary \n",
    "d['xyz'] = 123\n",
    "d['abc'] = 345\n",
    "  \n",
    "# print the whole dictionary \n",
    "print (d)\n",
    "  \n",
    "# print only the keys \n",
    "print (d.keys()) \n",
    "  \n",
    "# print only values \n",
    "print (d.values() )\n",
    "  \n",
    "# iterate over dictionary  \n",
    "for i in d : \n",
    "    print (\"%s  %d\" %(i, d[i]) )\n",
    "  \n",
    "# another method of iteration \n",
    "for index, key in enumerate(d): \n",
    "    print (index, key, d[key]) \n",
    "  \n",
    "# check if key exist \n",
    "print ('xyz') in d \n",
    "  \n",
    "# delete the key-value pair \n",
    "del d['xyz'] \n",
    "  \n",
    "# check again  \n",
    "print (\"xyz\") in d \n"
   ]
  },
  {
   "cell_type": "markdown",
   "metadata": {
    "colab_type": "text",
    "id": "r50HYvn9CTL3"
   },
   "source": [
    "MAP , FILTER and LAMBDA "
   ]
  },
  {
   "cell_type": "code",
   "execution_count": 0,
   "metadata": {
    "colab": {
     "base_uri": "https://localhost:8080/",
     "height": 144
    },
    "colab_type": "code",
    "executionInfo": {
     "elapsed": 1122,
     "status": "ok",
     "timestamp": 1588534681143,
     "user": {
      "displayName": "Srijeet Chatterjee",
      "photoUrl": "https://lh3.googleusercontent.com/a-/AOh14GhvLyI2L7rMpswCMPIIHugxGS37iH6O6W9QSxh_Zw=s64",
      "userId": "01014322814526133923"
     },
     "user_tz": -330
    },
    "id": "yDlGEb94_34I",
    "outputId": "cf101617-e34f-409b-c7eb-ac08ac5432d0"
   },
   "outputs": [
    {
     "name": "stdout",
     "output_type": "stream",
     "text": [
      "MAP EXAMPLES\n",
      "<map object at 0x7f9c5e942e80>\n",
      "LAMBDA EXAMPLES\n",
      "25\n",
      "12\n",
      "FILTER EXAMPLE\n",
      "<filter object at 0x7f9c5e942ef0>\n"
     ]
    }
   ],
   "source": [
    "# Python program to test map, filter and lambda \n",
    "  \n",
    "# Function to test map  \n",
    "def cube(x): \n",
    "    return x**2\n",
    "  \n",
    "# Driver to test above function \n",
    "  \n",
    "# Program for working of map  \n",
    "print (\"MAP EXAMPLES\")\n",
    "cubes = map(cube, range(10)) \n",
    "print (cubes) \n",
    "  \n",
    "print (\"LAMBDA EXAMPLES\")\n",
    "  \n",
    "# first parentheses contains a lambda form, that is   \n",
    "# a squaring function and second parentheses represents \n",
    "# calling lambda \n",
    "print ((lambda x: x**2)(5) )\n",
    "  \n",
    "# Make function of two arguments that return their product \n",
    "print ((lambda x, y: x*y)(3, 4) )\n",
    "  \n",
    "  \n",
    "print (\"FILTER EXAMPLE\")\n",
    "special_cubes = filter(lambda x: x > 9 and x < 60, cubes) \n",
    "print (special_cubes) \n"
   ]
  },
  {
   "cell_type": "code",
   "execution_count": 0,
   "metadata": {
    "colab": {
     "base_uri": "https://localhost:8080/",
     "height": 35
    },
    "colab_type": "code",
    "executionInfo": {
     "elapsed": 1082,
     "status": "ok",
     "timestamp": 1588534968488,
     "user": {
      "displayName": "Srijeet Chatterjee",
      "photoUrl": "https://lh3.googleusercontent.com/a-/AOh14GhvLyI2L7rMpswCMPIIHugxGS37iH6O6W9QSxh_Zw=s64",
      "userId": "01014322814526133923"
     },
     "user_tz": -330
    },
    "id": "ZK60pDXACWCB",
    "outputId": "95512c36-3800-4bf7-9eac-fc3010533adc"
   },
   "outputs": [
    {
     "data": {
      "text/plain": [
       "type"
      ]
     },
     "execution_count": 8,
     "metadata": {
      "tags": []
     },
     "output_type": "execute_result"
    }
   ],
   "source": [
    "type(int)"
   ]
  },
  {
   "cell_type": "code",
   "execution_count": 0,
   "metadata": {
    "colab": {
     "base_uri": "https://localhost:8080/",
     "height": 35
    },
    "colab_type": "code",
    "executionInfo": {
     "elapsed": 1319,
     "status": "ok",
     "timestamp": 1588535082574,
     "user": {
      "displayName": "Srijeet Chatterjee",
      "photoUrl": "https://lh3.googleusercontent.com/a-/AOh14GhvLyI2L7rMpswCMPIIHugxGS37iH6O6W9QSxh_Zw=s64",
      "userId": "01014322814526133923"
     },
     "user_tz": -330
    },
    "id": "nR6noK1vD7x_",
    "outputId": "96eed8c5-f0e1-435f-8bdd-fe92f05aeead"
   },
   "outputs": [
    {
     "data": {
      "text/plain": [
       "'A'"
      ]
     },
     "execution_count": 11,
     "metadata": {
      "tags": []
     },
     "output_type": "execute_result"
    }
   ],
   "source": [
    "chr(ord(\"A\"))"
   ]
  },
  {
   "cell_type": "markdown",
   "metadata": {
    "colab_type": "text",
    "id": "lb-VPs2qMz4Z"
   },
   "source": [
    "DATE &  TIME "
   ]
  },
  {
   "cell_type": "code",
   "execution_count": 0,
   "metadata": {
    "colab": {
     "base_uri": "https://localhost:8080/",
     "height": 53
    },
    "colab_type": "code",
    "executionInfo": {
     "elapsed": 1301,
     "status": "ok",
     "timestamp": 1588537319797,
     "user": {
      "displayName": "Srijeet Chatterjee",
      "photoUrl": "https://lh3.googleusercontent.com/a-/AOh14GhvLyI2L7rMpswCMPIIHugxGS37iH6O6W9QSxh_Zw=s64",
      "userId": "01014322814526133923"
     },
     "user_tz": -330
    },
    "id": "dqCvyDZ3EUuw",
    "outputId": "52027a72-78cf-49fb-d067-8ae0dcbc781e"
   },
   "outputs": [
    {
     "name": "stdout",
     "output_type": "stream",
     "text": [
      "1588537320.4920733\n",
      "1970-01-06\n"
     ]
    }
   ],
   "source": [
    "# importing built in module datetime\n",
    "import datetime\n",
    "from datetime import date\n",
    "import time\n",
    "\n",
    "# Returns the number of seconds since the\n",
    "# Unix Epoch, January 1st 1970\n",
    "print (time.time() )\n",
    "\n",
    "# Converts a number of seconds to a date object\n",
    "print (date.fromtimestamp(454554))"
   ]
  },
  {
   "cell_type": "markdown",
   "metadata": {
    "colab_type": "text",
    "id": "YzWMDT_eM5ht"
   },
   "source": [
    "RANDOM:"
   ]
  },
  {
   "cell_type": "code",
   "execution_count": 0,
   "metadata": {
    "colab": {
     "base_uri": "https://localhost:8080/",
     "height": 90
    },
    "colab_type": "code",
    "executionInfo": {
     "elapsed": 1133,
     "status": "ok",
     "timestamp": 1588537341125,
     "user": {
      "displayName": "Srijeet Chatterjee",
      "photoUrl": "https://lh3.googleusercontent.com/a-/AOh14GhvLyI2L7rMpswCMPIIHugxGS37iH6O6W9QSxh_Zw=s64",
      "userId": "01014322814526133923"
     },
     "user_tz": -330
    },
    "id": "KjgGIBn0M6kM",
    "outputId": "de272900-fc28-48ba-e8a0-8850b521f7a9"
   },
   "outputs": [
    {
     "name": "stdout",
     "output_type": "stream",
     "text": [
      "1\n",
      "0.3365023683229488\n",
      "7.697218975103159\n",
      "1\n"
     ]
    }
   ],
   "source": [
    "# importing built in module random\n",
    "import random\n",
    "\n",
    "# printing random integer between 0 and 5\n",
    "print (random.randint(0, 5)) \n",
    "\n",
    "# print random floating point number between 0 and 1\n",
    "print (random.random()) \n",
    "\n",
    "# random number between 0 and 100\n",
    "print (random.random() * 100) \n",
    "\n",
    "List = [1, 4, True, 800, \"python\", 27, \"hello\"]\n",
    "\n",
    "# using choice function in random module for choosing \n",
    "# a random element from a set such as a list\n",
    "print (random.choice(List))"
   ]
  },
  {
   "cell_type": "code",
   "execution_count": 0,
   "metadata": {
    "colab": {},
    "colab_type": "code",
    "id": "mSPhE-mtM7Dn"
   },
   "outputs": [],
   "source": []
  },
  {
   "cell_type": "code",
   "execution_count": 0,
   "metadata": {
    "colab": {},
    "colab_type": "code",
    "id": "x8MmmakRpDde"
   },
   "outputs": [],
   "source": []
  },
  {
   "cell_type": "markdown",
   "metadata": {
    "colab_type": "text",
    "id": "sz3hYvsKF4UR"
   },
   "source": [
    "####Writing Empty Functions in Python : Pass statement :"
   ]
  },
  {
   "cell_type": "code",
   "execution_count": 0,
   "metadata": {
    "colab": {},
    "colab_type": "code",
    "id": "-3DgJ2fFpDiE"
   },
   "outputs": [],
   "source": [
    "def sri():\n",
    "  pass"
   ]
  },
  {
   "cell_type": "code",
   "execution_count": 0,
   "metadata": {
    "colab": {},
    "colab_type": "code",
    "id": "6dGkPJCPpDmq"
   },
   "outputs": [],
   "source": [
    "# Empty loop in Python\n",
    "mutex = True\n",
    "while (mutex == True) :\n",
    "    pass"
   ]
  },
  {
   "cell_type": "markdown",
   "metadata": {
    "colab_type": "text",
    "id": "47a-lRDrGRQE"
   },
   "source": [
    "####Using Yeild Instead of Return :"
   ]
  },
  {
   "cell_type": "markdown",
   "metadata": {
    "colab_type": "text",
    "id": "3xv3w50nGZJp"
   },
   "source": [
    "    The yield statement suspends function's execution and sends a value \n",
    "    back to the caller, but retains enough state to enable function to \n",
    "    resume where it is left off. When resumed, the function continues \n",
    "    execution immediately after the last yield run. This allows its code \n",
    "    to produce a series of values over time, rather than computing them \n",
    "    at once and sending them back like a list.\n",
    "\n",
    "Let’s see with an example:"
   ]
  },
  {
   "cell_type": "code",
   "execution_count": 0,
   "metadata": {
    "colab": {
     "base_uri": "https://localhost:8080/",
     "height": 72
    },
    "colab_type": "code",
    "executionInfo": {
     "elapsed": 2034,
     "status": "ok",
     "timestamp": 1588602743370,
     "user": {
      "displayName": "Srijeet Chatterjee",
      "photoUrl": "https://lh3.googleusercontent.com/a-/AOh14GhvLyI2L7rMpswCMPIIHugxGS37iH6O6W9QSxh_Zw=s64",
      "userId": "01014322814526133923"
     },
     "user_tz": -330
    },
    "id": "eTnvVmNcGWvC",
    "outputId": "348a3ec2-191b-4e93-a6eb-3d31904ceee2"
   },
   "outputs": [
    {
     "name": "stdout",
     "output_type": "stream",
     "text": [
      "1\n",
      "2\n",
      "3\n"
     ]
    }
   ],
   "source": [
    "# A Simple Python program to demonstrate working\n",
    "# of yield\n",
    "\n",
    "# A generator function that yields 1 for the first time,\n",
    "# 2 second time and 3 third time\n",
    "def simpleGeneratorFun():\n",
    "    yield 1\n",
    "    yield 2\n",
    "    yield 3\n",
    "\n",
    "# Driver code to check above generator function\n",
    "for value in simpleGeneratorFun(): \n",
    "    print(value)\n"
   ]
  },
  {
   "cell_type": "markdown",
   "metadata": {
    "colab_type": "text",
    "id": "-BQMpLEMGlTJ"
   },
   "source": [
    "  Return sends a specified value back to its caller whereas Yield can produce a sequence of values. We should use yield when we want to iterate over a sequence, but don't want to store the entire sequence in memory.\n",
    "\n",
    "    Yield are used in Python generators. \n",
    "    \n",
    "  A generator function is defined like a normal function, but whenever it needs to generate a value, it does so with the yield keyword rather than return. If the body of a def contains yield, the function automatically becomes a generator function.\n"
   ]
  },
  {
   "cell_type": "code",
   "execution_count": 0,
   "metadata": {
    "colab": {
     "base_uri": "https://localhost:8080/",
     "height": 199
    },
    "colab_type": "code",
    "executionInfo": {
     "elapsed": 849,
     "status": "ok",
     "timestamp": 1588602990558,
     "user": {
      "displayName": "Srijeet Chatterjee",
      "photoUrl": "https://lh3.googleusercontent.com/a-/AOh14GhvLyI2L7rMpswCMPIIHugxGS37iH6O6W9QSxh_Zw=s64",
      "userId": "01014322814526133923"
     },
     "user_tz": -330
    },
    "id": "dJd3nsMhGWzP",
    "outputId": "dd03dc44-949c-465d-9de7-1becab46219a"
   },
   "outputs": [
    {
     "name": "stdout",
     "output_type": "stream",
     "text": [
      "1\n",
      "4\n",
      "9\n",
      "16\n",
      "25\n",
      "36\n",
      "49\n",
      "64\n",
      "81\n",
      "100\n"
     ]
    }
   ],
   "source": [
    "# A Python program to generate squares from 1\n",
    "# to 100 using yield and therefore generator\n",
    "\n",
    "# An infinite generator function that prints\n",
    "# next square number. It starts with 1\n",
    "def nextSquare():\n",
    "    i = 1;\n",
    "\n",
    "    # An Infinite loop to generate squares \n",
    "    while True:\n",
    "        yield i*i                \n",
    "        i += 1  # Next execution resumes \n",
    "                # from this point     \n",
    "\n",
    "# Driver code to test above generator \n",
    "# function\n",
    "for num in nextSquare():\n",
    "    if num > 100:\n",
    "         break    \n",
    "    print(num)"
   ]
  },
  {
   "cell_type": "markdown",
   "metadata": {
    "colab_type": "text",
    "id": "czADT9W1Hqw6"
   },
   "source": [
    "####Python Modules :"
   ]
  },
  {
   "cell_type": "markdown",
   "metadata": {
    "colab_type": "text",
    "id": "eu0u_yvbHtrH"
   },
   "source": [
    "A module is a file containing Python definitions and statements. A module can define functions, classes and variables. A module can also include runnable code. Grouping related code into a module makes the code easier to understand and use.\n"
   ]
  },
  {
   "cell_type": "code",
   "execution_count": 0,
   "metadata": {
    "colab": {},
    "colab_type": "code",
    "id": "W4I3mzgFHt9_"
   },
   "outputs": [],
   "source": [
    "\n",
    "# A simple module, calc.py\n",
    "\n",
    "def add(x, y):\n",
    "    return (x+y)\n",
    "\n",
    "def subtract(x, y):\n",
    "    return (x-y)\n"
   ]
  },
  {
   "cell_type": "markdown",
   "metadata": {
    "colab_type": "text",
    "id": "Xa-nF1_vHzat"
   },
   "source": [
    "    The import statement \n",
    "\n",
    "We can use any Python source file as a module by executing an import statement in some other Python source file.\n",
    "When interpreter encounters an import statement, it imports the module if the module is present in the search path. A search path is a list of directories that the interpreter searches for importing a module. For example, to import the module calc.py, we need to put the following command at the top of the script :"
   ]
  },
  {
   "cell_type": "code",
   "execution_count": 0,
   "metadata": {
    "colab": {},
    "colab_type": "code",
    "id": "PkUhZsdKHuCO"
   },
   "outputs": [],
   "source": [
    "\n",
    "# importing  module calc.py\n",
    "import calc\n",
    "\n",
    "print (add(10, 2))\n"
   ]
  },
  {
   "cell_type": "markdown",
   "metadata": {
    "colab_type": "text",
    "id": "q7_7r6L0H-WE"
   },
   "source": [
    "    The from import Statement"
   ]
  },
  {
   "cell_type": "markdown",
   "metadata": {
    "colab_type": "text",
    "id": "s0oQf6o8ICh7"
   },
   "source": [
    "Python's from statement lets you import specific attributes from a module. The from .. import .. has the following syntax :"
   ]
  },
  {
   "cell_type": "code",
   "execution_count": 0,
   "metadata": {
    "colab": {
     "base_uri": "https://localhost:8080/",
     "height": 53
    },
    "colab_type": "code",
    "executionInfo": {
     "elapsed": 1270,
     "status": "ok",
     "timestamp": 1588603164513,
     "user": {
      "displayName": "Srijeet Chatterjee",
      "photoUrl": "https://lh3.googleusercontent.com/a-/AOh14GhvLyI2L7rMpswCMPIIHugxGS37iH6O6W9QSxh_Zw=s64",
      "userId": "01014322814526133923"
     },
     "user_tz": -330
    },
    "id": "01bRAnCWIApi",
    "outputId": "f9f4d89e-3309-4727-89ae-2a21a96b0f75"
   },
   "outputs": [
    {
     "name": "stdout",
     "output_type": "stream",
     "text": [
      "4.0\n",
      "720\n"
     ]
    }
   ],
   "source": [
    "# importing sqrt() and factorial from the \n",
    "# module math\n",
    "from math import sqrt, factorial\n",
    "\n",
    "# if we simply do \"import math\", then\n",
    "# math.sqrt(16) and math.factorial()\n",
    "# are required.\n",
    "print (sqrt(16))\n",
    "print (factorial(6))\n"
   ]
  },
  {
   "cell_type": "markdown",
   "metadata": {
    "colab_type": "text",
    "id": "2UWW5ZLgIKJr"
   },
   "source": [
    "    The dir() function \n",
    "    \n",
    "  The dir() built-in function returns a sorted list of strings containing the names defined by a module. The list contains the names of all the modules, variables and functions that are defined in a module.\n"
   ]
  },
  {
   "cell_type": "code",
   "execution_count": 0,
   "metadata": {
    "colab": {
     "base_uri": "https://localhost:8080/",
     "height": 55
    },
    "colab_type": "code",
    "executionInfo": {
     "elapsed": 1192,
     "status": "ok",
     "timestamp": 1588603202272,
     "user": {
      "displayName": "Srijeet Chatterjee",
      "photoUrl": "https://lh3.googleusercontent.com/a-/AOh14GhvLyI2L7rMpswCMPIIHugxGS37iH6O6W9QSxh_Zw=s64",
      "userId": "01014322814526133923"
     },
     "user_tz": -330
    },
    "id": "bqUjLd_2IQuQ",
    "outputId": "ecac013f-ddbe-4dcd-c6a5-88c472e9c459"
   },
   "outputs": [
    {
     "name": "stdout",
     "output_type": "stream",
     "text": [
      "['BPF', 'LOG4', 'NV_MAGICCONST', 'RECIP_BPF', 'Random', 'SG_MAGICCONST', 'SystemRandom', 'TWOPI', '_BuiltinMethodType', '_MethodType', '_Sequence', '_Set', '__all__', '__builtins__', '__cached__', '__doc__', '__file__', '__loader__', '__name__', '__package__', '__spec__', '_acos', '_bisect', '_ceil', '_cos', '_e', '_exp', '_inst', '_itertools', '_log', '_pi', '_random', '_sha512', '_sin', '_sqrt', '_test', '_test_generator', '_urandom', '_warn', 'betavariate', 'choice', 'choices', 'expovariate', 'gammavariate', 'gauss', 'getrandbits', 'getstate', 'lognormvariate', 'normalvariate', 'paretovariate', 'randint', 'random', 'randrange', 'sample', 'seed', 'setstate', 'shuffle', 'triangular', 'uniform', 'vonmisesvariate', 'weibullvariate']\n"
     ]
    }
   ],
   "source": [
    "#  Import built-in module  random\n",
    "import  random\n",
    "print  (dir(random))"
   ]
  },
  {
   "cell_type": "markdown",
   "metadata": {
    "colab_type": "text",
    "id": "9RNSp2pLIeWm"
   },
   "source": [
    "    Code Snippet illustrating python built-in modules: "
   ]
  },
  {
   "cell_type": "code",
   "execution_count": 0,
   "metadata": {
    "colab": {
     "base_uri": "https://localhost:8080/",
     "height": 162
    },
    "colab_type": "code",
    "executionInfo": {
     "elapsed": 1028,
     "status": "ok",
     "timestamp": 1588603366965,
     "user": {
      "displayName": "Srijeet Chatterjee",
      "photoUrl": "https://lh3.googleusercontent.com/a-/AOh14GhvLyI2L7rMpswCMPIIHugxGS37iH6O6W9QSxh_Zw=s64",
      "userId": "01014322814526133923"
     },
     "user_tz": -330
    },
    "id": "_IDWopJnIfOp",
    "outputId": "3fd6ef98-e355-4e5d-e399-a2a332aa88fd"
   },
   "outputs": [
    {
     "name": "stdout",
     "output_type": "stream",
     "text": [
      "5.0\n",
      "3.141592653589793\n",
      "114.59155902616465\n",
      "1.0471975511965976\n",
      "0.9092974268256817\n",
      "0.8775825618903728\n",
      "0.23414336235146527\n",
      "24\n"
     ]
    }
   ],
   "source": [
    "\n",
    "# importing built-in module math\n",
    "import math\n",
    "\n",
    "# using square root(sqrt) function contained \n",
    "# in math module\n",
    "print (math.sqrt(25)) \n",
    "\n",
    "# using pi function contained in math module\n",
    "print (math.pi) \n",
    "\n",
    "# 2 radians = 114.59 degreees\n",
    "print (math.degrees(2)) \n",
    "\n",
    "# 60 degrees = 1.04 radians\n",
    "print (math.radians(60)) \n",
    "\n",
    "# Sine of 2 radians\n",
    "print (math.sin(2)) \n",
    "\n",
    "# Cosine of 0.5 radians\n",
    "print (math.cos(0.5)) \n",
    "\n",
    "# Tangent of 0.23 radians\n",
    "print (math.tan(0.23))\n",
    "\n",
    "# 1 * 2 * 3 * 4 = 24\n",
    "print (math.factorial(4) )\n"
   ]
  },
  {
   "cell_type": "code",
   "execution_count": 0,
   "metadata": {
    "colab": {
     "base_uri": "https://localhost:8080/",
     "height": 90
    },
    "colab_type": "code",
    "executionInfo": {
     "elapsed": 998,
     "status": "ok",
     "timestamp": 1588603371520,
     "user": {
      "displayName": "Srijeet Chatterjee",
      "photoUrl": "https://lh3.googleusercontent.com/a-/AOh14GhvLyI2L7rMpswCMPIIHugxGS37iH6O6W9QSxh_Zw=s64",
      "userId": "01014322814526133923"
     },
     "user_tz": -330
    },
    "id": "-3rW3almImUj",
    "outputId": "60a17283-db26-4cdb-9905-c4baab318007"
   },
   "outputs": [
    {
     "name": "stdout",
     "output_type": "stream",
     "text": [
      "3\n",
      "0.495107937301308\n",
      "85.46122725262762\n",
      "27\n"
     ]
    }
   ],
   "source": [
    "# importing built in module random\n",
    "import random\n",
    "\n",
    "# printing random integer between 0 and 5\n",
    "print (random.randint(0, 5)) \n",
    "\n",
    "# print random floating point number between 0 and 1\n",
    "print (random.random()) \n",
    "\n",
    "# random number between 0 and 100\n",
    "print (random.random() * 100) \n",
    "\n",
    "List = [1, 4, True, 800, \"python\", 27, \"hello\"]\n",
    "\n",
    "# using choice function in random module for choosing \n",
    "# a random element from a set such as a list\n",
    "print (random.choice(List))\n"
   ]
  },
  {
   "cell_type": "code",
   "execution_count": 0,
   "metadata": {
    "colab": {
     "base_uri": "https://localhost:8080/",
     "height": 53
    },
    "colab_type": "code",
    "executionInfo": {
     "elapsed": 938,
     "status": "ok",
     "timestamp": 1588603375117,
     "user": {
      "displayName": "Srijeet Chatterjee",
      "photoUrl": "https://lh3.googleusercontent.com/a-/AOh14GhvLyI2L7rMpswCMPIIHugxGS37iH6O6W9QSxh_Zw=s64",
      "userId": "01014322814526133923"
     },
     "user_tz": -330
    },
    "id": "VuVekhLiIp8C",
    "outputId": "c0d95fb5-5d26-49fd-c80b-3d51ac371d7d"
   },
   "outputs": [
    {
     "name": "stdout",
     "output_type": "stream",
     "text": [
      "1588603374.7505958\n",
      "1970-01-06\n"
     ]
    }
   ],
   "source": [
    "# importing built in module datetime\n",
    "import datetime\n",
    "from datetime import date\n",
    "import time\n",
    "\n",
    "# Returns the number of seconds since the\n",
    "# Unix Epoch, January 1st 1970\n",
    "print (time.time() )\n",
    "\n",
    "# Converts a number of seconds to a date object\n",
    "print (date.fromtimestamp(454554)) "
   ]
  },
  {
   "cell_type": "markdown",
   "metadata": {
    "colab_type": "text",
    "id": "MesYiBKSoFXh"
   },
   "source": [
    "####Inheritence :"
   ]
  },
  {
   "cell_type": "markdown",
   "metadata": {
    "colab_type": "text",
    "id": "KF2rlCywoayd"
   },
   "source": [
    "One of the major advantages of Object Oriented Programming is re-use. Inheritance is one of the mechanisms to achieve the same. In inheritance, a class (usually called superclass) is inherited by another class (usually called subclass). The subclass adds some attributes to superclass.\n",
    "\n",
    "Below is a sample Python program to show how inheritance is implemented in Python"
   ]
  },
  {
   "cell_type": "code",
   "execution_count": 0,
   "metadata": {
    "colab": {
     "base_uri": "https://localhost:8080/",
     "height": 53
    },
    "colab_type": "code",
    "executionInfo": {
     "elapsed": 1123,
     "status": "ok",
     "timestamp": 1588578057065,
     "user": {
      "displayName": "Srijeet Chatterjee",
      "photoUrl": "https://lh3.googleusercontent.com/a-/AOh14GhvLyI2L7rMpswCMPIIHugxGS37iH6O6W9QSxh_Zw=s64",
      "userId": "01014322814526133923"
     },
     "user_tz": -330
    },
    "id": "c1727Vb8oI1v",
    "outputId": "e21a5c02-56db-46bf-cc5c-e4fdce7f0ccf"
   },
   "outputs": [
    {
     "name": "stdout",
     "output_type": "stream",
     "text": [
      "Geek1 False\n",
      "Geek2 True\n"
     ]
    }
   ],
   "source": [
    " \n",
    "# A Python program to demonstrate inheritance \n",
    "\n",
    "# Base or Super class. Note object in bracket.\n",
    "# (Generally, object is made ancestor of all classes)\n",
    "# In Python 3.x \"class Person\" is \n",
    "# equivalent to \"class Person(object)\"\n",
    "class Person(object):\n",
    "    \n",
    "    # Constructor\n",
    "    def __init__(self, name):\n",
    "        self.name = name\n",
    "\n",
    "    # To get name\n",
    "    def getName(self):\n",
    "        return self.name\n",
    "\n",
    "    # To check if this person is employee\n",
    "    def isEmployee(self):\n",
    "        return False\n",
    "\n",
    "\n",
    "# Inherited or Sub class (Note Person in bracket)\n",
    "class Employee(Person):\n",
    "\n",
    "    # Here we return true\n",
    "    def isEmployee(self):\n",
    "        return True\n",
    "\n",
    "# Driver code\n",
    "emp = Person(\"Geek1\")  # An Object of Person\n",
    "print(emp.getName(), emp.isEmployee())\n",
    "\n",
    "emp = Employee(\"Geek2\") # An Object of Employee\n",
    "print(emp.getName(), emp.isEmployee())\n"
   ]
  },
  {
   "cell_type": "markdown",
   "metadata": {
    "colab_type": "text",
    "id": "MM-ju3Poos5F"
   },
   "source": [
    "    How to check if a class is subclass of another? Python provides a function issubclass() that directly tells us if a class is subclass of another class."
   ]
  },
  {
   "cell_type": "code",
   "execution_count": 0,
   "metadata": {
    "colab": {
     "base_uri": "https://localhost:8080/",
     "height": 90
    },
    "colab_type": "code",
    "executionInfo": {
     "elapsed": 1216,
     "status": "ok",
     "timestamp": 1588578172185,
     "user": {
      "displayName": "Srijeet Chatterjee",
      "photoUrl": "https://lh3.googleusercontent.com/a-/AOh14GhvLyI2L7rMpswCMPIIHugxGS37iH6O6W9QSxh_Zw=s64",
      "userId": "01014322814526133923"
     },
     "user_tz": -330
    },
    "id": "qOCJ91PNoXZs",
    "outputId": "b6f5a808-8e00-43f1-9a4c-fb37a8d8ab7c"
   },
   "outputs": [
    {
     "name": "stdout",
     "output_type": "stream",
     "text": [
      "True\n",
      "False\n",
      "False\n",
      "True\n"
     ]
    }
   ],
   "source": [
    "# Python example to check if a class is\n",
    "# subclass of another\n",
    "\n",
    "class Base(object):\n",
    "    pass   # Empty Class\n",
    "\n",
    "class Derived(Base):\n",
    "    pass   # Empty Class\n",
    "\n",
    "# Driver Code\n",
    "print(issubclass(Derived, Base))\n",
    "print(issubclass(Base, Derived))\n",
    "\n",
    "d = Derived()\n",
    "b = Base()\n",
    "\n",
    "# b is not an instance of Derived\n",
    "print(isinstance(b, Derived))\n",
    "\n",
    "# But d is an instance of Base\n",
    "print(isinstance(d, Base))"
   ]
  },
  {
   "cell_type": "markdown",
   "metadata": {
    "colab_type": "text",
    "id": "2iHTrEuyo0eL"
   },
   "source": [
    "    What is object class? \n",
    "    \n",
    "    Like Java Object class, in Python (from version 3.x), object is root of all classes.\n",
    "\n",
    "    In Python 3.x, \"class Test(object)\" and \"class Test\" are same.\n",
    "\n",
    "In Python 2.x, \"class Test(object)\" creates a class with object as parent (called new style class) and \"class Test\" creates old style class (without object parent). Refer this for more details."
   ]
  },
  {
   "cell_type": "markdown",
   "metadata": {
    "colab_type": "text",
    "id": "U_hljrahpCYG"
   },
   "source": [
    "    Does Python support Multiple Inheritance? \n",
    "    \n",
    "    Unlike Java and like C++, Python supports multiple inheritance. We specify all parent classes as comma separated list in bracket."
   ]
  },
  {
   "cell_type": "code",
   "execution_count": 0,
   "metadata": {
    "colab": {},
    "colab_type": "code",
    "id": "T5v85aa9oq3L"
   },
   "outputs": [],
   "source": [
    "\n",
    "# Python example to show working of multiple \n",
    "# inheritance\n",
    "class Base1(object):\n",
    "  \n",
    "    def __init__(self):\n",
    "        self.str1 = \"Geek1\"\n",
    "        print (\"Base1\")\n",
    "\n",
    "class Base2(object):\n",
    "    def __init__(self):\n",
    "        self.str2 = \"Geek2\"        \n",
    "        print (\"Base2\")"
   ]
  },
  {
   "cell_type": "code",
   "execution_count": 0,
   "metadata": {
    "colab": {
     "base_uri": "https://localhost:8080/",
     "height": 90
    },
    "colab_type": "code",
    "executionInfo": {
     "elapsed": 1031,
     "status": "ok",
     "timestamp": 1588579127682,
     "user": {
      "displayName": "Srijeet Chatterjee",
      "photoUrl": "https://lh3.googleusercontent.com/a-/AOh14GhvLyI2L7rMpswCMPIIHugxGS37iH6O6W9QSxh_Zw=s64",
      "userId": "01014322814526133923"
     },
     "user_tz": -330
    },
    "id": "UKcpTh8PsOTH",
    "outputId": "9527c169-2cdd-48da-da17-4e9faa139cd0"
   },
   "outputs": [
    {
     "name": "stdout",
     "output_type": "stream",
     "text": [
      "Base1\n",
      "Base2\n",
      "Derived\n",
      "Geek1 Geek2\n"
     ]
    }
   ],
   "source": [
    "class Derived(Base1, Base2):\n",
    "  \n",
    "    def __init__(self):\n",
    "        \n",
    "        # Calling constructors of Base1\n",
    "        # and Base2 classes\n",
    "        Base1.__init__(self)\n",
    "        Base2.__init__(self)\n",
    "        print (\"Derived\")\n",
    "        \n",
    "    def printStrs(self):\n",
    "        print(self.str1, self.str2)\n",
    "       \n",
    "\n",
    "ob = Derived()\n",
    "ob.printStrs()"
   ]
  },
  {
   "cell_type": "markdown",
   "metadata": {
    "colab_type": "text",
    "id": "CLWfAYwAwV8K"
   },
   "source": [
    "    How to access parent members in a subclass? \n",
    "\n",
    "    1. Using Parent class name \n",
    "    2. Using super() "
   ]
  },
  {
   "cell_type": "code",
   "execution_count": 0,
   "metadata": {
    "colab": {
     "base_uri": "https://localhost:8080/",
     "height": 72
    },
    "colab_type": "code",
    "executionInfo": {
     "elapsed": 1034,
     "status": "ok",
     "timestamp": 1588580379294,
     "user": {
      "displayName": "Srijeet Chatterjee",
      "photoUrl": "https://lh3.googleusercontent.com/a-/AOh14GhvLyI2L7rMpswCMPIIHugxGS37iH6O6W9QSxh_Zw=s64",
      "userId": "01014322814526133923"
     },
     "user_tz": -330
    },
    "id": "cAu28_Qgph87",
    "outputId": "d5391ee1-a425-4918-d52f-00e1b1dbd3ff"
   },
   "outputs": [
    {
     "name": "stdout",
     "output_type": "stream",
     "text": [
      "10 20\n",
      "10 20\n",
      "10914784 10914784\n"
     ]
    }
   ],
   "source": [
    "\n",
    "# Python example to show that base\n",
    "# class members can be accessed in\n",
    "# derived class using base class name\n",
    "class Base(object):\n",
    "\n",
    "    # Constructor\n",
    "    def __init__(self, x):\n",
    "        self.x = x    \n",
    "\n",
    "class Derived(Base):\n",
    "\n",
    "    # Constructor\n",
    "    def __init__(self, x, y):\n",
    "        Base.x = x \n",
    "        self.y = y\n",
    "\n",
    "    def printXY(self):\n",
    "     \n",
    "       # print(self.x, self.y) will also work\n",
    "       print(Base.x, self.y)\n",
    "       print(self.x, self.y)\n",
    "       print(id(self.x),id(Base.x))\n",
    "\n",
    "\n",
    "# Driver Code\n",
    "d = Derived(10, 20)\n",
    "d.printXY()\n"
   ]
  },
  {
   "cell_type": "code",
   "execution_count": 0,
   "metadata": {
    "colab": {
     "base_uri": "https://localhost:8080/",
     "height": 35
    },
    "colab_type": "code",
    "executionInfo": {
     "elapsed": 1272,
     "status": "ok",
     "timestamp": 1588580395308,
     "user": {
      "displayName": "Srijeet Chatterjee",
      "photoUrl": "https://lh3.googleusercontent.com/a-/AOh14GhvLyI2L7rMpswCMPIIHugxGS37iH6O6W9QSxh_Zw=s64",
      "userId": "01014322814526133923"
     },
     "user_tz": -330
    },
    "id": "3sVu6QNIwp3e",
    "outputId": "599cd4fa-16cd-40b0-ff84-7baa2577ca1c"
   },
   "outputs": [
    {
     "name": "stdout",
     "output_type": "stream",
     "text": [
      "10 20\n"
     ]
    }
   ],
   "source": [
    "\n",
    "# Python example to show that base\n",
    "# class members can be accessed in\n",
    "# derived class using super()\n",
    "class Base(object):\n",
    "\n",
    "    # Constructor\n",
    "    def __init__(self, x):\n",
    "        self.x = x    \n",
    "\n",
    "class Derived(Base):\n",
    "\n",
    "    # Constructor\n",
    "    def __init__(self, x, y):\n",
    "        \n",
    "        ''' In Python 3.x, \"super().__init__(name)\"\n",
    "            also works''' \n",
    "        super(Derived, self).__init__(x)\n",
    "        self.y = y\n",
    "\n",
    "    def printXY(self):\n",
    "\n",
    "       # Note that Base.x won't work here\n",
    "       # because super() is used in constructor\n",
    "       print(self.x, self.y)\n",
    "\n",
    "\n",
    "# Driver Code\n",
    "d = Derived(10, 20)\n",
    "d.printXY()\n"
   ]
  },
  {
   "cell_type": "markdown",
   "metadata": {
    "colab_type": "text",
    "id": "LsxVblS1xYzp"
   },
   "source": [
    "    Note that the above two methods are not exactly the same. In the next article on inheritance, we will covering following topics.\n",
    "\n",
    "    1) How super works? How accessing a member through super and parent class name are different?\n",
    "    \n",
    "    2) How Diamond problem is handled in Python?"
   ]
  },
  {
   "cell_type": "markdown",
   "metadata": {
    "colab_type": "text",
    "id": "kZms_GilxhF8"
   },
   "source": [
    " **Exercise:** Predict the output of following Python programs"
   ]
  },
  {
   "cell_type": "code",
   "execution_count": 0,
   "metadata": {
    "colab": {
     "base_uri": "https://localhost:8080/",
     "height": 72
    },
    "colab_type": "code",
    "executionInfo": {
     "elapsed": 1262,
     "status": "ok",
     "timestamp": 1588580627277,
     "user": {
      "displayName": "Srijeet Chatterjee",
      "photoUrl": "https://lh3.googleusercontent.com/a-/AOh14GhvLyI2L7rMpswCMPIIHugxGS37iH6O6W9QSxh_Zw=s64",
      "userId": "01014322814526133923"
     },
     "user_tz": -330
    },
    "id": "5CNoY--Zw8Mm",
    "outputId": "672efa6b-cf72-41e2-ec1a-fdee384eed8b"
   },
   "outputs": [
    {
     "name": "stdout",
     "output_type": "stream",
     "text": [
      "4\n",
      "8\n",
      "24\n"
     ]
    }
   ],
   "source": [
    " \n",
    "class X(object):\n",
    "\n",
    "    def __init__(self, a):\n",
    "        self.num = a\n",
    "\n",
    "    def doubleup(self):\n",
    "        self.num *= 2\n",
    "\n",
    "class Y(X):\n",
    "\n",
    "    def __init__(self, a):\n",
    "        X.__init__(self, a)\n",
    "\n",
    "    def tripleup(self):\n",
    "        self.num *= 3\n",
    "\n",
    "obj = Y(4)\n",
    "print(obj.num)\n",
    "\n",
    "obj.doubleup()\n",
    "print(obj.num)\n",
    "\n",
    "obj.tripleup()\n",
    "print(obj.num)"
   ]
  },
  {
   "cell_type": "code",
   "execution_count": 0,
   "metadata": {
    "colab": {
     "base_uri": "https://localhost:8080/",
     "height": 35
    },
    "colab_type": "code",
    "executionInfo": {
     "elapsed": 885,
     "status": "ok",
     "timestamp": 1588580753204,
     "user": {
      "displayName": "Srijeet Chatterjee",
      "photoUrl": "https://lh3.googleusercontent.com/a-/AOh14GhvLyI2L7rMpswCMPIIHugxGS37iH6O6W9QSxh_Zw=s64",
      "userId": "01014322814526133923"
     },
     "user_tz": -330
    },
    "id": "HwtchUj3yJe2",
    "outputId": "eb0b6990-7f64-4488-ef73-2ce418c3b58d"
   },
   "outputs": [
    {
     "name": "stdout",
     "output_type": "stream",
     "text": [
      "Geek1 True E101\n"
     ]
    }
   ],
   "source": [
    "\n",
    "# Base or Super class\n",
    "class Person(object):\n",
    "\n",
    "    def __init__(self, name):\n",
    "        self.name = name\n",
    "        \n",
    "    def getName(self):\n",
    "        return self.name\n",
    "    \n",
    "    def isEmployee(self):\n",
    "        return False\n",
    "\n",
    "# Inherited or Subclass (Note Person in bracket)\n",
    "class Employee(Person):\n",
    "  \n",
    "    def __init__(self, name, eid):\n",
    "\n",
    "        ''' In Python 3.0+, \"super().__init__(name)\"\n",
    "            also works''' \n",
    "        super(Employee, self).__init__(name)\n",
    "        self.empID = eid\n",
    "        \n",
    "    def isEmployee(self):\n",
    "        return True\n",
    "        \n",
    "    def getID(self):\n",
    "        return self.empID\n",
    "\n",
    "# Driver code\n",
    "emp = Employee(\"Geek1\", \"E101\") \n",
    "print(emp.getName(), emp.isEmployee(), emp.getID())"
   ]
  },
  {
   "cell_type": "markdown",
   "metadata": {
    "colab_type": "text",
    "id": "AohL0sXVy5D9"
   },
   "source": [
    "#### Data hiding and Object Printing :"
   ]
  },
  {
   "cell_type": "markdown",
   "metadata": {
    "colab_type": "text",
    "id": "WE2JE4FEzC2-"
   },
   "source": [
    "    In Python, we use double underscore (Or __) before the attributes name and those attributes will not be directly visible outside."
   ]
  },
  {
   "cell_type": "code",
   "execution_count": 0,
   "metadata": {
    "colab": {
     "base_uri": "https://localhost:8080/",
     "height": 243
    },
    "colab_type": "code",
    "executionInfo": {
     "elapsed": 967,
     "status": "error",
     "timestamp": 1588580869458,
     "user": {
      "displayName": "Srijeet Chatterjee",
      "photoUrl": "https://lh3.googleusercontent.com/a-/AOh14GhvLyI2L7rMpswCMPIIHugxGS37iH6O6W9QSxh_Zw=s64",
      "userId": "01014322814526133923"
     },
     "user_tz": -330
    },
    "id": "csG_vpBeyprO",
    "outputId": "28809729-dcaa-40c6-ecaf-6fa26aa355e0"
   },
   "outputs": [
    {
     "name": "stdout",
     "output_type": "stream",
     "text": [
      "2\n",
      "7\n"
     ]
    },
    {
     "ename": "AttributeError",
     "evalue": "ignored",
     "output_type": "error",
     "traceback": [
      "\u001b[0;31m---------------------------------------------------------------------------\u001b[0m",
      "\u001b[0;31mAttributeError\u001b[0m                            Traceback (most recent call last)",
      "\u001b[0;32m<ipython-input-35-3d3b7a89d5af>\u001b[0m in \u001b[0;36m<module>\u001b[0;34m()\u001b[0m\n\u001b[1;32m     17\u001b[0m \u001b[0;34m\u001b[0m\u001b[0m\n\u001b[1;32m     18\u001b[0m \u001b[0;31m# This line causes error\u001b[0m\u001b[0;34m\u001b[0m\u001b[0;34m\u001b[0m\u001b[0;34m\u001b[0m\u001b[0m\n\u001b[0;32m---> 19\u001b[0;31m \u001b[0mprint\u001b[0m \u001b[0;34m(\u001b[0m\u001b[0mmyObject\u001b[0m\u001b[0;34m.\u001b[0m\u001b[0m__hiddenVariable\u001b[0m\u001b[0;34m)\u001b[0m\u001b[0;34m\u001b[0m\u001b[0;34m\u001b[0m\u001b[0m\n\u001b[0m",
      "\u001b[0;31mAttributeError\u001b[0m: 'MyClass' object has no attribute '__hiddenVariable'"
     ]
    }
   ],
   "source": [
    "\n",
    "class MyClass:\n",
    "\n",
    "    # Hidden member of MyClass\n",
    "    __hiddenVariable = 0\n",
    "  \n",
    "    # A member method that changes \n",
    "    # __hiddenVariable \n",
    "    def add(self, increment):\n",
    "        self.__hiddenVariable += increment\n",
    "        print (self.__hiddenVariable)\n",
    " \n",
    "# Driver code\n",
    "myObject = MyClass()     \n",
    "myObject.add(2)\n",
    "myObject.add(5)\n",
    "\n",
    "# This line causes error\n",
    "print (myObject.__hiddenVariable)\n"
   ]
  },
  {
   "cell_type": "markdown",
   "metadata": {
    "colab_type": "text",
    "id": "3T04_bKmzLWb"
   },
   "source": [
    "In the above program, we tried to access hidden variable outside the class using object and it threw an exception.\n",
    "\n",
    "We can access the value of hidden attribute by a tricky syntax:\n"
   ]
  },
  {
   "cell_type": "code",
   "execution_count": 0,
   "metadata": {
    "colab": {
     "base_uri": "https://localhost:8080/",
     "height": 35
    },
    "colab_type": "code",
    "executionInfo": {
     "elapsed": 1160,
     "status": "ok",
     "timestamp": 1588580906281,
     "user": {
      "displayName": "Srijeet Chatterjee",
      "photoUrl": "https://lh3.googleusercontent.com/a-/AOh14GhvLyI2L7rMpswCMPIIHugxGS37iH6O6W9QSxh_Zw=s64",
      "userId": "01014322814526133923"
     },
     "user_tz": -330
    },
    "id": "rAzqc0UuzGDh",
    "outputId": "7c6d6bfb-f62f-4c00-8894-15909bbd2895"
   },
   "outputs": [
    {
     "name": "stdout",
     "output_type": "stream",
     "text": [
      "10\n"
     ]
    }
   ],
   "source": [
    "\n",
    "# A Python program to demonstrate that hidden\n",
    "# members can be accessed outside a class\n",
    "class MyClass:\n",
    "\n",
    "    # Hidden member of MyClass\n",
    "    __hiddenVariable = 10\n",
    "\n",
    "# Driver code\n",
    "myObject = MyClass()     \n",
    "print(myObject._MyClass__hiddenVariable)\n"
   ]
  },
  {
   "cell_type": "markdown",
   "metadata": {
    "colab_type": "text",
    "id": "42aoZ5I6zU4x"
   },
   "source": [
    "Private methods are accessible outside their class, just not easily accessible. Nothing in Python is truly private; internally, the names of private methods and attributes are mangled and unmangled on the fly to make them seem inaccessible by their given names [See this for source :http://pages.cs.wisc.edu/~zeyuan/projects/notes/diveintopython/chap5.html ]. "
   ]
  },
  {
   "cell_type": "markdown",
   "metadata": {
    "colab_type": "text",
    "id": "HTo7FVSO0EUW"
   },
   "source": [
    "    Printing Objects\n",
    "\n",
    "Printing objects gives us information about objects we are working with. In C++, we can do this by adding a friend ostream& operator << (ostream&, const Foobar&) method for the class. In Java, we use toString() method.\n",
    "\n",
    "    In python this can be achieved by using __repr__ or __str__ methods."
   ]
  },
  {
   "cell_type": "code",
   "execution_count": 0,
   "metadata": {
    "colab": {
     "base_uri": "https://localhost:8080/",
     "height": 53
    },
    "colab_type": "code",
    "executionInfo": {
     "elapsed": 1012,
     "status": "ok",
     "timestamp": 1588581146068,
     "user": {
      "displayName": "Srijeet Chatterjee",
      "photoUrl": "https://lh3.googleusercontent.com/a-/AOh14GhvLyI2L7rMpswCMPIIHugxGS37iH6O6W9QSxh_Zw=s64",
      "userId": "01014322814526133923"
     },
     "user_tz": -330
    },
    "id": "1jp3O5IwzO_F",
    "outputId": "91679481-8519-44b4-ac5d-b289b1e17221"
   },
   "outputs": [
    {
     "name": "stdout",
     "output_type": "stream",
     "text": [
      "From str method of Test: a is 1234,b is 5678\n",
      "[Test a:1234 b:5678]\n"
     ]
    }
   ],
   "source": [
    "\n",
    "class Test:\n",
    "    def __init__(self, a, b):\n",
    "        self.a = a\n",
    "        self.b = b\n",
    "\n",
    "    def __repr__(self):\n",
    "        return \"Test a:%s b:%s\" % (self.a, self.b)\n",
    "\n",
    "    def __str__(self):\n",
    "        return \"From str method of Test: a is %s,\" \\\n",
    "              \"b is %s\" % (self.a, self.b)\n",
    "\n",
    "# Driver Code        \n",
    "t = Test(1234, 5678)\n",
    "print(t) # This calls __str__()\n",
    "print([t]) # This calls __repr__()\n"
   ]
  },
  {
   "cell_type": "markdown",
   "metadata": {
    "colab_type": "text",
    "id": "kUx9b_T50NSe"
   },
   "source": [
    "    If no __str__ method is defined, print t (or print str(t)) uses __repr__."
   ]
  },
  {
   "cell_type": "code",
   "execution_count": 0,
   "metadata": {
    "colab": {
     "base_uri": "https://localhost:8080/",
     "height": 35
    },
    "colab_type": "code",
    "executionInfo": {
     "elapsed": 1032,
     "status": "ok",
     "timestamp": 1588581180068,
     "user": {
      "displayName": "Srijeet Chatterjee",
      "photoUrl": "https://lh3.googleusercontent.com/a-/AOh14GhvLyI2L7rMpswCMPIIHugxGS37iH6O6W9QSxh_Zw=s64",
      "userId": "01014322814526133923"
     },
     "user_tz": -330
    },
    "id": "PnFkUTXT0JlI",
    "outputId": "b61f9911-3c0b-4236-d854-51a580f12cc0"
   },
   "outputs": [
    {
     "name": "stdout",
     "output_type": "stream",
     "text": [
      "Test a:1234 b:5678\n"
     ]
    }
   ],
   "source": [
    "class Test:\n",
    "    def __init__(self, a, b):\n",
    "        self.a = a\n",
    "        self.b = b\n",
    "\n",
    "    def __repr__(self):\n",
    "        return \"Test a:%s b:%s\" % (self.a, self.b)\n",
    "\n",
    "# Driver Code        \n",
    "t = Test(1234, 5678)\n",
    "print(t) "
   ]
  },
  {
   "cell_type": "markdown",
   "metadata": {
    "colab_type": "text",
    "id": "x8zk9-SZ0T9k"
   },
   "source": [
    "    If no __repr__ method is defined then the default is used. "
   ]
  },
  {
   "cell_type": "code",
   "execution_count": 0,
   "metadata": {
    "colab": {
     "base_uri": "https://localhost:8080/",
     "height": 35
    },
    "colab_type": "code",
    "executionInfo": {
     "elapsed": 871,
     "status": "ok",
     "timestamp": 1588581206328,
     "user": {
      "displayName": "Srijeet Chatterjee",
      "photoUrl": "https://lh3.googleusercontent.com/a-/AOh14GhvLyI2L7rMpswCMPIIHugxGS37iH6O6W9QSxh_Zw=s64",
      "userId": "01014322814526133923"
     },
     "user_tz": -330
    },
    "id": "S2rHv3df0R3D",
    "outputId": "b330e2c2-ac86-452f-fee8-ac1412b39a19"
   },
   "outputs": [
    {
     "name": "stdout",
     "output_type": "stream",
     "text": [
      "<__main__.Test object at 0x7fb80f63feb8>\n"
     ]
    }
   ],
   "source": [
    "class Test:\n",
    "    def __init__(self, a, b):\n",
    "        self.a = a\n",
    "        self.b = b\n",
    "\n",
    "# Driver Code        \n",
    "t = Test(1234, 5678)\n",
    "print(t)"
   ]
  },
  {
   "cell_type": "markdown",
   "metadata": {
    "colab_type": "text",
    "id": "D8Cl7ifr0d-T"
   },
   "source": [
    "#### class or static variables in python :"
   ]
  },
  {
   "cell_type": "markdown",
   "metadata": {
    "colab_type": "text",
    "id": "bn80axgE0j7k"
   },
   "source": [
    "    Class or static variables are shared by all objects. Instance or non-static variables are different for different objects (every object has a copy of it).\n",
    "\n",
    "  For example, let a Computer Science Student be represented by class CSStudent. The class may have a static variable whose value is \"cse\" for all objects. And class may also have non-static members like name and roll.\n",
    "\n",
    "  In C++ and Java, we can use static keyword to make a variable as class variable. The variables which don't have preceding static keyword are instance variables. See this for Java example and this for C++ example.\n",
    "\n",
    "    \n",
    "  The Python approach is simple, it doesn't require a static keyword. All variables which are assigned a value in class declaration are class variables. And variables which are assigned values inside methods are instance variables."
   ]
  },
  {
   "cell_type": "code",
   "execution_count": 0,
   "metadata": {
    "colab": {
     "base_uri": "https://localhost:8080/",
     "height": 144
    },
    "colab_type": "code",
    "executionInfo": {
     "elapsed": 1032,
     "status": "ok",
     "timestamp": 1588581319710,
     "user": {
      "displayName": "Srijeet Chatterjee",
      "photoUrl": "https://lh3.googleusercontent.com/a-/AOh14GhvLyI2L7rMpswCMPIIHugxGS37iH6O6W9QSxh_Zw=s64",
      "userId": "01014322814526133923"
     },
     "user_tz": -330
    },
    "id": "QPnMMksk0YUC",
    "outputId": "d525faf1-cf6f-4df9-a8bf-e82124b148c8"
   },
   "outputs": [
    {
     "name": "stdout",
     "output_type": "stream",
     "text": [
      "cse\n",
      "cse\n",
      "Geek\n",
      "Nerd\n",
      "1\n",
      "2\n",
      "cse\n"
     ]
    }
   ],
   "source": [
    "\n",
    "# Python program to show that the variables with a value \n",
    "# assigned in class declaration, are class variables\n",
    "\n",
    "# Class for Computer Science Student\n",
    "class CSStudent:\n",
    "    stream = 'cse'                  # Class Variable\n",
    "    def __init__(self,name,roll):\n",
    "        self.name = name            # Instance Variable\n",
    "        self.roll = roll            # Instance Variable\n",
    "\n",
    "# Objects of CSStudent class\n",
    "a = CSStudent('Geek', 1)\n",
    "b = CSStudent('Nerd', 2)\n",
    "\n",
    "print(a.stream)  # prints \"cse\"\n",
    "print(b.stream)  # prints \"cse\"\n",
    "print(a.name)    # prints \"Geek\"\n",
    "print(b.name)    # prints \"Nerd\"\n",
    "print(a.roll)    # prints \"1\"\n",
    "print(b.roll)    # prints \"2\"\n",
    "\n",
    "# Class variables can be accessed using class\n",
    "# name also\n",
    "print(CSStudent.stream) # prints \"cse\"\n"
   ]
  },
  {
   "cell_type": "code",
   "execution_count": 0,
   "metadata": {
    "colab": {},
    "colab_type": "code",
    "id": "t_AlW51U0z9Z"
   },
   "outputs": [],
   "source": []
  },
  {
   "cell_type": "markdown",
   "metadata": {
    "colab_type": "text",
    "id": "-2dzjzxg02FN"
   },
   "source": [
    "####Garbage Collection in Python :"
   ]
  },
  {
   "cell_type": "markdown",
   "metadata": {
    "colab_type": "text",
    "id": "eR1rGjla06xT"
   },
   "source": [
    "Python's memory allocation and deallocation method is automatic. The user does not have to preallocate or deallocate memory similar to using dynamic memory allocation in languages such as C or C++.\n",
    "Python uses two strategies for memory allocation:\n",
    "\n",
    "    Reference counting\n",
    "    Garbage collection\n",
    "\n",
    "\n",
    "Prior to Python version 2.0, the Python interpreter only used reference counting for memory management. Reference counting works by counting the number of times an object is referenced by other objects in the system. When references to an object are removed, the reference count for an object is decremented. When the reference count becomes zero, the object is deallocated. Ex-"
   ]
  },
  {
   "cell_type": "code",
   "execution_count": 0,
   "metadata": {
    "colab": {},
    "colab_type": "code",
    "id": "aqBiW5MK04Yj"
   },
   "outputs": [],
   "source": [
    "\n",
    "# Literal 9 is an object\n",
    "b = 9\n",
    "\n",
    "# Reference count of object 9 \n",
    "# becomes 0.\n",
    "b = 4\n"
   ]
  },
  {
   "cell_type": "markdown",
   "metadata": {
    "colab_type": "text",
    "id": "yruiYpl41AJw"
   },
   "source": [
    "The literal value 9 is an object. The reference count of object 9 is incremented to 1 in line 1. In line 2 its reference count becomes zero as it is dereferenced. So garbage collector deallocates the object.\n",
    "\n",
    "    A reference cycle is created : \n",
    "\n",
    "when there is no way the reference count of the object can reach. Reference cycles involving lists, tuples, instances, classes, dictionaries, and functions are common. The easiest way to create a reference cycle is to create an object which refers to itself as in the example below: "
   ]
  },
  {
   "cell_type": "code",
   "execution_count": 0,
   "metadata": {
    "colab": {},
    "colab_type": "code",
    "id": "FYRenAJt09Sh"
   },
   "outputs": [],
   "source": [
    "\n",
    "def create_cycle():\n",
    "\n",
    "    # create a list x\n",
    "    x = [ ]\n",
    "\n",
    "    # A reference cycle is created\n",
    "    # here as x contains reference to\n",
    "    # to self.\n",
    "    x.append(x)\n",
    " \n",
    "create_cycle()\n"
   ]
  },
  {
   "cell_type": "markdown",
   "metadata": {
    "colab_type": "text",
    "id": "nVn8H0Oa1ET6"
   },
   "source": [
    "Because create_cycle() creates an object x which refers to itself, the object x will not automatically be freed when the function returns. This will cause the memory that x is using to be held onto until the Python garbage collector is invoked."
   ]
  },
  {
   "cell_type": "markdown",
   "metadata": {
    "colab_type": "text",
    "id": "ksMBG1R01Muy"
   },
   "source": [
    "    Ways to make an object eligible for garbage collection"
   ]
  },
  {
   "cell_type": "code",
   "execution_count": 0,
   "metadata": {
    "colab": {},
    "colab_type": "code",
    "id": "wgq-alCq1CJB"
   },
   "outputs": [],
   "source": [
    "x = []\n",
    "x.append('l')\n",
    "x.append(2)\n",
    "\n",
    "# delete the list from memory or \n",
    "# assigning object x to None(Null)\n",
    "del x \n",
    "# x = None"
   ]
  },
  {
   "cell_type": "markdown",
   "metadata": {
    "colab_type": "text",
    "id": "xY1slHjY1kIv"
   },
   "source": [
    "The reference count for the list created is now two. However, since it cannot be reached from inside Python and cannot possibly be used again, it is considered garbage. In the current version of Python, this list is never freed.\n",
    "\n",
    "    Automatic Garbage Collection of Cycles\n",
    "Because reference cycles take computational work to discover, garbage collection must be a scheduled activity. Python schedules garbage collection based upon a threshold of object allocations and object deallocations. When the number of allocations minus the number of deallocations is greater than the threshold number, the garbage collector is run. One can inspect the threshold for new objects (objects in Python known as generation 0 objects) by importing the gc module and asking for garbage collection thresholds: "
   ]
  },
  {
   "cell_type": "code",
   "execution_count": 0,
   "metadata": {
    "colab": {
     "base_uri": "https://localhost:8080/",
     "height": 35
    },
    "colab_type": "code",
    "executionInfo": {
     "elapsed": 1118,
     "status": "ok",
     "timestamp": 1588581542324,
     "user": {
      "displayName": "Srijeet Chatterjee",
      "photoUrl": "https://lh3.googleusercontent.com/a-/AOh14GhvLyI2L7rMpswCMPIIHugxGS37iH6O6W9QSxh_Zw=s64",
      "userId": "01014322814526133923"
     },
     "user_tz": -330
    },
    "id": "-UpEIyXt1Wg0",
    "outputId": "c72f11f7-d217-4534-bd6b-b89c965892ef"
   },
   "outputs": [
    {
     "name": "stdout",
     "output_type": "stream",
     "text": [
      "Garbage collection thresholds: (700, 10, 10)\n"
     ]
    }
   ],
   "source": [
    "\n",
    "# loading gc\n",
    "import gc\n",
    "\n",
    "# get the current collection \n",
    "# thresholds as a tuple\n",
    "print(\"Garbage collection thresholds:\",\n",
    "                    gc.get_threshold())\n"
   ]
  },
  {
   "cell_type": "markdown",
   "metadata": {
    "colab_type": "text",
    "id": "LStNqH3-1t4n"
   },
   "source": [
    "Here, the default threshold on the above system is 700. This means when the number of allocations vs. the number of deallocations is greater than 700 the automatic garbage collector will run. Thus any portion of your code which frees up large blocks of memory is a good candidate for running manual garbage collection. "
   ]
  },
  {
   "cell_type": "markdown",
   "metadata": {
    "colab_type": "text",
    "id": "Lr8VvUto1zuQ"
   },
   "source": [
    "    Manual Garbage Collection\n",
    "Invoking the garbage collector manually during the execution of a program can be a good idea on how to handle memory being consumed by reference cycles.\n",
    "The garbage collection can be invoked manually in the following way:"
   ]
  },
  {
   "cell_type": "code",
   "execution_count": 0,
   "metadata": {
    "colab": {
     "base_uri": "https://localhost:8080/",
     "height": 35
    },
    "colab_type": "code",
    "executionInfo": {
     "elapsed": 1063,
     "status": "ok",
     "timestamp": 1588581597377,
     "user": {
      "displayName": "Srijeet Chatterjee",
      "photoUrl": "https://lh3.googleusercontent.com/a-/AOh14GhvLyI2L7rMpswCMPIIHugxGS37iH6O6W9QSxh_Zw=s64",
      "userId": "01014322814526133923"
     },
     "user_tz": -330
    },
    "id": "FXkedt9U1qSH",
    "outputId": "24173235-a6f6-4544-c90e-0bf5091c5da2"
   },
   "outputs": [
    {
     "name": "stdout",
     "output_type": "stream",
     "text": [
      "Garbage collector: collected 902 objects.\n"
     ]
    }
   ],
   "source": [
    "# Importing gc module\n",
    "import gc\n",
    "\n",
    "# Returns the number of\n",
    "# objects it has collected\n",
    "# and deallocated\n",
    "collected = gc.collect()\n",
    "\n",
    "# Prints Garbage collector \n",
    "# as 0 object\n",
    "print(\"Garbage collector: collected\",\n",
    "          \"%d objects.\" % collected)"
   ]
  },
  {
   "cell_type": "markdown",
   "metadata": {
    "colab_type": "text",
    "id": "jYwcBFmb16-I"
   },
   "source": [
    "    If few cycles are created, then how manual collection works:"
   ]
  },
  {
   "cell_type": "code",
   "execution_count": 0,
   "metadata": {
    "colab": {
     "base_uri": "https://localhost:8080/",
     "height": 253
    },
    "colab_type": "code",
    "executionInfo": {
     "elapsed": 1073,
     "status": "ok",
     "timestamp": 1588581659150,
     "user": {
      "displayName": "Srijeet Chatterjee",
      "photoUrl": "https://lh3.googleusercontent.com/a-/AOh14GhvLyI2L7rMpswCMPIIHugxGS37iH6O6W9QSxh_Zw=s64",
      "userId": "01014322814526133923"
     },
     "user_tz": -330
    },
    "id": "kiQR3P4V13v0",
    "outputId": "023d7226-31e6-422a-a22d-3428aa9954c3"
   },
   "outputs": [
    {
     "name": "stdout",
     "output_type": "stream",
     "text": [
      "Garbage collector: collected 45 objects.\n",
      "Creating cycles...\n",
      "{1: {...}}\n",
      "{2: {...}}\n",
      "{3: {...}}\n",
      "{4: {...}}\n",
      "{5: {...}}\n",
      "{6: {...}}\n",
      "{7: {...}}\n",
      "{8: {...}}\n",
      "{9: {...}}\n",
      "{10: {...}}\n",
      "Garbage collector: collected 10 objects.\n"
     ]
    }
   ],
   "source": [
    "import gc\n",
    "i = 0 \n",
    "\n",
    "# create a cycle and on each iteration x as a dictionary\n",
    "# assigned to 1\n",
    "def create_cycle():\n",
    "    x = { }\n",
    "    x[i+1] = x\n",
    "    print (x)\n",
    "\n",
    "# lists are cleared whenever a full collection or \n",
    "# collection of the highest generation (2) is run\n",
    "collected = gc.collect() # or gc.collect(2)\n",
    "print (\"Garbage collector: collected %d objects.\" % (collected))\n",
    "\n",
    "print (\"Creating cycles...\")\n",
    "for i in range(10):\n",
    "    create_cycle()\n",
    "\n",
    "collected = gc.collect()\n",
    "\n",
    "print (\"Garbage collector: collected %d objects.\" % (collected))"
   ]
  },
  {
   "cell_type": "markdown",
   "metadata": {
    "colab_type": "text",
    "id": "sm4qZmtw2p5Q"
   },
   "source": []
  },
  {
   "cell_type": "markdown",
   "metadata": {
    "colab_type": "text",
    "id": "a7gS1ITC2KO3"
   },
   "source": [
    "There are two ways for performing manual garbage collection: time-based and event-based garbage collection.\n",
    "\n",
    "    1.Time-based garbage collection is simple: \n",
    "    the garbage collector is called after a fixed time interval.\n",
    " \n",
    "    2.Event-based garbage collection :\n",
    "    calls the garbage collector on event occurrence. For example, \n",
    "    when a user  exits the application or when the application enters into idle state.\n",
    "\n",
    "    Reference:https://docs.python.org/2/library/gc.html"
   ]
  },
  {
   "cell_type": "markdown",
   "metadata": {
    "colab_type": "text",
    "id": "fuMYljFx2js8"
   },
   "source": [
    "####Python Lambda, map , reduce :"
   ]
  },
  {
   "cell_type": "markdown",
   "metadata": {
    "colab_type": "text",
    "id": "nx4twUr42rlO"
   },
   "source": [
    "In Python, anonymous function means that a function is without a name. As we already know that def keyword is used to define the normal functions and the lambda keyword is used to create anonymous functions. It has the following syntax:\n",
    "\n",
    "    lambda arguments: expression\n",
    "\n",
    "    1. This function can have any number of arguments but only one expression, which is evaluated and returned.\n",
    "\n",
    "    2. One is free to use lambda functions wherever function objects are required.\n",
    "    \n",
    "    3. You need to keep in your knowledge that lambda functions are syntactically restricted to a single expression.\n",
    "\n",
    "    4. It has various uses in particular fields of programming besides other types of expressions in functions.\n",
    "\n",
    "Let's look at this example and try to understand the difference between a normal def defined function and lambda function. This is a program that returns the cube of a given value:"
   ]
  },
  {
   "cell_type": "code",
   "execution_count": 0,
   "metadata": {
    "colab": {
     "base_uri": "https://localhost:8080/",
     "height": 53
    },
    "colab_type": "code",
    "executionInfo": {
     "elapsed": 935,
     "status": "ok",
     "timestamp": 1588581858638,
     "user": {
      "displayName": "Srijeet Chatterjee",
      "photoUrl": "https://lh3.googleusercontent.com/a-/AOh14GhvLyI2L7rMpswCMPIIHugxGS37iH6O6W9QSxh_Zw=s64",
      "userId": "01014322814526133923"
     },
     "user_tz": -330
    },
    "id": "w16_h5wz1-SM",
    "outputId": "35702a9c-7ab6-4644-f365-a2c143293b14"
   },
   "outputs": [
    {
     "name": "stdout",
     "output_type": "stream",
     "text": [
      "343\n",
      "125\n"
     ]
    }
   ],
   "source": [
    "\n",
    "# Python code to illustrate cube of a number \n",
    "# showing difference between def() and lambda().\n",
    "def cube(y):\n",
    "    return y*y*y;\n",
    "\n",
    "g = lambda x: x*x*x\n",
    "print(g(7))\n",
    "\n",
    "print(cube(5))\n"
   ]
  },
  {
   "cell_type": "markdown",
   "metadata": {
    "colab_type": "text",
    "id": "rjthSAGh26Mc"
   },
   "source": [
    "\n",
    "  Without using Lambda : Here, both of them returns the cube of a given number. But, while using def, we needed to define a function with a name cube and needed to pass a value to it. After execution, we also needed to return the result from where the function was called using the return keyword.\n",
    "    \n",
    "\n",
    "  Using Lambda : Lambda definition does not include a \"return\" statement, it always contains an expression which is returned. We can also put a lambda definition anywhere a function is expected, and we don't have to assign it to a variable at all. This is the simplicity of lambda functions.\n",
    "\n",
    "    Lambda functions can be used along with built-in functions like filter(), map() and reduce()."
   ]
  },
  {
   "cell_type": "markdown",
   "metadata": {
    "colab_type": "text",
    "id": "PvguPOZo3Ebb"
   },
   "source": [
    "    Use of lambda() with filter()"
   ]
  },
  {
   "cell_type": "markdown",
   "metadata": {
    "colab_type": "text",
    "id": "dK6Ymo333Hca"
   },
   "source": [
    "The filter() function in Python takes in a function and a list as arguments. This offers an elegant way to filter out all the elements of a sequence \"sequence\", for which the function returns True. Here is a small program that returns the odd numbers from an input list:"
   ]
  },
  {
   "cell_type": "code",
   "execution_count": 0,
   "metadata": {
    "colab": {
     "base_uri": "https://localhost:8080/",
     "height": 35
    },
    "colab_type": "code",
    "executionInfo": {
     "elapsed": 1098,
     "status": "ok",
     "timestamp": 1588581940509,
     "user": {
      "displayName": "Srijeet Chatterjee",
      "photoUrl": "https://lh3.googleusercontent.com/a-/AOh14GhvLyI2L7rMpswCMPIIHugxGS37iH6O6W9QSxh_Zw=s64",
      "userId": "01014322814526133923"
     },
     "user_tz": -330
    },
    "id": "h74hq6_R23jb",
    "outputId": "396cba58-ae02-4ecb-bee9-b0658839ac24"
   },
   "outputs": [
    {
     "name": "stdout",
     "output_type": "stream",
     "text": [
      "[5, 7, 97, 77, 23, 73, 61]\n"
     ]
    }
   ],
   "source": [
    "\n",
    "# Python code to illustrate\n",
    "# filter() with lambda()\n",
    "li = [5, 7, 22, 97, 54, 62, 77, 23, 73, 61]\n",
    "final_list = list(filter(lambda x: (x%2 != 0) , li))\n",
    "print(final_list)\n"
   ]
  },
  {
   "cell_type": "markdown",
   "metadata": {
    "colab_type": "text",
    "id": "dufyT6Wd3Ofw"
   },
   "source": [
    "    Use of lambda() with map()\n",
    "    \n",
    "The map() function in Python takes in a function and a list as argument. The function is called with a lambda function and a list and a new list is returned which contains all the lambda modified items returned by that function for each item. Example:"
   ]
  },
  {
   "cell_type": "code",
   "execution_count": 0,
   "metadata": {
    "colab": {
     "base_uri": "https://localhost:8080/",
     "height": 35
    },
    "colab_type": "code",
    "executionInfo": {
     "elapsed": 915,
     "status": "ok",
     "timestamp": 1588581970730,
     "user": {
      "displayName": "Srijeet Chatterjee",
      "photoUrl": "https://lh3.googleusercontent.com/a-/AOh14GhvLyI2L7rMpswCMPIIHugxGS37iH6O6W9QSxh_Zw=s64",
      "userId": "01014322814526133923"
     },
     "user_tz": -330
    },
    "id": "vYnhosXh3Lfy",
    "outputId": "78515465-d915-4e26-f983-11454ba64223"
   },
   "outputs": [
    {
     "name": "stdout",
     "output_type": "stream",
     "text": [
      "[10, 14, 44, 194, 108, 124, 154, 46, 146, 122]\n"
     ]
    }
   ],
   "source": [
    "\n",
    "# Python code to illustrate \n",
    "# map() with lambda() \n",
    "# to get double of a list.\n",
    "li = [5, 7, 22, 97, 54, 62, 77, 23, 73, 61]\n",
    "final_list = list(map(lambda x: x*2 , li))\n",
    "print(final_list)\n"
   ]
  },
  {
   "cell_type": "markdown",
   "metadata": {
    "colab_type": "text",
    "id": "-IXF9PfQ3Voj"
   },
   "source": [
    "    Use of lambda() with reduce()\n",
    "\n",
    "  The reduce() function in Python takes in a function and a list as argument. The function is called with a lambda function and a list and a new reduced result is returned. This performs a repetitive operation over the pairs of the list. \n",
    "  \n",
    "    This is a part of functools module. Example:"
   ]
  },
  {
   "cell_type": "code",
   "execution_count": 0,
   "metadata": {
    "colab": {
     "base_uri": "https://localhost:8080/",
     "height": 35
    },
    "colab_type": "code",
    "executionInfo": {
     "elapsed": 901,
     "status": "ok",
     "timestamp": 1588582020442,
     "user": {
      "displayName": "Srijeet Chatterjee",
      "photoUrl": "https://lh3.googleusercontent.com/a-/AOh14GhvLyI2L7rMpswCMPIIHugxGS37iH6O6W9QSxh_Zw=s64",
      "userId": "01014322814526133923"
     },
     "user_tz": -330
    },
    "id": "xExqVA_w3S7O",
    "outputId": "3df09878-081d-4dba-e99b-4e35f7d0cde7"
   },
   "outputs": [
    {
     "name": "stdout",
     "output_type": "stream",
     "text": [
      "193\n"
     ]
    }
   ],
   "source": [
    "\n",
    "# Python code to illustrate \n",
    "# reduce() with lambda()\n",
    "# to get sum of a list\n",
    "from functools import reduce\n",
    "li = [5, 8, 10, 20, 50, 100]\n",
    "sum = reduce((lambda x, y: x + y), li)\n",
    "print (sum)\n"
   ]
  },
  {
   "cell_type": "code",
   "execution_count": 0,
   "metadata": {
    "colab": {
     "base_uri": "https://localhost:8080/",
     "height": 35
    },
    "colab_type": "code",
    "executionInfo": {
     "elapsed": 817,
     "status": "ok",
     "timestamp": 1588595185822,
     "user": {
      "displayName": "Srijeet Chatterjee",
      "photoUrl": "https://lh3.googleusercontent.com/a-/AOh14GhvLyI2L7rMpswCMPIIHugxGS37iH6O6W9QSxh_Zw=s64",
      "userId": "01014322814526133923"
     },
     "user_tz": -330
    },
    "id": "vJT_rHsL3fEA",
    "outputId": "e7f1a40f-b8c9-4472-9f4f-796c3296692e"
   },
   "outputs": [
    {
     "name": "stdout",
     "output_type": "stream",
     "text": [
      "[15, 25]\n"
     ]
    }
   ],
   "source": [
    "#above code with map, filter and lambda \n",
    "  \n",
    "# Declare a list  \n",
    "x = [2, 3, 4, 5, 6]\n",
    "\n",
    "# Perform the same operation as  in above post \n",
    "y = map(lambda v : v * 5, filter(lambda u : u % 2, x)) \n",
    "y = list(y)\n",
    "print(y)"
   ]
  },
  {
   "cell_type": "markdown",
   "metadata": {
    "colab_type": "text",
    "id": "JJ5RBnVtJ--s"
   },
   "source": [
    "###Module 5 : Lists:"
   ]
  },
  {
   "cell_type": "markdown",
   "metadata": {
    "colab_type": "text",
    "id": "-rTVsWVkiZiL"
   },
   "source": [
    "####Python Lists"
   ]
  },
  {
   "cell_type": "markdown",
   "metadata": {
    "colab_type": "text",
    "id": "3owyUVkmLGLw"
   },
   "source": [
    "Lists are just like dynamic sized arrays, declared in other languages (vector in C++ and ArrayList in Java). Lists need not be homogeneous always which makes it a most powerful tool in Python. A single list may contain DataTypes like Integers, Strings, as well as Objects. Lists are mutable, and hence, they can be altered even after their creation.\n",
    "\n",
    "List in Python are ordered and have a definite count. The elements in a list are indexed according to a definite sequence and the indexing of a list is done with 0 being the first index. Each element in the list has its definite place in the list, which allows duplicating of elements in the list, with each element having its own distinct place and credibility.\n",
    "\n",
    "Note- Lists are a useful tool for preserving a sequence of data and further iterating over it."
   ]
  },
  {
   "cell_type": "markdown",
   "metadata": {
    "colab_type": "text",
    "id": "rksM9hzULJA7"
   },
   "source": [
    "#####Creating a List"
   ]
  },
  {
   "cell_type": "markdown",
   "metadata": {
    "colab_type": "text",
    "id": "Q6xSORAjLcjv"
   },
   "source": [
    " Lists in Python can be created by just placing the sequence inside the square brackets[]. Unlike Sets, list doesn't need a built-in function for creation of list. "
   ]
  },
  {
   "cell_type": "code",
   "execution_count": 0,
   "metadata": {
    "colab": {
     "base_uri": "https://localhost:8080/",
     "height": 235
    },
    "colab_type": "code",
    "executionInfo": {
     "elapsed": 837,
     "status": "ok",
     "timestamp": 1588604038158,
     "user": {
      "displayName": "Srijeet Chatterjee",
      "photoUrl": "https://lh3.googleusercontent.com/a-/AOh14GhvLyI2L7rMpswCMPIIHugxGS37iH6O6W9QSxh_Zw=s64",
      "userId": "01014322814526133923"
     },
     "user_tz": -330
    },
    "id": "TqVzD6XxplL6",
    "outputId": "b48079ab-5fd7-4d6c-eef9-f7c821afdfa5"
   },
   "outputs": [
    {
     "name": "stdout",
     "output_type": "stream",
     "text": [
      "Blank List: \n",
      "[]\n",
      "\n",
      "List of numbers: \n",
      "[10, 20, 14]\n",
      "\n",
      "List Items: \n",
      "Geeks\n",
      "Geeks\n",
      "\n",
      "Multi-Dimensional List: \n",
      "[['Geeks', 'For'], ['Geeks']]\n"
     ]
    }
   ],
   "source": [
    "# Python program to demonstrate \n",
    "# Creation of List \n",
    "\n",
    "# Creating a List\n",
    "List = []\n",
    "print(\"Blank List: \")\n",
    "print(List)\n",
    "\n",
    "# Creating a List of numbers\n",
    "List = [10, 20, 14]\n",
    "print(\"\\nList of numbers: \")\n",
    "print(List)\n",
    "\n",
    "# Creating a List of strings and accessing\n",
    "# using index\n",
    "List = [\"Geeks\", \"For\", \"Geeks\"]\n",
    "print(\"\\nList Items: \")\n",
    "print(List[0]) \n",
    "print(List[2])\n",
    "\n",
    "# Creating a Multi-Dimensional List\n",
    "# (By Nesting a list inside a List)\n",
    "List = [['Geeks', 'For'] , ['Geeks']]\n",
    "print(\"\\nMulti-Dimensional List: \")\n",
    "print(List)\n"
   ]
  },
  {
   "cell_type": "markdown",
   "metadata": {
    "colab_type": "text",
    "id": "Ma4F-ZqAL4qs"
   },
   "source": [
    "    Creating a list with multiple distinct or duplicate elements\n",
    "A list may contain duplicate values with their distinct positions and hence, multiple distinct or duplicate values can be passed as a sequence at the time of list creation."
   ]
  },
  {
   "cell_type": "markdown",
   "metadata": {
    "colab_type": "text",
    "id": "av31qr15MCsD"
   },
   "source": [
    "    Knowing the size of List "
   ]
  },
  {
   "cell_type": "code",
   "execution_count": 0,
   "metadata": {
    "colab": {
     "base_uri": "https://localhost:8080/",
     "height": 53
    },
    "colab_type": "code",
    "executionInfo": {
     "elapsed": 790,
     "status": "ok",
     "timestamp": 1588604198390,
     "user": {
      "displayName": "Srijeet Chatterjee",
      "photoUrl": "https://lh3.googleusercontent.com/a-/AOh14GhvLyI2L7rMpswCMPIIHugxGS37iH6O6W9QSxh_Zw=s64",
      "userId": "01014322814526133923"
     },
     "user_tz": -330
    },
    "id": "5YhEehO3LaLa",
    "outputId": "022a8912-a1fd-4849-9dc7-1e2fb260a132"
   },
   "outputs": [
    {
     "name": "stdout",
     "output_type": "stream",
     "text": [
      "0\n",
      "3\n"
     ]
    }
   ],
   "source": [
    "# Creating a List\n",
    "List1 = []\n",
    "print(len(List1))\n",
    "\n",
    "# Creating a List of numbers\n",
    "List2 = [10, 20, 14]\n",
    "print(len(List2))"
   ]
  },
  {
   "cell_type": "markdown",
   "metadata": {
    "colab_type": "text",
    "id": "RXXCiXyTMLWl"
   },
   "source": [
    "#####Adding Elements to a List"
   ]
  },
  {
   "cell_type": "markdown",
   "metadata": {
    "colab_type": "text",
    "id": "WUjRmZMhMPgh"
   },
   "source": [
    "**Using append() method**\n",
    "\n",
    "Elements can be added to the List by using built-in append() function. Only one element at a time can be added to the list by using append() method, for addition of multiple elements with the append() method, loops are used. Tuples can also be added to the List with the use of append method because tuples are immutable. Unlike Sets, Lists can also be added to the existing list with the use of append() method.\n"
   ]
  },
  {
   "cell_type": "code",
   "execution_count": 0,
   "metadata": {
    "colab": {
     "base_uri": "https://localhost:8080/",
     "height": 271
    },
    "colab_type": "code",
    "executionInfo": {
     "elapsed": 810,
     "status": "ok",
     "timestamp": 1588604352446,
     "user": {
      "displayName": "Srijeet Chatterjee",
      "photoUrl": "https://lh3.googleusercontent.com/a-/AOh14GhvLyI2L7rMpswCMPIIHugxGS37iH6O6W9QSxh_Zw=s64",
      "userId": "01014322814526133923"
     },
     "user_tz": -330
    },
    "id": "_tx_SXZ-MFo_",
    "outputId": "ff30f5c4-64f3-495e-dc53-7bb55edd39fa"
   },
   "outputs": [
    {
     "name": "stdout",
     "output_type": "stream",
     "text": [
      "Initial blank List: \n",
      "[]\n",
      "\n",
      "List after Addition of Three elements: \n",
      "[1, 2, 4]\n",
      "\n",
      "List after Addition of elements from 1-3: \n",
      "[1, 2, 4, 1, 2, 3]\n",
      "\n",
      "List after Addition of a Tuple: \n",
      "[1, 2, 4, 1, 2, 3, (5, 6)]\n",
      "\n",
      "List after Addition of a List: \n",
      "[1, 2, 4, 1, 2, 3, (5, 6), ['For', 'Geeks']]\n"
     ]
    }
   ],
   "source": [
    "\n",
    "# Python program to demonstrate \n",
    "# Addition of elements in a List\n",
    "\n",
    "# Creating a List\n",
    "List = []\n",
    "print(\"Initial blank List: \")\n",
    "print(List)\n",
    "\n",
    "# Addition of Elements \n",
    "# in the List\n",
    "List.append(1)\n",
    "List.append(2)\n",
    "List.append(4)\n",
    "print(\"\\nList after Addition of Three elements: \")\n",
    "print(List)\n",
    "\n",
    "# Adding elements to the List\n",
    "# using Iterator\n",
    "for i in range(1, 4):\n",
    "    List.append(i)\n",
    "print(\"\\nList after Addition of elements from 1-3: \")\n",
    "print(List)\n",
    "\n",
    "# Adding Tuples to the List\n",
    "List.append((5, 6))\n",
    "print(\"\\nList after Addition of a Tuple: \")\n",
    "print(List)\n",
    "\n",
    "# Addition of List to a List\n",
    "List2 = ['For', 'Geeks']\n",
    "List.append(List2)\n",
    "print(\"\\nList after Addition of a List: \")\n",
    "print(List)"
   ]
  },
  {
   "cell_type": "markdown",
   "metadata": {
    "colab_type": "text",
    "id": "PBOBo3kmjzFL"
   },
   "source": [
    "    Using insert() method\n",
    "\n",
    "append() method only works for addition of elements at the end of the List, for addition of element at the desired position, insert() method is used. Unlike append() which takes only one argument, insert() method requires two arguments(position, value)."
   ]
  },
  {
   "cell_type": "code",
   "execution_count": 0,
   "metadata": {
    "colab": {
     "base_uri": "https://localhost:8080/",
     "height": 108
    },
    "colab_type": "code",
    "executionInfo": {
     "elapsed": 3409,
     "status": "ok",
     "timestamp": 1588610441919,
     "user": {
      "displayName": "Srijeet Chatterjee",
      "photoUrl": "https://lh3.googleusercontent.com/a-/AOh14GhvLyI2L7rMpswCMPIIHugxGS37iH6O6W9QSxh_Zw=s64",
      "userId": "01014322814526133923"
     },
     "user_tz": -330
    },
    "id": "4qnf9H6wMrQA",
    "outputId": "882259fd-b990-456e-817c-c8c1ca311ea5"
   },
   "outputs": [
    {
     "name": "stdout",
     "output_type": "stream",
     "text": [
      "Initial List: \n",
      "[1, 2, 3, 4]\n",
      "\n",
      "List after performing Insert Operation: \n",
      "['Geeks', 1, 2, 3, 12, 4]\n"
     ]
    }
   ],
   "source": [
    "# Python program to demonstrate \n",
    "# Addition of elements in a List\n",
    " \n",
    "# Creating a List\n",
    "List = [1,2,3,4]\n",
    "print(\"Initial List: \")\n",
    "print(List)\n",
    "\n",
    "# Addition of Element at \n",
    "# specific Position\n",
    "# (using Insert Method)\n",
    "List.insert(3, 12)\n",
    "List.insert(0, 'Geeks')\n",
    "print(\"\\nList after performing Insert Operation: \")\n",
    "print(List)"
   ]
  },
  {
   "cell_type": "markdown",
   "metadata": {
    "colab_type": "text",
    "id": "DVIwDzOSoEkN"
   },
   "source": [
    "    Using extend() method\n",
    "Other than append() and insert() methods, there's one more method for Addition of elements, extend(), this method is used to add multiple elements at the same time at the end of the list."
   ]
  },
  {
   "cell_type": "code",
   "execution_count": 0,
   "metadata": {
    "colab": {
     "base_uri": "https://localhost:8080/",
     "height": 108
    },
    "colab_type": "code",
    "executionInfo": {
     "elapsed": 932,
     "status": "ok",
     "timestamp": 1588611547915,
     "user": {
      "displayName": "Srijeet Chatterjee",
      "photoUrl": "https://lh3.googleusercontent.com/a-/AOh14GhvLyI2L7rMpswCMPIIHugxGS37iH6O6W9QSxh_Zw=s64",
      "userId": "01014322814526133923"
     },
     "user_tz": -330
    },
    "id": "TNymv41sj5TC",
    "outputId": "fa4bbe67-e648-477e-ab07-be8f7a0c8bd5"
   },
   "outputs": [
    {
     "name": "stdout",
     "output_type": "stream",
     "text": [
      "Initial List: \n",
      "[1, 2, 3, 4]\n",
      "\n",
      "List after performing Extend Operation: \n",
      "[1, 2, 3, 4, 8, 'Geeks', 'Always']\n"
     ]
    }
   ],
   "source": [
    "\n",
    "# Python program to demonstrate \n",
    "# Addition of elements in a List\n",
    "  \n",
    "# Creating a List\n",
    "List = [1,2,3,4]\n",
    "print(\"Initial List: \")\n",
    "print(List)\n",
    "\n",
    "# Addition of multiple elements\n",
    "# to the List at the end\n",
    "# (using Extend Method)\n",
    "List.extend([8, 'Geeks', 'Always'])\n",
    "print(\"\\nList after performing Extend Operation: \")\n",
    "print(List)\n"
   ]
  },
  {
   "cell_type": "markdown",
   "metadata": {
    "colab_type": "text",
    "id": "-WaP5Ku_oLYj"
   },
   "source": [
    "#####Accessing elements from the List"
   ]
  },
  {
   "cell_type": "markdown",
   "metadata": {
    "colab_type": "text",
    "id": "MgNVs3HroYnZ"
   },
   "source": [
    "In order to access the list items refer to the index number.Use the index operator [ ] to access an item in a list.The index must be an integer.Nested list are accessed using nested indexing."
   ]
  },
  {
   "cell_type": "code",
   "execution_count": 0,
   "metadata": {
    "colab": {
     "base_uri": "https://localhost:8080/",
     "height": 126
    },
    "colab_type": "code",
    "executionInfo": {
     "elapsed": 980,
     "status": "ok",
     "timestamp": 1588611626357,
     "user": {
      "displayName": "Srijeet Chatterjee",
      "photoUrl": "https://lh3.googleusercontent.com/a-/AOh14GhvLyI2L7rMpswCMPIIHugxGS37iH6O6W9QSxh_Zw=s64",
      "userId": "01014322814526133923"
     },
     "user_tz": -330
    },
    "id": "3jAa3X97oH7l",
    "outputId": "72a793fb-6fde-49a1-859b-aeafe16ec424"
   },
   "outputs": [
    {
     "name": "stdout",
     "output_type": "stream",
     "text": [
      "Accessing a element from the list\n",
      "Geeks\n",
      "Geeks\n",
      "Acessing a element from a Multi-Dimensional list\n",
      "For\n",
      "Geeks\n"
     ]
    }
   ],
   "source": [
    "# Python program to demonstrate \n",
    "# accessing of element from list\n",
    "\n",
    "# Creating a List with\n",
    "# the use of multiple values\n",
    "List = [\"Geeks\", \"For\", \"Geeks\"]\n",
    "\n",
    "# accessing a element from the \n",
    "# list using index number\n",
    "print(\"Accessing a element from the list\")\n",
    "print(List[0]) \n",
    "print(List[2])\n",
    "\n",
    "# Creating a Multi-Dimensional List\n",
    "# (By Nesting a list inside a List)\n",
    "List = [['Geeks', 'For'] , ['Geeks']]\n",
    "\n",
    "# accessing a element from the \n",
    "# Multi-Dimensional List using\n",
    "# index number\n",
    "print(\"Acessing a element from a Multi-Dimensional list\")\n",
    "print(List[0][1])\n",
    "print(List[1][0])"
   ]
  },
  {
   "cell_type": "markdown",
   "metadata": {
    "colab_type": "text",
    "id": "v7m2untwod82"
   },
   "source": [
    "Negative indexing\n",
    "In Python, negative sequence indexes represent positions from the end of the array. Instead of having to compute the offset as in List[len(List)-3], it is enough to just write List[-3]. Negative indexing means beginning from the end, -1 refers to the last item, -2 refers to the second last item etc.\n"
   ]
  },
  {
   "cell_type": "code",
   "execution_count": 0,
   "metadata": {
    "colab": {
     "base_uri": "https://localhost:8080/",
     "height": 72
    },
    "colab_type": "code",
    "executionInfo": {
     "elapsed": 832,
     "status": "ok",
     "timestamp": 1588611650534,
     "user": {
      "displayName": "Srijeet Chatterjee",
      "photoUrl": "https://lh3.googleusercontent.com/a-/AOh14GhvLyI2L7rMpswCMPIIHugxGS37iH6O6W9QSxh_Zw=s64",
      "userId": "01014322814526133923"
     },
     "user_tz": -330
    },
    "id": "i8xYVJCloWNZ",
    "outputId": "33e4e42a-225c-484e-9fa8-dcc048e717d7"
   },
   "outputs": [
    {
     "name": "stdout",
     "output_type": "stream",
     "text": [
      "Acessing element using negative indexing\n",
      "Geeks\n",
      "For\n"
     ]
    }
   ],
   "source": [
    "List = [1, 2, 'Geeks', 4, 'For', 6, 'Geeks']\n",
    "\n",
    "# accessing a element using\n",
    "# negative indexing\n",
    "print(\"Acessing element using negative indexing\")\n",
    "\n",
    "# print the last element of list\n",
    "print(List[-1])\n",
    "\n",
    "# print the third last element of list \n",
    "print(List[-3])"
   ]
  },
  {
   "cell_type": "markdown",
   "metadata": {
    "colab_type": "text",
    "id": "9OHT77dmojci"
   },
   "source": [
    "#####Removing Elements from the List"
   ]
  },
  {
   "cell_type": "markdown",
   "metadata": {
    "colab_type": "text",
    "id": "CBbqvOaZonEg"
   },
   "source": [
    "    Using remove() method\n",
    "Elements can be removed from the List by using built-in remove() function but an Error arises if element doesn't exist in the set. Remove() method only removes one element at a time, to remove range of elements, iterator is used. The remove() method removes the specified item.\n",
    "\n",
    "Note - Remove method in List will only remove the first occurrence of the searched element."
   ]
  },
  {
   "cell_type": "code",
   "execution_count": 0,
   "metadata": {
    "colab": {
     "base_uri": "https://localhost:8080/",
     "height": 162
    },
    "colab_type": "code",
    "executionInfo": {
     "elapsed": 876,
     "status": "ok",
     "timestamp": 1588611737092,
     "user": {
      "displayName": "Srijeet Chatterjee",
      "photoUrl": "https://lh3.googleusercontent.com/a-/AOh14GhvLyI2L7rMpswCMPIIHugxGS37iH6O6W9QSxh_Zw=s64",
      "userId": "01014322814526133923"
     },
     "user_tz": -330
    },
    "id": "oPlZW41Jog_5",
    "outputId": "8342863a-3aa5-424e-a439-84227ec7d86e"
   },
   "outputs": [
    {
     "name": "stdout",
     "output_type": "stream",
     "text": [
      "Intial List: \n",
      "[1, 2, 3, 4, 5, 6, 7, 8, 9, 10, 11, 12]\n",
      "\n",
      "List after Removal of two elements: \n",
      "[1, 2, 3, 4, 7, 8, 9, 10, 11, 12]\n",
      "\n",
      "List after Removing a range of elements: \n",
      "[7, 8, 9, 10, 11, 12]\n"
     ]
    }
   ],
   "source": [
    "# Python program to demonstrate \n",
    "# Removal of elements in a List\n",
    "\n",
    "# Creating a List\n",
    "List = [1, 2, 3, 4, 5, 6, \n",
    "        7, 8, 9, 10, 11, 12]\n",
    "print(\"Intial List: \")\n",
    "print(List)\n",
    "\n",
    "# Removing elements from List\n",
    "# using Remove() method\n",
    "List.remove(5)\n",
    "List.remove(6)\n",
    "print(\"\\nList after Removal of two elements: \")\n",
    "print(List)\n",
    "\n",
    "# Removing elements from List\n",
    "# using iterator method\n",
    "for i in range(1, 5):\n",
    "    List.remove(i)\n",
    "print(\"\\nList after Removing a range of elements: \")\n",
    "print(List)"
   ]
  },
  {
   "cell_type": "markdown",
   "metadata": {
    "colab_type": "text",
    "id": "zsSpKzODo_1y"
   },
   "source": [
    "    Using pop() method\n",
    "Pop() function can also be used to remove and return an element from the set, but by default it removes only the last element of the set, to remove element from a specific position of the List, index of the element is passed as an argument to the pop() method."
   ]
  },
  {
   "cell_type": "code",
   "execution_count": 0,
   "metadata": {
    "colab": {
     "base_uri": "https://localhost:8080/",
     "height": 126
    },
    "colab_type": "code",
    "executionInfo": {
     "elapsed": 1372,
     "status": "ok",
     "timestamp": 1588611792623,
     "user": {
      "displayName": "Srijeet Chatterjee",
      "photoUrl": "https://lh3.googleusercontent.com/a-/AOh14GhvLyI2L7rMpswCMPIIHugxGS37iH6O6W9QSxh_Zw=s64",
      "userId": "01014322814526133923"
     },
     "user_tz": -330
    },
    "id": "L2vqvINzowor",
    "outputId": "d2bbb050-da8b-4a82-cd79-303ec7d4f707"
   },
   "outputs": [
    {
     "name": "stdout",
     "output_type": "stream",
     "text": [
      "\n",
      "List after popping an element: \n",
      "[1, 2, 3, 4]\n",
      "\n",
      "List after popping a specific element: \n",
      "[1, 2, 4]\n"
     ]
    }
   ],
   "source": [
    "List = [1,2,3,4,5]\n",
    "\n",
    "# Removing element from the \n",
    "# Set using the pop() method\n",
    "List.pop()\n",
    "print(\"\\nList after popping an element: \")\n",
    "print(List)\n",
    "\n",
    "# Removing element at a \n",
    "# specific location from the \n",
    "# Set using the pop() method\n",
    "List.pop(2)\n",
    "print(\"\\nList after popping a specific element: \")\n",
    "print(List)\n"
   ]
  },
  {
   "cell_type": "markdown",
   "metadata": {
    "colab_type": "text",
    "id": "i-L6Jfotn8Jm"
   },
   "source": [
    "    del() : Element to be deleted is mentioned using list name and index.\n",
    "Syntax:\n",
    "\n",
    "del list.[index]"
   ]
  },
  {
   "cell_type": "code",
   "execution_count": 0,
   "metadata": {
    "colab": {
     "base_uri": "https://localhost:8080/",
     "height": 35
    },
    "colab_type": "code",
    "executionInfo": {
     "elapsed": 1161,
     "status": "ok",
     "timestamp": 1588963906094,
     "user": {
      "displayName": "Srijeet Chatterjee",
      "photoUrl": "https://lh3.googleusercontent.com/a-/AOh14GhvLyI2L7rMpswCMPIIHugxGS37iH6O6W9QSxh_Zw=s64",
      "userId": "01014322814526133923"
     },
     "user_tz": -330
    },
    "id": "8czCx7aOn-7j",
    "outputId": "39199eda-f159-4d77-e0cd-08337dbbff1f"
   },
   "outputs": [
    {
     "name": "stdout",
     "output_type": "stream",
     "text": [
      "[4.445, 3, 5.33, 1.054, 2.5]\n"
     ]
    }
   ],
   "source": [
    "List = [2.3, 4.445, 3, 5.33, 1.054, 2.5]\n",
    "del List[0]\n",
    "print(List)"
   ]
  },
  {
   "cell_type": "markdown",
   "metadata": {
    "colab_type": "text",
    "id": "d6-oou_PpnvQ"
   },
   "source": [
    "#####Slicing of a List"
   ]
  },
  {
   "cell_type": "markdown",
   "metadata": {
    "colab_type": "text",
    "id": "ALXayj6ZqqKe"
   },
   "source": [
    "In Python List, there are multiple ways to print the whole List with all the elements, but to print a specific range of elements from the list, we use Slice operation. \n",
    "\n",
    "Slice operation is performed on Lists with the use of colon(:). \n",
    "\n",
    "    To print elements from beginning to a range use [:Index], \n",
    "    \n",
    "    To print elements from end use [:-Index], \n",
    "    \n",
    "    To print elements from specific Index till the end use [Index:], \n",
    "    \n",
    "    To print elements within a range, use [Start Index:End Index] and \n",
    "\n",
    "    To print whole List with the use of slicing operation, use [:]."
   ]
  },
  {
   "cell_type": "markdown",
   "metadata": {
    "colab_type": "text",
    "id": "FYuYqFierjnV"
   },
   "source": [
    "    Further, to print whole List in reverse order, use [::-1]."
   ]
  },
  {
   "cell_type": "markdown",
   "metadata": {
    "colab_type": "text",
    "id": "I6Aq2BtyraIH"
   },
   "source": [
    "    Note - To print elements of List from rear end, use Negative Indexes."
   ]
  },
  {
   "cell_type": "markdown",
   "metadata": {
    "colab_type": "text",
    "id": "WUdi5TqEtXLM"
   },
   "source": [
    "![alt text](https://drive.google.com/uc?id=1-DDG8r3ohBo81MNk98z70_ptJcngffMI)"
   ]
  },
  {
   "cell_type": "code",
   "execution_count": 0,
   "metadata": {
    "colab": {
     "base_uri": "https://localhost:8080/",
     "height": 217
    },
    "colab_type": "code",
    "executionInfo": {
     "elapsed": 3759,
     "status": "ok",
     "timestamp": 1588616992207,
     "user": {
      "displayName": "Srijeet Chatterjee",
      "photoUrl": "https://lh3.googleusercontent.com/a-/AOh14GhvLyI2L7rMpswCMPIIHugxGS37iH6O6W9QSxh_Zw=s64",
      "userId": "01014322814526133923"
     },
     "user_tz": -330
    },
    "id": "GS2HDKkBpDjM",
    "outputId": "9e716f8e-ae49-4547-ddbf-41bf1593050a"
   },
   "outputs": [
    {
     "name": "stdout",
     "output_type": "stream",
     "text": [
      "Intial List: \n",
      "['G', 'E', 'E', 'K', 'S', 'F', 'O', 'R', 'G', 'E', 'E', 'K', 'S']\n",
      "\n",
      "Slicing elements in a range 3-8: \n",
      "['K', 'S', 'F', 'O', 'R']\n",
      "\n",
      "Elements sliced from 5th element till the end: \n",
      "['F', 'O', 'R', 'G', 'E', 'E', 'K', 'S']\n",
      "\n",
      "Printing all elements using slice operation: \n",
      "['G', 'E', 'E', 'K', 'S', 'F', 'O', 'R', 'G', 'E', 'E', 'K', 'S']\n"
     ]
    }
   ],
   "source": [
    "\n",
    "# Python program to demonstrate \n",
    "# Removal of elements in a List\n",
    "\n",
    "# Creating a List\n",
    "List = ['G','E','E','K','S','F',\n",
    "        'O','R','G','E','E','K','S']\n",
    "print(\"Intial List: \")\n",
    "print(List)\n",
    "\n",
    "# Print elements of a range\n",
    "# using Slice operation\n",
    "Sliced_List = List[3:8]\n",
    "print(\"\\nSlicing elements in a range 3-8: \")\n",
    "print(Sliced_List)\n",
    "\n",
    "# Print elements from a \n",
    "# pre-defined point to end\n",
    "Sliced_List = List[5:]\n",
    "print(\"\\nElements sliced from 5th \"\n",
    "      \"element till the end: \")\n",
    "print(Sliced_List)\n",
    "\n",
    "# Printing elements from\n",
    "# beginning till end\n",
    "Sliced_List = List[:]\n",
    "print(\"\\nPrinting all elements using slice operation: \")\n",
    "print(Sliced_List)"
   ]
  },
  {
   "cell_type": "markdown",
   "metadata": {
    "colab_type": "text",
    "id": "Y35MiiJ9q5_i"
   },
   "source": [
    "    Negative index list slicing :"
   ]
  },
  {
   "cell_type": "code",
   "execution_count": 0,
   "metadata": {
    "colab": {
     "base_uri": "https://localhost:8080/",
     "height": 217
    },
    "colab_type": "code",
    "executionInfo": {
     "elapsed": 3755,
     "status": "ok",
     "timestamp": 1588616992225,
     "user": {
      "displayName": "Srijeet Chatterjee",
      "photoUrl": "https://lh3.googleusercontent.com/a-/AOh14GhvLyI2L7rMpswCMPIIHugxGS37iH6O6W9QSxh_Zw=s64",
      "userId": "01014322814526133923"
     },
     "user_tz": -330
    },
    "id": "8troE7q1q3T4",
    "outputId": "7f98abf8-fd7a-4c91-8745-630a25e5734e"
   },
   "outputs": [
    {
     "name": "stdout",
     "output_type": "stream",
     "text": [
      "Initial List: \n",
      "['G', 'E', 'E', 'K', 'S', 'F', 'O', 'R', 'G', 'E', 'E', 'K', 'S']\n",
      "\n",
      "Elements sliced till 6th element from last: \n",
      "['G', 'E', 'E', 'K', 'S', 'F', 'O']\n",
      "\n",
      "Elements sliced from index -6 to -1\n",
      "['R', 'G', 'E', 'E', 'K']\n",
      "\n",
      "Printing List in reverse: \n",
      "['S', 'K', 'E', 'E', 'G', 'R', 'O', 'F', 'S', 'K', 'E', 'E', 'G']\n"
     ]
    }
   ],
   "source": [
    "\n",
    "# Creating a List\n",
    "List = ['G','E','E','K','S','F',\n",
    "        'O','R','G','E','E','K','S']\n",
    "print(\"Initial List: \")\n",
    "print(List)\n",
    "\n",
    "# Print elements from beginning\n",
    "# to a pre-defined point using Slice\n",
    "Sliced_List = List[:-6]\n",
    "print(\"\\nElements sliced till 6th element from last: \")\n",
    "print(Sliced_List)\n",
    "\n",
    "# Print elements of a range\n",
    "# using negative index List slicing\n",
    "Sliced_List = List[-6:-1]\n",
    "print(\"\\nElements sliced from index -6 to -1\")\n",
    "print(Sliced_List)\n",
    "\n",
    "# Printing elements in reverse\n",
    "# using Slice operation\n",
    "Sliced_List = List[::-1]\n",
    "print(\"\\nPrinting List in reverse: \")\n",
    "print(Sliced_List)\n",
    "\n"
   ]
  },
  {
   "cell_type": "markdown",
   "metadata": {
    "colab_type": "text",
    "id": "k_toJLK4sorO"
   },
   "source": [
    "============================ LIST METHODS ==========================="
   ]
  },
  {
   "cell_type": "markdown",
   "metadata": {
    "colab_type": "text",
    "id": "RI6xdow9sowP"
   },
   "source": [
    "```\n",
    "Append() \tAdd an element to the end of the list\n",
    "Extend() \tAdd all elements of a list to the another list\n",
    "Insert() \tInsert an item at the defined index\n",
    "Remove() \tRemoves an item from the list\n",
    "Pop() \tRemoves and returns an element at the given index\n",
    "Clear() \tRemoves all items from the list\n",
    "Index() \tReturns the index of the first matched item\n",
    "Count() \tReturns the count of number of items passed as an argument\n",
    "Sort() \tSort items in a list in ascending order\n",
    "Reverse() \tReverse the order of items in the list\n",
    "copy() \tReturns a copy of the list\n",
    "```"
   ]
  },
  {
   "cell_type": "markdown",
   "metadata": {
    "colab_type": "text",
    "id": "RCbjsiyYtDTj"
   },
   "source": [
    "============================ LIST INBUILD METHODS ==========================="
   ]
  },
  {
   "cell_type": "markdown",
   "metadata": {
    "colab_type": "text",
    "id": "N45zZuxOtDYW"
   },
   "source": [
    "```\n",
    "reduce() \tapply a particular function passed in its argument to all of the list elements stores the intermediate result and only returns the final summation value\n",
    "sum() \tSums up the numbers in the list\n",
    "ord() \tReturns an integer representing the Unicode code point of the given Unicode character\n",
    "cmp() \tThis function returns 1, if first list is “greater” than second list\n",
    "max() \treturn maximum element of given list\n",
    "min() \treturn minimum element of given list\n",
    "all() \tReturns true if all element are true or if list is empty\n",
    "any() \treturn true if any element of the list is true. if list is empty, return false\n",
    "len() \tReturns length of the list or size of the list\n",
    "enumerate() \tReturns enumerate object of list\n",
    "accumulate() \tapply a particular function passed in its argument to all of the list elements returns a list containing the intermediate results\n",
    "filter() \ttests if each element of a list true or not\n",
    "map() \treturns a list of the results after applying the given function to each item of a given iterable\n",
    "lambda() \tThis function can have any number of arguments but only one expression, which is evaluated and returned.\n",
    "```"
   ]
  },
  {
   "cell_type": "code",
   "execution_count": 0,
   "metadata": {
    "colab": {},
    "colab_type": "code",
    "id": "rY0maxkMspkl"
   },
   "outputs": [],
   "source": []
  },
  {
   "cell_type": "markdown",
   "metadata": {
    "colab_type": "text",
    "id": "pmvpKrf_jAFN"
   },
   "source": [
    "####List Methods :"
   ]
  },
  {
   "cell_type": "markdown",
   "metadata": {
    "colab_type": "text",
    "id": "jomBMvxljNDD"
   },
   "source": [
    "1. \"in\" operator :- This operator is used to check if an element is present in the list or not. Returns true if element is present in list else returns false.\n",
    "\n",
    "2. \"not in\" operator :- This operator is used to check if an element is not present in the list or not. Returns true if element is not present in list else returns false. "
   ]
  },
  {
   "cell_type": "code",
   "execution_count": 0,
   "metadata": {
    "colab": {
     "base_uri": "https://localhost:8080/",
     "height": 53
    },
    "colab_type": "code",
    "executionInfo": {
     "elapsed": 1304,
     "status": "ok",
     "timestamp": 1588962600516,
     "user": {
      "displayName": "Srijeet Chatterjee",
      "photoUrl": "https://lh3.googleusercontent.com/a-/AOh14GhvLyI2L7rMpswCMPIIHugxGS37iH6O6W9QSxh_Zw=s64",
      "userId": "01014322814526133923"
     },
     "user_tz": -330
    },
    "id": "MhoodGgWjCED",
    "outputId": "3a2c0d83-bdfd-45ca-a22c-8768369a5087"
   },
   "outputs": [
    {
     "name": "stdout",
     "output_type": "stream",
     "text": [
      "List is having element with value 4\n",
      "List is having element with value 4\n"
     ]
    }
   ],
   "source": [
    "# Python code to demonstrate the working of\n",
    "# \"in\" and \"not in\" \n",
    "# initializing list\n",
    "lis = [1, 4, 3, 2, 5]\n",
    "\n",
    "# checking if 4 is in list using \"in\"\n",
    "if 4 in lis:\n",
    "        print (\"List is having element with value 4\")\n",
    "else :  print (\"List is not having element with value 4\")\n",
    "\n",
    "# checking if 4 is not list using \"not in\"\n",
    "if 4 not in lis:\n",
    "        print (\"List is not having element with value 4\")\n",
    "else :  print (\"List is having element with value 4\")\n"
   ]
  },
  {
   "cell_type": "markdown",
   "metadata": {
    "colab_type": "text",
    "id": "i4eSjgYekDzh"
   },
   "source": [
    "3. len() :- This function returns the length of list.\n",
    "\n",
    "4. min() :- This function returns the minimum element of list.\n",
    "\n",
    "5. max() :- This function returns the maximum element of list."
   ]
  },
  {
   "cell_type": "code",
   "execution_count": 0,
   "metadata": {
    "colab": {
     "base_uri": "https://localhost:8080/",
     "height": 72
    },
    "colab_type": "code",
    "executionInfo": {
     "elapsed": 1096,
     "status": "ok",
     "timestamp": 1588962818839,
     "user": {
      "displayName": "Srijeet Chatterjee",
      "photoUrl": "https://lh3.googleusercontent.com/a-/AOh14GhvLyI2L7rMpswCMPIIHugxGS37iH6O6W9QSxh_Zw=s64",
      "userId": "01014322814526133923"
     },
     "user_tz": -330
    },
    "id": "MkujKtezjPya",
    "outputId": "4d5d5c01-8f2e-451d-eae2-aff9dc016ab4"
   },
   "outputs": [
    {
     "name": "stdout",
     "output_type": "stream",
     "text": [
      "The length of list is : 5\n",
      "The minimum element of list is : 1\n",
      "The maximum element of list is : 5\n"
     ]
    }
   ],
   "source": [
    "# Python code to demonstrate the working of\n",
    "# len(), min() and max()\n",
    "# initializing list 1\n",
    "lis = [2, 1, 3, 5, 4]\n",
    "\n",
    "# using len() to print length of list\n",
    "print (\"The length of list is : \", end=\"\")\n",
    "print (len(lis))\n",
    "\n",
    "# using min() to print minimum element of list\n",
    "print (\"The minimum element of list is : \", end=\"\")\n",
    "print (min(lis))\n",
    "\n",
    "# using max() to print maximum element of list\n",
    "print (\"The maximum element of list is : \", end=\"\")\n",
    "print (max(lis))"
   ]
  },
  {
   "cell_type": "markdown",
   "metadata": {
    "colab_type": "text",
    "id": "iPy75ZDal2CM"
   },
   "source": [
    "6. \"+\" operator :- This operator is used to concatenate two lists into a single list.\n",
    "\n",
    "7. \"*\" operator :- This operator is used to multiply the list \"n\" times and return the single list."
   ]
  },
  {
   "cell_type": "code",
   "execution_count": 0,
   "metadata": {
    "colab": {
     "base_uri": "https://localhost:8080/",
     "height": 53
    },
    "colab_type": "code",
    "executionInfo": {
     "elapsed": 1281,
     "status": "ok",
     "timestamp": 1588963328858,
     "user": {
      "displayName": "Srijeet Chatterjee",
      "photoUrl": "https://lh3.googleusercontent.com/a-/AOh14GhvLyI2L7rMpswCMPIIHugxGS37iH6O6W9QSxh_Zw=s64",
      "userId": "01014322814526133923"
     },
     "user_tz": -330
    },
    "id": "YAhe2e-RkHZT",
    "outputId": "d0c1312f-bde9-4b62-97c4-83475ec2235e"
   },
   "outputs": [
    {
     "name": "stdout",
     "output_type": "stream",
     "text": [
      "list after concatenation is : 1 2 3 4 5 6 \r\n",
      "list after combining is : 1 2 3 1 2 3 1 2 3 "
     ]
    }
   ],
   "source": [
    "# Python code to demonstrate the working of\n",
    "# \"+\" and \"*\"\n",
    "# initializing list 1\n",
    "lis = [1, 2, 3]\n",
    "\n",
    "# initializing list 2\n",
    "lis1 = [4, 5, 6]\n",
    "\n",
    "# using \"+\" to concatenate lists\n",
    "lis2= lis + lis1\n",
    "\n",
    "# priting concatenated lists\n",
    "print (\"list after concatenation is : \", end=\"\")\n",
    "for i in range(0,len(lis2)):\n",
    "         print (lis2[i], end=\" \")\n",
    "         \n",
    "print (\"\\r\")\n",
    "\n",
    "#using '*' to combine lists \n",
    "lis3 = lis * 3\n",
    "\n",
    "# priting combined lists\n",
    "print (\"list after combining is : \", end=\"\")\n",
    "for i in range(0,len(lis3)):\n",
    "         print (lis3[i], end=\" \")\n"
   ]
  },
  {
   "cell_type": "markdown",
   "metadata": {
    "colab_type": "text",
    "id": "NliUZkmsmJU0"
   },
   "source": [
    "8. index(ele, beg, end) :- This function returns the index of first occurrence of element after beg and before end.\n",
    "\n",
    "9. count() :- This function counts the number of occurrences of elements in list."
   ]
  },
  {
   "cell_type": "code",
   "execution_count": 0,
   "metadata": {
    "colab": {
     "base_uri": "https://localhost:8080/",
     "height": 53
    },
    "colab_type": "code",
    "executionInfo": {
     "elapsed": 1078,
     "status": "ok",
     "timestamp": 1588963364895,
     "user": {
      "displayName": "Srijeet Chatterjee",
      "photoUrl": "https://lh3.googleusercontent.com/a-/AOh14GhvLyI2L7rMpswCMPIIHugxGS37iH6O6W9QSxh_Zw=s64",
      "userId": "01014322814526133923"
     },
     "user_tz": -330
    },
    "id": "8edSFO0omAy6",
    "outputId": "d538e6c5-d379-40d0-e787-0554aa41dd7b"
   },
   "outputs": [
    {
     "name": "stdout",
     "output_type": "stream",
     "text": [
      "The first occurrence of 3 after 3rd position is : 5\n",
      "The number of occurrences of 3 is : 2\n"
     ]
    }
   ],
   "source": [
    "# Python code to demonstrate the working of\n",
    "# index() and count()\n",
    "# initializing list 1\n",
    "lis = [2, 1, 3, 5, 4, 3]\n",
    "\n",
    "# using index() to print first occurrence of 3\n",
    "# prints 5\n",
    "print (\"The first occurrence of 3 after 3rd position is : \", end=\"\")\n",
    "print (lis.index(3, 3, 6))\n",
    "\n",
    "# using count() to count number of occurrence of 3\n",
    "print (\"The number of occurrences of 3 is : \", end=\"\")\n",
    "print (lis.count(3))"
   ]
  },
  {
   "cell_type": "markdown",
   "metadata": {
    "colab_type": "text",
    "id": "H1xfVI8SmSIY"
   },
   "source": [
    "#### List Methods in Python Set 2"
   ]
  },
  {
   "cell_type": "markdown",
   "metadata": {
    "colab_type": "text",
    "id": "wBLEWU73mfoL"
   },
   "source": [
    "sum() : Calculates sum of all the elements of List.\n",
    "Syntax:\n",
    "\n",
    " sum(List)\n",
    "\n",
    " Note : Sum is calculated only for Numeric values, elsewise throws TypeError."
   ]
  },
  {
   "cell_type": "code",
   "execution_count": 0,
   "metadata": {
    "colab": {
     "base_uri": "https://localhost:8080/",
     "height": 35
    },
    "colab_type": "code",
    "executionInfo": {
     "elapsed": 1251,
     "status": "ok",
     "timestamp": 1588963466551,
     "user": {
      "displayName": "Srijeet Chatterjee",
      "photoUrl": "https://lh3.googleusercontent.com/a-/AOh14GhvLyI2L7rMpswCMPIIHugxGS37iH6O6W9QSxh_Zw=s64",
      "userId": "01014322814526133923"
     },
     "user_tz": -330
    },
    "id": "ofM-yvenmUtN",
    "outputId": "e8f82cab-98c6-4ef4-df80-f584370b6ae1"
   },
   "outputs": [
    {
     "name": "stdout",
     "output_type": "stream",
     "text": [
      "15\n"
     ]
    }
   ],
   "source": [
    "List = [1, 2, 3, 4, 5]\n",
    "print(sum(List))"
   ]
  },
  {
   "cell_type": "markdown",
   "metadata": {
    "colab_type": "text",
    "id": "muAmqFjNnQpi"
   },
   "source": [
    "    reverse(): \n",
    "    \n",
    "Sort the given data structure (both tuple and list) in ascending order. Key and reverse_flag are not necessary parameter and reverse_flag is set to False, if nothing is passed through sorted().\n",
    "Syntax:"
   ]
  },
  {
   "cell_type": "code",
   "execution_count": 0,
   "metadata": {
    "colab": {
     "base_uri": "https://localhost:8080/",
     "height": 35
    },
    "colab_type": "code",
    "executionInfo": {
     "elapsed": 1105,
     "status": "ok",
     "timestamp": 1588963711227,
     "user": {
      "displayName": "Srijeet Chatterjee",
      "photoUrl": "https://lh3.googleusercontent.com/a-/AOh14GhvLyI2L7rMpswCMPIIHugxGS37iH6O6W9QSxh_Zw=s64",
      "userId": "01014322814526133923"
     },
     "user_tz": -330
    },
    "id": "AeliWt7KnY1J",
    "outputId": "d2262698-3451-4098-affd-23b9118ee28a"
   },
   "outputs": [
    {
     "name": "stdout",
     "output_type": "stream",
     "text": [
      "[5.33, 4.445, 3, 2.5, 2.3, 1.054]\n"
     ]
    }
   ],
   "source": [
    "List = [2.3, 4.445, 3, 5.33, 1.054, 2.5]\n",
    "\n",
    "#Reverse flag is set True\n",
    "List.sort(reverse = True) \n",
    "\n",
    "#List.sort().reverse(), reverses the sorted list  \n",
    "print(List)   "
   ]
  },
  {
   "cell_type": "code",
   "execution_count": 0,
   "metadata": {
    "colab": {
     "base_uri": "https://localhost:8080/",
     "height": 35
    },
    "colab_type": "code",
    "executionInfo": {
     "elapsed": 1078,
     "status": "ok",
     "timestamp": 1588963732037,
     "user": {
      "displayName": "Srijeet Chatterjee",
      "photoUrl": "https://lh3.googleusercontent.com/a-/AOh14GhvLyI2L7rMpswCMPIIHugxGS37iH6O6W9QSxh_Zw=s64",
      "userId": "01014322814526133923"
     },
     "user_tz": -330
    },
    "id": "S8e7_i0knhPu",
    "outputId": "9a2805d4-1563-404c-a53e-bcc0bb0a4680"
   },
   "outputs": [
    {
     "name": "stdout",
     "output_type": "stream",
     "text": [
      "[2.3, 4.445, 3, 5.33, 1.054, 2.5]\n"
     ]
    }
   ],
   "source": [
    "List = [2.3, 4.445, 3, 5.33, 1.054, 2.5]\n",
    "sorted(List)\n",
    "print(List)"
   ]
  },
  {
   "cell_type": "markdown",
   "metadata": {
    "colab_type": "text",
    "id": "RpNUzP6JoVve"
   },
   "source": [
    "####Sorting a list according to the length of the elements:"
   ]
  },
  {
   "cell_type": "markdown",
   "metadata": {
    "colab_type": "text",
    "id": "Bj_osGk6ouLF"
   },
   "source": [
    "In this program, we need to accept a list and sort it based on the length of the elements present within.\n",
    "Examples:"
   ]
  },
  {
   "cell_type": "markdown",
   "metadata": {
    "colab_type": "text",
    "id": "awvigr8Nooe_"
   },
   "source": [
    "\n",
    "```\n",
    "Input : list = [\"rohan\", \"amy\", \"sapna\", \"muhammad\",\n",
    "                \"aakash\", \"raunak\", \"chinmoy\"]\n",
    "Output : ['amy', 'rohan', 'sapna', 'aakash', 'raunak', \n",
    "         'chinmoy', 'muhammad']\n",
    "\n",
    "Input : list = [[\"ram\", \"mohan\", \"aman\"], [\"gaurav\"], \n",
    "                 [\"amy\", \"sima\", \"ankita\", \"rinku\"]]\n",
    "Output : [['gaurav'], ['ram', 'mohan', 'aman'], \n",
    "          ['amy', 'sima', 'ankita', 'rinku']]\n",
    "\n",
    "Note: The first example comprises of Strings whose \n",
    "length can be calculated. The second example comprises \n",
    "of sublists, which is also arranged according to there \n",
    "length. \n",
    "\n",
    "```\n"
   ]
  },
  {
   "cell_type": "markdown",
   "metadata": {
    "colab_type": "text",
    "id": "rOQrxLUro3hY"
   },
   "source": [
    "There are many ways of performing this. Anyone can use there own algorithmic technique, but Python provides us with various built-in functions to perform these. The built-in functions include **sort()** and **sorted()** along with the key parameter. We can perform these in two ways. One way is to sort the list by creating a new list and another way is to sort within the given list, saving space."
   ]
  },
  {
   "cell_type": "markdown",
   "metadata": {
    "colab_type": "text",
    "id": "o-GV3AvrpAt3"
   },
   "source": [
    "```\n",
    "The syntax for sorting by creating a new list is:\n",
    "\n",
    "sorted_list = sorted(unsorted_list, key=len) \n",
    "```"
   ]
  },
  {
   "cell_type": "code",
   "execution_count": 0,
   "metadata": {
    "colab": {
     "base_uri": "https://localhost:8080/",
     "height": 35
    },
    "colab_type": "code",
    "executionInfo": {
     "elapsed": 1048,
     "status": "ok",
     "timestamp": 1588964157014,
     "user": {
      "displayName": "Srijeet Chatterjee",
      "photoUrl": "https://lh3.googleusercontent.com/a-/AOh14GhvLyI2L7rMpswCMPIIHugxGS37iH6O6W9QSxh_Zw=s64",
      "userId": "01014322814526133923"
     },
     "user_tz": -330
    },
    "id": "hpsjry-4obuG",
    "outputId": "fdd06e27-229f-4bd4-cacf-a95aa51acd77"
   },
   "outputs": [
    {
     "name": "stdout",
     "output_type": "stream",
     "text": [
      "['amy', 'rohan', 'sapna', 'aakash', 'raunak', 'chinmoy', 'muhammad']\n"
     ]
    }
   ],
   "source": [
    "# Python code to sort a list by creating \n",
    "# another list Use of sorted()\n",
    "def Sorting(lst):\n",
    "    lst2 = sorted(lst, key=len)\n",
    "    return lst2\n",
    "    \n",
    "# Driver code\n",
    "lst = [\"rohan\", \"amy\", \"sapna\", \"muhammad\", \n",
    "       \"aakash\", \"raunak\", \"chinmoy\"]\n",
    "print(Sorting(lst))\n"
   ]
  },
  {
   "cell_type": "markdown",
   "metadata": {
    "colab_type": "text",
    "id": "NYEVbZogpYQK"
   },
   "source": [
    "```\n",
    " The syntax for sorting without creating a new list is:\n",
    "\n",
    "unsorted_list.sort(key=len)\n",
    "```"
   ]
  },
  {
   "cell_type": "code",
   "execution_count": 0,
   "metadata": {
    "colab": {
     "base_uri": "https://localhost:8080/",
     "height": 35
    },
    "colab_type": "code",
    "executionInfo": {
     "elapsed": 1128,
     "status": "ok",
     "timestamp": 1588964243966,
     "user": {
      "displayName": "Srijeet Chatterjee",
      "photoUrl": "https://lh3.googleusercontent.com/a-/AOh14GhvLyI2L7rMpswCMPIIHugxGS37iH6O6W9QSxh_Zw=s64",
      "userId": "01014322814526133923"
     },
     "user_tz": -330
    },
    "id": "PksJZs7IpOGC",
    "outputId": "d0394708-11bf-4123-97cc-12fb02930ff9"
   },
   "outputs": [
    {
     "name": "stdout",
     "output_type": "stream",
     "text": [
      "['amy', 'rohan', 'sapna', 'aakash', 'raunak', 'chinmoy', 'muhammad']\n"
     ]
    }
   ],
   "source": [
    "# Python code to sort a list without \n",
    "# creating another list Use of sort()\n",
    "def Sorting(lst):\n",
    "    lst.sort(key=len)\n",
    "    return lst\n",
    "    \n",
    "# Driver code\n",
    "lst = [\"rohan\", \"amy\", \"sapna\", \"muhammad\", \n",
    "       \"aakash\", \"raunak\", \"chinmoy\"]\n",
    "print(Sorting(lst))"
   ]
  },
  {
   "cell_type": "markdown",
   "metadata": {
    "colab_type": "text",
    "id": "JplNv3qIpyvV"
   },
   "source": [
    "Working: These key function of Python's while sorting implemented is known as the decorate-sort-undecorate design pattern. It follows the following steps:\n",
    "\n",
    "    1.Each element of the list is temporarily replaced with a “decorated” \n",
    "    version that includes the result of the key function applied to the element.\n",
    "    2.The list is sorted based upon the natural order of the keys.\n",
    "    3.The decorated elements are replaced by the original elements.\n"
   ]
  },
  {
   "cell_type": "code",
   "execution_count": 0,
   "metadata": {
    "colab": {
     "base_uri": "https://localhost:8080/",
     "height": 35
    },
    "colab_type": "code",
    "executionInfo": {
     "elapsed": 1227,
     "status": "ok",
     "timestamp": 1588964351676,
     "user": {
      "displayName": "Srijeet Chatterjee",
      "photoUrl": "https://lh3.googleusercontent.com/a-/AOh14GhvLyI2L7rMpswCMPIIHugxGS37iH6O6W9QSxh_Zw=s64",
      "userId": "01014322814526133923"
     },
     "user_tz": -330
    },
    "id": "vEHlkdaBpc_N",
    "outputId": "2d61f6bd-a13d-41ee-a156-35070ac07624"
   },
   "outputs": [
    {
     "name": "stdout",
     "output_type": "stream",
     "text": [
      "['amy', 'rohan', 'sapna', 'aakash', 'raunak', 'chinmoy', 'muhammad']\n"
     ]
    }
   ],
   "source": [
    "\n",
    "import numpy\n",
    "\n",
    "def Sorting(lst):\n",
    "\n",
    "    # list for storing the length of each string in list \n",
    "    lenlist=[]   \n",
    "    for x in lst:\n",
    "         lenlist.append(len(x))     \n",
    "\n",
    "    # return a list with the index of the sorted\n",
    "    # items in the list\n",
    "    sortedindex = numpy.argsort(lenlist)  \n",
    "\n",
    "    # creating a dummy list where we will place the \n",
    "    # word according to the sortedindex list \n",
    "    lst2 = ['dummy']*len(lst)   \n",
    "\n",
    "    # print(sortedindex,lenlist)\n",
    "    for i in range(len(lst)):    \n",
    "\n",
    "        # placing element in the lst2 list by taking the\n",
    "        # value from original list lst where it should belong \n",
    "        # in the sorted list by taking its index from sortedindex\n",
    "        lst2[i] = lst[sortedindex[i]]     \n",
    "                                        \n",
    "    return lst2\n",
    "    \n",
    "# Driver code\n",
    "lst = [\"rohan\", \"amy\", \"sapna\", \"muhammad\", \n",
    "       \"aakash\", \"raunak\", \"chinmoy\"]\n",
    "print(Sorting(lst))\n"
   ]
  },
  {
   "cell_type": "markdown",
   "metadata": {
    "colab_type": "text",
    "id": "Od7DcqVWqCwJ"
   },
   "source": [
    "####Union of two or more Lists:"
   ]
  },
  {
   "cell_type": "markdown",
   "metadata": {
    "colab_type": "text",
    "id": "1ILWyRIBqQfa"
   },
   "source": [
    "Union of a list means, we must take all the elements from list A and list B (there can be more than two lists) and put them inside a single new list. There are various orders in which we can combine the lists. For e.g., we can maintain the repetition and order or remove the repeated elements in the final list and so on.\n",
    "Examples"
   ]
  },
  {
   "cell_type": "markdown",
   "metadata": {
    "colab_type": "text",
    "id": "n4SacbGHqUKS"
   },
   "source": [
    "    Maintained repetition only\n",
    "\n",
    "Input : \n",
    "\n",
    "lst1 = [23, 15, 2, 14, 14, 16, 20 ,52]\n",
    "\n",
    "lst2 = [2, 48, 15, 12, 26, 32, 47, 54]\n",
    "\n",
    "Output :\n",
    "[23, 15, 2, 14, 14, 16, 20, 52, 2, 48, \n",
    "15, 12, 26, 32, 47, 54]\n",
    "\n",
    "    Maintained repetition and order\n",
    "\n",
    "Input : \n",
    "\n",
    "lst1 = [23, 15, 2, 14, 14, 16, 20 ,52]\n",
    "\n",
    "lst2 = [2, 48, 15, 12, 26, 32, 47, 54]\n",
    "\n",
    "Output :\n",
    "[2, 2, 12, 14, 14, 15, 15, 16, 20, 23, \n",
    "26, 32, 47, 48, 52, 54]\n",
    "\n",
    "    Without repetition\n",
    "\n",
    "Input : \n",
    "\n",
    "lst1 = [23, 15, 2, 14, 14, 16, 20 ,52]\n",
    "\n",
    "lst2 = [2, 48, 15, 12, 26, 32, 47, 54]\n",
    "\n",
    "Output :\n",
    "[32, 2, 12, 14, 15, 16, 48, 47, 20, 52, 54, 23, 26]\n",
    "\n",
    "    Union of three lists\n",
    "\n",
    "Input :\n",
    "\n",
    "lst1 = [23, 15, 2, 14, 14, 16, 20 ,52]\n",
    "\n",
    "lst2 = [2, 48, 15, 12, 26, 32, 47, 54]\n",
    "\n",
    "lst3 = [4, 78, 5, 6, 9, 25, 64, 32, 59]\n",
    "\n",
    "Output :\n",
    "\n",
    "[32, 64, 2, 4, 5, 6, 9, 12, 14, 15, 16, \n",
    "48, 47, 78, 20, 52, 54, 23, 25, 26, 59]"
   ]
  },
  {
   "cell_type": "markdown",
   "metadata": {
    "colab_type": "text",
    "id": "HLT5yVUVqsT6"
   },
   "source": [
    "    Maintaining Repetition"
   ]
  },
  {
   "cell_type": "markdown",
   "metadata": {
    "colab_type": "text",
    "id": "1zp-trMTq3yE"
   },
   "source": [
    " We can simply use the plus \"+\" operator inorder to combine two list into one. This will reflect the repetition."
   ]
  },
  {
   "cell_type": "code",
   "execution_count": 0,
   "metadata": {
    "colab": {
     "base_uri": "https://localhost:8080/",
     "height": 35
    },
    "colab_type": "code",
    "executionInfo": {
     "elapsed": 1075,
     "status": "ok",
     "timestamp": 1588964581885,
     "user": {
      "displayName": "Srijeet Chatterjee",
      "photoUrl": "https://lh3.googleusercontent.com/a-/AOh14GhvLyI2L7rMpswCMPIIHugxGS37iH6O6W9QSxh_Zw=s64",
      "userId": "01014322814526133923"
     },
     "user_tz": -330
    },
    "id": "d7iYGo3ZqFdk",
    "outputId": "ad206f9e-fa17-466b-f9b7-dfbe7718d0c0"
   },
   "outputs": [
    {
     "name": "stdout",
     "output_type": "stream",
     "text": [
      "[23, 15, 2, 14, 14, 16, 20, 52, 2, 48, 15, 12, 26, 32, 47, 54]\n"
     ]
    }
   ],
   "source": [
    "# Python program to illustrate union\n",
    "# Maintained repetition \n",
    "def Union(lst1, lst2):\n",
    "    final_list = lst1 + lst2\n",
    "    return final_list\n",
    "\n",
    "# Driver Code\n",
    "lst1 = [23, 15, 2, 14, 14, 16, 20 ,52]\n",
    "lst2 = [2, 48, 15, 12, 26, 32, 47, 54]\n",
    "print(Union(lst1, lst2))\n"
   ]
  },
  {
   "cell_type": "markdown",
   "metadata": {
    "colab_type": "text",
    "id": "6i0pllMFq5X1"
   },
   "source": [
    "    Maintaining both Repetition and Order\n",
    "To maintain the order of appearance in the new list we need to use the sorted() function, passing the addition of two lists(plus operated, as in the previous problem) as parameters."
   ]
  },
  {
   "cell_type": "code",
   "execution_count": 0,
   "metadata": {
    "colab": {
     "base_uri": "https://localhost:8080/",
     "height": 35
    },
    "colab_type": "code",
    "executionInfo": {
     "elapsed": 1064,
     "status": "ok",
     "timestamp": 1588964641169,
     "user": {
      "displayName": "Srijeet Chatterjee",
      "photoUrl": "https://lh3.googleusercontent.com/a-/AOh14GhvLyI2L7rMpswCMPIIHugxGS37iH6O6W9QSxh_Zw=s64",
      "userId": "01014322814526133923"
     },
     "user_tz": -330
    },
    "id": "gPDBz_zpq107",
    "outputId": "475689ac-cf5f-41f7-ea3a-cd6bf18ca706"
   },
   "outputs": [
    {
     "name": "stdout",
     "output_type": "stream",
     "text": [
      "[2, 2, 12, 14, 14, 15, 15, 16, 20, 23, 26, 32, 47, 48, 52, 54]\n"
     ]
    }
   ],
   "source": [
    "# Python program to illustrate union\n",
    "# Maintained repetition and order \n",
    "def Union(lst1, lst2):\n",
    "    final_list = sorted(lst1 + lst2)\n",
    "    return final_list\n",
    "\n",
    "# Driver Code\n",
    "lst1 = [23, 15, 2, 14, 14, 16, 20 ,52]\n",
    "lst2 = [2, 48, 15, 12, 26, 32, 47, 54]\n",
    "print(Union(lst1, lst2))\n"
   ]
  },
  {
   "cell_type": "markdown",
   "metadata": {
    "colab_type": "text",
    "id": "s1My1btdrHWZ"
   },
   "source": [
    "    Without Repetition\n",
    "To get rid of all the repetitive elements from the initial list, we use the set() function on both the lists, individually. Then we add them using the \"+\" operator and pass as a new list."
   ]
  },
  {
   "cell_type": "code",
   "execution_count": 0,
   "metadata": {
    "colab": {
     "base_uri": "https://localhost:8080/",
     "height": 35
    },
    "colab_type": "code",
    "executionInfo": {
     "elapsed": 1267,
     "status": "ok",
     "timestamp": 1588964674067,
     "user": {
      "displayName": "Srijeet Chatterjee",
      "photoUrl": "https://lh3.googleusercontent.com/a-/AOh14GhvLyI2L7rMpswCMPIIHugxGS37iH6O6W9QSxh_Zw=s64",
      "userId": "01014322814526133923"
     },
     "user_tz": -330
    },
    "id": "KTM3h4NhrES0",
    "outputId": "a9571dba-640e-41c6-c799-6130b584b13d"
   },
   "outputs": [
    {
     "name": "stdout",
     "output_type": "stream",
     "text": [
      "[32, 2, 12, 14, 15, 16, 48, 47, 20, 52, 54, 23, 26]\n"
     ]
    }
   ],
   "source": [
    "# Python program to illustrate union\n",
    "# Without repetition \n",
    "def Union(lst1, lst2):\n",
    "    final_list = list(set(lst1) | set(lst2))\n",
    "    return final_list\n",
    "\n",
    "# Driver Code\n",
    "lst1 = [23, 15, 2, 14, 14, 16, 20 ,52]\n",
    "lst2 = [2, 48, 15, 12, 26, 32, 47, 54]\n",
    "print(Union(lst1, lst2))"
   ]
  },
  {
   "cell_type": "markdown",
   "metadata": {
    "colab_type": "text",
    "id": "d35T_u3yrVm1"
   },
   "source": [
    "    More than two lists\n",
    "\n",
    "We can also make an union of more than two lists. This can be done efficiently by using both the set() and union() function, simultaneously, as shown in the below example. This also takes care of the repetition and prevents them."
   ]
  },
  {
   "cell_type": "code",
   "execution_count": 0,
   "metadata": {
    "colab": {
     "base_uri": "https://localhost:8080/",
     "height": 35
    },
    "colab_type": "code",
    "executionInfo": {
     "elapsed": 1154,
     "status": "ok",
     "timestamp": 1588964781320,
     "user": {
      "displayName": "Srijeet Chatterjee",
      "photoUrl": "https://lh3.googleusercontent.com/a-/AOh14GhvLyI2L7rMpswCMPIIHugxGS37iH6O6W9QSxh_Zw=s64",
      "userId": "01014322814526133923"
     },
     "user_tz": -330
    },
    "id": "PEsM6zOhrMRy",
    "outputId": "7dea383a-e759-4dd5-9675-96fcdde7dc56"
   },
   "outputs": [
    {
     "name": "stdout",
     "output_type": "stream",
     "text": [
      "[2, 4, 5, 6, 9, 12, 14, 15, 16, 20, 23, 25, 26, 32, 47, 48, 52, 54, 59, 64, 78]\n"
     ]
    }
   ],
   "source": [
    "# Python program to illustrate union\n",
    "# Union of three lists\n",
    "def Union(lst1, lst2, lst3):\n",
    "    final_list = list(set().union(lst1, lst2, lst3))\n",
    "    return final_list\n",
    "\n",
    "# Driver Code\n",
    "lst1 = [23, 15, 2, 14, 14, 16, 20 ,52]\n",
    "lst2 = [2, 48, 15, 12, 26, 32, 47, 54]\n",
    "lst3 = [4, 78, 5, 6, 9, 25, 64, 32, 59]\n",
    "print(Union(lst1, lst2, lst3))"
   ]
  },
  {
   "cell_type": "markdown",
   "metadata": {
    "colab_type": "text",
    "id": "KfWzZG7Orq69"
   },
   "source": [
    "####Intersection of Two Lists :"
   ]
  },
  {
   "cell_type": "markdown",
   "metadata": {
    "colab_type": "text",
    "id": "PUi3jmy5rxJe"
   },
   "source": [
    "Intersection of two list means we need to take all those elements which are common to both of the initial lists and store them into another list. Now there are various ways in Python, through which we can perform the Intersection of the lists.\n",
    "Examples:\n",
    "\n",
    "```\n",
    "\n",
    "Input : \n",
    "\n",
    "lst1 = [15, 9, 10, 56, 23, 78, 5, 4, 9]\n",
    "\n",
    "lst2 = [9, 4, 5, 36, 47, 26, 10, 45, 87]\n",
    "\n",
    "Output :\n",
    "\n",
    "[9, 10, 4, 5]\n",
    "\n",
    "Input :\n",
    "\n",
    "lst1 = [4, 9, 1, 17, 11, 26, 28, 54, 69]\n",
    "\n",
    "lst2 = [9, 9, 74, 21, 45, 11, 63, 28, 26]\n",
    "\n",
    "Output :\n",
    "\n",
    "[9, 11, 26, 28]\n",
    "\n",
    "```"
   ]
  },
  {
   "cell_type": "markdown",
   "metadata": {
    "colab_type": "text",
    "id": "c1fHVlzJsAZU"
   },
   "source": [
    "    Method 1: This is the simplest method where we haven't used any built-in functions."
   ]
  },
  {
   "cell_type": "code",
   "execution_count": 0,
   "metadata": {
    "colab": {
     "base_uri": "https://localhost:8080/",
     "height": 35
    },
    "colab_type": "code",
    "executionInfo": {
     "elapsed": 1061,
     "status": "ok",
     "timestamp": 1588964917038,
     "user": {
      "displayName": "Srijeet Chatterjee",
      "photoUrl": "https://lh3.googleusercontent.com/a-/AOh14GhvLyI2L7rMpswCMPIIHugxGS37iH6O6W9QSxh_Zw=s64",
      "userId": "01014322814526133923"
     },
     "user_tz": -330
    },
    "id": "GwKVlseArlcA",
    "outputId": "9b5b3427-1547-4bc4-b6e7-827c9da60a0c"
   },
   "outputs": [
    {
     "name": "stdout",
     "output_type": "stream",
     "text": [
      "[9, 11, 26, 28]\n"
     ]
    }
   ],
   "source": [
    "# Python program to illustrate the intersection\n",
    "# of two lists in most simple way\n",
    "def intersection(lst1, lst2):\n",
    "    lst3 = [value for value in lst1 if value in lst2]\n",
    "    return lst3\n",
    "\n",
    "# Driver Code\n",
    "lst1 = [4, 9, 1, 17, 11, 26, 28, 54, 69]\n",
    "lst2 = [9, 9, 74, 21, 45, 11, 63, 28, 26]\n",
    "print(intersection(lst1, lst2))"
   ]
  },
  {
   "cell_type": "markdown",
   "metadata": {
    "colab_type": "text",
    "id": "RNRJm7k4sJ0H"
   },
   "source": [
    "    Method 2: This method includes the use of set() method."
   ]
  },
  {
   "cell_type": "code",
   "execution_count": 0,
   "metadata": {
    "colab": {
     "base_uri": "https://localhost:8080/",
     "height": 35
    },
    "colab_type": "code",
    "executionInfo": {
     "elapsed": 747,
     "status": "ok",
     "timestamp": 1588964947977,
     "user": {
      "displayName": "Srijeet Chatterjee",
      "photoUrl": "https://lh3.googleusercontent.com/a-/AOh14GhvLyI2L7rMpswCMPIIHugxGS37iH6O6W9QSxh_Zw=s64",
      "userId": "01014322814526133923"
     },
     "user_tz": -330
    },
    "id": "9dEOOfytsHpS",
    "outputId": "8f4a10f1-cbd0-4fda-fdc5-86c4dd54c614"
   },
   "outputs": [
    {
     "name": "stdout",
     "output_type": "stream",
     "text": [
      "[9, 10, 4, 5]\n"
     ]
    }
   ],
   "source": [
    "# Python program to illustrate the intersection\n",
    "# of two lists using set() method\n",
    "def intersection(lst1, lst2):\n",
    "    return list(set(lst1) & set(lst2))\n",
    "\n",
    "# Driver Code\n",
    "lst1 = [15, 9, 10, 56, 23, 78, 5, 4, 9]\n",
    "lst2 = [9, 4, 5, 36, 47, 26, 10, 45, 87]\n",
    "print(intersection(lst1, lst2))"
   ]
  },
  {
   "cell_type": "markdown",
   "metadata": {
    "colab_type": "text",
    "id": "vzl3Cu8_sR6M"
   },
   "source": [
    "    Method 3: In this method we set() the larger list and \n",
    "    then use the built-in function called interscetion() \n",
    "    to compute the intersected list. intersection() is a \n",
    "    first-class part of set."
   ]
  },
  {
   "cell_type": "code",
   "execution_count": 0,
   "metadata": {
    "colab": {
     "base_uri": "https://localhost:8080/",
     "height": 35
    },
    "colab_type": "code",
    "executionInfo": {
     "elapsed": 1276,
     "status": "ok",
     "timestamp": 1588965017170,
     "user": {
      "displayName": "Srijeet Chatterjee",
      "photoUrl": "https://lh3.googleusercontent.com/a-/AOh14GhvLyI2L7rMpswCMPIIHugxGS37iH6O6W9QSxh_Zw=s64",
      "userId": "01014322814526133923"
     },
     "user_tz": -330
    },
    "id": "-tEGMnLOsPRl",
    "outputId": "29ac8831-f19b-4f37-8950-58107ee718da"
   },
   "outputs": [
    {
     "name": "stdout",
     "output_type": "stream",
     "text": [
      "{9, 11}\n"
     ]
    }
   ],
   "source": [
    "# Python program to illustrate the intersection\n",
    "# of two lists using set() and intersection()\n",
    "def Intersection(lst1, lst2):\n",
    "    return set(lst1).intersection(lst2)\n",
    "    \n",
    "# Driver Code\n",
    "lst1 = [ 4, 9, 1, 17, 11, 26, 28, 28, 26, 66, 91]\n",
    "lst2 = [9, 9, 74, 21, 45, 11, 63]\n",
    "print(Intersection(lst1, lst2))"
   ]
  },
  {
   "cell_type": "markdown",
   "metadata": {
    "colab_type": "text",
    "id": "s1o8eznRsi4m"
   },
   "source": [
    "    Method 4: By the use of this hybrid method the complexity \n",
    "    of the program falls to O(n). This is an efficient way of \n",
    "    doing the following program."
   ]
  },
  {
   "cell_type": "code",
   "execution_count": 0,
   "metadata": {
    "colab": {
     "base_uri": "https://localhost:8080/",
     "height": 35
    },
    "colab_type": "code",
    "executionInfo": {
     "elapsed": 1130,
     "status": "ok",
     "timestamp": 1588965062831,
     "user": {
      "displayName": "Srijeet Chatterjee",
      "photoUrl": "https://lh3.googleusercontent.com/a-/AOh14GhvLyI2L7rMpswCMPIIHugxGS37iH6O6W9QSxh_Zw=s64",
      "userId": "01014322814526133923"
     },
     "user_tz": -330
    },
    "id": "clrTSHs7sfF8",
    "outputId": "a0145cb9-c94c-43d7-ccb3-d5b1f589141b"
   },
   "outputs": [
    {
     "name": "stdout",
     "output_type": "stream",
     "text": [
      "[9, 9, 11]\n"
     ]
    }
   ],
   "source": [
    "# Python program to illustrate the intersection\n",
    "# of two lists\n",
    "def intersection(lst1, lst2):\n",
    "\n",
    "    # Use of hybrid method\n",
    "    temp = set(lst2)\n",
    "    lst3 = [value for value in lst1 if value in temp]\n",
    "    return lst3\n",
    "\n",
    "# Driver Code\n",
    "lst1 = [9, 9, 74, 21, 45, 11, 63]\n",
    "lst2 = [4, 9, 1, 17, 11, 26, 28, 28, 26, 66, 91]\n",
    "print(intersection(lst1, lst2))"
   ]
  },
  {
   "cell_type": "markdown",
   "metadata": {
    "colab_type": "text",
    "id": "B0sLvFV5sv9j"
   },
   "source": [
    "    Method 5: This is the where the intersection is performed \n",
    "    over sub-lists inside other lists. Here we have used the \n",
    "    concept of filter(). "
   ]
  },
  {
   "cell_type": "code",
   "execution_count": 0,
   "metadata": {
    "colab": {
     "base_uri": "https://localhost:8080/",
     "height": 35
    },
    "colab_type": "code",
    "executionInfo": {
     "elapsed": 1389,
     "status": "ok",
     "timestamp": 1588965208593,
     "user": {
      "displayName": "Srijeet Chatterjee",
      "photoUrl": "https://lh3.googleusercontent.com/a-/AOh14GhvLyI2L7rMpswCMPIIHugxGS37iH6O6W9QSxh_Zw=s64",
      "userId": "01014322814526133923"
     },
     "user_tz": -330
    },
    "id": "6jI9SGlzsqVq",
    "outputId": "0e76e2ea-f684-4d76-9726-f2df7852855d"
   },
   "outputs": [
    {
     "name": "stdout",
     "output_type": "stream",
     "text": [
      "[[13, 32], [7, 13, 28], [1, 6]]\n"
     ]
    }
   ],
   "source": [
    "# Python program to illustrate the intersection\n",
    "# of two lists, sublists and use of filter()\n",
    "\n",
    "def intersection(lst1, lst2):\n",
    "    lst3 = [list(filter(lambda x: x in lst1, sublist)) for sublist in lst2]\n",
    "    return lst3\n",
    "\n",
    "# Driver Code\n",
    "lst1 = [1, 6, 7, 10, 13, 28, 32, 41, 58, 63]\n",
    "lst2 = [[13, 17, 18, 21, 32], [7, 11, 13, 14, 28], [1, 5, 6, 8, 15, 16]]\n",
    "print(intersection(lst1, lst2))"
   ]
  },
  {
   "cell_type": "markdown",
   "metadata": {
    "colab_type": "text",
    "id": "ZLQEDHCjtUCE"
   },
   "source": [
    "    Working: The filter part takes each sublist's item and \n",
    "    checks to see if it is in the source list. The list \n",
    "    comprehension is executed for each sublist in list2."
   ]
  },
  {
   "cell_type": "markdown",
   "metadata": {
    "colab_type": "text",
    "id": "TwiH-_pGte2u"
   },
   "source": [
    "####Stack and Queues in Python :"
   ]
  },
  {
   "cell_type": "markdown",
   "metadata": {
    "colab_type": "text",
    "id": "hTUDedAbtnCD"
   },
   "source": [
    "Unlike C++ STL and Java Collections, Python does have specific classes/interfaces for Stack and Queue. Following are different ways to implement in Python\n",
    "\n",
    "***1)Using list Stack***:\n",
    "\n",
    "works on the principle of \"Last-in, first-out\". Also, the inbuilt functions in Python make the code short and simple. To add an item to the top of the list, i.e., to push an item, we use append() function and to pop out an element we use pop() function. These functions work quiet efficiently and fast in end operations.\n",
    "\n",
    "Let's look at an example and try to understand the working of push() and pop() function:"
   ]
  },
  {
   "cell_type": "code",
   "execution_count": 0,
   "metadata": {
    "colab": {
     "base_uri": "https://localhost:8080/",
     "height": 108
    },
    "colab_type": "code",
    "executionInfo": {
     "elapsed": 1047,
     "status": "ok",
     "timestamp": 1588965363717,
     "user": {
      "displayName": "Srijeet Chatterjee",
      "photoUrl": "https://lh3.googleusercontent.com/a-/AOh14GhvLyI2L7rMpswCMPIIHugxGS37iH6O6W9QSxh_Zw=s64",
      "userId": "01014322814526133923"
     },
     "user_tz": -330
    },
    "id": "n5v__pPutjP8",
    "outputId": "4fc43d21-6906-4de3-d958-2c43d9b49d4a"
   },
   "outputs": [
    {
     "name": "stdout",
     "output_type": "stream",
     "text": [
      "['Amar', 'Akbar', 'Anthony', 'Ram', 'Iqbal']\n",
      "Iqbal\n",
      "['Amar', 'Akbar', 'Anthony', 'Ram']\n",
      "Ram\n",
      "['Amar', 'Akbar', 'Anthony']\n"
     ]
    }
   ],
   "source": [
    "# Python code to demonstrate Implementing \n",
    "# stack using list\n",
    "stack = [\"Amar\", \"Akbar\", \"Anthony\"]\n",
    "stack.append(\"Ram\")\n",
    "stack.append(\"Iqbal\")\n",
    "print(stack)\n",
    "\n",
    "# Removes the last item\n",
    "print(stack.pop())\n",
    "\n",
    "print(stack)\n",
    "\n",
    "# Removes the last item\n",
    "print(stack.pop())\n",
    "\n",
    "print(stack)"
   ]
  },
  {
   "cell_type": "markdown",
   "metadata": {
    "colab_type": "text",
    "id": "tj6tCHZst3ds"
   },
   "source": [
    "    Queue works on the principle of \"First-in, first-out\". \n",
    "    Below is list implementation of queue. We use pop(0) \n",
    "    to remove the first item from a list."
   ]
  },
  {
   "cell_type": "code",
   "execution_count": 0,
   "metadata": {
    "colab": {
     "base_uri": "https://localhost:8080/",
     "height": 108
    },
    "colab_type": "code",
    "executionInfo": {
     "elapsed": 1228,
     "status": "ok",
     "timestamp": 1588965395699,
     "user": {
      "displayName": "Srijeet Chatterjee",
      "photoUrl": "https://lh3.googleusercontent.com/a-/AOh14GhvLyI2L7rMpswCMPIIHugxGS37iH6O6W9QSxh_Zw=s64",
      "userId": "01014322814526133923"
     },
     "user_tz": -330
    },
    "id": "uQA3_Vn5t0rU",
    "outputId": "ef1daeaf-6733-42a5-aab4-ca102b9b2b0e"
   },
   "outputs": [
    {
     "name": "stdout",
     "output_type": "stream",
     "text": [
      "['Amar', 'Akbar', 'Anthony', 'Ram', 'Iqbal']\n",
      "Amar\n",
      "['Akbar', 'Anthony', 'Ram', 'Iqbal']\n",
      "Akbar\n",
      "['Anthony', 'Ram', 'Iqbal']\n"
     ]
    }
   ],
   "source": [
    "\n",
    "# Python code to demonstrate Implementing \n",
    "# Queue using list\n",
    "queue = [\"Amar\", \"Akbar\", \"Anthony\"]\n",
    "queue.append(\"Ram\")\n",
    "queue.append(\"Iqbal\")\n",
    "print(queue)\n",
    "\n",
    "# Removes the first item\n",
    "print(queue.pop(0))\n",
    "\n",
    "print(queue)\n",
    "\n",
    "# Removes the first item\n",
    "print(queue.pop(0))\n",
    "\n",
    "print(queue)\n"
   ]
  },
  {
   "cell_type": "markdown",
   "metadata": {
    "colab_type": "text",
    "id": "CXajVJayt_aq"
   },
   "source": [
    "***2) Using Deque***\n",
    "\n",
    " In case of stack, list implementation works fine and provides both append() and pop() in O(1) time. When we use deque implementation, we get same time complexity."
   ]
  },
  {
   "cell_type": "code",
   "execution_count": 0,
   "metadata": {
    "colab": {
     "base_uri": "https://localhost:8080/",
     "height": 126
    },
    "colab_type": "code",
    "executionInfo": {
     "elapsed": 1253,
     "status": "ok",
     "timestamp": 1588965479274,
     "user": {
      "displayName": "Srijeet Chatterjee",
      "photoUrl": "https://lh3.googleusercontent.com/a-/AOh14GhvLyI2L7rMpswCMPIIHugxGS37iH6O6W9QSxh_Zw=s64",
      "userId": "01014322814526133923"
     },
     "user_tz": -330
    },
    "id": "z1pSLfAZt8de",
    "outputId": "e6217cd9-e36c-4636-ac99-3a5a8c51048d"
   },
   "outputs": [
    {
     "name": "stdout",
     "output_type": "stream",
     "text": [
      "deque(['Ram', 'Tarun', 'Asif', 'John'])\n",
      "deque(['Ram', 'Tarun', 'Asif', 'John', 'Akbar'])\n",
      "deque(['Ram', 'Tarun', 'Asif', 'John', 'Akbar', 'Birbal'])\n",
      "Birbal\n",
      "Akbar\n",
      "deque(['Ram', 'Tarun', 'Asif', 'John'])\n"
     ]
    }
   ],
   "source": [
    "# Python code to demonstrate Implementing \n",
    "# Stack using deque\n",
    "from collections import deque\n",
    "queue = deque([\"Ram\", \"Tarun\", \"Asif\", \"John\"])\n",
    "print(queue)\n",
    "queue.append(\"Akbar\")\n",
    "print(queue)\n",
    "queue.append(\"Birbal\")\n",
    "print(queue)\n",
    "print(queue.pop())                 \n",
    "print(queue.pop())                 \n",
    "print(queue)\n"
   ]
  },
  {
   "cell_type": "markdown",
   "metadata": {
    "colab_type": "text",
    "id": "ImjA0iCFuXog"
   },
   "source": [
    "But when it comes to queue, the above list implementation is not efficient. In queue when pop() is made from the beginning of the list which is slow. This occurs due to the properties of list, which is fast at the end operations but slow at the beginning operations, as all other elements have to be shifted one by one.\n",
    "So, we prefer the use of queue over list, which was specially designed to have fast appends and pops from both the front and back end.\n",
    "\n",
    " Let's look at an example and try to understand queue using collections.deque:"
   ]
  },
  {
   "cell_type": "code",
   "execution_count": 0,
   "metadata": {
    "colab": {
     "base_uri": "https://localhost:8080/",
     "height": 126
    },
    "colab_type": "code",
    "executionInfo": {
     "elapsed": 1300,
     "status": "ok",
     "timestamp": 1588965525267,
     "user": {
      "displayName": "Srijeet Chatterjee",
      "photoUrl": "https://lh3.googleusercontent.com/a-/AOh14GhvLyI2L7rMpswCMPIIHugxGS37iH6O6W9QSxh_Zw=s64",
      "userId": "01014322814526133923"
     },
     "user_tz": -330
    },
    "id": "FNh5jnTeuQ3A",
    "outputId": "8a17548f-fb09-401b-b18d-672a5672dfe6"
   },
   "outputs": [
    {
     "name": "stdout",
     "output_type": "stream",
     "text": [
      "deque(['Ram', 'Tarun', 'Asif', 'John'])\n",
      "deque(['Ram', 'Tarun', 'Asif', 'John', 'Akbar'])\n",
      "deque(['Ram', 'Tarun', 'Asif', 'John', 'Akbar', 'Birbal'])\n",
      "Ram\n",
      "Tarun\n",
      "deque(['Asif', 'John', 'Akbar', 'Birbal'])\n"
     ]
    }
   ],
   "source": [
    "# Python code to demonstrate Implementing \n",
    "# Queue using deque\n",
    "from collections import deque\n",
    "queue = deque([\"Ram\", \"Tarun\", \"Asif\", \"John\"])\n",
    "print(queue)\n",
    "queue.append(\"Akbar\")\n",
    "print(queue)\n",
    "queue.append(\"Birbal\")\n",
    "print(queue)\n",
    "print(queue.popleft())                 \n",
    "print(queue.popleft())                 \n",
    "print(queue)"
   ]
  },
  {
   "cell_type": "markdown",
   "metadata": {
    "colab_type": "text",
    "id": "kHWb3tVOux8b"
   },
   "source": [
    "####Numbers in a list within a given Range :"
   ]
  },
  {
   "cell_type": "markdown",
   "metadata": {
    "colab_type": "text",
    "id": "J1TXGRDSu5Ud"
   },
   "source": [
    "    Given a list, print the number of numbers in the given range.\n",
    "\n",
    "\n",
    "    Examples:\n",
    "\n",
    "    Input : [10, 20, 30, 40, 50, 40, 40, 60, 70] range: 40-80\n",
    "    Output : 6\n",
    "\n",
    "    Input : [10, 20, 30, 40, 50, 40, 40, 60, 70] range: 10-40\n",
    "    Output : 4 \n"
   ]
  },
  {
   "cell_type": "markdown",
   "metadata": {
    "colab_type": "text",
    "id": "SMYcQYyVvKfm"
   },
   "source": [
    "    Multiple Line Approach:\n",
    "\n",
    "    1.Traverse in the list and check for every number. \n",
    "    2.If the number lies in the specified range, then increase the counter. \n",
    "    3.At the end of traversal, the value of the counter will be the \n",
    "    answer for the number of numbers in specified range.\n",
    "\n",
    "Below is the Python implementation of the above approac"
   ]
  },
  {
   "cell_type": "code",
   "execution_count": 0,
   "metadata": {
    "colab": {
     "base_uri": "https://localhost:8080/",
     "height": 35
    },
    "colab_type": "code",
    "executionInfo": {
     "elapsed": 2609,
     "status": "ok",
     "timestamp": 1588965801085,
     "user": {
      "displayName": "Srijeet Chatterjee",
      "photoUrl": "https://lh3.googleusercontent.com/a-/AOh14GhvLyI2L7rMpswCMPIIHugxGS37iH6O6W9QSxh_Zw=s64",
      "userId": "01014322814526133923"
     },
     "user_tz": -330
    },
    "id": "Ged7nlRxucFf",
    "outputId": "9831c514-5a4c-4fb4-da77-92c42717d82d"
   },
   "outputs": [
    {
     "name": "stdout",
     "output_type": "stream",
     "text": [
      "6\n"
     ]
    }
   ],
   "source": [
    "# Python program to count the \n",
    "# number of numbers in a given range\n",
    "# using traversal and mutliple line code\n",
    "\n",
    "def count(list1, l, r):\n",
    "    c = 0 \n",
    "    # traverse in the list1\n",
    "    for x in list1:\n",
    "        # condition check\n",
    "        if x>= l and x<= r:\n",
    "            c+= 1 \n",
    "    return c\n",
    "    \n",
    "# driver code\n",
    "list1 = [10, 20, 30, 40, 50, 40, 40, 60, 70]\n",
    "l = 40\n",
    "r = 80 \n",
    "print (count(list1, l, r))"
   ]
  },
  {
   "cell_type": "markdown",
   "metadata": {
    "colab_type": "text",
    "id": "d670pT00vfV9"
   },
   "source": [
    "    Single Line Approach:\n",
    "We can write a single line for traversal and checking condition together:\n",
    "\n",
    "    x for x in list1 if l <= x <= r\n",
    "\n",
    "\n",
    "The return value(true) of the condition check is stored in a list, and at the end the length of the list returns the answer.\n",
    "\n",
    "Below is the Python implementation of the above approach"
   ]
  },
  {
   "cell_type": "code",
   "execution_count": 0,
   "metadata": {
    "colab": {
     "base_uri": "https://localhost:8080/",
     "height": 35
    },
    "colab_type": "code",
    "executionInfo": {
     "elapsed": 1479,
     "status": "ok",
     "timestamp": 1588965899083,
     "user": {
      "displayName": "Srijeet Chatterjee",
      "photoUrl": "https://lh3.googleusercontent.com/a-/AOh14GhvLyI2L7rMpswCMPIIHugxGS37iH6O6W9QSxh_Zw=s64",
      "userId": "01014322814526133923"
     },
     "user_tz": -330
    },
    "id": "EHc6Wu1FvZdu",
    "outputId": "1db4643d-19b3-4d98-bb08-3abb94075941"
   },
   "outputs": [
    {
     "name": "stdout",
     "output_type": "stream",
     "text": [
      "6\n"
     ]
    }
   ],
   "source": [
    "# Python program to count the \n",
    "# number of numbers in a given range\n",
    "\n",
    "def count(list1, l, r):\n",
    "    \n",
    "    # x for x in list1 is same as traversal in the list\n",
    "    # the if condition checks for the number of numbers in the range \n",
    "    # l to r \n",
    "    # the return is stored in a list\n",
    "    # whose length is the answer\n",
    "    return len( list(x for x in list1 if x >= l and x <=r))\n",
    "\n",
    "# driver code\n",
    "list1 = [10, 20, 30, 40, 50, 40, 40, 60, 70]\n",
    "l = 40\n",
    "r = 80 \n",
    "print (count(list1, l, r))"
   ]
  },
  {
   "cell_type": "markdown",
   "metadata": {
    "colab_type": "text",
    "id": "nn4QdlKtwFfT"
   },
   "source": [
    "####Intersection of two Arrays in Python :"
   ]
  },
  {
   "cell_type": "markdown",
   "metadata": {
    "colab_type": "text",
    "id": "Nlvfsx6EwI9B"
   },
   "source": [
    "Given two arrays, find their intersection.\n",
    "\n",
    "    Examples:\n",
    "\n",
    "    Input:  \n",
    "    arr1[] = [1, 3, 4, 5, 7]\n",
    "    arr2[] = [2, 3, 5, 6]\n",
    "\n",
    "    Output: \n",
    "    Intersection : [3, 5]"
   ]
  },
  {
   "cell_type": "markdown",
   "metadata": {
    "colab_type": "text",
    "id": "DyrrWDQcwhGN"
   },
   "source": [
    "We have existing solution for this problem please refer Intersection of two list link. We will solve this problem quickly in python using Lambda expression and filter() function."
   ]
  },
  {
   "cell_type": "code",
   "execution_count": 0,
   "metadata": {
    "colab": {},
    "colab_type": "code",
    "id": "c9ncuwcHv1eO"
   },
   "outputs": [],
   "source": [
    "# Function to find intersection of two arrays\n",
    "\n",
    "def interSection(arr1,arr2):\n",
    "\n",
    "     # filter(lambda x: x in arr1, arr2)  -->\n",
    "     # filter element x from list arr2 where x\n",
    "     # also lies in arr1\n",
    "     result = list(filter(lambda x: x in arr1, arr2)) \n",
    "     print (\"Intersection : \",result)\n",
    "\n",
    "# Driver program\n",
    "if __name__ == \"__main__\":\n",
    "    arr1 = [1, 3, 4, 5, 7]\n",
    "    arr2 = [2, 3, 5, 6]\n",
    "    interSection(arr1,arr2)"
   ]
  },
  {
   "cell_type": "markdown",
   "metadata": {
    "colab_type": "text",
    "id": "Ze_X6phHxDzc"
   },
   "source": [
    "####Python Tuple:"
   ]
  },
  {
   "cell_type": "markdown",
   "metadata": {
    "colab_type": "text",
    "id": "Z9bB-Hb6xIvk"
   },
   "source": [
    "Tuple is a collection of Python objects much like a list. The sequence of values stored in a tuple can be of any type, and they are indexed by integers.\n",
    "Values of a tuple are syntactically separated by 'commas'. Although it is not necessary, it is more common to define a tuple by closing the sequence of values in parentheses. This helps in understanding the Python tuples more easily."
   ]
  },
  {
   "cell_type": "markdown",
   "metadata": {
    "colab_type": "text",
    "id": "mJs8bBuYxLgz"
   },
   "source": [
    "#####Creating a Tuple"
   ]
  },
  {
   "cell_type": "markdown",
   "metadata": {
    "colab_type": "text",
    "id": "l6ci3aSxxPel"
   },
   "source": [
    "In Python, tuples are created by placing sequence of values separated by 'comma' with or without the use of parentheses for grouping of data sequence.\n",
    "\n",
    "Note - Creation of Python tuple without the use of parentheses is known as Tuple Packing.\n",
    "Python program to demonstrate addition of elements in a set."
   ]
  },
  {
   "cell_type": "code",
   "execution_count": 0,
   "metadata": {
    "colab": {
     "base_uri": "https://localhost:8080/",
     "height": 217
    },
    "colab_type": "code",
    "executionInfo": {
     "elapsed": 1103,
     "status": "ok",
     "timestamp": 1588966602325,
     "user": {
      "displayName": "Srijeet Chatterjee",
      "photoUrl": "https://lh3.googleusercontent.com/a-/AOh14GhvLyI2L7rMpswCMPIIHugxGS37iH6O6W9QSxh_Zw=s64",
      "userId": "01014322814526133923"
     },
     "user_tz": -330
    },
    "id": "1VB0cv7VxH-S",
    "outputId": "c237e4df-bfa1-4efc-974e-0ce52780decc"
   },
   "outputs": [
    {
     "name": "stdout",
     "output_type": "stream",
     "text": [
      "Initial empty Tuple: \n",
      "()\n",
      "\n",
      "Tuple with the use of String: \n",
      "('Geeks', 'For')\n",
      "\n",
      "Tuple using List: \n",
      "(1, 2, 4, 5, 6)\n",
      "\n",
      "Tuple with the use of function: \n",
      "('G', 'e', 'e', 'k', 's')\n"
     ]
    }
   ],
   "source": [
    "#Creating an empty Tuple\n",
    "Tuple1 = ()\n",
    "print(\"Initial empty Tuple: \")\n",
    "print (Tuple1)\n",
    "\n",
    "#Creatting a Tuple \n",
    "#with the use of string\n",
    "Tuple1 = ('Geeks', 'For')\n",
    "print(\"\\nTuple with the use of String: \")\n",
    "print(Tuple1)\n",
    "\n",
    "# Creating a Tuple with\n",
    "# the use of list\n",
    "list1 = [1, 2, 4, 5, 6]\n",
    "print(\"\\nTuple using List: \")\n",
    "print(tuple(list1))\n",
    "\n",
    "#Creating a Tuple \n",
    "#with the use of built-in function\n",
    "Tuple1 = tuple('Geeks')\n",
    "print(\"\\nTuple with the use of function: \")\n",
    "print(Tuple1)"
   ]
  },
  {
   "cell_type": "markdown",
   "metadata": {
    "colab_type": "text",
    "id": "QbMgZS-_ynkJ"
   },
   "source": [
    "#####Creating a Tuple with Mixed Datatypes.\n",
    "\n",
    "Tuples can contain any number of elements and of any datatype (like strings, integers, list, etc.). Tuples can also be created with a single element, but it is a bit tricky. Having one element in the parentheses is not sufficient, there must be a trailing 'comma' to make it a tuple."
   ]
  },
  {
   "cell_type": "code",
   "execution_count": 0,
   "metadata": {
    "colab": {
     "base_uri": "https://localhost:8080/",
     "height": 126
    },
    "colab_type": "code",
    "executionInfo": {
     "elapsed": 1163,
     "status": "ok",
     "timestamp": 1588966697143,
     "user": {
      "displayName": "Srijeet Chatterjee",
      "photoUrl": "https://lh3.googleusercontent.com/a-/AOh14GhvLyI2L7rMpswCMPIIHugxGS37iH6O6W9QSxh_Zw=s64",
      "userId": "01014322814526133923"
     },
     "user_tz": -330
    },
    "id": "heiG2btIyjE-",
    "outputId": "f9d7ed5b-2249-4d27-b3f1-04fc4630d437"
   },
   "outputs": [
    {
     "name": "stdout",
     "output_type": "stream",
     "text": [
      "\n",
      "Tuple with Mixed Datatypes: \n",
      "(5, 'Welcome', 7, 'Geeks')\n",
      "\n",
      "Tuple with nested tuples: \n",
      "((0, 1, 2, 3), ('python', 'geek'))\n"
     ]
    }
   ],
   "source": [
    "#Creating a Tuple\n",
    "#with Mixed Datatype\n",
    "Tuple1 = (5, 'Welcome', 7, 'Geeks')\n",
    "print(\"\\nTuple with Mixed Datatypes: \")\n",
    "print(Tuple1)"
   ]
  },
  {
   "cell_type": "code",
   "execution_count": 0,
   "metadata": {
    "colab": {
     "base_uri": "https://localhost:8080/",
     "height": 72
    },
    "colab_type": "code",
    "executionInfo": {
     "elapsed": 1156,
     "status": "ok",
     "timestamp": 1588966744005,
     "user": {
      "displayName": "Srijeet Chatterjee",
      "photoUrl": "https://lh3.googleusercontent.com/a-/AOh14GhvLyI2L7rMpswCMPIIHugxGS37iH6O6W9QSxh_Zw=s64",
      "userId": "01014322814526133923"
     },
     "user_tz": -330
    },
    "id": "i1IPEXUEzFHh",
    "outputId": "24c550d4-bffe-449d-e71f-2c6771455610"
   },
   "outputs": [
    {
     "name": "stdout",
     "output_type": "stream",
     "text": [
      "\n",
      "Tuple with nested tuples: \n",
      "((0, 1, 2, 3), ('python', 'geek'))\n"
     ]
    }
   ],
   "source": [
    "#Creating a Tuple\n",
    "#with nested tuples\n",
    "Tuple1 = (0, 1, 2, 3)\n",
    "Tuple2 = ('python', 'geek')\n",
    "Tuple3 = (Tuple1, Tuple2)\n",
    "print(\"\\nTuple with nested tuples: \")\n",
    "print(Tuple3)"
   ]
  },
  {
   "cell_type": "code",
   "execution_count": 0,
   "metadata": {
    "colab": {
     "base_uri": "https://localhost:8080/",
     "height": 72
    },
    "colab_type": "code",
    "executionInfo": {
     "elapsed": 1097,
     "status": "ok",
     "timestamp": 1588966706466,
     "user": {
      "displayName": "Srijeet Chatterjee",
      "photoUrl": "https://lh3.googleusercontent.com/a-/AOh14GhvLyI2L7rMpswCMPIIHugxGS37iH6O6W9QSxh_Zw=s64",
      "userId": "01014322814526133923"
     },
     "user_tz": -330
    },
    "id": "VqJOyN_eyxQt",
    "outputId": "92e26eac-b461-48f1-9a37-ef1f77c8668a"
   },
   "outputs": [
    {
     "name": "stdout",
     "output_type": "stream",
     "text": [
      "\n",
      "Tuple with repetition: \n",
      "('Geeks', 'Geeks', 'Geeks')\n"
     ]
    }
   ],
   "source": [
    "#Creating a Tuple\n",
    "#with repetition\n",
    "Tuple1 = ('Geeks',) * 3\n",
    "print(\"\\nTuple with repetition: \")\n",
    "print(Tuple1)"
   ]
  },
  {
   "cell_type": "code",
   "execution_count": 0,
   "metadata": {
    "colab": {
     "base_uri": "https://localhost:8080/",
     "height": 144
    },
    "colab_type": "code",
    "executionInfo": {
     "elapsed": 1016,
     "status": "ok",
     "timestamp": 1588966709771,
     "user": {
      "displayName": "Srijeet Chatterjee",
      "photoUrl": "https://lh3.googleusercontent.com/a-/AOh14GhvLyI2L7rMpswCMPIIHugxGS37iH6O6W9QSxh_Zw=s64",
      "userId": "01014322814526133923"
     },
     "user_tz": -330
    },
    "id": "aTFfq7-9y8gT",
    "outputId": "ab5bc9dd-e236-49df-95f1-e8dc498a522e"
   },
   "outputs": [
    {
     "name": "stdout",
     "output_type": "stream",
     "text": [
      "\n",
      "Tuple with a loop\n",
      "('Geeks',)\n",
      "(('Geeks',),)\n",
      "((('Geeks',),),)\n",
      "(((('Geeks',),),),)\n",
      "((((('Geeks',),),),),)\n"
     ]
    }
   ],
   "source": [
    "#Creating a Tuple \n",
    "#with the use of loop\n",
    "\n",
    "Tuple1 = ('Geeks')\n",
    "n = 5\n",
    "print(\"\\nTuple with a loop\")\n",
    "\n",
    "for i in range(int(n)):\n",
    "    Tuple1 = (Tuple1,)\n",
    "    print(Tuple1)"
   ]
  },
  {
   "cell_type": "markdown",
   "metadata": {
    "colab_type": "text",
    "id": "4t_dHRjxzMMr"
   },
   "source": [
    "#####Accessing of Tuples\n",
    "\n",
    "Tuples are immutable, and usually, they contain a sequence of heterogeneous elements that are accessed via unpacking or indexing (or even by attribute in the case of named tuples). Lists are mutable, and their elements are usually homogeneous and are accessed by iterating over the list.\n",
    "\n",
    "    NOTE : In unpacking of tuple number of variables on left hand side should be equal to number of values in given tuple a."
   ]
  },
  {
   "cell_type": "code",
   "execution_count": 0,
   "metadata": {
    "colab": {
     "base_uri": "https://localhost:8080/",
     "height": 72
    },
    "colab_type": "code",
    "executionInfo": {
     "elapsed": 981,
     "status": "ok",
     "timestamp": 1588966838561,
     "user": {
      "displayName": "Srijeet Chatterjee",
      "photoUrl": "https://lh3.googleusercontent.com/a-/AOh14GhvLyI2L7rMpswCMPIIHugxGS37iH6O6W9QSxh_Zw=s64",
      "userId": "01014322814526133923"
     },
     "user_tz": -330
    },
    "id": "WjyxUnBCy9Ut",
    "outputId": "e11c11e4-ffae-47f8-fcf8-3e528cd2dd06"
   },
   "outputs": [
    {
     "name": "stdout",
     "output_type": "stream",
     "text": [
      "\n",
      "First element of Tuple: \n",
      "e\n"
     ]
    }
   ],
   "source": [
    "#Accessing Tuple\n",
    "#with Indexing\n",
    "Tuple1 = tuple(\"Geeks\")\n",
    "print(\"\\nFirst element of Tuple: \")\n",
    "print(Tuple1[1])"
   ]
  },
  {
   "cell_type": "code",
   "execution_count": 0,
   "metadata": {
    "colab": {
     "base_uri": "https://localhost:8080/",
     "height": 108
    },
    "colab_type": "code",
    "executionInfo": {
     "elapsed": 1009,
     "status": "ok",
     "timestamp": 1588966858674,
     "user": {
      "displayName": "Srijeet Chatterjee",
      "photoUrl": "https://lh3.googleusercontent.com/a-/AOh14GhvLyI2L7rMpswCMPIIHugxGS37iH6O6W9QSxh_Zw=s64",
      "userId": "01014322814526133923"
     },
     "user_tz": -330
    },
    "id": "9oe-gnLfzcx3",
    "outputId": "fb205007-34e8-41dc-c52d-69eb202ee63c"
   },
   "outputs": [
    {
     "name": "stdout",
     "output_type": "stream",
     "text": [
      "\n",
      "Values after unpacking: \n",
      "Geeks\n",
      "For\n",
      "Geeks\n"
     ]
    }
   ],
   "source": [
    "#Tuple unpacking\n",
    "\n",
    "Tuple1 = (\"Geeks\", \"For\", \"Geeks\")\n",
    "\n",
    "#This line unpack \n",
    "#values of Tuple1\n",
    "a, b, c = Tuple1\n",
    "print(\"\\nValues after unpacking: \")\n",
    "print(a)\n",
    "print(b)\n",
    "print(c)"
   ]
  },
  {
   "cell_type": "markdown",
   "metadata": {
    "colab_type": "text",
    "id": "LAuByveIzlLz"
   },
   "source": [
    "####Concatenation of Tuples:"
   ]
  },
  {
   "cell_type": "markdown",
   "metadata": {
    "colab_type": "text",
    "id": "PRjs5dj4zpGc"
   },
   "source": [
    "Concatenation of tuple is the process of joining of two or more Tuples.\n",
    "\n",
    "    Concatenation is done by the use of '+' operator. Concatenation of \n",
    "    tuples is done always from the end of the original tuple. \n",
    "    Other arithmetic operations do not apply on Tuples.\n",
    "\n",
    "Note- Only same datatypes can be combined with concatenation, an error arises if a list and a tuple are combined. "
   ]
  },
  {
   "cell_type": "code",
   "execution_count": 0,
   "metadata": {
    "colab": {
     "base_uri": "https://localhost:8080/",
     "height": 162
    },
    "colab_type": "code",
    "executionInfo": {
     "elapsed": 1077,
     "status": "ok",
     "timestamp": 1588966948564,
     "user": {
      "displayName": "Srijeet Chatterjee",
      "photoUrl": "https://lh3.googleusercontent.com/a-/AOh14GhvLyI2L7rMpswCMPIIHugxGS37iH6O6W9QSxh_Zw=s64",
      "userId": "01014322814526133923"
     },
     "user_tz": -330
    },
    "id": "DKJy6YTszhru",
    "outputId": "cde5ffca-7eee-43f1-8cc9-6c9ee9bb9454"
   },
   "outputs": [
    {
     "name": "stdout",
     "output_type": "stream",
     "text": [
      "Tuple 1: \n",
      "(0, 1, 2, 3)\n",
      "\n",
      "Tuple2: \n",
      "('Geeks', 'For', 'Geeks')\n",
      "\n",
      "Tuples after Concatenaton: \n",
      "(0, 1, 2, 3, 'Geeks', 'For', 'Geeks')\n"
     ]
    }
   ],
   "source": [
    "# Concatenaton of tuples\n",
    "Tuple1 = (0, 1, 2, 3)\n",
    "Tuple2 = ('Geeks', 'For', 'Geeks')\n",
    "\n",
    "Tuple3 = Tuple1 + Tuple2\n",
    "\n",
    "# Printing first Tuple\n",
    "print(\"Tuple 1: \")\n",
    "print(Tuple1)\n",
    "\n",
    "# Printing Second Tuple\n",
    "print(\"\\nTuple2: \")\n",
    "print(Tuple2)\n",
    "\n",
    "# Printing Final Tuple\n",
    "print(\"\\nTuples after Concatenaton: \")\n",
    "print(Tuple3)"
   ]
  },
  {
   "cell_type": "markdown",
   "metadata": {
    "colab_type": "text",
    "id": "CLJG9EG7z52-"
   },
   "source": [
    "#####Slicing of Tuple :\n",
    "\n",
    "Slicing of a Tuple is done to fetch a specific range or slice of sub-elements from a Tuple. Slicing can also be done to lists and arrays. Indexing in a list results to fetching a single element whereas Slicing allows to fetch a set of elements.\n",
    "Note- Negative Increment values can also be used to reverse the sequence of Tuples"
   ]
  },
  {
   "cell_type": "code",
   "execution_count": 0,
   "metadata": {
    "colab": {
     "base_uri": "https://localhost:8080/",
     "height": 162
    },
    "colab_type": "code",
    "executionInfo": {
     "elapsed": 1072,
     "status": "ok",
     "timestamp": 1588966986492,
     "user": {
      "displayName": "Srijeet Chatterjee",
      "photoUrl": "https://lh3.googleusercontent.com/a-/AOh14GhvLyI2L7rMpswCMPIIHugxGS37iH6O6W9QSxh_Zw=s64",
      "userId": "01014322814526133923"
     },
     "user_tz": -330
    },
    "id": "e3jcbSxKz3m7",
    "outputId": "9781fbeb-29a6-4694-9f88-8a931dd57deb"
   },
   "outputs": [
    {
     "name": "stdout",
     "output_type": "stream",
     "text": [
      "Removal of First Element: \n",
      "('E', 'E', 'K', 'S', 'F', 'O', 'R', 'G', 'E', 'E', 'K', 'S')\n",
      "\n",
      "Tuple after sequence of Element is reversed: \n",
      "('S', 'K', 'E', 'E', 'G', 'R', 'O', 'F', 'S', 'K', 'E', 'E', 'G')\n",
      "\n",
      "Printing elements between Range 4-9: \n",
      "('S', 'F', 'O', 'R', 'G')\n"
     ]
    }
   ],
   "source": [
    "# Slicing of a Tuple\n",
    "\n",
    "# Slicing of a Tuple\n",
    "# with Numbers\n",
    "Tuple1 = tuple('GEEKSFORGEEKS')\n",
    "\n",
    "# Removing First element\n",
    "print(\"Removal of First Element: \")\n",
    "print(Tuple1[1:])\n",
    "\n",
    "# Reversing the Tuple \n",
    "print(\"\\nTuple after sequence of Element is reversed: \")\n",
    "print(Tuple1[::-1])\n",
    "\n",
    "# Printing elements of a Range\n",
    "print(\"\\nPrinting elements between Range 4-9: \")\n",
    "print(Tuple1[4:9])"
   ]
  },
  {
   "cell_type": "markdown",
   "metadata": {
    "colab_type": "text",
    "id": "w8I80hxo0DkW"
   },
   "source": [
    "#####Deleting a Tuple\n",
    "    Tuples are immutable and hence they do not allow deletion of \n",
    "    a part of it. Entire tuple gets deleted by the use of del() method.\n",
    "\n",
    "    Note- Printing of Tuple after deletion results to an Error."
   ]
  },
  {
   "cell_type": "code",
   "execution_count": 0,
   "metadata": {
    "colab": {
     "base_uri": "https://localhost:8080/",
     "height": 207
    },
    "colab_type": "code",
    "executionInfo": {
     "elapsed": 1107,
     "status": "error",
     "timestamp": 1588967027116,
     "user": {
      "displayName": "Srijeet Chatterjee",
      "photoUrl": "https://lh3.googleusercontent.com/a-/AOh14GhvLyI2L7rMpswCMPIIHugxGS37iH6O6W9QSxh_Zw=s64",
      "userId": "01014322814526133923"
     },
     "user_tz": -330
    },
    "id": "mx5Bitis0A4w",
    "outputId": "cdd96b86-a6f8-4b1f-f811-8d5eb10d7d3c"
   },
   "outputs": [
    {
     "ename": "NameError",
     "evalue": "ignored",
     "output_type": "error",
     "traceback": [
      "\u001b[0;31m---------------------------------------------------------------------------\u001b[0m",
      "\u001b[0;31mNameError\u001b[0m                                 Traceback (most recent call last)",
      "\u001b[0;32m<ipython-input-49-ccb43085ec57>\u001b[0m in \u001b[0;36m<module>\u001b[0;34m()\u001b[0m\n\u001b[1;32m      3\u001b[0m \u001b[0;32mdel\u001b[0m \u001b[0mTuple1\u001b[0m\u001b[0;34m\u001b[0m\u001b[0;34m\u001b[0m\u001b[0m\n\u001b[1;32m      4\u001b[0m \u001b[0;34m\u001b[0m\u001b[0m\n\u001b[0;32m----> 5\u001b[0;31m \u001b[0mprint\u001b[0m\u001b[0;34m(\u001b[0m\u001b[0mTuple1\u001b[0m\u001b[0;34m)\u001b[0m\u001b[0;34m\u001b[0m\u001b[0;34m\u001b[0m\u001b[0m\n\u001b[0m",
      "\u001b[0;31mNameError\u001b[0m: name 'Tuple1' is not defined"
     ]
    }
   ],
   "source": [
    "# Deleting a Tuple\n",
    "\n",
    "Tuple1 = (0, 1, 2, 3, 4)\n",
    "del Tuple1\n",
    "\n",
    "print(Tuple1)"
   ]
  },
  {
   "cell_type": "markdown",
   "metadata": {
    "colab_type": "text",
    "id": "sTzhshW90NsT"
   },
   "source": [
    "Built-In Methods: \n",
    "\n",
    "```\n",
    "all() \tReturns true if all element are true or if tuple is empty\n",
    "any() \treturn true if any element of the tuple is true. if tuple is empty, return false\n",
    "len() \tReturns length of the tuple or size of the tuple\n",
    "enumerate() \tReturns enumerate object of tuple\n",
    "max() \treturn maximum element of given tuple\n",
    "min() \treturn minimum element of given tuple\n",
    "sum() \tSums up the numbers in the tuple\n",
    "sorted() \tinput elements in the tuple and return a new sorted list\n",
    "tuple() \tConvert an iterable to a tuple\n",
    "```"
   ]
  },
  {
   "cell_type": "code",
   "execution_count": 0,
   "metadata": {
    "colab": {},
    "colab_type": "code",
    "id": "b7y8Jnt20Ky2"
   },
   "outputs": [],
   "source": []
  },
  {
   "cell_type": "markdown",
   "metadata": {
    "colab_type": "text",
    "id": "ku3-eCL-0oe9"
   },
   "source": [
    "####Count Occurences of an Element in list :"
   ]
  },
  {
   "cell_type": "markdown",
   "metadata": {
    "colab_type": "text",
    "id": "qvXz5WWJ0q8Q"
   },
   "source": [
    "Given a list in Python and a number x, count number of occurrences of x in the given list.\n",
    "\n",
    "    Examples:\n",
    "\n",
    "    Input : \n",
    "    lst = [15, 6, 7, 10, 12, 20, 10, 28, 10]\n",
    "    x = 10\n",
    "\n",
    "    Output : 3 \n",
    "    10 appears three times in given list.\n",
    "\n",
    "    Input : \n",
    "    lst = [8, 6, 8, 10, 8, 20, 10, 8, 8]\n",
    "    x = 16\n",
    "    \n",
    "    Output : 0"
   ]
  },
  {
   "cell_type": "markdown",
   "metadata": {
    "colab_type": "text",
    "id": "kr0BB87q044t"
   },
   "source": [
    "    Method 1 (Simple approach) We keep a counter that keeps on increasing if the esquired element is found in the list."
   ]
  },
  {
   "cell_type": "code",
   "execution_count": 0,
   "metadata": {
    "colab": {
     "base_uri": "https://localhost:8080/",
     "height": 35
    },
    "colab_type": "code",
    "executionInfo": {
     "elapsed": 1215,
     "status": "ok",
     "timestamp": 1588967229038,
     "user": {
      "displayName": "Srijeet Chatterjee",
      "photoUrl": "https://lh3.googleusercontent.com/a-/AOh14GhvLyI2L7rMpswCMPIIHugxGS37iH6O6W9QSxh_Zw=s64",
      "userId": "01014322814526133923"
     },
     "user_tz": -330
    },
    "id": "EER6ORuS0maZ",
    "outputId": "6ee9a0ce-b6ca-4f50-b5df-a63a907af103"
   },
   "outputs": [
    {
     "name": "stdout",
     "output_type": "stream",
     "text": [
      "8 has occurred 5 times\n"
     ]
    }
   ],
   "source": [
    "# Python code to count the number of occurrences\n",
    "def countX(lst, x):\n",
    "    count = 0\n",
    "    for ele in lst:\n",
    "        if (ele == x):\n",
    "            count = count + 1\n",
    "    return count\n",
    "\n",
    "# Driver Code\n",
    "lst = [8, 6, 8, 10, 8, 20, 10, 8, 8]\n",
    "x = 8\n",
    "print('{} has occurred {} times'.format(x, countX(lst, x)))"
   ]
  },
  {
   "cell_type": "markdown",
   "metadata": {
    "colab_type": "text",
    "id": "QPAVyvGC0-Xt"
   },
   "source": [
    "    Method 2 (Using count()) The idea is to use list method count() to count number of occurrences."
   ]
  },
  {
   "cell_type": "code",
   "execution_count": 0,
   "metadata": {
    "colab": {
     "base_uri": "https://localhost:8080/",
     "height": 35
    },
    "colab_type": "code",
    "executionInfo": {
     "elapsed": 994,
     "status": "ok",
     "timestamp": 1588967266833,
     "user": {
      "displayName": "Srijeet Chatterjee",
      "photoUrl": "https://lh3.googleusercontent.com/a-/AOh14GhvLyI2L7rMpswCMPIIHugxGS37iH6O6W9QSxh_Zw=s64",
      "userId": "01014322814526133923"
     },
     "user_tz": -330
    },
    "id": "RYG1NagD08EX",
    "outputId": "eee3075f-27a4-4ab4-eb0a-1e1f3b954efd"
   },
   "outputs": [
    {
     "name": "stdout",
     "output_type": "stream",
     "text": [
      "8 has occurred 5 times\n"
     ]
    }
   ],
   "source": [
    "# Python code to count the number of occurrences\n",
    "def countX(lst, x):\n",
    "    return lst.count(x)\n",
    "\n",
    "# Driver Code\n",
    "lst = [8, 6, 8, 10, 8, 20, 10, 8, 8]\n",
    "x = 8\n",
    "print('{} has occurred {} times'.format(x, countX(lst, x)))"
   ]
  },
  {
   "cell_type": "markdown",
   "metadata": {
    "colab_type": "text",
    "id": "GmLG8T8q1HWh"
   },
   "source": [
    "    Method 2 (Using Counter()) Counter method returns a dictionary \n",
    "    with occurrences of all elements as a key-value pair, where key \n",
    "    is the element and value is the number of times that element has occurred."
   ]
  },
  {
   "cell_type": "code",
   "execution_count": 0,
   "metadata": {
    "colab": {
     "base_uri": "https://localhost:8080/",
     "height": 35
    },
    "colab_type": "code",
    "executionInfo": {
     "elapsed": 1215,
     "status": "ok",
     "timestamp": 1588967335238,
     "user": {
      "displayName": "Srijeet Chatterjee",
      "photoUrl": "https://lh3.googleusercontent.com/a-/AOh14GhvLyI2L7rMpswCMPIIHugxGS37iH6O6W9QSxh_Zw=s64",
      "userId": "01014322814526133923"
     },
     "user_tz": -330
    },
    "id": "82DgSL0t1FVS",
    "outputId": "09370cac-3c67-4172-b10e-1f95893c2a25"
   },
   "outputs": [
    {
     "name": "stdout",
     "output_type": "stream",
     "text": [
      "3 has occurred 2 times\n"
     ]
    }
   ],
   "source": [
    "from collections import Counter\n",
    "\n",
    "# declaring the list\n",
    "l = [1, 1, 2, 2, 3, 3, 4, 4, 5, 5]\n",
    "\n",
    "# driver program\n",
    "x = 3\n",
    "d = Counter(l)\n",
    "print('{} has occurred {} times'.format(x, d[x]))"
   ]
  },
  {
   "cell_type": "markdown",
   "metadata": {
    "colab_type": "text",
    "id": "hR_3lx1Q1alE"
   },
   "source": [
    "####Sort Tuples in Increasing Order by any Key :"
   ]
  },
  {
   "cell_type": "markdown",
   "metadata": {
    "colab_type": "text",
    "id": "ZI31EPhr1hsU"
   },
   "source": [
    "Given a tuple, sort the list of tuples in increasing order by any key in tuple.\n",
    "\n",
    "    Examples:\n",
    "\n",
    "    Input : \n",
    "    tuple = [(2, 5), (1, 2), (4, 4), (2, 3)] \n",
    "    m = 0\n",
    "    Output :\n",
    "    [(1, 2), (2, 3), (2, 5), (4, 4)]\n",
    "\n",
    "    Explanation: Sorted using the 0th index key.\n",
    "\n",
    "    Input :  \n",
    "    tuple = [(23, 45, 20), (25, 44, 39), (89, 40, 23)]\n",
    "    m = 2\n",
    "\n",
    "    Output : \n",
    "    Sorted: [(23, 45, 20), (89, 40, 23), (25, 44, 39)] \n",
    "\n",
    "    Explanation: Sorted using the 2nd index key"
   ]
  },
  {
   "cell_type": "markdown",
   "metadata": {
    "colab_type": "text",
    "id": "o1QAmCPs2CPp"
   },
   "source": [
    "Given tuples, we need to sort them according to any given key. \n",
    "\n",
    "This can be done using **sorted() function** where we sort them using key=last and store last as the key index according to which we have to sort the given tuples.\n",
    "\n",
    "Below is the Python implementation of the above approach:"
   ]
  },
  {
   "cell_type": "code",
   "execution_count": 0,
   "metadata": {
    "colab": {
     "base_uri": "https://localhost:8080/",
     "height": 53
    },
    "colab_type": "code",
    "executionInfo": {
     "elapsed": 1060,
     "status": "ok",
     "timestamp": 1588967555934,
     "user": {
      "displayName": "Srijeet Chatterjee",
      "photoUrl": "https://lh3.googleusercontent.com/a-/AOh14GhvLyI2L7rMpswCMPIIHugxGS37iH6O6W9QSxh_Zw=s64",
      "userId": "01014322814526133923"
     },
     "user_tz": -330
    },
    "id": "6m2-b9661U2N",
    "outputId": "c2603eb3-7c11-4c0b-9f14-d804bd83c78d"
   },
   "outputs": [
    {
     "name": "stdout",
     "output_type": "stream",
     "text": [
      "Sorted:\n",
      "[(23, 45, 20), (89, 40, 23), (25, 44, 39)]\n"
     ]
    }
   ],
   "source": [
    "# Python code to sort a list of tuples \n",
    "# according to given key.\n",
    "\n",
    "# get the last key.\n",
    "def last(n):\n",
    "    return n[m]  \n",
    " \n",
    "# function to sort the tuple   \n",
    "def sort(tuples):\n",
    "\n",
    "    # We pass used defined function last\n",
    "    # as a parameter. \n",
    "    return sorted(tuples, key = last)\n",
    " \n",
    "# driver code  \n",
    "a = [(23, 45, 20), (25, 44, 39), (89, 40, 23)]\n",
    "m = 2\n",
    "print(\"Sorted:\"),\n",
    "print(sort(a))"
   ]
  },
  {
   "cell_type": "markdown",
   "metadata": {
    "colab_type": "text",
    "id": "FKUxHP8073cQ"
   },
   "source": [
    "####Reversing a Tuple :\n",
    "\n",
    "As we know that in Python, tuples are immutable, thus it cannot be changed or altered. This provides us with limited ways of reversing a tuple, unlike a list. We will go through few techniques on how a tuple in python can be reversed.\n",
    "Examples:"
   ]
  },
  {
   "cell_type": "markdown",
   "metadata": {
    "colab_type": "text",
    "id": "y9zYL_TU2e9I"
   },
   "source": [
    "\n",
    "\n",
    "    Input : \n",
    "    tuples = ('z','a','d','f','g','e','e','k')\n",
    "    \n",
    "    Output :\n",
    "    ('k', 'e', 'e', 'g', 'f', 'd', 'a', 'z')\n",
    "\n",
    "    Input : \n",
    "    tuples = (10, 11, 12, 13, 14, 15)\n",
    "    Output : \n",
    "    (15, 14, 13, 12, 11, 10)"
   ]
  },
  {
   "cell_type": "markdown",
   "metadata": {
    "colab_type": "text",
    "id": "1nNX99LO2snA"
   },
   "source": [
    "    Method 1: Using the slicing technique. \n",
    "    \n",
    "  In this technique, a copy of the tuple is made and the tuple is not sorted in-place. Since tuples are immutable, there is no way to reverse a tuple in-place. Creating a copy requires more space to hold all of the existing elements. Therefore, this exhausts memory."
   ]
  },
  {
   "cell_type": "code",
   "execution_count": 0,
   "metadata": {
    "colab": {
     "base_uri": "https://localhost:8080/",
     "height": 35
    },
    "colab_type": "code",
    "executionInfo": {
     "elapsed": 1132,
     "status": "ok",
     "timestamp": 1588967729317,
     "user": {
      "displayName": "Srijeet Chatterjee",
      "photoUrl": "https://lh3.googleusercontent.com/a-/AOh14GhvLyI2L7rMpswCMPIIHugxGS37iH6O6W9QSxh_Zw=s64",
      "userId": "01014322814526133923"
     },
     "user_tz": -330
    },
    "id": "cfEKCQgo2L5p",
    "outputId": "440d5341-4a37-4409-cc47-6711ccf18e9f"
   },
   "outputs": [
    {
     "name": "stdout",
     "output_type": "stream",
     "text": [
      "('k', 'e', 'e', 'g', 'f', 'd', 'a', 'z')\n"
     ]
    }
   ],
   "source": [
    "# Reversing a tuple using slicing technique\n",
    "# New tuple is created\n",
    "def Reverse(tuples):\n",
    "    new_tup = tuples[::-1]\n",
    "    return new_tup\n",
    "    \n",
    "# Driver Code\n",
    "tuples = ('z','a','d','f','g','e','e','k')\n",
    "print(Reverse(tuples))"
   ]
  },
  {
   "cell_type": "markdown",
   "metadata": {
    "colab_type": "text",
    "id": "vCA9ivdV24SK"
   },
   "source": [
    "    Method 2: Using the **reversed()** built-in function.\n",
    "    \n",
    "In this method, we do not make any copy of the tuple. Instead, we get a reverse iterator which we use to cycle through the tuple, similar to the list."
   ]
  },
  {
   "cell_type": "code",
   "execution_count": 0,
   "metadata": {
    "colab": {
     "base_uri": "https://localhost:8080/",
     "height": 35
    },
    "colab_type": "code",
    "executionInfo": {
     "elapsed": 1173,
     "status": "ok",
     "timestamp": 1588967809160,
     "user": {
      "displayName": "Srijeet Chatterjee",
      "photoUrl": "https://lh3.googleusercontent.com/a-/AOh14GhvLyI2L7rMpswCMPIIHugxGS37iH6O6W9QSxh_Zw=s64",
      "userId": "01014322814526133923"
     },
     "user_tz": -330
    },
    "id": "CmwOjtKC22OQ",
    "outputId": "79898f13-d7e5-47e3-90d6-21b93445f6bd"
   },
   "outputs": [
    {
     "name": "stdout",
     "output_type": "stream",
     "text": [
      "(15, 14, 13, 12, 11, 10)\n"
     ]
    }
   ],
   "source": [
    "# Reversing a list using reversed()\n",
    "\n",
    "def Reverse(tuples):\n",
    "    new_tup = ()\n",
    "    for k in reversed(tuples):\n",
    "        new_tup = new_tup + (k,)\n",
    "    print (new_tup)\n",
    "\n",
    "# Driver Code\n",
    "tuples = (10, 11, 12, 13, 14, 15)\n",
    "Reverse(tuples)"
   ]
  },
  {
   "cell_type": "markdown",
   "metadata": {
    "colab_type": "text",
    "id": "2ZfvFbGn7xbQ"
   },
   "source": [
    "####Remove Empty Tuples from a List:\n",
    "\n",
    "In this article, we will see how can we remove an empty tuple from a given list of tuples. We will find various ways, in which we can perform this task of removing tuples using various methods and ways in Python.\n",
    "Examples:"
   ]
  },
  {
   "cell_type": "markdown",
   "metadata": {
    "colab_type": "text",
    "id": "RiI1ce3Y3aeg"
   },
   "source": [
    "\n",
    "\n",
    "    Input : \n",
    "    tuples = [(), ('ram','15','8'), (), ('laxman', 'sita'), ('krishna', 'akbar', '45'), ('',''),()]\n",
    "    Output : \n",
    "    [('ram', '15', '8'), ('laxman', 'sita'), ('krishna', 'akbar', '45'), ('', '')]\n",
    "\n",
    "    Input : \n",
    "    tuples = [('','','8'), (), ('0', '00', '000'),('birbal', '', '45'), (''), (),  ('',''),()]\n",
    "\n",
    "    Output : \n",
    "    [('', '', '8'), ('0', '00', '000'), ('birbal', '', '45'), ('', '')]"
   ]
  },
  {
   "cell_type": "markdown",
   "metadata": {
    "colab_type": "text",
    "id": "wKPPeLIp33Vl"
   },
   "source": [
    "    Method 1: Using the concept of List Comprehension "
   ]
  },
  {
   "cell_type": "code",
   "execution_count": 0,
   "metadata": {
    "colab": {
     "base_uri": "https://localhost:8080/",
     "height": 90
    },
    "colab_type": "code",
    "executionInfo": {
     "elapsed": 1129,
     "status": "ok",
     "timestamp": 1588968372847,
     "user": {
      "displayName": "Srijeet Chatterjee",
      "photoUrl": "https://lh3.googleusercontent.com/a-/AOh14GhvLyI2L7rMpswCMPIIHugxGS37iH6O6W9QSxh_Zw=s64",
      "userId": "01014322814526133923"
     },
     "user_tz": -330
    },
    "id": "qtbvHtGa4yFV",
    "outputId": "3ff5f544-8ff2-45e5-8c54-614527de1c84"
   },
   "outputs": [
    {
     "name": "stdout",
     "output_type": "stream",
     "text": [
      "('ram', '15', '8')\n",
      "('laxman', 'sita')\n",
      "('krishna', 'akbar', '45')\n",
      "('', '')\n"
     ]
    }
   ],
   "source": [
    "tuples = [(), ('ram','15','8'), (), ('laxman', 'sita'),('krishna', 'akbar', '45'), ('',''),()]\n",
    "\n",
    "for t in tuples:\n",
    "  if t:\n",
    "    print(t)"
   ]
  },
  {
   "cell_type": "code",
   "execution_count": 0,
   "metadata": {
    "colab": {
     "base_uri": "https://localhost:8080/",
     "height": 35
    },
    "colab_type": "code",
    "executionInfo": {
     "elapsed": 1316,
     "status": "ok",
     "timestamp": 1588968007651,
     "user": {
      "displayName": "Srijeet Chatterjee",
      "photoUrl": "https://lh3.googleusercontent.com/a-/AOh14GhvLyI2L7rMpswCMPIIHugxGS37iH6O6W9QSxh_Zw=s64",
      "userId": "01014322814526133923"
     },
     "user_tz": -330
    },
    "id": "qNVpkvY43Htt",
    "outputId": "e7b496be-775e-4fb1-e6c9-916110f6b79a"
   },
   "outputs": [
    {
     "name": "stdout",
     "output_type": "stream",
     "text": [
      "[('ram', '15', '8'), ('laxman', 'sita'), ('krishna', 'akbar', '45'), ('', '')]\n"
     ]
    }
   ],
   "source": [
    "# Python program to remove empty tuples from a \n",
    "# list of tuples function to remove empty tuples \n",
    "# using list comprehension\n",
    "def Remove(tuples):\n",
    "    tuples = [t for t in tuples if t]\n",
    "    return tuples\n",
    "\n",
    "# Driver Code\n",
    "tuples = [(), ('ram','15','8'), (), ('laxman', 'sita'), \n",
    "          ('krishna', 'akbar', '45'), ('',''),()]\n",
    "print(Remove(tuples))"
   ]
  },
  {
   "cell_type": "markdown",
   "metadata": {
    "colab_type": "text",
    "id": "4HPCdGG538Zt"
   },
   "source": [
    "    Method 2: Using the filter() method \n",
    "    \n",
    "Using the inbuilt method filter() in Python, we can filter out the empty elements by passing the None as the parameter. This method works in both Python 2 and Python 3 and above, but the desired output is only shown in Python 2 because Python 3 returns a generator. filter() is the faster than the method of list comprehension. Let's see what happens when we run the program in Python 2."
   ]
  },
  {
   "cell_type": "code",
   "execution_count": 0,
   "metadata": {
    "colab": {
     "base_uri": "https://localhost:8080/",
     "height": 35
    },
    "colab_type": "code",
    "executionInfo": {
     "elapsed": 1263,
     "status": "ok",
     "timestamp": 1588968046534,
     "user": {
      "displayName": "Srijeet Chatterjee",
      "photoUrl": "https://lh3.googleusercontent.com/a-/AOh14GhvLyI2L7rMpswCMPIIHugxGS37iH6O6W9QSxh_Zw=s64",
      "userId": "01014322814526133923"
     },
     "user_tz": -330
    },
    "id": "xEmzPzCx36HQ",
    "outputId": "878ca096-8528-4eac-9e0e-7ca6e5d93ca6"
   },
   "outputs": [
    {
     "name": "stdout",
     "output_type": "stream",
     "text": [
      "<filter object at 0x7f33e994d5c0>\n"
     ]
    }
   ],
   "source": [
    "# Python2 program to remove empty tuples\n",
    "# from a list of tuples function to remove \n",
    "# empty tuples using filter\n",
    "\n",
    "def Remove(tuples):\n",
    "    tuples = filter(None, tuples)\n",
    "    return tuples\n",
    "\n",
    "# Driver Code\n",
    "tuples = [(), ('ram','15','8'), (), ('laxman', 'sita'), \n",
    "          ('krishna', 'akbar', '45'), ('',''),()]\n",
    "print (Remove(tuples))"
   ]
  },
  {
   "cell_type": "markdown",
   "metadata": {
    "colab_type": "text",
    "id": "jEV715kM4Mwz"
   },
   "source": [
    "####Printing Duplicates from a list of integers:"
   ]
  },
  {
   "cell_type": "markdown",
   "metadata": {
    "colab_type": "text",
    "id": "2cx9Uy-t4SZS"
   },
   "source": [
    "Given a list of integers with duplicate elements in it. The task to generate another list, which contains only the duplicate elements. In simple words, the new list should contain the elements which appear more than one.\n",
    "\n",
    "    Examples :\n",
    "\n",
    "    Input : \n",
    "    list = [10, 20, 30, 20, 20, 30, 40, 50, -20, 60, 60, -20, -20]\n",
    "    Output : \n",
    "    output_list = [20, 30, -20, 60]\n",
    "\n",
    "\n",
    "    Input :  \n",
    "    list = [-1, 1, -1, 8]\n",
    "    Output : \n",
    "    output_list = [-1]\n",
    "\n"
   ]
  },
  {
   "cell_type": "code",
   "execution_count": 0,
   "metadata": {
    "colab": {
     "base_uri": "https://localhost:8080/",
     "height": 35
    },
    "colab_type": "code",
    "executionInfo": {
     "elapsed": 1085,
     "status": "ok",
     "timestamp": 1588968164111,
     "user": {
      "displayName": "Srijeet Chatterjee",
      "photoUrl": "https://lh3.googleusercontent.com/a-/AOh14GhvLyI2L7rMpswCMPIIHugxGS37iH6O6W9QSxh_Zw=s64",
      "userId": "01014322814526133923"
     },
     "user_tz": -330
    },
    "id": "R4AohAwv4BNf",
    "outputId": "8841a948-981a-464e-84e6-a3d0a2928e42"
   },
   "outputs": [
    {
     "name": "stdout",
     "output_type": "stream",
     "text": [
      "[20, 30, -20, 60]\n"
     ]
    }
   ],
   "source": [
    "# Python program to print \n",
    "# duplicates from a list \n",
    "# of integers\n",
    "def Repeat(x):\n",
    "    _size = len(x)\n",
    "    repeated = []\n",
    "    for i in range(_size):\n",
    "        k = i + 1\n",
    "        for j in range(k, _size):\n",
    "            if x[i] == x[j] and x[i] not in repeated:\n",
    "                repeated.append(x[i])\n",
    "    return repeated\n",
    "\n",
    "# Driver Code\n",
    "list1 = [10, 20, 30, 20, 20, 30, 40, 50, -20, 60, 60, -20, -20]\n",
    "print (Repeat(list1))"
   ]
  },
  {
   "cell_type": "code",
   "execution_count": 0,
   "metadata": {
    "colab": {},
    "colab_type": "code",
    "id": "ASgElWW84diQ"
   },
   "outputs": [],
   "source": []
  },
  {
   "cell_type": "markdown",
   "metadata": {
    "colab_type": "text",
    "id": "iyErFqSz8u_o"
   },
   "source": [
    "###Module - 06 : Dictionary "
   ]
  },
  {
   "cell_type": "markdown",
   "metadata": {
    "colab_type": "text",
    "id": "USjpMpUwyNGk"
   },
   "source": [
    "####Python Dictionary :"
   ]
  },
  {
   "cell_type": "markdown",
   "metadata": {
    "colab_type": "text",
    "id": "vtk6bmNnyTCb"
   },
   "source": [
    "In Python, a Dictionary can be created by placing sequence of elements within curly {} braces, separated by 'comma'. Dictionary holds a pair of values, one being the Key and the other corresponding pair element being its Key:value. Values in a dictionary can be of any datatype and can be duplicated, whereas keys can't be repeated and must be immutable.\n"
   ]
  },
  {
   "cell_type": "markdown",
   "metadata": {
    "colab_type": "text",
    "id": "2zdEmH0SyX2b"
   },
   "source": [
    "    Dictionary keys are case sensitive, same name but different cases of Key will be treated distinctly."
   ]
  },
  {
   "cell_type": "code",
   "execution_count": 0,
   "metadata": {
    "colab": {
     "base_uri": "https://localhost:8080/",
     "height": 126
    },
    "colab_type": "code",
    "executionInfo": {
     "elapsed": 2476,
     "status": "ok",
     "timestamp": 1589084016016,
     "user": {
      "displayName": "Srijeet Chatterjee",
      "photoUrl": "https://lh3.googleusercontent.com/a-/AOh14GhvLyI2L7rMpswCMPIIHugxGS37iH6O6W9QSxh_Zw=s64",
      "userId": "01014322814526133923"
     },
     "user_tz": -330
    },
    "id": "pUy_wbhf8x4V",
    "outputId": "3abb6949-0f2b-4b11-cdfb-f61c389b8c33"
   },
   "outputs": [
    {
     "name": "stdout",
     "output_type": "stream",
     "text": [
      "\n",
      "Dictionary with the use of Integer Keys: \n",
      "{1: 'Geeks', 2: 'For', 3: 'Geeks'}\n",
      "\n",
      "Dictionary with the use of Mixed Keys: \n",
      "{'Name': 'Geeks', 1: [1, 2, 3, 4]}\n"
     ]
    }
   ],
   "source": [
    "\n",
    "\n",
    "# Creating a Dictionary \n",
    "# with Integer Keys\n",
    "Dict = {1: 'Geeks', 2: 'For', 3: 'Geeks'}\n",
    "print(\"\\nDictionary with the use of Integer Keys: \")\n",
    "print(Dict)\n",
    "\n",
    "# Creating a Dictionary \n",
    "# with Mixed keys\n",
    "Dict = {'Name': 'Geeks', 1: [1, 2, 3, 4]}\n",
    "print(\"\\nDictionary with the use of Mixed Keys: \")\n",
    "print(Dict)"
   ]
  },
  {
   "cell_type": "markdown",
   "metadata": {
    "colab_type": "text",
    "id": "YP0shkIuyfmn"
   },
   "source": [
    " Dictionary can also be created by the built-in function dict(). An empty dictionary can be created by just placing to curly braces{}."
   ]
  },
  {
   "cell_type": "code",
   "execution_count": 0,
   "metadata": {
    "colab": {
     "base_uri": "https://localhost:8080/",
     "height": 162
    },
    "colab_type": "code",
    "executionInfo": {
     "elapsed": 1040,
     "status": "ok",
     "timestamp": 1589084075205,
     "user": {
      "displayName": "Srijeet Chatterjee",
      "photoUrl": "https://lh3.googleusercontent.com/a-/AOh14GhvLyI2L7rMpswCMPIIHugxGS37iH6O6W9QSxh_Zw=s64",
      "userId": "01014322814526133923"
     },
     "user_tz": -330
    },
    "id": "ldaLDfk5ycNQ",
    "outputId": "b6703d86-c940-43ce-a4a3-59ca9ccea316"
   },
   "outputs": [
    {
     "name": "stdout",
     "output_type": "stream",
     "text": [
      "Empty Dictionary: \n",
      "{}\n",
      "\n",
      "Dictionary with the use of dict(): \n",
      "{1: 'Geeks', 2: 'For', 3: 'Geeks'}\n",
      "\n",
      "Dictionary with each item as a pair: \n",
      "{1: 'Geeks', 2: 'For'}\n"
     ]
    }
   ],
   "source": [
    "# Creating an empty Dictionary\n",
    "Dict = {}\n",
    "print(\"Empty Dictionary: \")\n",
    "print(Dict)\n",
    "\n",
    "# Creating a Dictionary\n",
    "# with dict() method\n",
    "Dict = dict({1: 'Geeks', 2: 'For', 3:'Geeks'})\n",
    "print(\"\\nDictionary with the use of dict(): \")\n",
    "print(Dict)\n",
    "\n",
    "# Creating a Dictionary\n",
    "# with each item as a Pair\n",
    "Dict = dict([(1, 'Geeks'), (2, 'For')])\n",
    "print(\"\\nDictionary with each item as a pair: \")\n",
    "print(Dict)\n"
   ]
  },
  {
   "cell_type": "markdown",
   "metadata": {
    "colab_type": "text",
    "id": "906OUP93ytgn"
   },
   "source": [
    "Nested Dictionary:"
   ]
  },
  {
   "cell_type": "code",
   "execution_count": 0,
   "metadata": {
    "colab": {
     "base_uri": "https://localhost:8080/",
     "height": 35
    },
    "colab_type": "code",
    "executionInfo": {
     "elapsed": 995,
     "status": "ok",
     "timestamp": 1589084096046,
     "user": {
      "displayName": "Srijeet Chatterjee",
      "photoUrl": "https://lh3.googleusercontent.com/a-/AOh14GhvLyI2L7rMpswCMPIIHugxGS37iH6O6W9QSxh_Zw=s64",
      "userId": "01014322814526133923"
     },
     "user_tz": -330
    },
    "id": "ax7WiOq3yrAJ",
    "outputId": "f745a228-f8d5-4571-b3f3-7a13f107b4a5"
   },
   "outputs": [
    {
     "name": "stdout",
     "output_type": "stream",
     "text": [
      "{1: 'Geeks', 2: 'For', 3: {'A': 'Welcome', 'B': 'To', 'C': 'Geeks'}}\n"
     ]
    }
   ],
   "source": [
    "\n",
    "# Creating a Nested Dictionary \n",
    "# as shown in the below image\n",
    "Dict = {1: 'Geeks', 2: 'For', \n",
    "        3:{'A' : 'Welcome', 'B' : 'To', 'C' : 'Geeks'}}\n",
    "\n",
    "print(Dict) \n",
    "\n"
   ]
  },
  {
   "cell_type": "markdown",
   "metadata": {
    "colab_type": "text",
    "id": "7dUnJvwsyyo2"
   },
   "source": [
    "    Adding elements to a Dictionary"
   ]
  },
  {
   "cell_type": "markdown",
   "metadata": {
    "colab_type": "text",
    "id": "n1aJ19fXy3YL"
   },
   "source": [
    "In Python Dictionary, Addition of elements can be done in multiple ways. \n",
    "\n",
    "1. One value at a time can be added to a Dictionary by defining value along with the key e.g. Dict[Key] = 'Value'. \n",
    "\n",
    "2. Updating an existing value in a Dictionary can be done by using the built-in **update() method**. \n",
    "\n",
    "3. Nested key values can also be added to an existing Dictionary.\n",
    "\n",
    "**Note**- While adding a value, if the key value already exists, the value gets updated otherwise a new Key with the value is added to the Dictionary."
   ]
  },
  {
   "cell_type": "code",
   "execution_count": 0,
   "metadata": {
    "colab": {
     "base_uri": "https://localhost:8080/",
     "height": 271
    },
    "colab_type": "code",
    "executionInfo": {
     "elapsed": 1138,
     "status": "ok",
     "timestamp": 1589084195387,
     "user": {
      "displayName": "Srijeet Chatterjee",
      "photoUrl": "https://lh3.googleusercontent.com/a-/AOh14GhvLyI2L7rMpswCMPIIHugxGS37iH6O6W9QSxh_Zw=s64",
      "userId": "01014322814526133923"
     },
     "user_tz": -330
    },
    "id": "LveFBXR5ywFo",
    "outputId": "42296805-316e-4472-fa58-be1a35c012a1"
   },
   "outputs": [
    {
     "name": "stdout",
     "output_type": "stream",
     "text": [
      "Empty Dictionary: \n",
      "{}\n",
      "\n",
      "Dictionary after adding 3 elements: \n",
      "{0: 'Geeks', 2: 'For', 3: 1}\n",
      "\n",
      "Dictionary after adding 3 elements: \n",
      "{0: 'Geeks', 2: 'For', 3: 1, 'Value_set': (2, 3, 4)}\n",
      "\n",
      "Updated key value: \n",
      "{0: 'Geeks', 2: 'Welcome', 3: 1, 'Value_set': (2, 3, 4)}\n",
      "\n",
      "Adding a Nested Key: \n",
      "{0: 'Geeks', 2: 'Welcome', 3: 1, 'Value_set': (2, 3, 4), 5: {'Nested': {'1': 'Life', '2': 'Geeks'}}}\n"
     ]
    }
   ],
   "source": [
    "\n",
    "\n",
    "# Creating an empty Dictionary\n",
    "Dict = {}\n",
    "print(\"Empty Dictionary: \")\n",
    "print(Dict)\n",
    "\n",
    "# Adding elements one at a time\n",
    "Dict[0] = 'Geeks'\n",
    "Dict[2] = 'For'\n",
    "Dict[3] = 1\n",
    "print(\"\\nDictionary after adding 3 elements: \")\n",
    "print(Dict)\n",
    "\n",
    "# Adding set of values \n",
    "# to a single Key\n",
    "Dict['Value_set'] = 2, 3, 4\n",
    "print(\"\\nDictionary after adding 3 elements: \")\n",
    "print(Dict)\n",
    "\n",
    "# Updating existing Key's Value\n",
    "Dict[2] = 'Welcome'\n",
    "print(\"\\nUpdated key value: \")\n",
    "print(Dict)\n",
    "\n",
    "# Adding Nested Key value to Dictionary\n",
    "Dict[5] = {'Nested' :{'1' : 'Life', '2' : 'Geeks'}}\n",
    "print(\"\\nAdding a Nested Key: \")\n",
    "print(Dict)"
   ]
  },
  {
   "cell_type": "markdown",
   "metadata": {
    "colab_type": "text",
    "id": "hBBVNYl3chQW"
   },
   "source": [
    "    Accessing elements from a Dictionary"
   ]
  },
  {
   "cell_type": "markdown",
   "metadata": {
    "colab_type": "text",
    "id": "K072xKAJcjla"
   },
   "source": [
    " In order to access the items of a dictionary refer to its key name.Key can be used inside square brackets."
   ]
  },
  {
   "cell_type": "code",
   "execution_count": 0,
   "metadata": {
    "colab": {
     "base_uri": "https://localhost:8080/",
     "height": 90
    },
    "colab_type": "code",
    "executionInfo": {
     "elapsed": 966,
     "status": "ok",
     "timestamp": 1589095073681,
     "user": {
      "displayName": "Srijeet Chatterjee",
      "photoUrl": "https://lh3.googleusercontent.com/a-/AOh14GhvLyI2L7rMpswCMPIIHugxGS37iH6O6W9QSxh_Zw=s64",
      "userId": "01014322814526133923"
     },
     "user_tz": -330
    },
    "id": "au1h1ZULzIT9",
    "outputId": "050650f6-3d16-471e-94cf-cc161325305b"
   },
   "outputs": [
    {
     "name": "stdout",
     "output_type": "stream",
     "text": [
      "Accessing a element using key:\n",
      "For\n",
      "Accessing a element using key:\n",
      "Geeks\n"
     ]
    }
   ],
   "source": [
    "# Python program to demonstrate  \n",
    "# accessing a element from a Dictionary \n",
    "\n",
    "# Creating a Dictionary \n",
    "Dict = {1: 'Geeks', 'name': 'For', 3: 'Geeks'}\n",
    "\n",
    "# accessing a element using key\n",
    "print(\"Accessing a element using key:\")\n",
    "print(Dict['name'])\n",
    "\n",
    "# accessing a element using key\n",
    "print(\"Accessing a element using key:\")\n",
    "print(Dict[1])"
   ]
  },
  {
   "cell_type": "markdown",
   "metadata": {
    "colab_type": "text",
    "id": "-IGmoPXZcqPO"
   },
   "source": [
    " There is also a method called get() that will also help in acessing the element from a dictionary."
   ]
  },
  {
   "cell_type": "code",
   "execution_count": 0,
   "metadata": {
    "colab": {
     "base_uri": "https://localhost:8080/",
     "height": 53
    },
    "colab_type": "code",
    "executionInfo": {
     "elapsed": 1240,
     "status": "ok",
     "timestamp": 1589095092319,
     "user": {
      "displayName": "Srijeet Chatterjee",
      "photoUrl": "https://lh3.googleusercontent.com/a-/AOh14GhvLyI2L7rMpswCMPIIHugxGS37iH6O6W9QSxh_Zw=s64",
      "userId": "01014322814526133923"
     },
     "user_tz": -330
    },
    "id": "rsIciBE6coK1",
    "outputId": "96399960-a1d5-4810-beba-dca6a934d9ee"
   },
   "outputs": [
    {
     "name": "stdout",
     "output_type": "stream",
     "text": [
      "Accessing a element using get:\n",
      "Geeks\n"
     ]
    }
   ],
   "source": [
    "\n",
    "# Creating a Dictionary \n",
    "Dict = {1: 'Geeks', 'name': 'For', 3: 'Geeks'}\n",
    "\n",
    "# accessing a element using get()\n",
    "# method\n",
    "print(\"Accessing a element using get:\")\n",
    "print(Dict.get(3))"
   ]
  },
  {
   "cell_type": "markdown",
   "metadata": {
    "colab_type": "text",
    "id": "dc2RolWbctik"
   },
   "source": [
    "Accessing element of a nested dictionary\n",
    "In order to access the value of any key in nested dictionary, use indexing [] syntax."
   ]
  },
  {
   "cell_type": "code",
   "execution_count": 0,
   "metadata": {
    "colab": {
     "base_uri": "https://localhost:8080/",
     "height": 72
    },
    "colab_type": "code",
    "executionInfo": {
     "elapsed": 929,
     "status": "ok",
     "timestamp": 1589095110347,
     "user": {
      "displayName": "Srijeet Chatterjee",
      "photoUrl": "https://lh3.googleusercontent.com/a-/AOh14GhvLyI2L7rMpswCMPIIHugxGS37iH6O6W9QSxh_Zw=s64",
      "userId": "01014322814526133923"
     },
     "user_tz": -330
    },
    "id": "WFQHTt3ocsqZ",
    "outputId": "1d870620-bb8a-4cd8-f2b9-0a782088f7ef"
   },
   "outputs": [
    {
     "name": "stdout",
     "output_type": "stream",
     "text": [
      "{1: 'Geeks'}\n",
      "Geeks\n",
      "For\n"
     ]
    }
   ],
   "source": [
    "# Creating a Dictionary\n",
    "Dict = {'Dict1': {1: 'Geeks'},\n",
    "        'Dict2': {'Name': 'For'}}\n",
    "\n",
    "# Accessing element using key\n",
    "print(Dict['Dict1'])\n",
    "print(Dict['Dict1'][1])\n",
    "print(Dict['Dict2']['Name'])"
   ]
  },
  {
   "cell_type": "markdown",
   "metadata": {
    "colab_type": "text",
    "id": "1ggjiUUOczMi"
   },
   "source": [
    "    Removing Elements from Dictionary"
   ]
  },
  {
   "cell_type": "markdown",
   "metadata": {
    "colab_type": "text",
    "id": "8-Mi-G56c2dp"
   },
   "source": [
    "    Using del keyword\n",
    "In Python Dictionary, deletion of keys can be done by using the del keyword. Using del keyword, specific values from a dictionary as well as whole dictionary can be deleted. Items in a Nested dictionary can also be deleted by using del keyword and providing specific nested key and particular key to be deleted from that nested Dictionary.\n",
    "\n",
    "    Note- del Dict will delete the entire dictionary and hence \n",
    "    printing it after deletion will raise an Error."
   ]
  },
  {
   "cell_type": "code",
   "execution_count": 0,
   "metadata": {
    "colab": {
     "base_uri": "https://localhost:8080/",
     "height": 162
    },
    "colab_type": "code",
    "executionInfo": {
     "elapsed": 976,
     "status": "ok",
     "timestamp": 1589095161992,
     "user": {
      "displayName": "Srijeet Chatterjee",
      "photoUrl": "https://lh3.googleusercontent.com/a-/AOh14GhvLyI2L7rMpswCMPIIHugxGS37iH6O6W9QSxh_Zw=s64",
      "userId": "01014322814526133923"
     },
     "user_tz": -330
    },
    "id": "BOe4sPWAcxJD",
    "outputId": "a4299ff1-83a6-40e7-d540-7177995cfc52"
   },
   "outputs": [
    {
     "name": "stdout",
     "output_type": "stream",
     "text": [
      "Initial Dictionary: \n",
      "{5: 'Welcome', 6: 'To', 7: 'Geeks', 'A': {1: 'Geeks', 2: 'For', 3: 'Geeks'}, 'B': {1: 'Geeks', 2: 'Life'}}\n",
      "\n",
      "Deleting a specific key: \n",
      "{5: 'Welcome', 7: 'Geeks', 'A': {1: 'Geeks', 2: 'For', 3: 'Geeks'}, 'B': {1: 'Geeks', 2: 'Life'}}\n",
      "\n",
      "Deleting a key from Nested Dictionary: \n",
      "{5: 'Welcome', 7: 'Geeks', 'A': {1: 'Geeks', 3: 'Geeks'}, 'B': {1: 'Geeks', 2: 'Life'}}\n"
     ]
    }
   ],
   "source": [
    "\n",
    "# Initial Dictionary\n",
    "Dict = { 5 : 'Welcome', 6 : 'To', 7 : 'Geeks',\n",
    "        'A' : {1 : 'Geeks', 2 : 'For', 3 : 'Geeks'},\n",
    "        'B' : {1 : 'Geeks', 2 : 'Life'}}\n",
    "print(\"Initial Dictionary: \")\n",
    "print(Dict)\n",
    "\n",
    "# Deleting a Key value\n",
    "del Dict[6]\n",
    "print(\"\\nDeleting a specific key: \")\n",
    "print(Dict)\n",
    "\n",
    "# Deleting a Key from\n",
    "# Nested Dictionary\n",
    "del Dict['A'][2]\n",
    "print(\"\\nDeleting a key from Nested Dictionary: \")\n",
    "print(Dict)"
   ]
  },
  {
   "cell_type": "markdown",
   "metadata": {
    "colab_type": "text",
    "id": "bjjJ-HI8dIJ3"
   },
   "source": [
    "    Using pop() method\n",
    "Pop() method is used to return and delete the value of the key specified.\n"
   ]
  },
  {
   "cell_type": "code",
   "execution_count": 0,
   "metadata": {
    "colab": {
     "base_uri": "https://localhost:8080/",
     "height": 72
    },
    "colab_type": "code",
    "executionInfo": {
     "elapsed": 1105,
     "status": "ok",
     "timestamp": 1589095220267,
     "user": {
      "displayName": "Srijeet Chatterjee",
      "photoUrl": "https://lh3.googleusercontent.com/a-/AOh14GhvLyI2L7rMpswCMPIIHugxGS37iH6O6W9QSxh_Zw=s64",
      "userId": "01014322814526133923"
     },
     "user_tz": -330
    },
    "id": "TD70DM5kc9vm",
    "outputId": "8b44b676-1568-4c77-b4be-2393f4fa5735"
   },
   "outputs": [
    {
     "name": "stdout",
     "output_type": "stream",
     "text": [
      "\n",
      "Dictionary after deletion: {'name': 'For', 3: 'Geeks'}\n",
      "Value associated to poped key is: Geeks\n"
     ]
    }
   ],
   "source": [
    "# Creating a Dictionary\n",
    "Dict = {1: 'Geeks', 'name': 'For', 3: 'Geeks'}\n",
    "\n",
    "# Deleting a key \n",
    "# using pop() method\n",
    "pop_ele = Dict.pop(1)\n",
    "print('\\nDictionary after deletion: ' + str(Dict))\n",
    "print('Value associated to poped key is: ' + str(pop_ele))\n"
   ]
  },
  {
   "cell_type": "markdown",
   "metadata": {
    "colab_type": "text",
    "id": "iHVQvW6ddOvI"
   },
   "source": [
    "    Using popitem() method\n",
    "The popitem() returns and removes an arbitrary element (key, value) pair from the dictionary.\n"
   ]
  },
  {
   "cell_type": "code",
   "execution_count": 0,
   "metadata": {
    "colab": {
     "base_uri": "https://localhost:8080/",
     "height": 72
    },
    "colab_type": "code",
    "executionInfo": {
     "elapsed": 941,
     "status": "ok",
     "timestamp": 1589095262561,
     "user": {
      "displayName": "Srijeet Chatterjee",
      "photoUrl": "https://lh3.googleusercontent.com/a-/AOh14GhvLyI2L7rMpswCMPIIHugxGS37iH6O6W9QSxh_Zw=s64",
      "userId": "01014322814526133923"
     },
     "user_tz": -330
    },
    "id": "imYFp43fdL8N",
    "outputId": "61e7c9a6-379c-4689-eaf6-385ce2e75fee"
   },
   "outputs": [
    {
     "name": "stdout",
     "output_type": "stream",
     "text": [
      "\n",
      "Dictionary after deletion: {1: 'Geeks', 'name': 'For'}\n",
      "The arbitrary pair returned is: (3, 'Geeks')\n"
     ]
    }
   ],
   "source": [
    "# Creating Dictionary\n",
    "Dict = {1: 'Geeks', 'name': 'For', 3: 'Geeks'}\n",
    "\n",
    "# Deleting an arbitrary key\n",
    "# using popitem() function\n",
    "pop_ele = Dict.popitem()\n",
    "print(\"\\nDictionary after deletion: \" + str(Dict))\n",
    "print(\"The arbitrary pair returned is: \" + str(pop_ele))"
   ]
  },
  {
   "cell_type": "markdown",
   "metadata": {
    "colab_type": "text",
    "id": "3MAlD6eEdaJy"
   },
   "source": [
    "    Using clear() method\n",
    "All the items from a dictionary can be deleted at once by using clear() method.\n"
   ]
  },
  {
   "cell_type": "code",
   "execution_count": 0,
   "metadata": {
    "colab": {
     "base_uri": "https://localhost:8080/",
     "height": 72
    },
    "colab_type": "code",
    "executionInfo": {
     "elapsed": 914,
     "status": "ok",
     "timestamp": 1589095291047,
     "user": {
      "displayName": "Srijeet Chatterjee",
      "photoUrl": "https://lh3.googleusercontent.com/a-/AOh14GhvLyI2L7rMpswCMPIIHugxGS37iH6O6W9QSxh_Zw=s64",
      "userId": "01014322814526133923"
     },
     "user_tz": -330
    },
    "id": "TXgknsSldWT2",
    "outputId": "9a474e5b-38bf-4a90-96d9-acb094d41319"
   },
   "outputs": [
    {
     "name": "stdout",
     "output_type": "stream",
     "text": [
      "\n",
      "Deleting Entire Dictionary: \n",
      "{}\n"
     ]
    }
   ],
   "source": [
    "# Creating a Dictionary\n",
    "Dict = {1: 'Geeks', 'name': 'For', 3: 'Geeks'}\n",
    "\n",
    "\n",
    "# Deleting entire Dictionary\n",
    "Dict.clear()\n",
    "print(\"\\nDeleting Entire Dictionary: \")\n",
    "print(Dict)"
   ]
  },
  {
   "cell_type": "markdown",
   "metadata": {
    "colab_type": "text",
    "id": "FeCTItEKdhOw"
   },
   "source": [
    "    Dictionary Methods"
   ]
  },
  {
   "cell_type": "markdown",
   "metadata": {
    "colab_type": "text",
    "id": "zGEqdF4odhkR"
   },
   "source": [
    "```\n",
    "\n",
    "copy() \tThey copy() method returns a shallow copy of the dictionary.\n",
    "clear() \tThe clear() method removes all items from the dictionary.\n",
    "pop() \tRemoves and returns an element from a dictionary having the given key.\n",
    "popitem() \tRemoves the arbitrary key-value pair from the dictionary and returns it as tuple.\n",
    "get() \tIt is a conventional method to access a value for a key.\n",
    "dictionary_name.values() \treturns a list of all the values available in a given dictionary.\n",
    "str() \tProduces a printable string representation of a dictionary.\n",
    "update() \tAdds dictionary dict2’s key-values pairs to dict\n",
    "setdefault() \tSet dict[key]=default if key is not already in dict\n",
    "keys() \tReturns list of dictionary dict’s keys\n",
    "items() \tReturns a list of dict’s (key, value) tuple pairs\n",
    "has_key() \tReturns true if key in dictionary dict, false otherwise\n",
    "fromkeys() \tCreate a new dictionary with keys from seq and values set to value.\n",
    "type() \tReturns the type of the passed variable.\n",
    "cmp() \tCompares elements of both dict.\n",
    "\n",
    "```"
   ]
  },
  {
   "cell_type": "markdown",
   "metadata": {
    "colab_type": "text",
    "id": "8GIeQ_lPdrlZ"
   },
   "source": [
    "####Dictionary Methods in Python Set 1 :"
   ]
  },
  {
   "cell_type": "markdown",
   "metadata": {
    "colab_type": "text",
    "id": "QnVMgGaGdw07"
   },
   "source": [
    "1. str(dic) :- This method is used to return the string, denoting all the dictionary keys with their values.\n",
    "\n",
    "2. items() :- This method is used to return the list with all dictionary keys with values."
   ]
  },
  {
   "cell_type": "code",
   "execution_count": 0,
   "metadata": {
    "colab": {
     "base_uri": "https://localhost:8080/",
     "height": 90
    },
    "colab_type": "code",
    "executionInfo": {
     "elapsed": 1013,
     "status": "ok",
     "timestamp": 1589095438983,
     "user": {
      "displayName": "Srijeet Chatterjee",
      "photoUrl": "https://lh3.googleusercontent.com/a-/AOh14GhvLyI2L7rMpswCMPIIHugxGS37iH6O6W9QSxh_Zw=s64",
      "userId": "01014322814526133923"
     },
     "user_tz": -330
    },
    "id": "_S0MrXNHddQb",
    "outputId": "fc773b50-d61f-43da-dd1d-0d6b01527a92"
   },
   "outputs": [
    {
     "name": "stdout",
     "output_type": "stream",
     "text": [
      "The constituents of dictionary as string are : \n",
      "{'Name': 'Nandini', 'Age': 19}\n",
      "The constituents of dictionary as list are : \n",
      "dict_items([('Name', 'Nandini'), ('Age', 19)])\n"
     ]
    }
   ],
   "source": [
    "# Python code to demonstrate working of\n",
    "# str() and items()\n",
    "\n",
    "# Initializing dictionary\n",
    "dic = { 'Name' : 'Nandini', 'Age' : 19 }\n",
    "\n",
    "# using str() to display dic as string\n",
    "print (\"The constituents of dictionary as string are : \")\n",
    "print (str(dic))\n",
    "\n",
    "# using str() to display dic as list\n",
    "print (\"The constituents of dictionary as list are : \")\n",
    "print (dic.items())"
   ]
  },
  {
   "cell_type": "markdown",
   "metadata": {
    "colab_type": "text",
    "id": "TyTfMARJeESJ"
   },
   "source": [
    "3. len() :- It returns the count of key entities of the dictionary elements.\n",
    "\n",
    "4. type() :- This function returns the data type of the argument."
   ]
  },
  {
   "cell_type": "code",
   "execution_count": 0,
   "metadata": {
    "colab": {
     "base_uri": "https://localhost:8080/",
     "height": 72
    },
    "colab_type": "code",
    "executionInfo": {
     "elapsed": 916,
     "status": "ok",
     "timestamp": 1589095462248,
     "user": {
      "displayName": "Srijeet Chatterjee",
      "photoUrl": "https://lh3.googleusercontent.com/a-/AOh14GhvLyI2L7rMpswCMPIIHugxGS37iH6O6W9QSxh_Zw=s64",
      "userId": "01014322814526133923"
     },
     "user_tz": -330
    },
    "id": "pYg9cYfDd55V",
    "outputId": "771dfb7b-7ce0-4271-a079-c9a654117751"
   },
   "outputs": [
    {
     "name": "stdout",
     "output_type": "stream",
     "text": [
      "The size of dic is : 3\n",
      "The data type of dic is : <class 'dict'>\n",
      "The data type of li is : <class 'list'>\n"
     ]
    }
   ],
   "source": [
    "# Python code to demonstrate working of\n",
    "# len() and type()\n",
    "\n",
    "# Initializing dictionary\n",
    "dic = { 'Name' : 'Nandini', 'Age' : 19, 'ID' : 2541997 }\n",
    "\n",
    "# Initializing list\n",
    "li = [ 1, 3, 5, 6 ]\n",
    "\n",
    "# using len() to display dic size\n",
    "print (\"The size of dic is : \",end=\"\")\n",
    "print (len(dic))\n",
    "\n",
    "# using type() to display data type\n",
    "print (\"The data type of dic is : \",end=\"\")\n",
    "print (type(dic))\n",
    "\n",
    "# using type() to display data type\n",
    "print (\"The data type of li is : \",end=\"\")\n",
    "print (type(li))\n"
   ]
  },
  {
   "cell_type": "markdown",
   "metadata": {
    "colab_type": "text",
    "id": "U3yE0Xs6eOww"
   },
   "source": [
    "5. copy() :- This function creates the shallow copy of the dictionary into other dictionary.\n",
    "\n",
    "6. clear() :- This function is used to clear the dictionary contents."
   ]
  },
  {
   "cell_type": "code",
   "execution_count": 0,
   "metadata": {
    "colab": {
     "base_uri": "https://localhost:8080/",
     "height": 72
    },
    "colab_type": "code",
    "executionInfo": {
     "elapsed": 1109,
     "status": "ok",
     "timestamp": 1589095507328,
     "user": {
      "displayName": "Srijeet Chatterjee",
      "photoUrl": "https://lh3.googleusercontent.com/a-/AOh14GhvLyI2L7rMpswCMPIIHugxGS37iH6O6W9QSxh_Zw=s64",
      "userId": "01014322814526133923"
     },
     "user_tz": -330
    },
    "id": "2Mi0IoGheHDd",
    "outputId": "2b1ff8d0-8eef-432a-8da4-083a789f523c"
   },
   "outputs": [
    {
     "name": "stdout",
     "output_type": "stream",
     "text": [
      "The new copied dictionary is : \n",
      "dict_items([('Name', 'Nandini'), ('Age', 19)])\n",
      "The contents of deleted dictionary is : dict_items([])\n"
     ]
    }
   ],
   "source": [
    "# Python code to demonstrate working of\n",
    "# clear() and copy()\n",
    "\n",
    "# Initializing dictionary\n",
    "dic1 = { 'Name' : 'Nandini', 'Age' : 19 }\n",
    "\n",
    "# Initializing dictionary \n",
    "dic3 = {}\n",
    "\n",
    "# using copy() to make shallow copy of dictionary\n",
    "dic3 = dic1.copy()\n",
    "\n",
    "# printing new dictionary\n",
    "print (\"The new copied dictionary is : \")\n",
    "print (dic3.items())\n",
    "\n",
    "# clearing the dictionary\n",
    "dic1.clear()\n",
    "\n",
    "# printing cleared dictionary\n",
    "print (\"The contents of deleted dictionary is : \",end=\"\")\n",
    "print (dic1.items())"
   ]
  },
  {
   "cell_type": "markdown",
   "metadata": {
    "colab_type": "text",
    "id": "reuro0_0edAA"
   },
   "source": [
    "####Dictionary Methods in Python Set 2"
   ]
  },
  {
   "cell_type": "markdown",
   "metadata": {
    "colab_type": "text",
    "id": "DEf-LCHtejIU"
   },
   "source": [
    "1. fromkeys(seq,value) :- This method is used to declare a new dictionary from the sequence mentioned in its arguments. This function can also initialize the declared dictionary with \"value\" argument.\n",
    "\n",
    "2. update(dic) :- This function is used to update the dictionary to add other dictionary keys."
   ]
  },
  {
   "cell_type": "code",
   "execution_count": 0,
   "metadata": {
    "colab": {
     "base_uri": "https://localhost:8080/",
     "height": 90
    },
    "colab_type": "code",
    "executionInfo": {
     "elapsed": 1084,
     "status": "ok",
     "timestamp": 1589095638770,
     "user": {
      "displayName": "Srijeet Chatterjee",
      "photoUrl": "https://lh3.googleusercontent.com/a-/AOh14GhvLyI2L7rMpswCMPIIHugxGS37iH6O6W9QSxh_Zw=s64",
      "userId": "01014322814526133923"
     },
     "user_tz": -330
    },
    "id": "tMpo6XTFefe-",
    "outputId": "a4244219-bbde-4eec-9f74-a6862dcebb30"
   },
   "outputs": [
    {
     "name": "stdout",
     "output_type": "stream",
     "text": [
      "The updated dictionary is : \n",
      "{'Name': 'Nandini', 'Age': 19, 'ID': 2541997}\n",
      "The new dictionary values are : \n",
      "{'Name': 5, 'Age': 5, 'ID': 5}\n"
     ]
    }
   ],
   "source": [
    "# Python code to demonstrate working of\n",
    "# fromkeys() and update()\n",
    "\n",
    "# Initializing dictionary 1\n",
    "dic1 = { 'Name' : 'Nandini', 'Age' : 19 }\n",
    "\n",
    "# Initializing dictionary 2\n",
    "dic2 = { 'ID' : 2541997 }\n",
    "\n",
    "# Initializing sequence\n",
    "sequ = ('Name', 'Age', 'ID')\n",
    "\n",
    "# using update to add dic2 values in dic 1\n",
    "dic1.update(dic2)\n",
    "\n",
    "# printing updated dictionary values\n",
    "print (\"The updated dictionary is : \")\n",
    "print (str(dic1))\n",
    "\n",
    "# using fromkeys() to transform sequence into dictionary\n",
    "dict = dict.fromkeys(sequ,5)\n",
    "\n",
    "# printing new dictionary values\n",
    "print (\"The new dictionary values are : \")\n",
    "print (str(dict))\n"
   ]
  },
  {
   "cell_type": "markdown",
   "metadata": {
    "colab_type": "text",
    "id": "oMoX8B9Xe3WC"
   },
   "source": [
    "\n",
    "\n",
    "3. get(key, def_val) :- This function return the key value associated with the key mentioned in arguments. If key is not present, the default value is returned.\n"
   ]
  },
  {
   "cell_type": "code",
   "execution_count": 0,
   "metadata": {
    "colab": {
     "base_uri": "https://localhost:8080/",
     "height": 90
    },
    "colab_type": "code",
    "executionInfo": {
     "elapsed": 1132,
     "status": "ok",
     "timestamp": 1589095761962,
     "user": {
      "displayName": "Srijeet Chatterjee",
      "photoUrl": "https://lh3.googleusercontent.com/a-/AOh14GhvLyI2L7rMpswCMPIIHugxGS37iH6O6W9QSxh_Zw=s64",
      "userId": "01014322814526133923"
     },
     "user_tz": -330
    },
    "id": "gfeNFmWBeyHk",
    "outputId": "d8d2b936-f067-4a52-fdc6-88b9a6f03097"
   },
   "outputs": [
    {
     "name": "stdout",
     "output_type": "stream",
     "text": [
      "The value associated with ID is : \n",
      "None\n",
      "The dictionary values are : \n",
      "{'Name': 'Nandini', 'Age': 19}\n"
     ]
    }
   ],
   "source": [
    "# Python code to demonstrate working of\n",
    "# has_key() and get()\n",
    "\n",
    "# Initializing dictionary\n",
    "dict = { 'Name' : 'Nandini', 'Age' : 19 }\n",
    "\n",
    "\n",
    "# using get() to print a key value\n",
    "print (\"The value associated with ID is : \")\n",
    "print (dict.get('ID', \"Not Present\"))\n",
    "\n",
    "# printing dictionary values\n",
    "print (\"The dictionary values are : \")\n",
    "print (str(dict))"
   ]
  },
  {
   "cell_type": "markdown",
   "metadata": {
    "colab_type": "text",
    "id": "GXNlgsNufanH"
   },
   "source": [
    " 4. setdefault(key, def_value) :- This function also searches for a key and displays its value like get() but, it creates new key with def_value if key is not present."
   ]
  },
  {
   "cell_type": "code",
   "execution_count": 0,
   "metadata": {
    "colab": {
     "base_uri": "https://localhost:8080/",
     "height": 72
    },
    "colab_type": "code",
    "executionInfo": {
     "elapsed": 1247,
     "status": "ok",
     "timestamp": 1589097856708,
     "user": {
      "displayName": "Srijeet Chatterjee",
      "photoUrl": "https://lh3.googleusercontent.com/a-/AOh14GhvLyI2L7rMpswCMPIIHugxGS37iH6O6W9QSxh_Zw=s64",
      "userId": "01014322814526133923"
     },
     "user_tz": -330
    },
    "id": "SHAzWNI7e59d",
    "outputId": "1a11aa7f-38e3-4aa0-9ee1-9d0d3b3b8bff"
   },
   "outputs": [
    {
     "name": "stdout",
     "output_type": "stream",
     "text": [
      "The value associated with Age is : No ID\n",
      "The dictionary values are : \n",
      "{'Name': 'Nandini', 'Age': 19, 'ID': 'No ID'}\n"
     ]
    }
   ],
   "source": [
    "# Python code to demonstrate working of\n",
    "# setdefault()\n",
    "\n",
    "# Initializing dictionary\n",
    "mydict = { 'Name' : 'Nandini', 'Age' : 19 }\n",
    "\n",
    "# using setdefault() to print a key value\n",
    "print (\"The value associated with Age is : \",end=\"\")\n",
    "print (mydict.setdefault('ID', \"No ID\"))\n",
    "\n",
    "# printing dictionary values\n",
    "print (\"The dictionary values are : \")\n",
    "print (str(mydict))"
   ]
  },
  {
   "cell_type": "markdown",
   "metadata": {
    "colab_type": "text",
    "id": "0B3493O-fxEY"
   },
   "source": [
    "####Python Counter | Majority Element:"
   ]
  },
  {
   "cell_type": "markdown",
   "metadata": {
    "colab_type": "text",
    "id": "dZLk5Ov4f1HD"
   },
   "source": [
    "Majority Element: A majority element in an array A[] of size n is an element that appears more than n/2 times (and hence there is at most one such element).\n",
    "\n",
    "Write a function which takes an array and emits the majority element (if it exists), otherwise prints NONE as follows:\n",
    "```\n",
    "Examples:\n",
    "\n",
    "Input : 3 3 4 2 4 4 2 4 4\n",
    "Output : 4 \n",
    "\n",
    "Input : 3 3 4 2 4 4 2 4\n",
    "Output : NONE\n",
    "```\n"
   ]
  },
  {
   "cell_type": "markdown",
   "metadata": {
    "colab_type": "text",
    "id": "ewOrFv0wf76R"
   },
   "source": [
    "We have existing solution for this problem please refer Majority Element link. We can solve this problem quickly in Python using Counter(iterable) function. Approach is simple,\n",
    "\n",
    "    1. Convert given list of elements into dictionary using \n",
    "       Counter() method, having elements as keys and their frequencies as value.\n",
    "    2. Now traverse complete dictionary and check for element \n",
    "       whose frequency follows the condition greater than (n/2) \n",
    "       where n is size of list. That element will be majority element.\n"
   ]
  },
  {
   "cell_type": "code",
   "execution_count": 0,
   "metadata": {
    "colab": {
     "base_uri": "https://localhost:8080/",
     "height": 35
    },
    "colab_type": "code",
    "executionInfo": {
     "elapsed": 1208,
     "status": "ok",
     "timestamp": 1589096053130,
     "user": {
      "displayName": "Srijeet Chatterjee",
      "photoUrl": "https://lh3.googleusercontent.com/a-/AOh14GhvLyI2L7rMpswCMPIIHugxGS37iH6O6W9QSxh_Zw=s64",
      "userId": "01014322814526133923"
     },
     "user_tz": -330
    },
    "id": "xjsAoJQ3feLU",
    "outputId": "aa3653e1-d9e9-4839-8603-3c42d29b64a6"
   },
   "outputs": [
    {
     "name": "stdout",
     "output_type": "stream",
     "text": [
      "4\n"
     ]
    }
   ],
   "source": [
    "# Function to find majority element\n",
    "from collections import Counter\n",
    "\n",
    "def majority(arr):\n",
    "\n",
    "    # convert array into dictionary\n",
    "    freqDict = Counter(arr)\n",
    "\n",
    "    # traverse dictionary and check majority element\n",
    "    size = len(arr)\n",
    "    for (key,val) in freqDict.items():\n",
    "         if (val > (size/2)):\n",
    "             print(key)\n",
    "             return\n",
    "    print('None')\n",
    "\n",
    "# Driver program\n",
    "if __name__ == \"__main__\":\n",
    "    arr = [3,3,4,2,4,4,2,4,4] \n",
    "    majority(arr)"
   ]
  },
  {
   "cell_type": "markdown",
   "metadata": {
    "colab_type": "text",
    "id": "oKffB3AqgcND"
   },
   "source": [
    "####Python | Find Common elements in three Sorted Arrays by Dictionary intersection "
   ]
  },
  {
   "cell_type": "markdown",
   "metadata": {
    "colab_type": "text",
    "id": "IlYseKLigoUe"
   },
   "source": [
    "Given three arrays sorted in non-decreasing order, print all common elements in these arrays.\n",
    "\n",
    "```\n",
    "Examples:\n",
    "\n",
    "Input:  ar1 = [1, 5, 10, 20, 40, 80]\n",
    "        ar2 = [6, 7, 20, 80, 100]\n",
    "        ar3 = [3, 4, 15, 20, 30, 70, 80, 120]\n",
    "Output: [80, 20]\n",
    "\n",
    "Input:  ar1 = [1, 5, 5]\n",
    "        ar2 = [3, 4, 5, 5, 10]\n",
    "        ar3 = [5, 5, 10, 20]\n",
    "Output: [5, 5]\n",
    "\n",
    "```"
   ]
  },
  {
   "cell_type": "markdown",
   "metadata": {
    "colab_type": "text",
    "id": "OkWmmFxUg4UV"
   },
   "source": [
    "We have existing solution for this problem please refer Find common elements in three sorted arrays link. We can solve this problem quickly in python using intersection of dictionaries. Approach is simple,\n",
    "\n",
    "    1. First convert all three lists into dictionaries having \n",
    "       elements as keys and their frequencies as value, using \n",
    "       Counter() method.\n",
    "    2. Now perform intersection operation for three dictionaries,\n",
    "       this will result us dictionary having common elements among \n",
    "       three array list with their frequencies.\n"
   ]
  },
  {
   "cell_type": "code",
   "execution_count": 0,
   "metadata": {
    "colab": {
     "base_uri": "https://localhost:8080/",
     "height": 35
    },
    "colab_type": "code",
    "executionInfo": {
     "elapsed": 1001,
     "status": "ok",
     "timestamp": 1589097960622,
     "user": {
      "displayName": "Srijeet Chatterjee",
      "photoUrl": "https://lh3.googleusercontent.com/a-/AOh14GhvLyI2L7rMpswCMPIIHugxGS37iH6O6W9QSxh_Zw=s64",
      "userId": "01014322814526133923"
     },
     "user_tz": -330
    },
    "id": "8GkWlvK3gVln",
    "outputId": "6d7d7163-28f1-4527-b0cd-783acd739075"
   },
   "outputs": [
    {
     "name": "stdout",
     "output_type": "stream",
     "text": [
      "[80, 20, 20]\n"
     ]
    }
   ],
   "source": [
    "# Function to find common elements in three\n",
    "# sorted arrays\n",
    "from collections import Counter\n",
    "\n",
    "def commonElement(ar1,ar2,ar3):\n",
    "     # first convert lists into dictionary\n",
    "     ar1 = Counter(ar1)\n",
    "     ar2 = Counter(ar2)\n",
    "     ar3 = Counter(ar3)\n",
    "   \n",
    "     # perform intersection operation\n",
    "     resultDict = dict(ar1.items() & ar2.items() & ar3.items())\n",
    "     common = []\n",
    "    \n",
    "     # iterate through resultant dictionary\n",
    "     # and collect common elements\n",
    "     for (key,val) in resultDict.items():\n",
    "          for i in range(0,val):\n",
    "               common.append(key)\n",
    "\n",
    "     print(common)\n",
    "\n",
    "# Driver program\n",
    "if __name__ == \"__main__\":\n",
    "    ar1 = [1, 5, 10, 20, 20 ,40, 80]\n",
    "    ar2 = [6, 7, 20, 20,80, 100]\n",
    "    ar3 = [3, 4, 15, 20, 20, 30, 70, 80, 120]\n",
    "    commonElement(ar1,ar2,ar3)"
   ]
  },
  {
   "cell_type": "markdown",
   "metadata": {
    "colab_type": "text",
    "id": "p-HSXxPxk5Tt"
   },
   "source": [
    "####Python | Convert a list of Tuples into a Dictionary :"
   ]
  },
  {
   "cell_type": "markdown",
   "metadata": {
    "colab_type": "text",
    "id": "4bUtsloKlCtn"
   },
   "source": [
    "    Sometimes you might need to convert a tuple to dict object to make it more readable.\n",
    "\n",
    "In this article, we will try to learn how to convert a list of tuples into a dictionary. Here we will find two methods of doing this.\n",
    "```\n",
    "Examples:\n",
    "\n",
    "Input : [(\"akash\", 10), (\"gaurav\", 12), (\"anand\", 14), \n",
    "         (\"suraj\", 20), (\"akhil\", 25), (\"ashish\", 30)]\n",
    "Output : {'akash': [10], 'gaurav': [12], 'anand': [14], \n",
    "          'ashish': [30], 'akhil': [25], 'suraj': [20]}\n",
    "\n",
    "Input : [('A', 1), ('B', 2), ('C', 3)]\n",
    "Output : {'B': [2], 'A': [1], 'C': [3]}\n",
    "```\n"
   ]
  },
  {
   "cell_type": "markdown",
   "metadata": {
    "colab_type": "text",
    "id": "MvV8rTJClUe0"
   },
   "source": [
    "    Method 1 : Use of setdefault()\n",
    "\n",
    "Here we have used the dictionary method setdefault() to convert the first parameter to key and the second to the value of the dictionary. \n",
    "\n",
    "    setdefault(key, def_value) function searches for a key and displays \n",
    "    its value and creates a new key with def_value if the key is not \n",
    "    present. Using the append function we just added the values to \n",
    "    the dictionary."
   ]
  },
  {
   "cell_type": "code",
   "execution_count": 0,
   "metadata": {
    "colab": {
     "base_uri": "https://localhost:8080/",
     "height": 35
    },
    "colab_type": "code",
    "executionInfo": {
     "elapsed": 920,
     "status": "ok",
     "timestamp": 1589097466952,
     "user": {
      "displayName": "Srijeet Chatterjee",
      "photoUrl": "https://lh3.googleusercontent.com/a-/AOh14GhvLyI2L7rMpswCMPIIHugxGS37iH6O6W9QSxh_Zw=s64",
      "userId": "01014322814526133923"
     },
     "user_tz": -330
    },
    "id": "oriFvdfRkLmJ",
    "outputId": "d901c3a1-7a21-44ed-a055-eda2e22b8859"
   },
   "outputs": [
    {
     "name": "stdout",
     "output_type": "stream",
     "text": [
      "{'akash': [10], 'gaurav': [12], 'anand': [14], 'suraj': [20], 'akhil': [25], 'ashish': [30]}\n"
     ]
    }
   ],
   "source": [
    "# Python code to convert into dictionary\n",
    "\n",
    "def Convert(tup, di):\n",
    "    for a, b in tup:\n",
    "        di.setdefault(a, []).append(b)\n",
    "    return di\n",
    "    \n",
    "# Driver Code    \n",
    "tups = [(\"akash\", 10), (\"gaurav\", 12), (\"anand\", 14), (\"suraj\", 20), (\"akhil\", 25), (\"ashish\", 30)]\n",
    "\n",
    "dictionary = {}\n",
    "print (Convert(tups, dictionary))\n"
   ]
  },
  {
   "cell_type": "markdown",
   "metadata": {
    "colab_type": "text",
    "id": "BdaLuE-Tlz-7"
   },
   "source": [
    "    Method 2 : Use of dict() method\n",
    "    \n",
    "This is a simple method of conversion from a list or tuple to a dictionary. Here we pass a tuple into the dict() method which converts the tuple into the corresponding dictionary.\n"
   ]
  },
  {
   "cell_type": "code",
   "execution_count": 0,
   "metadata": {
    "colab": {
     "base_uri": "https://localhost:8080/",
     "height": 35
    },
    "colab_type": "code",
    "executionInfo": {
     "elapsed": 1215,
     "status": "ok",
     "timestamp": 1589097989719,
     "user": {
      "displayName": "Srijeet Chatterjee",
      "photoUrl": "https://lh3.googleusercontent.com/a-/AOh14GhvLyI2L7rMpswCMPIIHugxGS37iH6O6W9QSxh_Zw=s64",
      "userId": "01014322814526133923"
     },
     "user_tz": -330
    },
    "id": "Ya8ybhrwlwfS",
    "outputId": "445ee7ae-31fe-413b-924a-248a1961e79f"
   },
   "outputs": [
    {
     "name": "stdout",
     "output_type": "stream",
     "text": [
      "{'akash': 10, 'gaurav': 12, 'anand': 14, 'suraj': 20, 'akhil': 25, 'ashish': 30}\n"
     ]
    }
   ],
   "source": [
    "# Python code to convert into dictionary\n",
    "def Convert(tup, di):\n",
    "    di = dict(tup)\n",
    "    return di\n",
    "    \n",
    "# Driver Code \n",
    "tups = [(\"akash\", 10), (\"gaurav\", 12), (\"anand\", 14), \n",
    "    (\"suraj\", 20), (\"akhil\", 25), (\"ashish\", 30)]\n",
    "\n",
    "dictionary = {}\n",
    "\n",
    "print (Convert(tups, dictionary))"
   ]
  },
  {
   "cell_type": "code",
   "execution_count": 0,
   "metadata": {
    "colab": {
     "base_uri": "https://localhost:8080/",
     "height": 35
    },
    "colab_type": "code",
    "executionInfo": {
     "elapsed": 1031,
     "status": "ok",
     "timestamp": 1589115663933,
     "user": {
      "displayName": "Srijeet Chatterjee",
      "photoUrl": "https://lh3.googleusercontent.com/a-/AOh14GhvLyI2L7rMpswCMPIIHugxGS37iH6O6W9QSxh_Zw=s64",
      "userId": "01014322814526133923"
     },
     "user_tz": -330
    },
    "id": "kidPH3LYrGl3",
    "outputId": "cfc178b5-804e-400e-b40f-12bf1deab099"
   },
   "outputs": [
    {
     "name": "stdout",
     "output_type": "stream",
     "text": [
      "2\n"
     ]
    }
   ],
   "source": [
    "n= 5 \n",
    "print(int(5/2))"
   ]
  },
  {
   "cell_type": "code",
   "execution_count": 0,
   "metadata": {
    "colab": {},
    "colab_type": "code",
    "id": "-hhaakqrrJBF"
   },
   "outputs": [],
   "source": []
  }
 ],
 "metadata": {
  "colab": {
   "authorship_tag": "ABX9TyNPezLg20aX2km5IF+IKsY2",
   "collapsed_sections": [
    "Q1EruYin-A1K",
    "79uG2NTUOz6s",
    "kNsp_K7eOg2D",
    "EScDUawEGip0",
    "3bxBmXnSL2Gk",
    "Gs6pjS4IMJDC",
    "6TWL_7l-NMlm",
    "5UBvSiZxN1L3",
    "iapO2v-aN8B9",
    "Iz7aytfVOFfa",
    "Eess5nJmO9T2",
    "-ZYbiCodP8n1",
    "DD3MGAVQQA8I",
    "8xWVw8GyQ83z",
    "OcS_pSorR1QW",
    "gaWis_FvUqK4",
    "pPxnbUnOWqS8",
    "m-a9vOWzZSt2",
    "-zbs6Uw-aGSn",
    "92sDc8dpgHzU",
    "XsTzO-2l-K8N",
    "aBx8qFgp-WEn",
    "dfcoKPxw-lRj",
    "NWGcz-Hy-oHT",
    "aum8wkyH-0C6",
    "OpxHg893_WbT",
    "x49jBqf5AB8v",
    "oiznjIHaAF1n",
    "wmnTyFS1AXSd",
    "aZGbNy4pA6p9",
    "gSfwg1f3Bcfy",
    "GhdXHIlhBoI4",
    "5fwE20KEB3ln",
    "VMPU0y7LCRa4",
    "1zLji_ZdCtZG",
    "3DFAUYxFDB1w",
    "WoevO5qtEBQa",
    "NY8cI1DWExFH",
    "5-WfutM4GBTS",
    "BH4VCcAyb-2L",
    "D83sgmS6cxGl",
    "XMezvr4MeP-X",
    "k-JdUDHxfksM",
    "zHr9nUNMf_oc",
    "vy5ePjjBgOou",
    "uVxviVIkgvcf",
    "gSczBg9kkO8y",
    "pEkqVoVY7Bfu",
    "vjEFKQU_7a30",
    "W3IVzKaP9Oq3",
    "L5um1Ca2fC1F",
    "QsKHpz-Qkc_4",
    "0fJsSQYl_zGo",
    "CxZJ3jZQn6xz",
    "xUZkaPe_31LS",
    "sz3hYvsKF4UR",
    "47a-lRDrGRQE",
    "czADT9W1Hqw6",
    "MesYiBKSoFXh",
    "AohL0sXVy5D9",
    "D8Cl7ifr0d-T",
    "-2dzjzxg02FN",
    "fuMYljFx2js8",
    "-rTVsWVkiZiL",
    "rksM9hzULJA7",
    "RXXCiXyTMLWl",
    "-WaP5Ku_oLYj",
    "9OHT77dmojci",
    "d6-oou_PpnvQ",
    "pmvpKrf_jAFN",
    "Od7DcqVWqCwJ",
    "KfWzZG7Orq69",
    "TwiH-_pGte2u",
    "kHWb3tVOux8b",
    "nn4QdlKtwFfT",
    "Ze_X6phHxDzc",
    "mJs8bBuYxLgz",
    "QbMgZS-_ynkJ",
    "4t_dHRjxzMMr",
    "LAuByveIzlLz",
    "ku3-eCL-0oe9",
    "hR_3lx1Q1alE",
    "FKUxHP8073cQ",
    "2ZfvFbGn7xbQ",
    "RiI1ce3Y3aeg",
    "iyErFqSz8u_o",
    "USjpMpUwyNGk",
    "8GIeQ_lPdrlZ",
    "reuro0_0edAA",
    "0B3493O-fxEY",
    "oKffB3AqgcND"
   ],
   "name": "python.ipynb",
   "provenance": []
  },
  "kernelspec": {
   "display_name": "Python 3",
   "language": "python",
   "name": "python3"
  },
  "language_info": {
   "codemirror_mode": {
    "name": "ipython",
    "version": 3
   },
   "file_extension": ".py",
   "mimetype": "text/x-python",
   "name": "python",
   "nbconvert_exporter": "python",
   "pygments_lexer": "ipython3",
   "version": "3.7.3"
  }
 },
 "nbformat": 4,
 "nbformat_minor": 1
}
