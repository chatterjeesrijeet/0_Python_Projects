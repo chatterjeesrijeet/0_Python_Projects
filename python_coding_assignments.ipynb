{
 "cells": [
  {
   "cell_type": "markdown",
   "metadata": {},
   "source": [
    "#### problem 1 :  Define a function that can take any number of input arguments and return the list with only even arguments."
   ]
  },
  {
   "cell_type": "code",
   "execution_count": 32,
   "metadata": {},
   "outputs": [],
   "source": [
    "def myfunc(*args):\n",
    "    print(args)\n",
    "    return [x for x in args if x%2==0]"
   ]
  },
  {
   "cell_type": "code",
   "execution_count": 33,
   "metadata": {},
   "outputs": [
    {
     "name": "stdout",
     "output_type": "stream",
     "text": [
      "(1, 2, 3, 4, 4, 5, 6, 7, 23, 24, 82)\n",
      "[2, 4, 4, 6, 24, 82]\n"
     ]
    }
   ],
   "source": [
    "myList = myfunc(1,2,3,4,4,5,6,7,23,24,82)\n",
    "print(myList)"
   ]
  },
  {
   "cell_type": "code",
   "execution_count": 34,
   "metadata": {},
   "outputs": [],
   "source": [
    "def myfunc_1(string):\n",
    "    \n",
    "    index = 0\n",
    "    name = ''\n",
    "    for letter in string:\n",
    "        if index%2 ==0 :\n",
    "            name = name + letter.upper()\n",
    "            index = index + 1\n",
    "        else:\n",
    "            name =  name + letter.lower()\n",
    "            index = index + 1\n",
    "\n",
    "    return name"
   ]
  },
  {
   "cell_type": "code",
   "execution_count": 8,
   "metadata": {},
   "outputs": [],
   "source": [
    "def myfunc_2(string):\n",
    "    name = ''\n",
    "    for index,letter in enumerate(string):\n",
    "        if index%2 ==0 :\n",
    "            name = name + letter.upper()\n",
    "        else:\n",
    "            name =  name + letter.lower()\n",
    "\n",
    "    return name"
   ]
  },
  {
   "cell_type": "code",
   "execution_count": 9,
   "metadata": {},
   "outputs": [],
   "source": [
    "def myfunc_3(string):\n",
    "    \n",
    "    name = ''\n",
    "    \n",
    "    l = [l.upper() if index%2 == 0 else l.lower() for index,l in enumerate(string)]\n",
    "    \n",
    "    for i in l:\n",
    "        name += i\n",
    "    \n",
    "    return name"
   ]
  },
  {
   "cell_type": "code",
   "execution_count": 10,
   "metadata": {},
   "outputs": [
    {
     "name": "stdout",
     "output_type": "stream",
     "text": [
      "SrIjEeT\n",
      "SrIjEeT\n",
      "SrIjEeT\n"
     ]
    }
   ],
   "source": [
    "print(myfunc_1('srijeet'))\n",
    "print(myfunc_2('srijeet'))\n",
    "print(myfunc_3('srijeet'))"
   ]
  },
  {
   "cell_type": "markdown",
   "metadata": {},
   "source": [
    " #### Problem 2 : Game of Guessing the position of \"*\""
   ]
  },
  {
   "cell_type": "code",
   "execution_count": 11,
   "metadata": {},
   "outputs": [],
   "source": [
    "from random import shuffle"
   ]
  },
  {
   "cell_type": "code",
   "execution_count": 15,
   "metadata": {},
   "outputs": [],
   "source": [
    "gamelist = [' ','*',' ']"
   ]
  },
  {
   "cell_type": "code",
   "execution_count": 20,
   "metadata": {},
   "outputs": [],
   "source": [
    "shuffle(gamelist)"
   ]
  },
  {
   "cell_type": "code",
   "execution_count": 21,
   "metadata": {},
   "outputs": [
    {
     "data": {
      "text/plain": [
       "['*', ' ', ' ']"
      ]
     },
     "execution_count": 21,
     "metadata": {},
     "output_type": "execute_result"
    }
   ],
   "source": [
    "gamelist"
   ]
  },
  {
   "cell_type": "code",
   "execution_count": 22,
   "metadata": {},
   "outputs": [],
   "source": [
    "returned_val = shuffle(gamelist)"
   ]
  },
  {
   "cell_type": "code",
   "execution_count": 23,
   "metadata": {},
   "outputs": [
    {
     "data": {
      "text/plain": [
       "NoneType"
      ]
     },
     "execution_count": 23,
     "metadata": {},
     "output_type": "execute_result"
    }
   ],
   "source": [
    "#shuffle does not return anything / any object\n",
    "type(returned_val)"
   ]
  },
  {
   "cell_type": "code",
   "execution_count": 24,
   "metadata": {},
   "outputs": [],
   "source": [
    "#function that shuffles the list in a random fashion \n",
    "def shuffle_list(mylist):\n",
    "    shuffle(mylist)\n",
    "    return mylist"
   ]
  },
  {
   "cell_type": "code",
   "execution_count": 25,
   "metadata": {},
   "outputs": [],
   "source": [
    "#taking guess from the user:\n",
    "def user_guess():\n",
    "    guess = ''\n",
    "    while guess not in ['0','1','2']:\n",
    "        guess = input('Please take a guess amongst 0, 1, 2 : ')\n",
    "    \n",
    "    return int(guess)"
   ]
  },
  {
   "cell_type": "code",
   "execution_count": 26,
   "metadata": {},
   "outputs": [],
   "source": [
    "def check_match(mylist , guess):\n",
    "    \n",
    "    if mylist[guess] == '*':\n",
    "        print('You guess is right !!!')\n",
    "    else:\n",
    "        print('Sorry, you were unlucky !!!')\n",
    "        print(mylist)"
   ]
  },
  {
   "cell_type": "code",
   "execution_count": 27,
   "metadata": {},
   "outputs": [],
   "source": [
    "def game_1():\n",
    "    # declare the list \n",
    "    myList = [' ','*',' ']\n",
    "\n",
    "    #call the random shuffler :\n",
    "    shuffledList = shuffle_list(myList)\n",
    "\n",
    "    #Take user guess\n",
    "    userGuess = user_guess()\n",
    "\n",
    "    #match with the shuffled list :\n",
    "    check_match(shuffledList,userGuess)"
   ]
  },
  {
   "cell_type": "code",
   "execution_count": 28,
   "metadata": {},
   "outputs": [
    {
     "name": "stdout",
     "output_type": "stream",
     "text": [
      "Please take a guess amongst 0, 1, 2 : 0\n",
      "Sorry, you were unlucky !!!\n",
      "[' ', '*', ' ']\n"
     ]
    }
   ],
   "source": [
    "game_1()"
   ]
  },
  {
   "cell_type": "code",
   "execution_count": null,
   "metadata": {},
   "outputs": [],
   "source": [
    "#-----------------------------complete code for game 1 ------------------------"
   ]
  },
  {
   "cell_type": "code",
   "execution_count": 26,
   "metadata": {},
   "outputs": [
    {
     "name": "stdout",
     "output_type": "stream",
     "text": [
      "Please take a guess amongst 0, 1, 2 : 0\n",
      "Sorry, you were unlucky !!!\n",
      "[' ', ' ', '*']\n"
     ]
    }
   ],
   "source": [
    "from random import shuffle\n",
    "\n",
    "#function that shuffles the list in a random fashion \n",
    "def shuffle_list(mylist):\n",
    "    shuffle(mylist)\n",
    "    return mylist\n",
    "\n",
    "#taking guess from the user:\n",
    "def user_guess():\n",
    "    guess = ''\n",
    "    while guess not in ['0','1','2']:\n",
    "        guess = input('Please take a guess amongst 0, 1, 2 : ')\n",
    "    \n",
    "    return int(guess)\n",
    "\n",
    "def check_match(mylist , guess):\n",
    "    \n",
    "    if mylist[guess] == '*':\n",
    "        print('You guess is right !!!')\n",
    "    else:\n",
    "        print('Sorry, you were unlucky !!!')\n",
    "        print(mylist)\n",
    "\n",
    "def game_1():\n",
    "    # declare the list \n",
    "    myList = [' ','*',' ']\n",
    "\n",
    "    #call the random shuffler :\n",
    "    shuffledList = shuffle_list(myList)\n",
    "\n",
    "    #Take user guess\n",
    "    userGuess = user_guess()\n",
    "\n",
    "    #match with the shuffled list :\n",
    "    check_match(shuffledList,userGuess)\n",
    "    \n",
    "game_1()"
   ]
  },
  {
   "cell_type": "markdown",
   "metadata": {},
   "source": [
    "#### Game 03  User Interaction with your code "
   ]
  },
  {
   "cell_type": "markdown",
   "metadata": {},
   "source": [
    "Simple User Interaction : A small game where a user can choose a \"position\" in an existing list and replace it with a value of their choice."
   ]
  },
  {
   "cell_type": "markdown",
   "metadata": {},
   "source": [
    "### plot the idea : \n",
    "\n",
    "    1. create the list which holds some values  ---- variable initialisation \n",
    "\n",
    "    2. take input from user untill he provides the valid input ------ user_input()\n",
    "           1. user input for position to be changes \n",
    "           2. user input for the string \n",
    "\n",
    "    3. replace the list with the user input  --- replace_function()\n",
    "\n",
    "    4. keep repeating ---------while loop where we ask do you want to continue ????"
   ]
  },
  {
   "cell_type": "markdown",
   "metadata": {},
   "source": [
    "### Tech Skeleton "
   ]
  },
  {
   "cell_type": "raw",
   "metadata": {},
   "source": [
    "want_to_play = True\n",
    "\n",
    "while want_to_play:\n",
    "    \n",
    "    srilist = [0,0,0]\n",
    "    \n",
    "    display_list(srilist)   ####   complete it \n",
    "    \n",
    "    pos = user_input()      #####  complete the function \n",
    "    \n",
    "    srilist = update_list(srilist, pos)  #complete the function\n",
    "    \n",
    "    display_list(srilist)\n",
    "    \n",
    "    want_to_play = want_to_continue_function() ### complete the function\n",
    "    "
   ]
  },
  {
   "cell_type": "code",
   "execution_count": 2,
   "metadata": {},
   "outputs": [],
   "source": [
    "def display_list(mylist):\n",
    "    print(mylist)    "
   ]
  },
  {
   "cell_type": "code",
   "execution_count": 29,
   "metadata": {},
   "outputs": [],
   "source": [
    "from IPython.display import clear_output\n",
    "\n",
    "def user_input():\n",
    "    \n",
    "    pos = 'wrong'\n",
    "    \n",
    "    while (pos not in ['0','1','2']):\n",
    "        \n",
    "        pos = input('Please enter a valid position  0 , 1, or 2 : ')\n",
    "        clear_output()\n",
    "        \n",
    "        if pos.isdigit()==False:\n",
    "            clear_output()\n",
    "            print('The entered number is not a digit , Please enter again  !!!!')\n",
    "            continue \n",
    "            \n",
    "        if pos not in [0,1,2]:\n",
    "            clear_output()\n",
    "            print('The entered number is not a valid digit in the range from 0 - 2 , Please enter again  !!!!')\n",
    "\n",
    "    return pos"
   ]
  },
  {
   "cell_type": "code",
   "execution_count": 30,
   "metadata": {},
   "outputs": [
    {
     "name": "stdout",
     "output_type": "stream",
     "text": [
      "The entered number is not a valid digit in the range from 0 - 2 , Please enter again  !!!!\n",
      "2\n"
     ]
    }
   ],
   "source": [
    "pos = user_input()\n",
    "print(pos)"
   ]
  },
  {
   "cell_type": "code",
   "execution_count": 31,
   "metadata": {},
   "outputs": [
    {
     "data": {
      "text/plain": [
       "False"
      ]
     },
     "execution_count": 31,
     "metadata": {},
     "output_type": "execute_result"
    }
   ],
   "source": [
    "'4ta5'.isdigit()"
   ]
  },
  {
   "cell_type": "code",
   "execution_count": null,
   "metadata": {},
   "outputs": [],
   "source": []
  },
  {
   "cell_type": "code",
   "execution_count": null,
   "metadata": {},
   "outputs": [],
   "source": []
  }
 ],
 "metadata": {
  "kernelspec": {
   "display_name": "Python 3",
   "language": "python",
   "name": "python3"
  },
  "language_info": {
   "codemirror_mode": {
    "name": "ipython",
    "version": 3
   },
   "file_extension": ".py",
   "mimetype": "text/x-python",
   "name": "python",
   "nbconvert_exporter": "python",
   "pygments_lexer": "ipython3",
   "version": "3.7.3"
  }
 },
 "nbformat": 4,
 "nbformat_minor": 2
}
