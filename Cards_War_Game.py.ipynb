{
 "cells": [
  {
   "cell_type": "markdown",
   "metadata": {},
   "source": [
    "## WAR : Card Game Design in Python "
   ]
  },
  {
   "cell_type": "markdown",
   "metadata": {},
   "source": [
    "    Each player turns up a card at the same time and the player with the higher card takes both cards and puts them, face       down, on the bottom of his stack. If the cards are the same rank, it is War. Each player turns up one card face down       and one card face up. The player with the higher cards takes both piles (six cards).\n",
    "    \n",
    "    https://en.wikipedia.org/wiki/War_(card_game)"
   ]
  },
  {
   "cell_type": "markdown",
   "metadata": {},
   "source": [
    "#### Now for the completion of  deck of cards, we will need the below sets of suits, ranks and weightage dictionary "
   ]
  },
  {
   "cell_type": "code",
   "execution_count": 1,
   "metadata": {},
   "outputs": [],
   "source": [
    "#suits = ('Hearts', 'Diamonds', 'Spades', 'Clubs')\n",
    "suits = ('Hearts', 'Diamonds')\n",
    "ranks = ('Two', 'Three', 'Four', 'Five', 'Six', 'Seven', 'Eight', 'Nine', 'Ten', 'Jack', 'Queen', 'King', 'Ace')\n",
    "rank_to_weight_dict  = { 'Two': 2 , 'Three':3 , 'Four': 4 , 'Five':5 , 'Six':6,'Seven':7 , 'Eight':8 ,'Nine':9 , 'Ten':10,\n",
    "                 'Jack':11 , 'Queen':12 ,'King':13 ,'Ace': 14}"
   ]
  },
  {
   "cell_type": "markdown",
   "metadata": {},
   "source": [
    "    Lets now create the card class \n",
    "\n",
    "    It will have : (a) rank \n",
    "                   (b) suit\n",
    "                   (c) weightage : which we can compute using the rank_to_weight_dict dictionary   "
   ]
  },
  {
   "cell_type": "code",
   "execution_count": 2,
   "metadata": {},
   "outputs": [],
   "source": [
    "class Card:\n",
    "    '''\n",
    "    This is a card class which resembles a card from a deck of cards. It has centain properties such as \n",
    "    suit, rank and weightage. Standard __str__() fucntion has also been defined for this class for printing it out.\n",
    "    '''\n",
    "    def __init__(self,suit,rank):\n",
    "        self.rank = rank.capitalize()\n",
    "        self.suit = suit.capitalize()\n",
    "        self.weightage = rank_to_weight_dict[rank.capitalize()]\n",
    "    \n",
    "    def __str__(self):\n",
    "        return f'{self.rank}_of_{self.suit}'"
   ]
  },
  {
   "cell_type": "code",
   "execution_count": 3,
   "metadata": {},
   "outputs": [],
   "source": [
    "king_of_diamond = Card('diamond','king')"
   ]
  },
  {
   "cell_type": "code",
   "execution_count": 4,
   "metadata": {},
   "outputs": [
    {
     "name": "stdout",
     "output_type": "stream",
     "text": [
      "King_of_Diamond\n"
     ]
    }
   ],
   "source": [
    "print(king_of_diamond)"
   ]
  },
  {
   "cell_type": "markdown",
   "metadata": {},
   "source": [
    "    *****Now we need to have a deck class which will create the entire deck of 52 cards, then we will use this class object to shuffle and distrubte to multiple players a set of 52 cards randomly.*****"
   ]
  },
  {
   "cell_type": "code",
   "execution_count": 5,
   "metadata": {},
   "outputs": [],
   "source": [
    "import random"
   ]
  },
  {
   "cell_type": "code",
   "execution_count": 6,
   "metadata": {},
   "outputs": [],
   "source": [
    "class Deck:\n",
    "    \n",
    "    '''\n",
    "    This is Deck class ..every time you create an object of this class its like you are \n",
    "    bringing a fresh set of deck of cards with all the 52 cards present.\n",
    "    \n",
    "    It will have a list of all cards present in the deck @any time instant as an attribute\n",
    "    and Shuffling and taking one cards out from the deck as the methods for this class object.\n",
    "    '''\n",
    "    \n",
    "    def __init__(self):\n",
    "        \n",
    "        self.all_cards = []\n",
    "        \n",
    "        for suit in suits:\n",
    "            for rank in ranks:\n",
    "                new_card = Card(suit,rank)\n",
    "                self.all_cards.append(new_card)\n",
    "    \n",
    "    #we need a function that will shuffle the deck of cards :\n",
    "    def shuffle_deck(self):\n",
    "        random.shuffle(self.all_cards)\n",
    "        \n",
    "    #we need another function to tak one card out of the deck while we dstribute it to the players \n",
    "    def take_one_card(self):\n",
    "        #this pop() also reduces the length of the cards present in the deck \n",
    "        #verify the same while testing \n",
    "        return self.all_cards.pop()"
   ]
  },
  {
   "cell_type": "markdown",
   "metadata": {},
   "source": [
    "    Let us start testing the Deck Class object and its fucntionalities "
   ]
  },
  {
   "cell_type": "code",
   "execution_count": 7,
   "metadata": {},
   "outputs": [],
   "source": [
    "myDeck = Deck()"
   ]
  },
  {
   "cell_type": "code",
   "execution_count": 8,
   "metadata": {},
   "outputs": [
    {
     "name": "stdout",
     "output_type": "stream",
     "text": [
      "Two_of_Hearts\n"
     ]
    }
   ],
   "source": [
    "first_card = myDeck.all_cards[0]\n",
    "print(first_card)"
   ]
  },
  {
   "cell_type": "code",
   "execution_count": 9,
   "metadata": {},
   "outputs": [
    {
     "name": "stdout",
     "output_type": "stream",
     "text": [
      "Two_of_Hearts\n",
      "Three_of_Hearts\n",
      "Four_of_Hearts\n",
      "Five_of_Hearts\n"
     ]
    }
   ],
   "source": [
    "for index,card in enumerate(myDeck.all_cards):\n",
    "    print(card)\n",
    "    if index == 3:\n",
    "        break"
   ]
  },
  {
   "cell_type": "markdown",
   "metadata": {},
   "source": [
    "    Test the shuffle functionality present in the Deck Class object"
   ]
  },
  {
   "cell_type": "code",
   "execution_count": 10,
   "metadata": {},
   "outputs": [],
   "source": [
    "myDeck.shuffle_deck()"
   ]
  },
  {
   "cell_type": "code",
   "execution_count": 11,
   "metadata": {},
   "outputs": [
    {
     "name": "stdout",
     "output_type": "stream",
     "text": [
      "Jack_of_Diamonds\n"
     ]
    }
   ],
   "source": [
    "first_card = myDeck.all_cards[0]\n",
    "print(first_card)"
   ]
  },
  {
   "cell_type": "markdown",
   "metadata": {},
   "source": [
    "So the first card has changed so basically it means that the shuffle functionality is working ."
   ]
  },
  {
   "cell_type": "code",
   "execution_count": 12,
   "metadata": {},
   "outputs": [
    {
     "name": "stdout",
     "output_type": "stream",
     "text": [
      "0 Jack_of_Diamonds\n",
      "1 Nine_of_Diamonds\n",
      "2 Nine_of_Hearts\n",
      "3 Two_of_Hearts\n"
     ]
    }
   ],
   "source": [
    "for index,card in enumerate(myDeck.all_cards):\n",
    "    print(index , card)\n",
    "    if index == 3:\n",
    "        break"
   ]
  },
  {
   "cell_type": "markdown",
   "metadata": {},
   "source": [
    "    Test take_one_card() function of the Deck Class object"
   ]
  },
  {
   "cell_type": "code",
   "execution_count": 13,
   "metadata": {},
   "outputs": [
    {
     "name": "stdout",
     "output_type": "stream",
     "text": [
      "Eight_of_Hearts\n"
     ]
    },
    {
     "data": {
      "text/plain": [
       "25"
      ]
     },
     "execution_count": 13,
     "metadata": {},
     "output_type": "execute_result"
    }
   ],
   "source": [
    "print(myDeck.take_one_card())\n",
    "len(myDeck.all_cards)"
   ]
  },
  {
   "cell_type": "markdown",
   "metadata": {},
   "source": [
    "  #### Need to have a player class now : "
   ]
  },
  {
   "cell_type": "markdown",
   "metadata": {},
   "source": [
    "    Attributes are like : \n",
    "       (a) it should have a an id and name also \n",
    "       (b)  It must have a list of cards it is holding "
   ]
  },
  {
   "cell_type": "markdown",
   "metadata": {},
   "source": [
    "    Functions like : \n",
    "       (a) It should be able to take one card out at a time knowing which card it is taking out  "
   ]
  },
  {
   "cell_type": "code",
   "execution_count": 14,
   "metadata": {},
   "outputs": [],
   "source": [
    "from IPython.display import clear_output"
   ]
  },
  {
   "cell_type": "code",
   "execution_count": 15,
   "metadata": {},
   "outputs": [],
   "source": [
    "class player:\n",
    "    \n",
    "    '''\n",
    "    This is player class. Any player participating in this game will be an object of this class. \n",
    "    \n",
    "    a)It will have a name \n",
    "    b) It will have a set of cards and \n",
    "    b)It will have some points that it will earn whiling playing the game.\n",
    "    \n",
    "    At the same time it will be capable of \n",
    "    \n",
    "    a) adding cards to its collection of cards \n",
    "    b) seeing all its cards \n",
    "    c) throw a card when its turn come up \n",
    "    '''\n",
    "    \n",
    "    def __init__(self,name):\n",
    "        #initially the list will be empty\n",
    "        self.my_cards = []\n",
    "        self.name = name\n",
    "        self.points = 0\n",
    "        \n",
    "    def add_cards(self , new_card):\n",
    "        self.my_cards.append(new_card)\n",
    "        \n",
    "    def show_my_cards(self):\n",
    "        for index,cards in enumerate(self.my_cards,start = 1):\n",
    "            print( f\"{index}. {cards}\")\n",
    "    \n",
    "    def choose_card_number(self):\n",
    "        card_index = '99'\n",
    "        while int(card_index) not in list(range(1 , len(self.my_cards)+1)):\n",
    "            self.show_my_cards()\n",
    "            card_index = input(\"Please select the CARD NUMBER which you want to take out : \")\n",
    "            if card_index.isdigit() == False:\n",
    "                clear_output()\n",
    "                print('\\n\\nPlease enter a numeric digit !!!!\\n\\n ')\n",
    "                card_index = '99'\n",
    "            elif int(card_index) not in list(range(1,len(self.my_cards)+1)):\n",
    "                clear_output()\n",
    "                print('\\n\\nPlease enter a digit in the valid range !!!\\n\\n')\n",
    "                continue\n",
    "        return int(card_index)\n",
    "            \n",
    "        \n",
    "    def take_one_card(self):\n",
    "        #self.show_my_cards()\n",
    "        card_number = self.choose_card_number()\n",
    "        popped_card = self.my_cards.pop(card_number-1)\n",
    "        return popped_card"
   ]
  },
  {
   "cell_type": "code",
   "execution_count": 16,
   "metadata": {},
   "outputs": [],
   "source": [
    "myDeck = Deck()\n",
    "srijeet = player('Srijeet')"
   ]
  },
  {
   "cell_type": "code",
   "execution_count": 17,
   "metadata": {},
   "outputs": [
    {
     "data": {
      "text/plain": [
       "0"
      ]
     },
     "execution_count": 17,
     "metadata": {},
     "output_type": "execute_result"
    }
   ],
   "source": [
    "len(srijeet.my_cards)"
   ]
  },
  {
   "cell_type": "code",
   "execution_count": 18,
   "metadata": {},
   "outputs": [],
   "source": [
    "myDeck.shuffle_deck()"
   ]
  },
  {
   "cell_type": "markdown",
   "metadata": {},
   "source": [
    "      Let us test the flow : \n",
    "           1. once card out from deck and add it to a player \n",
    "           2. check whether he can see it or not \n",
    "           3. take one card out from the set of cards, the player is having "
   ]
  },
  {
   "cell_type": "code",
   "execution_count": 19,
   "metadata": {},
   "outputs": [
    {
     "name": "stdout",
     "output_type": "stream",
     "text": [
      "Ten_of_Hearts\n",
      "Five_of_Diamonds\n",
      "Jack_of_Hearts\n",
      "Two_of_Diamonds\n",
      "Nine_of_Hearts\n"
     ]
    }
   ],
   "source": [
    "#lets take 5 cards out \n",
    "for i in [1,2,3,4,5]:\n",
    "    card_from_deck = myDeck.take_one_card()\n",
    "    print(card_from_deck)\n",
    "    srijeet.add_cards(card_from_deck)"
   ]
  },
  {
   "cell_type": "code",
   "execution_count": 20,
   "metadata": {},
   "outputs": [
    {
     "name": "stdout",
     "output_type": "stream",
     "text": [
      "5\n",
      "1. Ten_of_Hearts\n",
      "2. Five_of_Diamonds\n",
      "3. Jack_of_Hearts\n",
      "4. Two_of_Diamonds\n",
      "5. Nine_of_Hearts\n"
     ]
    }
   ],
   "source": [
    "print(len(srijeet.my_cards))\n",
    "srijeet.show_my_cards()"
   ]
  },
  {
   "cell_type": "code",
   "execution_count": 21,
   "metadata": {},
   "outputs": [
    {
     "name": "stdout",
     "output_type": "stream",
     "text": [
      "1. Ten_of_Hearts\n",
      "2. Five_of_Diamonds\n",
      "3. Jack_of_Hearts\n",
      "4. Two_of_Diamonds\n",
      "5. Nine_of_Hearts\n",
      "Please select the CARD NUMBER which you want to take out : 2\n",
      "Five_of_Diamonds\n"
     ]
    }
   ],
   "source": [
    "popped_card = srijeet.take_one_card()\n",
    "print(popped_card)"
   ]
  },
  {
   "cell_type": "code",
   "execution_count": 22,
   "metadata": {},
   "outputs": [
    {
     "name": "stdout",
     "output_type": "stream",
     "text": [
      "The total number of cards I have now is : 4\n",
      "\n",
      "1. Ten_of_Hearts\n",
      "2. Jack_of_Hearts\n",
      "3. Two_of_Diamonds\n",
      "4. Nine_of_Hearts\n"
     ]
    }
   ],
   "source": [
    "print(f\"The total number of cards I have now is : {len(srijeet.my_cards)}\\n\")\n",
    "srijeet.show_my_cards()"
   ]
  },
  {
   "cell_type": "markdown",
   "metadata": {},
   "source": [
    "     ----------------- All is set now , Combine the pieces in the flow and play the game :------------------"
   ]
  },
  {
   "cell_type": "markdown",
   "metadata": {},
   "source": [
    "    Time to write the logic for the game:\n",
    "    \n",
    "    Step 1 : Create/bring a fresh deck of cards \n",
    "    Step 2 : Shuffle the deck.\n",
    "    Step 3 : Now divide the cards to the players one by one\n",
    "    \n",
    "    Now both are having 26 cards each\n",
    "    \n",
    "    ----------------------------------------------Set --------------------------------------------------\n",
    "    Step 4 : Ask First Player to throw a card \n",
    "    step 5 : Ask Second Player to throw a card\n",
    "    Step 6 : Compare and decide who wins !!!! Add 1 point to winning player.\n",
    "             NOTE : If Its a draw, we keep the thrown cards in the vault , till one of them wins. \n",
    "                    winner this time gets all the cards and n points based if n sets were in the vault. \n",
    "    Step 7 : Repeat step 4-6 till one of them has no more cards with him/her to continue playing \n",
    "    \n",
    "    ---------------------------------------------Game --------------------------------------------------\n",
    "    Step 8 : Now decide the winner based  on the points scored by them.\n",
    "    \n",
    "    Step 9 : Ask the player, whether they want to play another game of War.\n",
    "             If yes , Start from Step 1 else Exit() .\n",
    "    "
   ]
  },
  {
   "cell_type": "code",
   "execution_count": 23,
   "metadata": {},
   "outputs": [],
   "source": [
    "def set_winner(player_1,player_1_card,player_2,player_2_card):\n",
    "    '''\n",
    "    Decides who is the winner based upon the gretaer card , thrown by bothe players.\n",
    "    If the have same weightage then it return 'draw'\n",
    "    '''\n",
    "    if rank_to_weight_dict[player_1_card.rank] > rank_to_weight_dict[player_2_card.rank]:\n",
    "        return player_1\n",
    "    elif rank_to_weight_dict[player_1_card.rank] < rank_to_weight_dict[player_2_card.rank]:\n",
    "        return player_2\n",
    "    else:\n",
    "        return 'draw'"
   ]
  },
  {
   "cell_type": "code",
   "execution_count": null,
   "metadata": {},
   "outputs": [
    {
     "name": "stdout",
     "output_type": "stream",
     "text": [
      "\n",
      "\n",
      "Please enter a numeric digit !!!!\n",
      "\n",
      " \n",
      "1. Four_of_Hearts\n",
      "2. Eight_of_Diamonds\n",
      "3. Six_of_Hearts\n",
      "4. Jack_of_Hearts\n",
      "5. King_of_Diamonds\n",
      "6. Nine_of_Hearts\n",
      "7. Ten_of_Hearts\n",
      "8. Three_of_Diamonds\n",
      "9. Ace_of_Hearts\n",
      "Please select the CARD NUMBER which you want to take out : 9\n",
      "\n",
      "-----------------------------------This round GARGI wins !!!---------------------------\n",
      "\n",
      "After this round Total Points : SRIJEET : 0 & GARGI : 5.0\n",
      "Congratulations !!!! GARGI, You have won !!! \n",
      "Do you want to play another game (True/False) ?? False\n"
     ]
    }
   ],
   "source": [
    "print('*****************************Welcome to card Game \"WAR\"*************************************************')\n",
    "\n",
    "want_to_play = Y\n",
    "\n",
    "while want_to_play == Y or y or Yes or yes:\n",
    "    \n",
    "    #lets create a new deck of cards \n",
    "    myDeck = Deck()\n",
    "    \n",
    "    #player_1\n",
    "    player_1_name  = input(\"Please enter the 1st Player's Name : \")\n",
    "    player_1 = player(player_1_name)\n",
    "    \n",
    "    #player_2\n",
    "    player_2_name  = input(\"Now Please enter the 2nd Player's Name : \")\n",
    "    player_2 = player(player_2_name)\n",
    "    \n",
    "    #lets shuffle the deck\n",
    "    myDeck.shuffle_deck()\n",
    "    \n",
    "    # now distribute the cards among players :\n",
    "    # because we have 52 cards we need to distribute 26 to each player \n",
    "    # So we will go through the loop 26 times \n",
    "    \n",
    "    for i in range(5):\n",
    "        \n",
    "        card_out_from_deck = myDeck.take_one_card()\n",
    "        player_1.add_cards(card_out_from_deck)\n",
    "        \n",
    "        card_out_from_deck = myDeck.take_one_card()\n",
    "        player_2.add_cards(card_out_from_deck)\n",
    "        \n",
    "    # So Now both the players have 26 cards each \n",
    "    # They will now take onle card out one by one and compare and win untill one one them has no cards left \n",
    "    \n",
    "    print('*****Cards have been shuffled and distributed to both of you, Now we will clear the screen and begin***** ')\n",
    "    \n",
    "    #lets declare a variable which will keep adding the cards at stake till we get the set winner \n",
    "    cards_at_stake = []\n",
    "    \n",
    "    while len(player_1.my_cards) != 0 and len(player_2.my_cards) != 0 :\n",
    "        \n",
    "        clear_the_screen = input('Should we clear the screen now ? (Y/N)')\n",
    "        if clear_the_screen == 'Y':\n",
    "            clear_output()\n",
    "        \n",
    "        #--------------------------Player_1's Turn to throw a card-----------------------------------\n",
    "        print(f'\\n\\n {player_1.name} Its your turn : \\n\\n')\n",
    "        player_1_card = player_1.take_one_card()\n",
    "        #lets add the cards at stake\n",
    "        cards_at_stake.append(player_1_card)\n",
    "        \n",
    "        #--------------------------Player_2's Turn to throw a card----------------------------------------\n",
    "        print(f'\\n\\n {player_2.name} Its your turn : \\n\\n')\n",
    "        player_2_card = player_2.take_one_card()\n",
    "        #lets add the cards at stake\n",
    "        cards_at_stake.append(player_2_card)\n",
    "\n",
    "        #--------------------------Decide the set winner---------------------------------------\n",
    "        winner = set_winner(player_1,player_1_card,player_2,player_2_card)\n",
    "        \n",
    "        #-------------------Add points based on set winner-----------------------------\n",
    "        if winner == player_1:\n",
    "            player_1.points += len(cards_at_stake)/2\n",
    "            print(f'\\n-----------------------------------This round {player_1.name} wins !!!--------------------------')\n",
    "            print(f'\\nAfter this round Total Points : {player_1.name} : {player_1.points} & {player_2.name} : {player_2.points}\\n')\n",
    "            for card in cards_at_stake:\n",
    "                player_1.add_cards(card)\n",
    "            cards_at_stake = []\n",
    "            \n",
    "        elif winner == player_2:\n",
    "            player_2.points += len(cards_at_stake)/2\n",
    "            print(f'\\n-----------------------------------This round {player_2.name} wins !!!---------------------------')\n",
    "            print(f'\\nAfter this round Total Points : {player_1.name} : {player_1.points} & {player_2.name} : {player_2.points}')\n",
    "            for card in cards_at_stake:\n",
    "                player_2.add_cards(card)\n",
    "            cards_at_stake = []\n",
    "        else:\n",
    "            print(f'\\n------------------This round is a draw and cards will be in the reserve poll !!!-----------------')\n",
    "            print(f'\\nTotal Points : {player_1.name} : {player_1.points} & {player_2.name} : {player_2.points}')\n",
    "    \n",
    "    \n",
    "    # Now cards are over atleast for one player we need to decide on the winner of the Game\n",
    "    \n",
    "    #------------------------------------decide the Game winner :---------------------------\n",
    "    if player_1.points > player_2.points:\n",
    "        print(f'Congratulations !!!! {player_1.name}, You have won !!! ')\n",
    "    elif player_1.points < player_2.points:\n",
    "        print(f'Congratulations !!!! {player_2.name}, You have won !!! ')\n",
    "    else:\n",
    "        print('Its a Draw !!!')\n",
    "    \n",
    "    #--------------Now ask the user does he/she wants to play another game of WAR    \n",
    "    want_to_play = input(\"Do you want to play another game (Y/N) ?? \")"
   ]
  },
  {
   "cell_type": "markdown",
   "metadata": {},
   "source": [
    "    --------------------------------- We would like to clean it a bit -------------------------------------------------"
   ]
  },
  {
   "cell_type": "markdown",
   "metadata": {},
   "source": [
    "       1. Adding points based on set winner ------> add_set_points() function\n",
    "       2. decide game winner -----> game_winner() function \n",
    "       3. want_to_play  gets replaced ------>  want_another_game() function"
   ]
  },
  {
   "cell_type": "code",
   "execution_count": 24,
   "metadata": {},
   "outputs": [],
   "source": [
    "def add_set_points(player_1,player_2,winner):\n",
    "    \n",
    "    global cards_at_stake\n",
    "    \n",
    "    ''' \n",
    "    After the set result comes , this function add points to the winning players tally. \n",
    "    In case, this set is the tie breaker \n",
    "    after a \"n\" number of draw sets, then the function add n points to the winning players' tally.\n",
    "    '''\n",
    "        \n",
    "    if winner == player_1:\n",
    "        player_1.points += len(cards_at_stake)/2\n",
    "        print(f'\\n-----------------------------------This round {player_1.name} wins !!!--------------------------')\n",
    "        print(f'\\nAfter this round Total Points : {player_1.name} : {player_1.points} & {player_2.name} : {player_2.points}\\n')\n",
    "        for card in cards_at_stake:\n",
    "            player_1.add_cards(card)\n",
    "        cards_at_stake = []\n",
    "\n",
    "    elif winner == player_2:\n",
    "        player_2.points += len(cards_at_stake)/2\n",
    "        print(f'\\n-----------------------------------This round {player_2.name} wins !!!---------------------------')\n",
    "        print(f'\\nAfter this round Total Points : {player_1.name} : {player_1.points} & {player_2.name} : {player_2.points}')\n",
    "        for card in cards_at_stake:\n",
    "            player_2.add_cards(card)\n",
    "        cards_at_stake = []\n",
    "    else:\n",
    "        print(f'\\n------------------This round is a draw and cards will be in the reserve poll !!!-----------------')\n",
    "        print(f'\\nTotal Points : {player_1.name} : {player_1.points} & {player_2.name} : {player_2.points}')\n"
   ]
  },
  {
   "cell_type": "code",
   "execution_count": 29,
   "metadata": {},
   "outputs": [],
   "source": [
    "def game_winner(player_1,player_2):\n",
    "    '''\n",
    "    Return the winner of the entire Game, called once one of the players has no more cards to throw and continue the game .\n",
    "    '''\n",
    "    \n",
    "    if player_1.points > player_2.points:\n",
    "        print(f'\\n\\nCongratulations !!!! {player_1.name}, You have won !!! ')\n",
    "        return player_1\n",
    "    elif player_1.points < player_2.points:\n",
    "        print(f'\\n\\nCongratulations !!!! {player_2.name}, You have won !!! ')\n",
    "        return player_2\n",
    "    else:\n",
    "        print('\\n\\nIts a Draw !!!')\n",
    "        return -1"
   ]
  },
  {
   "cell_type": "code",
   "execution_count": 30,
   "metadata": {},
   "outputs": [],
   "source": [
    "def want_another_game():\n",
    "    '''\n",
    "    This function take input from the user whether he/she wants to continue playing the Game of Cards ??\n",
    "    '''\n",
    "\n",
    "    want_to_play = 'WRONG'\n",
    "\n",
    "    while want_to_play.upper() not in ['Y','N','y','n','yes','no','Yes','No']:\n",
    "\n",
    "        want_to_play = input('Hi Would you like to play another game of WAR (Y/N)???')\n",
    "\n",
    "        if want_to_play.upper() not in ['Y','N','y','n','yes','no','Yes','No']:\n",
    "            clear_output()\n",
    "            print('\\n\\nPlease enter a valid input (Y/N) !!!\\n\\n')\n",
    "    return want_to_play"
   ]
  },
  {
   "cell_type": "markdown",
   "metadata": {},
   "source": [
    "      ------------ Cleaning Done !!! Now lets put everything together in the flow and play the Game :------------------- "
   ]
  },
  {
   "cell_type": "code",
   "execution_count": 34,
   "metadata": {},
   "outputs": [
    {
     "name": "stdout",
     "output_type": "stream",
     "text": [
      "*****************************Welcome to card Game \"WAR\"*************************************************\n",
      "Please enter the 1st Player's Name : we\n",
      "Now Please enter the 2nd Player's Name : wer\n",
      "*****Cards have been shuffled and distributed to both of you, Now we will clear the screen and begin***** \n",
      "Should we clear the screen now ? (Y/N)y\n",
      "\n",
      "\n",
      " we Its your turn : \n",
      "\n",
      "\n",
      "1. Jack_of_Diamonds\n",
      "2. Eight_of_Hearts\n",
      "3. Nine_of_Diamonds\n",
      "4. Ten_of_Hearts\n",
      "5. King_of_Hearts\n",
      "Please select the CARD NUMBER which you want to take out : 5\n",
      "\n",
      "\n",
      " wer Its your turn : \n",
      "\n",
      "\n",
      "1. Seven_of_Diamonds\n",
      "2. Three_of_Diamonds\n",
      "3. Two_of_Hearts\n",
      "4. Jack_of_Hearts\n",
      "5. Six_of_Diamonds\n",
      "Please select the CARD NUMBER which you want to take out : 1\n",
      "\n",
      "-----------------------------------This round we wins !!!--------------------------\n",
      "\n",
      "After this round Total Points : we : 1.0 & wer : 0\n",
      "\n",
      "Should we clear the screen now ? (Y/N)y\n",
      "\n",
      "\n",
      " we Its your turn : \n",
      "\n",
      "\n",
      "1. Jack_of_Diamonds\n",
      "2. Eight_of_Hearts\n",
      "3. Nine_of_Diamonds\n",
      "4. Ten_of_Hearts\n",
      "5. King_of_Hearts\n",
      "6. Seven_of_Diamonds\n",
      "Please select the CARD NUMBER which you want to take out : 5\n",
      "\n",
      "\n",
      " wer Its your turn : \n",
      "\n",
      "\n",
      "1. Three_of_Diamonds\n",
      "2. Two_of_Hearts\n",
      "3. Jack_of_Hearts\n",
      "4. Six_of_Diamonds\n",
      "Please select the CARD NUMBER which you want to take out : 3\n",
      "\n",
      "-----------------------------------This round we wins !!!--------------------------\n",
      "\n",
      "After this round Total Points : we : 2.0 & wer : 0\n",
      "\n",
      "Should we clear the screen now ? (Y/N)y\n",
      "\n",
      "\n",
      " we Its your turn : \n",
      "\n",
      "\n",
      "1. Jack_of_Diamonds\n",
      "2. Eight_of_Hearts\n",
      "3. Nine_of_Diamonds\n",
      "4. Ten_of_Hearts\n",
      "5. Seven_of_Diamonds\n",
      "6. King_of_Hearts\n",
      "7. Jack_of_Hearts\n",
      "Please select the CARD NUMBER which you want to take out : 6\n",
      "\n",
      "\n",
      " wer Its your turn : \n",
      "\n",
      "\n",
      "1. Three_of_Diamonds\n",
      "2. Two_of_Hearts\n",
      "3. Six_of_Diamonds\n",
      "Please select the CARD NUMBER which you want to take out : 3\n",
      "\n",
      "-----------------------------------This round we wins !!!--------------------------\n",
      "\n",
      "After this round Total Points : we : 3.0 & wer : 0\n",
      "\n",
      "Should we clear the screen now ? (Y/N)y\n",
      "\n",
      "\n",
      " we Its your turn : \n",
      "\n",
      "\n",
      "1. Jack_of_Diamonds\n",
      "2. Eight_of_Hearts\n",
      "3. Nine_of_Diamonds\n",
      "4. Ten_of_Hearts\n",
      "5. Seven_of_Diamonds\n",
      "6. Jack_of_Hearts\n",
      "7. King_of_Hearts\n",
      "8. Six_of_Diamonds\n",
      "Please select the CARD NUMBER which you want to take out : 5\n",
      "\n",
      "\n",
      " wer Its your turn : \n",
      "\n",
      "\n",
      "1. Three_of_Diamonds\n",
      "2. Two_of_Hearts\n",
      "Please select the CARD NUMBER which you want to take out : 1\n",
      "\n",
      "-----------------------------------This round we wins !!!--------------------------\n",
      "\n",
      "After this round Total Points : we : 4.0 & wer : 0\n",
      "\n",
      "Should we clear the screen now ? (Y/N)y\n",
      "\n",
      "\n",
      " we Its your turn : \n",
      "\n",
      "\n",
      "1. Jack_of_Diamonds\n",
      "2. Eight_of_Hearts\n",
      "3. Nine_of_Diamonds\n",
      "4. Ten_of_Hearts\n",
      "5. Jack_of_Hearts\n",
      "6. King_of_Hearts\n",
      "7. Six_of_Diamonds\n",
      "8. Seven_of_Diamonds\n",
      "9. Three_of_Diamonds\n",
      "Please select the CARD NUMBER which you want to take out : 9\n",
      "\n",
      "\n",
      " wer Its your turn : \n",
      "\n",
      "\n",
      "1. Two_of_Hearts\n",
      "Please select the CARD NUMBER which you want to take out : 1\n",
      "\n",
      "-----------------------------------This round we wins !!!--------------------------\n",
      "\n",
      "After this round Total Points : we : 5.0 & wer : 0\n",
      "\n"
     ]
    },
    {
     "ename": "TypeError",
     "evalue": "game_winner() takes 2 positional arguments but 3 were given",
     "output_type": "error",
     "traceback": [
      "\u001b[1;31m---------------------------------------------------------------------------\u001b[0m",
      "\u001b[1;31mTypeError\u001b[0m                                 Traceback (most recent call last)",
      "\u001b[1;32m<ipython-input-34-58cb0f2f1581>\u001b[0m in \u001b[0;36m<module>\u001b[1;34m\u001b[0m\n\u001b[0;32m     70\u001b[0m \u001b[1;33m\u001b[0m\u001b[0m\n\u001b[0;32m     71\u001b[0m     \u001b[1;31m# Now atleast for one player,cards are over. So we need to declare the result of the Game\u001b[0m\u001b[1;33m\u001b[0m\u001b[1;33m\u001b[0m\u001b[1;33m\u001b[0m\u001b[0m\n\u001b[1;32m---> 72\u001b[1;33m     \u001b[0mwinner_player\u001b[0m \u001b[1;33m=\u001b[0m \u001b[0mgame_winner\u001b[0m\u001b[1;33m(\u001b[0m\u001b[0mplayer_1\u001b[0m\u001b[1;33m,\u001b[0m\u001b[0mplayer_2\u001b[0m\u001b[1;33m,\u001b[0m\u001b[0mcards_at_stake\u001b[0m\u001b[1;33m)\u001b[0m\u001b[1;33m\u001b[0m\u001b[1;33m\u001b[0m\u001b[0m\n\u001b[0m\u001b[0;32m     73\u001b[0m \u001b[1;33m\u001b[0m\u001b[0m\n\u001b[0;32m     74\u001b[0m     \u001b[1;31m#Now ask the user does he/she wants to play another game of WAR\u001b[0m\u001b[1;33m\u001b[0m\u001b[1;33m\u001b[0m\u001b[1;33m\u001b[0m\u001b[0m\n",
      "\u001b[1;31mTypeError\u001b[0m: game_winner() takes 2 positional arguments but 3 were given"
     ]
    }
   ],
   "source": [
    "print('*****************************Welcome to card Game \"WAR\"*************************************************')\n",
    "\n",
    "want_to_play = 'Y'\n",
    "\n",
    "#define the global variable which will hold the cards till the result comes \n",
    "\n",
    "cards_at_stake = []\n",
    "\n",
    "while want_to_play == 'Y' or 'y' or 'Yes' or 'yes':\n",
    "    \n",
    "    #lets create a new deck of cards \n",
    "    myDeck = Deck()\n",
    "    \n",
    "    #player_1\n",
    "    player_1_name  = input(\"Please enter the 1st Player's Name : \")\n",
    "    player_1 = player(player_1_name)\n",
    "    \n",
    "    #player_2\n",
    "    player_2_name  = input(\"Now Please enter the 2nd Player's Name : \")\n",
    "    player_2 = player(player_2_name)\n",
    "    \n",
    "    #lets shuffle the deck\n",
    "    myDeck.shuffle_deck()\n",
    "    \n",
    "    # now distribute the cards among players :\n",
    "    # because we have 52 cards we need to distribute 26 to each player \n",
    "    # So we will go through the loop 26 times \n",
    "    \n",
    "    for i in range(5):\n",
    "        \n",
    "        card_out_from_deck = myDeck.take_one_card()\n",
    "        player_1.add_cards(card_out_from_deck)\n",
    "        \n",
    "        card_out_from_deck = myDeck.take_one_card()\n",
    "        player_2.add_cards(card_out_from_deck)\n",
    "        \n",
    "    # So Now both the players have 26 cards each \n",
    "    # They will now take onle card out one by one and compare and win untill one one them has no cards left \n",
    "    \n",
    "    print('*****Cards have been shuffled and distributed to both of you, Now we will clear the screen and begin***** ')\n",
    "    \n",
    "    #lets declare a variable which will keep adding the cards at stake till we get the set winner \n",
    "    #cards_at_stake = []\n",
    "    \n",
    "    while len(player_1.my_cards) != 0 and len(player_2.my_cards) != 0 :\n",
    "        \n",
    "        clear_the_screen = input('Should we clear the screen now ? (Y/N)')\n",
    "        if clear_the_screen == 'Y' or 'y' or 'Yes' or 'yes':\n",
    "            clear_output()\n",
    "        \n",
    "        #-------------------Player_1's Turn to throw a card------------------------\n",
    "        print(f'\\n\\n {player_1.name} Its your turn : \\n\\n')\n",
    "        player_1_card = player_1.take_one_card()\n",
    "        #lets add the cards at stake\n",
    "        cards_at_stake.append(player_1_card)\n",
    "        \n",
    "        #-------------------Player_2's Turn to throw a card------------------------\n",
    "        print(f'\\n\\n {player_2.name} Its your turn : \\n\\n')\n",
    "        player_2_card = player_2.take_one_card()\n",
    "        #lets add the cards at stake\n",
    "        cards_at_stake.append(player_2_card)\n",
    "\n",
    "        #-------------------Decide the set winner---------------------------------- \n",
    "        winner = set_winner(player_1,player_1_card,player_2,player_2_card)\n",
    "        \n",
    "        \n",
    "        #-------------------Add points based on set winner-----------------------------\n",
    "        add_set_points(player_1,player_2,winner)\n",
    "    \n",
    "    \n",
    "    # Now atleast for one player,cards are over. So we need to declare the result of the Game \n",
    "    winner_player = game_winner(player_1,player_2)\n",
    "    \n",
    "    #Now ask the user does he/she wants to play another game of WAR\n",
    "    want_to_play = want_another_game() "
   ]
  },
  {
   "cell_type": "markdown",
   "metadata": {},
   "source": [
    "### The Complete Code for WAR Game of Cards :"
   ]
  },
  {
   "cell_type": "code",
   "execution_count": null,
   "metadata": {},
   "outputs": [
    {
     "name": "stdout",
     "output_type": "stream",
     "text": [
      "\n",
      "\n",
      " YANAS Its your turn : \n",
      "\n",
      "\n",
      "This is what you have with you at this moment.\n",
      "1. Queen_of_Hearts\n",
      "2. King_of_Diamonds\n",
      "3. Jack_of_Diamonds\n",
      "4. King_of_Hearts\n",
      "5. Jack_of_Hearts\n",
      "Please select the CARD NUMBER which you want to take out : 2\n",
      "\n",
      "\n",
      " CHANDU Its your turn : \n",
      "\n",
      "\n",
      "This is what you have with you at this moment.\n",
      "1. Queen_of_Diamonds\n",
      "Please select the CARD NUMBER which you want to take out : 1\n",
      "\n",
      "-----------------------------------This round YANAS wins !!!--------------------------\n",
      "\n",
      "After this round Total Points : YANAS : 3.0 & CHANDU : 0\n",
      "\n",
      "Congratulations !!!! YANAS, You have won !!! \n",
      "Hi Would you like to play another game of WAR (Y/N)???n\n"
     ]
    }
   ],
   "source": [
    "#-----------------------------------load the Libraries :---------------------------------------------\n",
    "import random\n",
    "from IPython.display import clear_output\n",
    "\n",
    "#----------------------------------Declare the global variables --------------------------------------\n",
    "\n",
    "#suits = ('Hearts', 'Diamonds', 'Spades', 'Clubs')\n",
    "suits = ('Hearts', 'Diamonds')\n",
    "ranks = ('Jack', 'Queen', 'King')\n",
    "rank_to_weight_dict  = { 'Two': 2 , 'Three':3 , 'Four': 4 , 'Five':5 , 'Six':6,'Seven':7 , 'Eight':8 ,'Nine':9 , 'Ten':10,\n",
    "                 'Jack':11 , 'Queen':12 ,'King':13 ,'Ace': 14}\n",
    "\n",
    "#Lets \n",
    "cards_at_stake = []\n",
    "\n",
    "#-----------------------------------------------------------------------------------------------------------------\n",
    "class Card:\n",
    "    '''\n",
    "    This is a card class which resembles a card from a deck of cards. It has centain properties such as \n",
    "    suit, rank and weightage. Standard __str__() fucntion has also been defined for this class for printing it out.\n",
    "    '''\n",
    "    def __init__(self,suit,rank):\n",
    "        self.rank = rank.capitalize()\n",
    "        self.suit = suit.capitalize()\n",
    "        self.weightage = rank_to_weight_dict[rank.capitalize()]\n",
    "    \n",
    "    def __str__(self):\n",
    "        return f'{self.rank}_of_{self.suit}'\n",
    "\n",
    "#-----------------------------------------------------------------------------------------------------------------\n",
    "class Deck:\n",
    "    '''\n",
    "    This is Deck class ..every time you create an object of this class its like you are \n",
    "    bringing a fresh set of deck of cards with all the 52 cards present.\n",
    "    \n",
    "    It will have a list of all cards present in the deck @any time instant as an attribute\n",
    "    and Shuffling and taking one cards out from the deck as the methods for this class object.\n",
    "    '''\n",
    "    \n",
    "    def __init__(self):\n",
    "        \n",
    "        self.all_cards = []\n",
    "        \n",
    "        for suit in suits:\n",
    "            for rank in ranks:\n",
    "                new_card = Card(suit,rank)\n",
    "                self.all_cards.append(new_card)\n",
    "    \n",
    "    #we need a function that will shuffle the deck of cards :\n",
    "    def shuffle_deck(self):\n",
    "        random.shuffle(self.all_cards)\n",
    "        \n",
    "    #we need another function to tak one card out of the deck while we dstribute it to the players \n",
    "    def take_one_card(self):\n",
    "        #this pop() also reduces the length of the cards present in the deck \n",
    "        #verify the same while testing \n",
    "        return self.all_cards.pop()\n",
    "\n",
    "#-----------------------------------------------------------------------------------------------------------------\n",
    "\n",
    "class player:\n",
    "    \n",
    "    '''\n",
    "    This is player class. Any player participating in this game will be an object of this class. \n",
    "    \n",
    "    a)It will have a name \n",
    "    b) It will have a set of cards and \n",
    "    b)It will have some points that it will earn whiling playing the game.\n",
    "    \n",
    "    At the same time it will be capable of \n",
    "    \n",
    "    a) adding cards to its collection of cards \n",
    "    b) seeing all its cards \n",
    "    c) throw a card when its turn come up \n",
    "    '''\n",
    "    \n",
    "    def __init__(self,name):\n",
    "        #initially the list will be empty\n",
    "        self.my_cards = []\n",
    "        self.name = name\n",
    "        self.points = 0 \n",
    "        \n",
    "    def add_cards(self , new_card):\n",
    "        self.my_cards.append(new_card)\n",
    "        \n",
    "    def show_my_cards(self):\n",
    "        for index,cards in enumerate(self.my_cards,start = 1):\n",
    "            print( f\"{index}. {cards}\")\n",
    "    \n",
    "    def choose_card_number(self):\n",
    "        card_index = '99'\n",
    "        while int(card_index) not in list(range(1 , len(self.my_cards)+1)):\n",
    "            print('This is what you have with you at this moment.')\n",
    "            self.show_my_cards()\n",
    "            card_index = input(\"Please select the CARD NUMBER which you want to take out : \")\n",
    "            if card_index.isdigit() == False:\n",
    "                clear_output()\n",
    "                print('\\n\\nPlease enter a numeric digit !!!!\\n\\n ')\n",
    "                card_index = '99'\n",
    "            elif int(card_index) not in list(range(1,len(self.my_cards)+1)):\n",
    "                clear_output()\n",
    "                print('\\n\\nPlease enter a digit in the valid range !!!\\n\\n')\n",
    "                continue\n",
    "        return int(card_index)\n",
    "            \n",
    "        \n",
    "    def take_one_card(self):\n",
    "        #self.show_my_cards()\n",
    "        card_number = self.choose_card_number()\n",
    "        popped_card = self.my_cards.pop(card_number-1)\n",
    "        return popped_card\n",
    "\n",
    "#-----------------------------------------------------------------------------------------------------------------\n",
    "def set_winner(player_1,player_1_card,player_2,player_2_card):\n",
    "    '''\n",
    "    Decides who is the winner based upon the gretaer card , thrown by bothe players.\n",
    "    If the have same weightage then it return 'draw'\n",
    "    '''\n",
    "    if rank_to_weight_dict[player_1_card.rank] > rank_to_weight_dict[player_2_card.rank]:\n",
    "        return player_1\n",
    "    elif rank_to_weight_dict[player_1_card.rank] < rank_to_weight_dict[player_2_card.rank]:\n",
    "        return player_2\n",
    "    else:\n",
    "        return 'draw'\n",
    "    \n",
    "#-----------------------------------------------------------------------------------------------------------------\n",
    "def game_winner(player_1,player_2):\n",
    "    '''\n",
    "    Return the winner of the entire Game, called once one of the players has no more cards to throw and continue the game .\n",
    "    '''\n",
    "    \n",
    "    if player_1.points > player_2.points:\n",
    "        print(f'Congratulations !!!! {player_1.name}, You have won !!! ')\n",
    "        return player_1\n",
    "    elif player_1.points < player_2.points:\n",
    "        print(f'Congratulations !!!! {player_2.name}, You have won !!! ')\n",
    "        return player_2\n",
    "    else:\n",
    "        print('Its a Draw !!!')\n",
    "        return -1\n",
    "\n",
    "#-----------------------------------------------------------------------------------------------------------------\n",
    "  \n",
    "def add_set_points(player_1,player_2,winner):\n",
    "    \n",
    "    global cards_at_stake\n",
    "    \n",
    "    ''' \n",
    "    After the set result comes , this function add points to the winning players tally. \n",
    "    In case, this set is the tie breaker \n",
    "    after a \"n\" number of draw sets, then the function add n points to the winning players' tally.\n",
    "    '''\n",
    "        \n",
    "    if winner == player_1:\n",
    "        player_1.points += len(cards_at_stake)/2\n",
    "        print(f'\\n-----------------------------------This round {player_1.name} wins !!!--------------------------')\n",
    "        print(f'\\nAfter this round Total Points : {player_1.name} : {player_1.points} & {player_2.name} : {player_2.points}\\n')\n",
    "        for card in cards_at_stake:\n",
    "            player_1.add_cards(card)\n",
    "        cards_at_stake.clear()\n",
    "\n",
    "    elif winner == player_2:\n",
    "        player_2.points += len(cards_at_stake)/2\n",
    "        print(f'\\n-----------------------------------This round {player_2.name} wins !!!---------------------------')\n",
    "        print(f'\\nAfter this round Total Points : {player_1.name} : {player_1.points} & {player_2.name} : {player_2.points}')\n",
    "        for card in cards_at_stake:\n",
    "            player_2.add_cards(card)\n",
    "        cards_at_stake.clear()\n",
    "    else:\n",
    "        print(f'\\n------------------This round is a draw and cards will be in the reserve poll !!!-----------------')\n",
    "        print(f'\\nTotal Points : {player_1.name} : {player_1.points} & {player_2.name} : {player_2.points}')\n",
    "\n",
    "#-----------------------------------------------------------------------------------------------------------------\n",
    "\n",
    "def want_another_game():\n",
    "    '''\n",
    "    This function take input from the user whether he/she wants to continue playing the Game of Cards ??\n",
    "    '''\n",
    "    want_to_play = 'WRONG'\n",
    "    while want_to_play.upper() not in ['Y','N','y','n','No','Yes','yes','no']:\n",
    "        want_to_play = input('Hi Would you like to play another game of WAR (Y/N)???')\n",
    "        if want_to_play.upper() not in ['Y','N','y','n','No','Yes','yes','no']:\n",
    "            clear_output()\n",
    "            print('\\n\\nPlease enter a valid input (Y/N) !!!\\n\\n')\n",
    "    return want_to_play\n",
    "\n",
    "print('*****************************Welcome to card Game \"WAR\"*************************************************')\n",
    "\n",
    "want_to_play = True\n",
    "\n",
    "while want_to_play:\n",
    "    \n",
    "    #lets create a new deck of cards \n",
    "    myDeck = Deck()\n",
    "    \n",
    "    #player_1\n",
    "    player_1_name  = input(\"Please enter the 1st Player's Name : \")\n",
    "    player_1 = player(player_1_name)\n",
    "    \n",
    "    #player_2\n",
    "    player_2_name  = input(\"Now Please enter the 2nd Player's Name : \")\n",
    "    player_2 = player(player_2_name)\n",
    "    \n",
    "    #lets shuffle the deck\n",
    "    myDeck.shuffle_deck()\n",
    "    \n",
    "    # now distribute the cards among players :\n",
    "    # because we have 52 cards we need to distribute 26 to each player \n",
    "    # So we will go through the loop 26 times \n",
    "    \n",
    "    for i in range(3):\n",
    "        \n",
    "        card_out_from_deck = myDeck.take_one_card()\n",
    "        player_1.add_cards(card_out_from_deck)\n",
    "        \n",
    "        card_out_from_deck = myDeck.take_one_card()\n",
    "        player_2.add_cards(card_out_from_deck)\n",
    "        \n",
    "    # So Now both the players have 26 cards each \n",
    "    # They will now take onle card out one by one and compare and win untill one one them has no cards left \n",
    "    \n",
    "    print('*****Cards have been shuffled and distributed to both of you, Now we will clear the screen and begin***** ')\n",
    "    \n",
    "    #lets declare a variable which will keep adding the cards at stake till we get the set winner \n",
    "    #cards_at_stake = []\n",
    "    \n",
    "    while len(player_1.my_cards) != 0 and len(player_2.my_cards) != 0 :\n",
    "        \n",
    "        clear_the_screen = input('Should we clear the screen now ? (Y/N)')\n",
    "        if clear_the_screen == 'Y' or 'y' or 'Yes' or 'yes':\n",
    "            clear_output()\n",
    "        \n",
    "        #-------------------Player_1's Turn to throw a card------------------------\n",
    "        print(f'\\n\\n {player_1.name} Its your turn : \\n\\n')\n",
    "        player_1_card = player_1.take_one_card()\n",
    "        #lets add the cards at stake\n",
    "        cards_at_stake.append(player_1_card)\n",
    "        \n",
    "        #-------------------Player_2's Turn to throw a card------------------------\n",
    "        print(f'\\n\\n {player_2.name} Its your turn : \\n\\n')\n",
    "        player_2_card = player_2.take_one_card()\n",
    "        #lets add the cards at stake\n",
    "        cards_at_stake.append(player_2_card)\n",
    "\n",
    "        #-------------------Decide the set winner---------------------------------- \n",
    "        winner = set_winner(player_1,player_1_card,player_2,player_2_card)\n",
    "        \n",
    "        \n",
    "        #---------------Add points based on set winner-----------------------------\n",
    "        add_set_points(player_1,player_2,winner)\n",
    "    \n",
    "    \n",
    "    # Now atleast for one player,cards are over. So we need to declare teh result of the Game \n",
    "    winner_player = game_winner(player_1,player_2)\n",
    "    \n",
    "    #Now ask the user does he/she wants to play another game of WAR\n",
    "    want_to_play = want_another_game() "
   ]
  },
  {
   "cell_type": "code",
   "execution_count": null,
   "metadata": {},
   "outputs": [],
   "source": []
  },
  {
   "cell_type": "code",
   "execution_count": null,
   "metadata": {},
   "outputs": [],
   "source": []
  },
  {
   "cell_type": "code",
   "execution_count": null,
   "metadata": {},
   "outputs": [],
   "source": []
  },
  {
   "cell_type": "code",
   "execution_count": null,
   "metadata": {},
   "outputs": [],
   "source": []
  },
  {
   "cell_type": "code",
   "execution_count": null,
   "metadata": {},
   "outputs": [],
   "source": []
  },
  {
   "cell_type": "code",
   "execution_count": null,
   "metadata": {},
   "outputs": [],
   "source": []
  },
  {
   "cell_type": "code",
   "execution_count": null,
   "metadata": {},
   "outputs": [],
   "source": []
  },
  {
   "cell_type": "code",
   "execution_count": null,
   "metadata": {},
   "outputs": [],
   "source": []
  },
  {
   "cell_type": "code",
   "execution_count": null,
   "metadata": {},
   "outputs": [],
   "source": []
  }
 ],
 "metadata": {
  "kernelspec": {
   "display_name": "Python 3",
   "language": "python",
   "name": "python3"
  },
  "language_info": {
   "codemirror_mode": {
    "name": "ipython",
    "version": 3
   },
   "file_extension": ".py",
   "mimetype": "text/x-python",
   "name": "python",
   "nbconvert_exporter": "python",
   "pygments_lexer": "ipython3",
   "version": "3.7.3"
  }
 },
 "nbformat": 4,
 "nbformat_minor": 2
}
