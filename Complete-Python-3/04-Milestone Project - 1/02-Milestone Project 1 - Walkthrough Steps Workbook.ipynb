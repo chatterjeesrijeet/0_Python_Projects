{
 "cells": [
  {
   "cell_type": "markdown",
   "metadata": {},
   "source": [
    "### Milestone Project 1:  Design tic Tac Toe !!!"
   ]
  },
  {
   "cell_type": "markdown",
   "metadata": {},
   "source": [
    "    function that can print out a board. Set up your board as a list, where each index 1-9 corresponds with a number on a number pad, so you get a 3 by 3 board representation."
   ]
  },
  {
   "cell_type": "code",
   "execution_count": 1,
   "metadata": {},
   "outputs": [],
   "source": [
    "from IPython.display import clear_output\n",
    "\n",
    "def display_board(board):\n",
    "    #clear_output()\n",
    "    for i in range(5):\n",
    "        for j in range(5):\n",
    "            \n",
    "            if i%2 != 0 :\n",
    "                if j%2 == 0 and j == 4:\n",
    "                    print('_')\n",
    "                elif j%2 == 0:\n",
    "                    print('_' , end = ' ')\n",
    "                else:\n",
    "                    continue\n",
    "            if i%2 ==0:\n",
    "                if j%2 == 0 and j == 4:\n",
    "                    print(board[int(i+(i/2)+(j/2))+1])\n",
    "                elif j%2 == 0:\n",
    "                    print(board[int(i+(i/2)+(j/2))+1],end = '')\n",
    "                else:\n",
    "                    print('|' , end = '')"
   ]
  },
  {
   "cell_type": "markdown",
   "metadata": {},
   "source": [
    "    function that can take in a player input and assign their marker as 'X' or 'O'. Think about using *while* loops to continually ask until you get a correct answer"
   ]
  },
  {
   "cell_type": "code",
   "execution_count": 2,
   "metadata": {},
   "outputs": [],
   "source": [
    "from IPython.display import clear_output\n",
    "\n",
    "def player_input():\n",
    "    \n",
    "    user_marker = 'wrong'\n",
    "    \n",
    "    while user_marker not in ['X','O']:\n",
    "        #clear_output()\n",
    "        user_marker = input(\"Please enter a valid marker of you choice 'X' or 'O' : \")\n",
    "    \n",
    "    #print(user_marker)\n",
    "    return user_marker"
   ]
  },
  {
   "cell_type": "markdown",
   "metadata": {},
   "source": [
    "    function that takes in the board list object, a marker ('X' or 'O'), and a desired position (number 1-9) and assigns it to the board"
   ]
  },
  {
   "cell_type": "code",
   "execution_count": 3,
   "metadata": {},
   "outputs": [],
   "source": [
    "def place_marker(board, marker, position):\n",
    "    board[position] = marker"
   ]
  },
  {
   "cell_type": "markdown",
   "metadata": {},
   "source": [
    "    function that takes in a board and a mark (X or O) and then checks to see if that mark has won"
   ]
  },
  {
   "cell_type": "code",
   "execution_count": 4,
   "metadata": {},
   "outputs": [],
   "source": [
    "def win_check(board, mark):\n",
    "    if board[1]==board[2]==board[3]== mark:\n",
    "        return 1\n",
    "    if board[4]==board[5]==board[6]== mark:\n",
    "        return 1\n",
    "    if board[7]==board[8]==board[9]== mark:\n",
    "        return 1\n",
    "    if board[1]==board[4]==board[7]== mark:\n",
    "        return 1\n",
    "    if board[2]==board[5]==board[8]== mark:\n",
    "        return 1\n",
    "    if board[3]==board[6]==board[9]== mark:\n",
    "        return 1\n",
    "    if board[1]==board[5]==board[9]== mark:\n",
    "        return 1\n",
    "    if board[3]==board[5]==board[7]== mark:\n",
    "        return True\n",
    "    else:\n",
    "        return False"
   ]
  },
  {
   "cell_type": "markdown",
   "metadata": {},
   "source": [
    "    function that uses the random module to randomly decide which player goes first. You may want to lookup random.randint() Return a string of which player went first "
   ]
  },
  {
   "cell_type": "code",
   "execution_count": 5,
   "metadata": {},
   "outputs": [],
   "source": [
    "import random\n",
    "\n",
    "def choose_first():\n",
    "    return random.randint(0,1)+1"
   ]
  },
  {
   "cell_type": "markdown",
   "metadata": {},
   "source": [
    "    function that returns a boolean indicating whether a space on the board is freely available"
   ]
  },
  {
   "cell_type": "code",
   "execution_count": 6,
   "metadata": {},
   "outputs": [],
   "source": [
    "def space_check(board, position):\n",
    "    \n",
    "    if board[position] != ' ':\n",
    "        return False\n",
    "    else:\n",
    "        return True"
   ]
  },
  {
   "cell_type": "markdown",
   "metadata": {},
   "source": [
    "     function that checks if the board is full and returns a boolean value. True if full, False otherwise"
   ]
  },
  {
   "cell_type": "code",
   "execution_count": 7,
   "metadata": {},
   "outputs": [],
   "source": [
    "def full_board_check(board):\n",
    "    for i in range(len(board)):\n",
    "        if board[i] == ' ':\n",
    "            return False\n",
    "    return True"
   ]
  },
  {
   "cell_type": "markdown",
   "metadata": {},
   "source": [
    "    function that asks for a player's next position (as a number 1-9) and then uses the function from step 6 to check if it's a free position. If it is, then return the position for later use "
   ]
  },
  {
   "cell_type": "code",
   "execution_count": 8,
   "metadata": {},
   "outputs": [],
   "source": [
    "from IPython.display import clear_output\n",
    "\n",
    "def player_choice(board):\n",
    "    \n",
    "    choice = 99\n",
    "    \n",
    "    while choice not in list(range(1,10)):\n",
    "        choice = int(input('Please enter a valid  choice between 1 - 9 : '))\n",
    "        \n",
    "        if choice not in list(range(1,10)):\n",
    "            print(f'The choice must be from 1 -9 please provide a valid position ')\n",
    "        \n",
    "        elif space_check(board, choice) == False:\n",
    "            print(f'The space is already occupied please select some other position except {choice}')\n",
    "            choice = 99\n",
    "            \n",
    "    return choice"
   ]
  },
  {
   "cell_type": "markdown",
   "metadata": {},
   "source": [
    "     function that asks the player if they want to play again and returns a boolean True if they do want to play again"
   ]
  },
  {
   "cell_type": "code",
   "execution_count": 9,
   "metadata": {},
   "outputs": [],
   "source": [
    "def replay():\n",
    "    play_again = 'wrong'\n",
    "    \n",
    "    while play_again.upper() not in ['Y','N']:\n",
    "        play_again = input(\"Do you want to play again Y(for yes) , N for (No) : \")\n",
    "        \n",
    "        if play_again.upper() not in ['Y','N'] :\n",
    "            #clear_output()\n",
    "            print(\"Please enter a valid selection\")\n",
    "            \n",
    "    \n",
    "    if play_again.upper() == 'Y':\n",
    "        return True\n",
    "    else:\n",
    "        return False"
   ]
  },
  {
   "cell_type": "markdown",
   "metadata": {
    "collapsed": true
   },
   "source": [
    "**The hard part! Use while loops and the functions you've made to run the game!**"
   ]
  },
  {
   "cell_type": "code",
   "execution_count": 10,
   "metadata": {},
   "outputs": [
    {
     "name": "stdout",
     "output_type": "stream",
     "text": [
      "Do you want to play the Tic Tak Toe Game ?\n"
     ]
    }
   ],
   "source": [
    "print(\"Do you want to play the Tic Tak Toe Game ?\")\n",
    "\n",
    "def tic_tac_toe():\n",
    "    \n",
    "    want_to_play = True\n",
    "\n",
    "    while want_to_play :\n",
    "\n",
    "        #initialize the board \n",
    "        board = ['#',' ',' ',' ',' ',' ',' ',' ',' ',' ']\n",
    "\n",
    "        # ask player to choose the marker\n",
    "        print('\\n You are selecting marker for player_1 : ')\n",
    "\n",
    "        player_1_marker = player_input()\n",
    "\n",
    "        if player_1_marker == 'O':\n",
    "            player_2_marker =  'X' \n",
    "        else:\n",
    "            player_2_marker =  'O'\n",
    "        \n",
    "        print('\\n\\n\\n********************************************Game Set Up : ***************************************')\n",
    "        \n",
    "        #print() the board \n",
    "        print('\\nThe current condition of the board:\\n')\n",
    "        display_board(board)\n",
    "        \n",
    "        print(f\"\\nPlayer_1_marker : {player_1_marker} & Player_2_marker : {player_2_marker}\\n\")\n",
    "        \n",
    "        #now decide randomly who will choose first \n",
    "        player_number = choose_first()\n",
    "        print(f'\\nAs per random selection the first move be made by player_{player_number}')\n",
    "        print('\\nLets Begin\\n')\n",
    "        print('========================================================================================================')\n",
    "\n",
    "        #while  the game has empty space \n",
    "        while full_board_check(board)==False:\n",
    "\n",
    "            #print(f\"\\nPlayer_1_marker : {player_1_marker} & Player_2_marker : {player_2_marker}\\n\")\n",
    "\n",
    "            print(f\"---------------------------------Please choose for Player_{player_number}--------------------------\")\n",
    "\n",
    "            # ask player to choose \n",
    "            position = player_choice(board)\n",
    "\n",
    "            marker = player_1_marker if player_number == 1 else player_2_marker\n",
    "\n",
    "            place_marker(board, marker, position)\n",
    "            print(\"\\n\")\n",
    "            display_board(board)\n",
    "\n",
    "            if win_check(board,marker):\n",
    "                print(f\" Congratulations !!!!! Player_{player_number} , You have Won !!!! with marker = {marker}\")\n",
    "                break\n",
    "\n",
    "            # update player number   \n",
    "            if player_number == 2:\n",
    "                player_number = 1 \n",
    "            else:\n",
    "                player_number = 2\n",
    "\n",
    "\n",
    "        #while you want to play again\n",
    "        want_to_play = replay()"
   ]
  },
  {
   "cell_type": "code",
   "execution_count": 11,
   "metadata": {},
   "outputs": [
    {
     "name": "stdout",
     "output_type": "stream",
     "text": [
      "~~~~~~~~~~~~~~~~~~~~~~~~~~~~~~~~~~ Welcome to Tic Tac Toe ~~~~~~~~~~~~~~~~~~~~~~~~~~~~~~~~~~~~~~~~~~~~~~\n",
      "\n",
      " You are selecting marker for player_1 : \n",
      "Please enter a valid marker of you choice 'X' or 'O' : X\n",
      "\n",
      "\n",
      "\n",
      "********************************************Game Set Up : ***************************************\n",
      "\n",
      "The current condition of the board:\n",
      "\n",
      " | | \n",
      "_ _ _\n",
      " | | \n",
      "_ _ _\n",
      " | | \n",
      "\n",
      "Player_1_marker : X & Player_2_marker : O\n",
      "\n",
      "\n",
      "As per random selection the first move be made by player_2\n",
      "\n",
      "Lets Begin\n",
      "\n",
      "========================================================================================================\n",
      "---------------------------------Please choose for Player_2--------------------------\n",
      "Please enter a valid  choice between 1 - 9 : 4\n",
      "\n",
      "\n",
      " | | \n",
      "_ _ _\n",
      "O| | \n",
      "_ _ _\n",
      " | | \n",
      "---------------------------------Please choose for Player_1--------------------------\n",
      "Please enter a valid  choice between 1 - 9 : 4\n",
      "The space is already occupied please select some other position except 4\n",
      "Please enter a valid  choice between 1 - 9 : 3\n",
      "\n",
      "\n",
      " | |X\n",
      "_ _ _\n",
      "O| | \n",
      "_ _ _\n",
      " | | \n",
      "---------------------------------Please choose for Player_2--------------------------\n",
      "Please enter a valid  choice between 1 - 9 : 2\n",
      "\n",
      "\n",
      " |O|X\n",
      "_ _ _\n",
      "O| | \n",
      "_ _ _\n",
      " | | \n",
      "---------------------------------Please choose for Player_1--------------------------\n",
      "Please enter a valid  choice between 1 - 9 : 8\n",
      "\n",
      "\n",
      " |O|X\n",
      "_ _ _\n",
      "O| | \n",
      "_ _ _\n",
      " |X| \n",
      "---------------------------------Please choose for Player_2--------------------------\n",
      "Please enter a valid  choice between 1 - 9 : 1\n",
      "\n",
      "\n",
      "O|O|X\n",
      "_ _ _\n",
      "O| | \n",
      "_ _ _\n",
      " |X| \n",
      "---------------------------------Please choose for Player_1--------------------------\n",
      "Please enter a valid  choice between 1 - 9 : 5\n",
      "\n",
      "\n",
      "O|O|X\n",
      "_ _ _\n",
      "O|X| \n",
      "_ _ _\n",
      " |X| \n",
      "---------------------------------Please choose for Player_2--------------------------\n",
      "Please enter a valid  choice between 1 - 9 : 6\n",
      "\n",
      "\n",
      "O|O|X\n",
      "_ _ _\n",
      "O|X|O\n",
      "_ _ _\n",
      " |X| \n",
      "---------------------------------Please choose for Player_1--------------------------\n",
      "Please enter a valid  choice between 1 - 9 : 7\n",
      "\n",
      "\n",
      "O|O|X\n",
      "_ _ _\n",
      "O|X|O\n",
      "_ _ _\n",
      "X|X| \n",
      " Congratulations !!!!! Player_1 , You have Won !!!! with marker = X\n",
      "Do you want to play again Y(for yes) , N for (No) : N\n"
     ]
    }
   ],
   "source": [
    "print('~~~~~~~~~~~~~~~~~~~~~~~~~~~~~~~~~~ Welcome to Tic Tac Toe ~~~~~~~~~~~~~~~~~~~~~~~~~~~~~~~~~~~~~~~~~~~~~~')\n",
    "tic_tac_toe()"
   ]
  },
  {
   "cell_type": "code",
   "execution_count": null,
   "metadata": {},
   "outputs": [],
   "source": []
  },
  {
   "cell_type": "code",
   "execution_count": null,
   "metadata": {},
   "outputs": [],
   "source": []
  },
  {
   "cell_type": "markdown",
   "metadata": {
    "collapsed": true
   },
   "source": [
    "## Good Job!"
   ]
  }
 ],
 "metadata": {
  "kernelspec": {
   "display_name": "Python 3",
   "language": "python",
   "name": "python3"
  },
  "language_info": {
   "codemirror_mode": {
    "name": "ipython",
    "version": 3
   },
   "file_extension": ".py",
   "mimetype": "text/x-python",
   "name": "python",
   "nbconvert_exporter": "python",
   "pygments_lexer": "ipython3",
   "version": "3.7.3"
  }
 },
 "nbformat": 4,
 "nbformat_minor": 1
}
